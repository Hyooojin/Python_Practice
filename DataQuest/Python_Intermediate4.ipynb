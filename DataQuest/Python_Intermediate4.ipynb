{
 "cells": [
  {
   "cell_type": "markdown",
   "metadata": {},
   "source": [
    "# # Regular Expressions\n",
    "### <p style=\"color:Tomato\">Learn about regular expressions by analyzing movie taglines<p/>\n",
    "We'll be working with **a data set containing the top 1,000 questions users poste to AskReddit in 2015**. Reddit user P_S_Laplace created the data set, which has five columns that appear in the follosing order:\n",
    "#### <p style=\"color:Gray\">askreddit_2015.csv<p/>"
   ]
  },
  {
   "cell_type": "markdown",
   "metadata": {},
   "source": [
    "### <p style=\"color:Gray\">To parse strings<p/><hr>\n",
    "- \"Jan 17, 2012\"\n",
    "- \"9/22/2005\"\n",
    "- \"Spring 2007\"\n",
    "- \"New Year's Eve 1999\"<br/>\n",
    "<br/>\n",
    "\n",
    "We can handle a problem like this with regular expressions."
   ]
  },
  {
   "cell_type": "markdown",
   "metadata": {},
   "source": [
    "#### <p style=\"color:Gray\"># Regular expressions<p/><hr>\n",
    "A regular expression (regex) is a sequence of characters that describes a search pattern. We can use regular expression to search for and extract data. <br/>\n",
    "<br/>\n",
    "\n",
    "Regular expression은 검색 패턴을 설명하는 일련의 문자입니다. Regular expression을 사용하여 데이터를 검색하고 추출 할 수 있습니다."
   ]
  },
  {
   "cell_type": "markdown",
   "metadata": {},
   "source": [
    "####  <p style=\"color:Gray\"> The same format <p/> <hr/>\n",
    "#### <p style=\"color:Gray\">1. An ordinary sequence of characters that we specify<p/>"
   ]
  },
  {
   "cell_type": "code",
   "execution_count": 1,
   "metadata": {
    "collapsed": true
   },
   "outputs": [],
   "source": [
    "# An ordinary sequence of characters that we specify\n",
    "strings = [\"data science\", \"big data\", \"metadata\"]\n",
    "regex = \"\"\n",
    "regex = \"data\""
   ]
  },
  {
   "cell_type": "markdown",
   "metadata": {},
   "source": [
    "#### <p style=\"color:Gray\">2. A number of special characters we can use with regular expressions<p/>\n",
    "> To change the way a pattern is interpreted.<br/>\n",
    "In Python, we use the re module to work with regular expressions. The module's documentation provides a list of these special characters.<br/>\n",
    "\n",
    "<br/>\n",
    "\n",
    "> 파이썬에서는 re module을 사용하여 정규 표현식을 처리합니다. 모듈의 문서는 이러한 특수 문자의 목록을 제공합니다."
   ]
  },
  {
   "cell_type": "markdown",
   "metadata": {},
   "source": [
    "#####  <p style=\"color:Gray\">2-1. The special character \".\"<p/>\n",
    "To indicate that any character can be put in its place."
   ]
  },
  {
   "cell_type": "code",
   "execution_count": 2,
   "metadata": {
    "collapsed": true
   },
   "outputs": [],
   "source": [
    "strings = [\"bat\", \"robotics\", \"megabyte\"]\n",
    "regex = \"b.t\""
   ]
  },
  {
   "cell_type": "markdown",
   "metadata": {},
   "source": [
    "#####  <p style=\"color:Gray\"> 2-2. The Caret symbol \"^\" <p/>\n",
    "To match the beginning of a string<br/>\n",
    "\"^a\" : match all strings that start with \"a\"\n",
    "#####  <p style=\"color:Gray\"> 2-3. The dollar sign <p/> \n",
    "To match the end of a string.<br/>\n",
    "\"a$\" : match all strings that end with \"a\""
   ]
  },
  {
   "cell_type": "code",
   "execution_count": 3,
   "metadata": {
    "collapsed": true
   },
   "outputs": [],
   "source": [
    "strings = [\"better not put too much\", \"butter in the\", \"batter\"], \n",
    "bad_string = \"We also wouldn't want it to be bitter\"\n",
    "regex = \"^b.tter\""
   ]
  },
  {
   "cell_type": "code",
   "execution_count": null,
   "metadata": {
    "collapsed": true
   },
   "outputs": [],
   "source": []
  },
  {
   "cell_type": "code",
   "execution_count": 4,
   "metadata": {},
   "outputs": [
    {
     "name": "stdout",
     "output_type": "stream",
     "text": [
      "['Title', 'Score', 'Time', 'Gold', 'NumComs']\n"
     ]
    }
   ],
   "source": [
    "import csv\n",
    "f = open('askreddit_2015.csv', 'r', encoding='UTF8')\n",
    "posts = list(csv.reader(f))\n",
    "''''_csv.reader' object is not subscriptable\n",
    "As the error message says, csv readers don't support indexing\n",
    "The value returned by csv.reader is not a list; it's an iterator over the rows.\n",
    "If you want, you could make a list of all the rows'''\n",
    "''''cp949' codec can't decode byte 0xe2 in position 2179: illegal multibyte sequence\n",
    "encoding = UTF8'''\n",
    "posts[:6]\n",
    "posts_with_header = posts[0]\n",
    "print(posts_with_header)\n",
    "posts = posts[1:]"
   ]
  },
  {
   "cell_type": "code",
   "execution_count": 5,
   "metadata": {
    "scrolled": true
   },
   "outputs": [
    {
     "name": "stdout",
     "output_type": "stream",
     "text": [
      "[['What\\'s your internet \"white whale\", something you\\'ve been searching for years to find with no luck?', '11510', '1433213314.0', '1', '26195'], [\"What's your favorite video that is 10 seconds or less?\", '8656', '1434205517.0', '4', '8479'], ['What are some interesting tests you can take to find out about yourself?', '8480', '1443409636.0', '1', '4055'], [\"PhD's of Reddit. What is a dumbed down summary of your thesis?\", '7927', '1440188623.0', '0', '13201'], ['What is cool to be good at, yet uncool to be REALLY good at?', '7711', '1440082910.0', '0', '20325'], ['[Serious] Redditors currently in a relationship, besides dinner and a movie, what are your favorite activities for date night?', '7598', '1439993280.0', '2', '5389'], [\"Parents of Reddit, what's something that your kid has done that you pretended to be angry about but secretly impressed or amused you?\", '7553', '1439161809.0', '0', '11520'], ['What is a good subreddit to binge read the All Time Top Posts of?', '7498', '1438822288.0', '0', '2780'], ['What would the person who named Walkie Talkies have named other items?', '7501', '1447904351.0', '4', '6720'], [\"People who grew up in a different socioeconomic class as your significant others, what are the notable differences you've noticed and how does it affect your relationship (if at all)?\", '7419', '1440358069.0', '0', '8603']]\n"
     ]
    }
   ],
   "source": [
    "print(posts[:10])"
   ]
  },
  {
   "cell_type": "code",
   "execution_count": 6,
   "metadata": {},
   "outputs": [
    {
     "name": "stdout",
     "output_type": "stream",
     "text": [
      "['Title', 'Score', 'Time', 'Gold', 'NumComs']\n"
     ]
    }
   ],
   "source": [
    "import csv\n",
    "f = open('askreddit_2015.csv', 'r', encoding='UTF8')\n",
    "posts = list(csv.reader(f))\n",
    "''''_csv.reader' object is not subscriptable\n",
    "As the error message says, csv readers don't support indexing\n",
    "The value returned by csv.reader is not a list; it's an iterator over the rows.\n",
    "If you want, you could make a list of all the rows'''\n",
    "''''cp949' codec can't decode byte 0xe2 in position 2179: illegal multibyte sequence\n",
    "encoding = UTF8'''\n",
    "posts[:6]\n",
    "posts_with_header = posts[0]\n",
    "print(posts_with_header)\n",
    "posts = posts[1:]"
   ]
  },
  {
   "cell_type": "code",
   "execution_count": 7,
   "metadata": {
    "scrolled": true
   },
   "outputs": [
    {
     "name": "stdout",
     "output_type": "stream",
     "text": [
      "['What\\'s your internet \"white whale\", something you\\'ve been searching for years to find with no luck?', '11510', '1433213314.0', '1', '26195']\n",
      "[\"What's your favorite video that is 10 seconds or less?\", '8656', '1434205517.0', '4', '8479']\n",
      "['What are some interesting tests you can take to find out about yourself?', '8480', '1443409636.0', '1', '4055']\n",
      "[\"PhD's of Reddit. What is a dumbed down summary of your thesis?\", '7927', '1440188623.0', '0', '13201']\n",
      "['What is cool to be good at, yet uncool to be REALLY good at?', '7711', '1440082910.0', '0', '20325']\n",
      "['[Serious] Redditors currently in a relationship, besides dinner and a movie, what are your favorite activities for date night?', '7598', '1439993280.0', '2', '5389']\n",
      "[\"Parents of Reddit, what's something that your kid has done that you pretended to be angry about but secretly impressed or amused you?\", '7553', '1439161809.0', '0', '11520']\n",
      "['What is a good subreddit to binge read the All Time Top Posts of?', '7498', '1438822288.0', '0', '2780']\n",
      "['What would the person who named Walkie Talkies have named other items?', '7501', '1447904351.0', '4', '6720']\n",
      "[\"People who grew up in a different socioeconomic class as your significant others, what are the notable differences you've noticed and how does it affect your relationship (if at all)?\", '7419', '1440358069.0', '0', '8603']\n"
     ]
    }
   ],
   "source": [
    "for post in posts[:10]:\n",
    "    print(post)"
   ]
  },
  {
   "cell_type": "code",
   "execution_count": 8,
   "metadata": {
    "collapsed": true
   },
   "outputs": [],
   "source": [
    "import re\n",
    "if re.search(\"needle\", \"haystack\") is not None:\n",
    "    print(\"We found it!\")\n",
    "### <p style=\"color:Tomato\">Learn about regular expressions by analyzing movie taglines<p/>else: print(\"Not a match\")"
   ]
  },
  {
   "cell_type": "markdown",
   "metadata": {},
   "source": [
    "### <p style=\"color:Tomato\">re.search()<p/>\n",
    "\n",
    "> You may have noticed that many of the posts in our AskReddit database are directed towards particular groups of people, **using phrases** like \"Soldiers of Reddit\". These types of posts are common, and always follow a similar format. We can use regular expressions to count how many of them are in the top 1,000\n",
    "<br/>\n",
    "\n",
    "> AskReddit 데이터베이스에있는 많은 게시물이 \"Reddit Soldiers\"와 같은 문구를 사용하여 특정 그룹의 사람들에게 전달된다는 사실을 알고 계실 것입니다. 이러한 유형의 게시물은 공통적이며 항상 유사한 형식을 따릅니다. 정규 표현식을 사용하여 상위 1,000 개에 몇 개가 있는지 계산할 수 있습니다."
   ]
  },
  {
   "cell_type": "code",
   "execution_count": 9,
   "metadata": {
    "collapsed": true,
    "scrolled": true
   },
   "outputs": [],
   "source": [
    "of_reddit_count = 0\n",
    "for row in posts:\n",
    "    if re.search(\"of Reddit\", row[0]) is not None:\n",
    "        of_reddit_count += 1"
   ]
  },
  {
   "cell_type": "code",
   "execution_count": 10,
   "metadata": {
    "scrolled": true
   },
   "outputs": [
    {
     "data": {
      "text/plain": [
       "76"
      ]
     },
     "execution_count": 10,
     "metadata": {},
     "output_type": "execute_result"
    }
   ],
   "source": [
    "of_reddit_count"
   ]
  },
  {
   "cell_type": "markdown",
   "metadata": {},
   "source": [
    "#####  <p style=\"color:Gray\"> 2-4. square brackets <p/> \n",
    "To indicate that any character within them can fill the space.<br/>\n",
    "\"[bcr]at\" : would match the substrings \"bat\", \"cat\", \"rat\""
   ]
  },
  {
   "cell_type": "code",
   "execution_count": 11,
   "metadata": {
    "collapsed": true
   },
   "outputs": [],
   "source": [
    "# \"of Reddit\" and \"of reddit\"\n",
    "of_reddit_count = 0\n",
    "for row in posts:\n",
    "    if re.search(\"of [Rr]eddit\", row[0]):\n",
    "        of_reddit_count += 1"
   ]
  },
  {
   "cell_type": "code",
   "execution_count": 12,
   "metadata": {},
   "outputs": [
    {
     "data": {
      "text/plain": [
       "102"
      ]
     },
     "execution_count": 12,
     "metadata": {},
     "output_type": "execute_result"
    }
   ],
   "source": [
    "of_reddit_count"
   ]
  },
  {
   "cell_type": "markdown",
   "metadata": {},
   "source": [
    "#####  <p style=\"color:Gray\"> 2-5. Escape special characters \"\\\"<p/> \n",
    "In regular expresiions, escaping a character means indicating that you don't want the hcaracter to do anything special, and that the interpreter should treat it just like any other character.<br/>\n",
    "<br/>\n",
    "\".$\" : To match all of the strings that end with a period."
   ]
  },
  {
   "cell_type": "markdown",
   "metadata": {},
   "source": [
    "#####  <p style=\"color:Gray\"> 2-6. \".$\" <p/>\n",
    "To match all of the strings that end with a period."
   ]
  },
  {
   "cell_type": "code",
   "execution_count": 13,
   "metadata": {},
   "outputs": [
    {
     "name": "stdout",
     "output_type": "stream",
     "text": [
      "['Title', 'Score', 'Time', 'Gold', 'NumComs']\n"
     ]
    }
   ],
   "source": [
    "print(posts_with_header)"
   ]
  },
  {
   "cell_type": "code",
   "execution_count": 14,
   "metadata": {},
   "outputs": [
    {
     "name": "stdout",
     "output_type": "stream",
     "text": [
      "['What\\'s your internet \"white whale\", something you\\'ve been searching for years to find with no luck?', '11510', '1433213314.0', '1', '26195']\n",
      "[\"What's your favorite video that is 10 seconds or less?\", '8656', '1434205517.0', '4', '8479']\n",
      "['What are some interesting tests you can take to find out about yourself?', '8480', '1443409636.0', '1', '4055']\n",
      "[\"PhD's of Reddit. What is a dumbed down summary of your thesis?\", '7927', '1440188623.0', '0', '13201']\n",
      "['What is cool to be good at, yet uncool to be REALLY good at?', '7711', '1440082910.0', '0', '20325']\n",
      "['[Serious] Redditors currently in a relationship, besides dinner and a movie, what are your favorite activities for date night?', '7598', '1439993280.0', '2', '5389']\n",
      "[\"Parents of Reddit, what's something that your kid has done that you pretended to be angry about but secretly impressed or amused you?\", '7553', '1439161809.0', '0', '11520']\n",
      "['What is a good subreddit to binge read the All Time Top Posts of?', '7498', '1438822288.0', '0', '2780']\n",
      "['What would the person who named Walkie Talkies have named other items?', '7501', '1447904351.0', '4', '6720']\n",
      "[\"People who grew up in a different socioeconomic class as your significant others, what are the notable differences you've noticed and how does it affect your relationship (if at all)?\", '7419', '1440358069.0', '0', '8603']\n"
     ]
    }
   ],
   "source": [
    "for row in posts[:10]:\n",
    "    print(row)"
   ]
  },
  {
   "cell_type": "code",
   "execution_count": 15,
   "metadata": {},
   "outputs": [
    {
     "name": "stdout",
     "output_type": "stream",
     "text": [
      "69\n"
     ]
    }
   ],
   "source": [
    "serious_count = 0\n",
    "for row in posts:\n",
    "    if re.search(\"\\[Serious\\]\", row[0]) is not None:\n",
    "        serious_count += 1\n",
    "\n",
    "print(serious_count) "
   ]
  },
  {
   "cell_type": "code",
   "execution_count": 16,
   "metadata": {},
   "outputs": [
    {
     "name": "stdout",
     "output_type": "stream",
     "text": [
      "77\n"
     ]
    }
   ],
   "source": [
    "serious_count = 0\n",
    "for row in posts:\n",
    "    if re.search(\"[\\[[Ss]erious\\]\", row[0]) is not None:\n",
    "        serious_count += 1\n",
    "\n",
    "print(serious_count)"
   ]
  },
  {
   "cell_type": "code",
   "execution_count": 17,
   "metadata": {},
   "outputs": [
    {
     "name": "stdout",
     "output_type": "stream",
     "text": [
      "80\n"
     ]
    }
   ],
   "source": [
    "serious_count = 0\n",
    "for row in posts:\n",
    "    if re.search(\"[\\[\\(][Ss]erious[\\]\\)]\", row[0]) is not None:\n",
    "        serious_count += 1\n",
    "\n",
    "print(serious_count)"
   ]
  },
  {
   "cell_type": "markdown",
   "metadata": {},
   "source": [
    "#####  <p style=\"color:Gray\"> 2-7. \"|\" <p/>\n",
    "To combine regular expressions <br/>\n",
    "\"cat|dog\" : match \"catfish\" and \"hotdog\", Because both of these strings match either \"cat\" or \"dog\""
   ]
  },
  {
   "cell_type": "code",
   "execution_count": 18,
   "metadata": {},
   "outputs": [
    {
     "name": "stdout",
     "output_type": "stream",
     "text": [
      "69\n"
     ]
    }
   ],
   "source": [
    "serious_start_count = 0\n",
    "for row in posts:\n",
    "    if re.search(\"^[\\[\\(][Ss]\", row[0]):\n",
    "        serious_start_count += 1\n",
    "print(serious_start_count)"
   ]
  },
  {
   "cell_type": "code",
   "execution_count": 19,
   "metadata": {},
   "outputs": [
    {
     "name": "stdout",
     "output_type": "stream",
     "text": [
      "12\n"
     ]
    }
   ],
   "source": [
    "serious_end_count = 0\n",
    "for row in posts:\n",
    "    if re.search(\"[\\]\\)]$\", row[0]):\n",
    "        serious_end_count += 1\n",
    "print(serious_end_count)"
   ]
  },
  {
   "cell_type": "code",
   "execution_count": 20,
   "metadata": {},
   "outputs": [
    {
     "name": "stdout",
     "output_type": "stream",
     "text": [
      "80\n"
     ]
    }
   ],
   "source": [
    "serious_count_final = 0\n",
    "for row in posts:\n",
    "    if re.search(\"^[\\[\\(][Ss]erious[\\]\\)]|[\\[\\(][Ss]erious[\\]\\)]$\", row[0]):\n",
    "        serious_count_final += 1\n",
    "print(serious_count_final)"
   ]
  },
  {
   "cell_type": "code",
   "execution_count": 21,
   "metadata": {},
   "outputs": [
    {
     "name": "stdout",
     "output_type": "stream",
     "text": [
      "69\n",
      "11\n",
      "80\n"
     ]
    }
   ],
   "source": [
    "serious_start_count = 0\n",
    "serious_end_count = 0\n",
    "serious_count_final = 0\n",
    "for row in posts:\n",
    "    if re.search(\"^[\\[\\(][Ss]erious[\\]\\)]\", row[0]):\n",
    "        serious_start_count += 1\n",
    "    if re.search(\"[\\[\\(][Ss]erious[\\]\\)]$\", row[0]):\n",
    "        serious_end_count += 1\n",
    "    if re.search(\"^[\\[\\(][Ss]erious[\\]\\)]|[\\[\\(][Ss]erious[\\]\\)]$\", row[0]):\n",
    "        serious_count_final += 1\n",
    "print(serious_start_count)\n",
    "print(serious_end_count)\n",
    "print(serious_count_final)"
   ]
  },
  {
   "cell_type": "markdown",
   "metadata": {},
   "source": [
    "### <p style=\"color:Tomato\">re.sub()<p/>\n",
    "The re module provides a sub() function that takes the following parameters (in order):\n",
    "* pattern: The regex to match\n",
    "* repl: The string that should replace the substring matches\n",
    "* string: The string containing the pattern we want to search<br/>\n",
    "\n",
    "\n",
    "If it doesn't find a pattern, the re.sub() function simply returns the original string.<br/>\n",
    "\n",
    "Let's use re.sub() to convert all serious tags to the format \"[Serious]\"\n",
    "\n"
   ]
  },
  {
   "cell_type": "code",
   "execution_count": 22,
   "metadata": {},
   "outputs": [
    {
     "data": {
      "text/plain": [
       "'hello world'"
      ]
     },
     "execution_count": 22,
     "metadata": {},
     "output_type": "execute_result"
    }
   ],
   "source": [
    "re.sub(\"yo\", \"hello\", \"yo world\")"
   ]
  },
  {
   "cell_type": "code",
   "execution_count": 23,
   "metadata": {},
   "outputs": [
    {
     "name": "stdout",
     "output_type": "stream",
     "text": [
      "What's your internet \"white whale\", something you've been searching for years to find with no luck?\n",
      "What's your favorite video that is 10 seconds or less?\n",
      "What are some interesting tests you can take to find out about yourself?\n",
      "PhD's of Reddit. What is a dumbed down summary of your thesis?\n",
      "What is cool to be good at, yet uncool to be REALLY good at?\n",
      "[Serious] Redditors currently in a relationship, besides dinner and a movie, what are your favorite activities for date night?\n",
      "Parents of Reddit, what's something that your kid has done that you pretended to be angry about but secretly impressed or amused you?\n",
      "What is a good subreddit to binge read the All Time Top Posts of?\n",
      "What would the person who named Walkie Talkies have named other items?\n",
      "People who grew up in a different socioeconomic class as your significant others, what are the notable differences you've noticed and how does it affect your relationship (if at all)?\n",
      "What are the best YouTube channels to binge watch ?\n",
      "What website could you recommend that most probably haven't heard of?\n",
      "(Serious) At the end of a job interview when they ask me, \"So, do you have any questions?\", what are some genuinely good questions to ask?\n",
      "What do insanely poor people buy, that ordinary people know nothing about?\n",
      "Announcing a small contest to promote originality\n",
      "What small websites do more people need to be aware of?\n",
      "What is that one trick that \"they\" really don't want you to know? [Serious]\n",
      "Who is the scariest person you've ever met?\n",
      "What was your \"I don't get paid enough for this shit\" moment?\n",
      "What gets weirder and weirder the more you think about it?\n"
     ]
    }
   ],
   "source": [
    "for row in posts[:20]:\n",
    "    print(row[0])"
   ]
  },
  {
   "cell_type": "code",
   "execution_count": 24,
   "metadata": {
    "collapsed": true
   },
   "outputs": [],
   "source": [
    "for row in posts:\n",
    "    row[0] = re.sub(\"[\\[\\(][Ss]erious[\\]\\)]\", \"[Serious]\", row[0])"
   ]
  },
  {
   "cell_type": "code",
   "execution_count": 25,
   "metadata": {},
   "outputs": [
    {
     "name": "stdout",
     "output_type": "stream",
     "text": [
      "What's your internet \"white whale\", something you've been searching for years to find with no luck?\n",
      "What's your favorite video that is 10 seconds or less?\n",
      "What are some interesting tests you can take to find out about yourself?\n",
      "PhD's of Reddit. What is a dumbed down summary of your thesis?\n",
      "What is cool to be good at, yet uncool to be REALLY good at?\n",
      "[Serious] Redditors currently in a relationship, besides dinner and a movie, what are your favorite activities for date night?\n",
      "Parents of Reddit, what's something that your kid has done that you pretended to be angry about but secretly impressed or amused you?\n",
      "What is a good subreddit to binge read the All Time Top Posts of?\n",
      "What would the person who named Walkie Talkies have named other items?\n",
      "People who grew up in a different socioeconomic class as your significant others, what are the notable differences you've noticed and how does it affect your relationship (if at all)?\n",
      "What are the best YouTube channels to binge watch ?\n",
      "What website could you recommend that most probably haven't heard of?\n",
      "[Serious] At the end of a job interview when they ask me, \"So, do you have any questions?\", what are some genuinely good questions to ask?\n",
      "What do insanely poor people buy, that ordinary people know nothing about?\n",
      "Announcing a small contest to promote originality\n",
      "What small websites do more people need to be aware of?\n",
      "What is that one trick that \"they\" really don't want you to know? [Serious]\n",
      "Who is the scariest person you've ever met?\n",
      "What was your \"I don't get paid enough for this shit\" moment?\n",
      "What gets weirder and weirder the more you think about it?\n"
     ]
    }
   ],
   "source": [
    "for row in posts[:20]:\n",
    "    print(row[0])"
   ]
  },
  {
   "cell_type": "code",
   "execution_count": 26,
   "metadata": {
    "collapsed": true
   },
   "outputs": [],
   "source": [
    "strings = ['War of 1812', 'There are 5280 feet to a mile', 'Happy New Year 2016!']"
   ]
  },
  {
   "cell_type": "code",
   "execution_count": 27,
   "metadata": {},
   "outputs": [
    {
     "name": "stdout",
     "output_type": "stream",
     "text": [
      "['War of 1812', 'Happy New Year 2016!']\n"
     ]
    }
   ],
   "source": [
    "year_strings = []\n",
    "for item in strings:\n",
    "    if re.search(\"[1-2][0-9][0-9][0-9]\", item) is not None:\n",
    "        year_strings.append(item)\n",
    "print(year_strings)"
   ]
  },
  {
   "cell_type": "markdown",
   "metadata": {},
   "source": [
    "#####  <p style=\"color:Gray\"> 2-8. \"{}\" <p/>\n",
    "To indicate that a pattern should repeat.<br/>\n",
    "\n",
    "\"[0-9][0-9][0-9][0-9]\" : [0-9]{4}"
   ]
  },
  {
   "cell_type": "markdown",
   "metadata": {},
   "source": [
    "None값이 error를 낼 것 같아서 미리 처리해 준 것이 is not None"
   ]
  },
  {
   "cell_type": "code",
   "execution_count": 28,
   "metadata": {},
   "outputs": [
    {
     "name": "stdout",
     "output_type": "stream",
     "text": [
      "['War of 1812', 'Happy New Year 2016!']\n"
     ]
    }
   ],
   "source": [
    "year_strings = []\n",
    "for item in strings:\n",
    "    if re.search(\"[1-2][0-9]{3}\", item) is not None:\n",
    "        year_strings.append(item)\n",
    "print(year_strings)"
   ]
  },
  {
   "cell_type": "markdown",
   "metadata": {},
   "source": [
    "### <p style=\"color:Tomato\">re.findall()<p/>\n",
    "A findall() function that returns a list of substrings matching the regex."
   ]
  },
  {
   "cell_type": "code",
   "execution_count": 29,
   "metadata": {},
   "outputs": [
    {
     "data": {
      "text/plain": [
       "['a', 'b', 'c']"
      ]
     },
     "execution_count": 29,
     "metadata": {},
     "output_type": "execute_result"
    }
   ],
   "source": [
    "re.findall(\"[a-z]\", \"abc123\")"
   ]
  },
  {
   "cell_type": "code",
   "execution_count": 30,
   "metadata": {},
   "outputs": [
    {
     "name": "stdout",
     "output_type": "stream",
     "text": [
      "['War of 1812', 'Happy New Year 2016!']\n"
     ]
    }
   ],
   "source": [
    "print(year_strings)"
   ]
  },
  {
   "cell_type": "code",
   "execution_count": 31,
   "metadata": {
    "collapsed": true
   },
   "outputs": [],
   "source": [
    "import re\n",
    "# years = re.findall(\"[1-2][0-9]{3}\", year_strings)\n",
    "# expected string or bytes-like object"
   ]
  },
  {
   "cell_type": "code",
   "execution_count": 32,
   "metadata": {
    "scrolled": true
   },
   "outputs": [
    {
     "data": {
      "text/plain": [
       "str"
      ]
     },
     "execution_count": 32,
     "metadata": {},
     "output_type": "execute_result"
    }
   ],
   "source": [
    "type(year_strings[0])"
   ]
  },
  {
   "cell_type": "code",
   "execution_count": 33,
   "metadata": {},
   "outputs": [
    {
     "data": {
      "text/plain": [
       "list"
      ]
     },
     "execution_count": 33,
     "metadata": {},
     "output_type": "execute_result"
    }
   ],
   "source": [
    "type(year_strings)"
   ]
  },
  {
   "cell_type": "code",
   "execution_count": 34,
   "metadata": {},
   "outputs": [
    {
     "data": {
      "text/plain": [
       "str"
      ]
     },
     "execution_count": 34,
     "metadata": {},
     "output_type": "execute_result"
    }
   ],
   "source": [
    "years_string = ''.join(year_strings)\n",
    "type(years_string)"
   ]
  },
  {
   "cell_type": "code",
   "execution_count": 35,
   "metadata": {},
   "outputs": [
    {
     "name": "stdout",
     "output_type": "stream",
     "text": [
      "['1812', '2016']\n"
     ]
    }
   ],
   "source": [
    "years = re.findall(\"[1-2][0-9]{3}\", years_string)\n",
    "print(years)"
   ]
  },
  {
   "cell_type": "markdown",
   "metadata": {},
   "source": [
    "If False, re.search() will return None"
   ]
  },
  {
   "cell_type": "code",
   "execution_count": 36,
   "metadata": {
    "scrolled": false
   },
   "outputs": [
    {
     "name": "stdout",
     "output_type": "stream",
     "text": [
      "Help on function search in module re:\n",
      "\n",
      "search(pattern, string, flags=0)\n",
      "    Scan through string looking for a match to the pattern, returning\n",
      "    a match object, or None if no match was found.\n",
      "\n",
      "None\n"
     ]
    }
   ],
   "source": [
    "print(help(re.search))"
   ]
  },
  {
   "cell_type": "markdown",
   "metadata": {
    "scrolled": true
   },
   "source": [
    "# # Dates in Python\n",
    "### <p style=\"color:Tomato\">Use Dates and times in Python to analyze AskReddit data<p/>\n",
    "\n",
    "##### <p style=\"color:Gray\">askreddit_2015.csv<p/>"
   ]
  },
  {
   "cell_type": "markdown",
   "metadata": {
    "collapsed": true
   },
   "source": [
    "#### <p style=\"color:Gray\">A Unix timestamp<p/>\n",
    "A floating point value with no explicit mention of day, month or year.<br/>\n",
    "This value represents the number of seconds that have passed since the \"epoch\", or the first second of the year 1970.<br/>\n",
    "A timestamp of 0.0  : the epoch <br/>\n",
    "A timestamp of 60.0 : one minute after the epoch.<br/>\n",
    "Can represent any date date after 1970 this way.<br/>\n",
    "<br/>\n",
    "\n",
    "Unix Time Stamp는 명시적으로 일, 월 또는 년을 언급하지 않은 부동 소수점 값입니다. 이 값은 epoch 또는 1970년의 첫 번째 초 이후에 경과한 초수를 나타냅니다. "
   ]
  },
  {
   "cell_type": "markdown",
   "metadata": {},
   "source": [
    "#### <p style=\"color:Gray\"># time.time()<p/>\n",
    "To retrieve the current Unix timestamp"
   ]
  },
  {
   "cell_type": "code",
   "execution_count": 37,
   "metadata": {},
   "outputs": [
    {
     "name": "stdout",
     "output_type": "stream",
     "text": [
      "1508570029.1339297\n"
     ]
    }
   ],
   "source": [
    "import time\n",
    "current_time = time.time()\n",
    "print(current_time)"
   ]
  },
  {
   "cell_type": "markdown",
   "metadata": {},
   "source": [
    "#### <p style=\"color:Gray\"># time.gmtime()<p/>\n",
    "Convert a timestamp to a more human-readable form. This function takes a timestamp as an argument, and returns an instance of <span style=\"color:Tomato\">the struct_time</span> class.<br/>\n",
    "Struct_time instances have attributes that represent the current time in other ways."
   ]
  },
  {
   "cell_type": "code",
   "execution_count": 38,
   "metadata": {},
   "outputs": [
    {
     "name": "stdout",
     "output_type": "stream",
     "text": [
      "1508570029.1635053\n",
      "time.struct_time(tm_year=2017, tm_mon=10, tm_mday=21, tm_hour=7, tm_min=13, tm_sec=49, tm_wday=5, tm_yday=294, tm_isdst=0)\n",
      "2017\n"
     ]
    }
   ],
   "source": [
    "current_time = time.time()\n",
    "current_struct_time = time.gmtime(current_time)\n",
    "current_year = current_struct_time.tm_year\n",
    "print(current_time)\n",
    "print(current_struct_time)\n",
    "print(current_year)"
   ]
  },
  {
   "cell_type": "code",
   "execution_count": 39,
   "metadata": {},
   "outputs": [
    {
     "name": "stdout",
     "output_type": "stream",
     "text": [
      "current_time\n",
      "1508570029.192583\n",
      "current_struct_time\n",
      "time.struct_time(tm_year=2017, tm_mon=10, tm_mday=21, tm_hour=7, tm_min=13, tm_sec=49, tm_wday=5, tm_yday=294, tm_isdst=0)\n",
      "current_hour\n",
      "7\n"
     ]
    }
   ],
   "source": [
    "current_time = time.time()\n",
    "current_struct_time = time.gmtime(current_time)\n",
    "current_hour = current_struct_time.tm_hour\n",
    "print(\"current_time\")\n",
    "print(current_time)\n",
    "print(\"current_struct_time\")\n",
    "print(current_struct_time)\n",
    "print(\"current_hour\")\n",
    "print(current_hour)"
   ]
  },
  {
   "cell_type": "markdown",
   "metadata": {},
   "source": [
    "#### <p style=\"color:Gray\"># datetime.datetime.utcnow()<p/>"
   ]
  },
  {
   "cell_type": "code",
   "execution_count": 40,
   "metadata": {
    "collapsed": true
   },
   "outputs": [],
   "source": [
    "import datetime"
   ]
  },
  {
   "cell_type": "code",
   "execution_count": 41,
   "metadata": {},
   "outputs": [
    {
     "name": "stdout",
     "output_type": "stream",
     "text": [
      "2017-12-31 12:59:59\n"
     ]
    }
   ],
   "source": [
    "nye_2017 = datetime.datetime(year=2017, month=12, \n",
    "                             day=31, hour=12, \n",
    "                             minute=59, second=59)\n",
    "print(nye_2017)"
   ]
  },
  {
   "cell_type": "code",
   "execution_count": 42,
   "metadata": {},
   "outputs": [
    {
     "name": "stdout",
     "output_type": "stream",
     "text": [
      "2017-10-21 07:13:49.298865\n"
     ]
    }
   ],
   "source": [
    "current_datetime = datetime.datetime.utcnow()\n",
    "current_year = current_datetime.year\n",
    "current_month = current_datetime.month\n",
    "print(current_datetime)"
   ]
  },
  {
   "cell_type": "markdown",
   "metadata": {},
   "source": [
    "#### <p style=\"color:Gray\">#datetime.timedelta() <p/>\n",
    "To perform arithmetic on dates"
   ]
  },
  {
   "cell_type": "code",
   "execution_count": 43,
   "metadata": {},
   "outputs": [
    {
     "name": "stdout",
     "output_type": "stream",
     "text": [
      "2017-10-21 16:13:49.329447\n",
      "23 days, 0:00:00\n",
      "2017-11-13 16:13:49.329447\n",
      "2017-09-28 16:13:49.329447\n"
     ]
    }
   ],
   "source": [
    "today = datetime.datetime.now()\n",
    "print(today)\n",
    "\n",
    "diff = datetime.timedelta(weeks = 3, days = 2)\n",
    "print(diff)\n",
    "\n",
    "future = today + diff\n",
    "print(future)\n",
    "\n",
    "past = today - diff\n",
    "print(past)"
   ]
  },
  {
   "cell_type": "code",
   "execution_count": 44,
   "metadata": {},
   "outputs": [
    {
     "name": "stdout",
     "output_type": "stream",
     "text": [
      "2232-12-07 00:00:00\n"
     ]
    }
   ],
   "source": [
    "kirks_birthday = datetime.datetime(year=2233, month=3, day=22)\n",
    "diff = datetime.timedelta(weeks=15)\n",
    "before_kirk = kirks_birthday - diff\n",
    "print(before_kirk)"
   ]
  },
  {
   "cell_type": "markdown",
   "metadata": {},
   "source": [
    "#### <p style=\"color:Gray\">#datetime.strftime() <p/>\n",
    "To specify how we'd like the string output to be formatted.<br/>\n",
    "> The datetime.datetime.strftime() method takes a format string as its input. A format string contains special indicators, usually preceded by percent characters (\"%\"), that indicate where certain values should go.\n",
    "\n",
    "<br/>\n",
    "> datetime.datetime.strftime() 메서드는 형식 문자열을 입력으로 사용합니다. Format string에는 특정 값을 가져올 위치를 나타내는 special indicators가 있습니다. 일반적으로는 \"퍼센트 기호\"가 앞에 붙습니다.\n",
    "\n",
    "<br/>\n",
    "\n",
    "https://docs.python.org/3/library/datetime.html#strftime-and-strptime-behavior"
   ]
  },
  {
   "cell_type": "code",
   "execution_count": 45,
   "metadata": {},
   "outputs": [
    {
     "name": "stdout",
     "output_type": "stream",
     "text": [
      "Mar 03, 2010\n"
     ]
    }
   ],
   "source": [
    "march3 = datetime.datetime(year = 2010, month = 3, day = 3)\n",
    "pretty_march3 = march3.strftime(\"%b %d, %Y\")\n",
    "print(pretty_march3)"
   ]
  },
  {
   "cell_type": "code",
   "execution_count": 46,
   "metadata": {
    "collapsed": true
   },
   "outputs": [],
   "source": [
    "mystery_date = datetime.datetime(\n",
    "                                 2015, 12, 31, 0, 0)"
   ]
  },
  {
   "cell_type": "code",
   "execution_count": 47,
   "metadata": {
    "collapsed": true
   },
   "outputs": [],
   "source": [
    "mystery_date_formatted_string = mystery_date.strftime(\n",
    "    \"%I:%M%p on %A %B %d, %Y\")"
   ]
  },
  {
   "cell_type": "code",
   "execution_count": 48,
   "metadata": {},
   "outputs": [
    {
     "name": "stdout",
     "output_type": "stream",
     "text": [
      "12:00AM on Thursday December 31, 2015\n"
     ]
    }
   ],
   "source": [
    "print(mystery_date_formatted_string)"
   ]
  },
  {
   "cell_type": "markdown",
   "metadata": {},
   "source": [
    "#### <p style=\"color:Gray\">#datetime.strptime() <p/>\n",
    "To convert a string to a datetime instance\n",
    "1. The date string (e.g. \"Mar 03, 2010\")\n",
    "2. The format string (e.g. \"%b %d, %Y\")\n",
    "\n",
    "This is useful if we have a date in a string format, and need to convert it to a datetime instance"
   ]
  },
  {
   "cell_type": "code",
   "execution_count": 49,
   "metadata": {},
   "outputs": [
    {
     "name": "stdout",
     "output_type": "stream",
     "text": [
      "2010-03-03 00:00:00\n"
     ]
    }
   ],
   "source": [
    "march3 = datetime.datetime.strptime(\"Mar 03, 2010\", \"%b %d, %Y\")\n",
    "print(march3)"
   ]
  },
  {
   "cell_type": "code",
   "execution_count": 50,
   "metadata": {},
   "outputs": [
    {
     "name": "stdout",
     "output_type": "stream",
     "text": [
      "2015-12-31 00:00:00\n"
     ]
    }
   ],
   "source": [
    "mystery_date = datetime.datetime.strptime(mystery_date_formatted_string, \"%I:%M%p on %A %B %d, %Y\")\n",
    "print(mystery_date)"
   ]
  },
  {
   "cell_type": "markdown",
   "metadata": {},
   "source": [
    "#### <p style=\"color:Gray\">Covert Unix time stamp into datetime object<p/>\n",
    "Time column are formatte as Unix timestamps"
   ]
  },
  {
   "cell_type": "code",
   "execution_count": 51,
   "metadata": {
    "scrolled": true
   },
   "outputs": [
    {
     "data": {
      "text/plain": [
       "['Title', 'Score', 'Time', 'Gold', 'NumComs']"
      ]
     },
     "execution_count": 51,
     "metadata": {},
     "output_type": "execute_result"
    }
   ],
   "source": [
    "posts_with_header"
   ]
  },
  {
   "cell_type": "code",
   "execution_count": 52,
   "metadata": {},
   "outputs": [
    {
     "data": {
      "text/plain": [
       "[['What\\'s your internet \"white whale\", something you\\'ve been searching for years to find with no luck?',\n",
       "  '11510',\n",
       "  '1433213314.0',\n",
       "  '1',\n",
       "  '26195'],\n",
       " [\"What's your favorite video that is 10 seconds or less?\",\n",
       "  '8656',\n",
       "  '1434205517.0',\n",
       "  '4',\n",
       "  '8479'],\n",
       " ['What are some interesting tests you can take to find out about yourself?',\n",
       "  '8480',\n",
       "  '1443409636.0',\n",
       "  '1',\n",
       "  '4055'],\n",
       " [\"PhD's of Reddit. What is a dumbed down summary of your thesis?\",\n",
       "  '7927',\n",
       "  '1440188623.0',\n",
       "  '0',\n",
       "  '13201'],\n",
       " ['What is cool to be good at, yet uncool to be REALLY good at?',\n",
       "  '7711',\n",
       "  '1440082910.0',\n",
       "  '0',\n",
       "  '20325']]"
      ]
     },
     "execution_count": 52,
     "metadata": {},
     "output_type": "execute_result"
    }
   ],
   "source": [
    "posts[:5]"
   ]
  },
  {
   "cell_type": "code",
   "execution_count": 53,
   "metadata": {},
   "outputs": [
    {
     "name": "stdout",
     "output_type": "stream",
     "text": [
      "[['What\\'s your internet \"white whale\", something you\\'ve been searching for years to find with no luck?', '11510', datetime.datetime(2015, 6, 2, 11, 48, 34), '1', '26195'], [\"What's your favorite video that is 10 seconds or less?\", '8656', datetime.datetime(2015, 6, 13, 23, 25, 17), '4', '8479'], ['What are some interesting tests you can take to find out about yourself?', '8480', datetime.datetime(2015, 9, 28, 12, 7, 16), '1', '4055'], [\"PhD's of Reddit. What is a dumbed down summary of your thesis?\", '7927', datetime.datetime(2015, 8, 22, 5, 23, 43), '0', '13201'], ['What is cool to be good at, yet uncool to be REALLY good at?', '7711', datetime.datetime(2015, 8, 21, 0, 1, 50), '0', '20325']]\n"
     ]
    }
   ],
   "source": [
    "for row in posts:\n",
    "    row[2] = datetime.datetime.fromtimestamp(float(row[2]))\n",
    "print(posts[:5])    "
   ]
  },
  {
   "cell_type": "code",
   "execution_count": 54,
   "metadata": {
    "collapsed": true
   },
   "outputs": [],
   "source": [
    "march_count = 0\n",
    "for row in posts:\n",
    "    if row[2].month == 3:\n",
    "        march_count += 1"
   ]
  },
  {
   "cell_type": "code",
   "execution_count": 55,
   "metadata": {},
   "outputs": [
    {
     "name": "stdout",
     "output_type": "stream",
     "text": [
      "58\n"
     ]
    }
   ],
   "source": [
    "print(march_count)"
   ]
  },
  {
   "cell_type": "code",
   "execution_count": 57,
   "metadata": {},
   "outputs": [
    {
     "name": "stdout",
     "output_type": "stream",
     "text": [
      "45\n",
      "93\n"
     ]
    }
   ],
   "source": [
    "feb_count = 0\n",
    "aug_count = 0\n",
    "for row in posts:\n",
    "    if row[2].month == 2:\n",
    "        feb_count += 1\n",
    "    elif row[2].month == 8:\n",
    "        aug_count += 1\n",
    "print(feb_count)\n",
    "print(aug_count)"
   ]
  },
  {
   "cell_type": "code",
   "execution_count": null,
   "metadata": {
    "collapsed": true
   },
   "outputs": [],
   "source": []
  }
 ],
 "metadata": {
  "kernelspec": {
   "display_name": "Python 3",
   "language": "python",
   "name": "python3"
  },
  "language_info": {
   "codemirror_mode": {
    "name": "ipython",
    "version": 3
   },
   "file_extension": ".py",
   "mimetype": "text/x-python",
   "name": "python",
   "nbconvert_exporter": "python",
   "pygments_lexer": "ipython3",
   "version": "3.6.1"
  }
 },
 "nbformat": 4,
 "nbformat_minor": 2
}
