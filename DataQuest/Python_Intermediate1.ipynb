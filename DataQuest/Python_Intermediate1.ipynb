{
 "cells": [
  {
   "cell_type": "markdown",
   "metadata": {},
   "source": [
    "# # Modules\n",
    "### <p style=\"color:Tomato\">Learned how to import and work with modules<p/>"
   ]
  },
  {
   "cell_type": "code",
   "execution_count": 1,
   "metadata": {
    "collapsed": true
   },
   "outputs": [],
   "source": [
    "from IPython.core.interactiveshell import InteractiveShell\n",
    "InteractiveShell.ast_node_interactivity = 'all'"
   ]
  },
  {
   "cell_type": "code",
   "execution_count": 2,
   "metadata": {
    "collapsed": true
   },
   "outputs": [],
   "source": [
    "import math"
   ]
  },
  {
   "cell_type": "code",
   "execution_count": 3,
   "metadata": {},
   "outputs": [
    {
     "data": {
      "text/plain": [
       "9.9498743710662"
      ]
     },
     "execution_count": 3,
     "metadata": {},
     "output_type": "execute_result"
    }
   ],
   "source": [
    "root = math.sqrt(99)\n",
    "root"
   ]
  },
  {
   "cell_type": "code",
   "execution_count": 4,
   "metadata": {},
   "outputs": [
    {
     "data": {
      "text/plain": [
       "89"
      ]
     },
     "execution_count": 4,
     "metadata": {},
     "output_type": "execute_result"
    }
   ],
   "source": [
    "flr = math.floor(89.9)\n",
    "flr"
   ]
  },
  {
   "cell_type": "code",
   "execution_count": 5,
   "metadata": {
    "collapsed": true
   },
   "outputs": [],
   "source": [
    "import math as a\n",
    "root = a.sqrt(33)"
   ]
  },
  {
   "cell_type": "code",
   "execution_count": 6,
   "metadata": {
    "collapsed": true
   },
   "outputs": [],
   "source": [
    "from math import *\n",
    "root = math.sqrt(1001)"
   ]
  },
  {
   "cell_type": "code",
   "execution_count": 7,
   "metadata": {},
   "outputs": [
    {
     "name": "stdout",
     "output_type": "stream",
     "text": [
      "3.141592653589793\n"
     ]
    }
   ],
   "source": [
    "print(math.pi)"
   ]
  },
  {
   "cell_type": "code",
   "execution_count": 8,
   "metadata": {},
   "outputs": [
    {
     "data": {
      "text/plain": [
       "1.7724538509055159"
      ]
     },
     "execution_count": 8,
     "metadata": {},
     "output_type": "execute_result"
    },
    {
     "data": {
      "text/plain": [
       "4"
      ]
     },
     "execution_count": 8,
     "metadata": {},
     "output_type": "execute_result"
    },
    {
     "data": {
      "text/plain": [
       "3"
      ]
     },
     "execution_count": 8,
     "metadata": {},
     "output_type": "execute_result"
    }
   ],
   "source": [
    "a = sqrt(math.pi)\n",
    "b = ceil(math.pi)\n",
    "c = floor(math.pi)\n",
    "a\n",
    "b\n",
    "c"
   ]
  },
  {
   "cell_type": "code",
   "execution_count": 9,
   "metadata": {},
   "outputs": [
    {
     "data": {
      "text/plain": [
       "[['year', 'week', 'winner', 'loser'],\n",
       " ['2009', '1', 'Pittsburgh Steelers', 'Tennessee Titans'],\n",
       " ['2009', '1', 'Minnesota Vikings', 'Cleveland Browns'],\n",
       " ['2009', '1', 'New York Giants', 'Washington Redskins'],\n",
       " ['2009', '1', 'San Francisco 49ers', 'Arizona Cardinals'],\n",
       " ['2009', '1', 'Seattle Seahawks', 'St. Louis Rams'],\n",
       " ['2009', '1', 'Philadelphia Eagles', 'Carolina Panthers'],\n",
       " ['2009', '1', 'New York Jets', 'Houston Texans'],\n",
       " ['2009', '1', 'Atlanta Falcons', 'Miami Dolphins'],\n",
       " ['2009', '1', 'Baltimore Ravens', 'Kansas City Chiefs']]"
      ]
     },
     "execution_count": 9,
     "metadata": {},
     "output_type": "execute_result"
    }
   ],
   "source": [
    "import csv\n",
    "f = open(\"nfl.csv\")\n",
    "csvreader = csv.reader(f)\n",
    "nfl = list(csvreader)\n",
    "nfl[:10]"
   ]
  },
  {
   "cell_type": "markdown",
   "metadata": {},
   "source": [
    "#### <p style=\"color:Gray\">Counting how many times a team won <p/>"
   ]
  },
  {
   "cell_type": "markdown",
   "metadata": {},
   "source": [
    "patriots_wins = 0\n",
    "for winner in nfl:\n",
    "    if winner[2] == \"New England Patriots\":\n",
    "        patriots_wins += 1\n",
    "patriots_wins"
   ]
  },
  {
   "cell_type": "markdown",
   "metadata": {},
   "source": [
    "#### <p style=\"color:Gray\">Making a function that counts wins<p/>"
   ]
  },
  {
   "cell_type": "code",
   "execution_count": 10,
   "metadata": {
    "collapsed": true
   },
   "outputs": [],
   "source": [
    "def nfl_wins(dataset, team):\n",
    "    counter = 0\n",
    "    for item in dataset:\n",
    "        if item[2] == team:\n",
    "            counter += 1\n",
    "    return counter"
   ]
  },
  {
   "cell_type": "code",
   "execution_count": 11,
   "metadata": {
    "scrolled": true
   },
   "outputs": [
    {
     "data": {
      "text/plain": [
       "10"
      ]
     },
     "execution_count": 11,
     "metadata": {},
     "output_type": "execute_result"
    }
   ],
   "source": [
    "cowboys_wins = nfl_wins(nfl, \"Dallas Cowboys\")\n",
    "cowboys_wins"
   ]
  },
  {
   "cell_type": "code",
   "execution_count": 12,
   "metadata": {},
   "outputs": [
    {
     "data": {
      "text/plain": [
       "7"
      ]
     },
     "execution_count": 12,
     "metadata": {},
     "output_type": "execute_result"
    }
   ],
   "source": [
    "falcons_wins = nfl_wins(nfl, \"Atlanta Falcons\")\n",
    "falcons_wins"
   ]
  },
  {
   "cell_type": "markdown",
   "metadata": {},
   "source": [
    "# # Classes\n",
    "### <p style=\"color:Tomato\">Learned how classes can help you organize code while analyzing football data<p/>"
   ]
  },
  {
   "cell_type": "markdown",
   "metadata": {},
   "source": [
    "* Create a class called Dataset. \n",
    "    * Inside the class create a type attribute. Assign the value \"csv\" to it."
   ]
  },
  {
   "cell_type": "code",
   "execution_count": 13,
   "metadata": {
    "collapsed": true
   },
   "outputs": [],
   "source": [
    "class Dataset:\n",
    "    def __init__(self):\n",
    "        self.type = \"csv\""
   ]
  },
  {
   "cell_type": "markdown",
   "metadata": {},
   "source": [
    "* \n",
    "    * Create an instance of the Dataset class, and assign it to the variable dataset."
   ]
  },
  {
   "cell_type": "code",
   "execution_count": 14,
   "metadata": {
    "collapsed": true
   },
   "outputs": [],
   "source": [
    "dataset = Dataset()"
   ]
  },
  {
   "cell_type": "code",
   "execution_count": 15,
   "metadata": {},
   "outputs": [
    {
     "name": "stdout",
     "output_type": "stream",
     "text": [
      "csv\n"
     ]
    }
   ],
   "source": [
    "print(dataset.type)"
   ]
  },
  {
   "cell_type": "code",
   "execution_count": 16,
   "metadata": {
    "collapsed": true
   },
   "outputs": [],
   "source": [
    "class Dataset:\n",
    "    def __init__(self, data):\n",
    "        self.data = data         "
   ]
  },
  {
   "cell_type": "code",
   "execution_count": 17,
   "metadata": {},
   "outputs": [
    {
     "data": {
      "text/plain": [
       "[['year', 'week', 'winner', 'loser'],\n",
       " ['2009', '1', 'Pittsburgh Steelers', 'Tennessee Titans'],\n",
       " ['2009', '1', 'Minnesota Vikings', 'Cleveland Browns'],\n",
       " ['2009', '1', 'New York Giants', 'Washington Redskins'],\n",
       " ['2009', '1', 'San Francisco 49ers', 'Arizona Cardinals'],\n",
       " ['2009', '1', 'Seattle Seahawks', 'St. Louis Rams'],\n",
       " ['2009', '1', 'Philadelphia Eagles', 'Carolina Panthers'],\n",
       " ['2009', '1', 'New York Jets', 'Houston Texans'],\n",
       " ['2009', '1', 'Atlanta Falcons', 'Miami Dolphins'],\n",
       " ['2009', '1', 'Baltimore Ravens', 'Kansas City Chiefs']]"
      ]
     },
     "execution_count": 17,
     "metadata": {},
     "output_type": "execute_result"
    }
   ],
   "source": [
    "f = open(\"nfl.csv\", 'r')\n",
    "csvreader = csv.reader(f)\n",
    "nfl_data = list(csvreader)\n",
    "nfl_data[:10]"
   ]
  },
  {
   "cell_type": "code",
   "execution_count": 18,
   "metadata": {},
   "outputs": [
    {
     "data": {
      "text/plain": [
       "<__main__.Dataset at 0x1eeda0184a8>"
      ]
     },
     "execution_count": 18,
     "metadata": {},
     "output_type": "execute_result"
    },
    {
     "name": "stdout",
     "output_type": "stream",
     "text": [
      "<class '__main__.Dataset'>\n"
     ]
    }
   ],
   "source": [
    "nfl_dataset = Dataset(nfl_data)\n",
    "nfl_dataset\n",
    "print(type(nfl_dataset))"
   ]
  },
  {
   "cell_type": "code",
   "execution_count": 19,
   "metadata": {},
   "outputs": [
    {
     "data": {
      "text/plain": [
       "[['year', 'week', 'winner', 'loser'],\n",
       " ['2009', '1', 'Pittsburgh Steelers', 'Tennessee Titans'],\n",
       " ['2009', '1', 'Minnesota Vikings', 'Cleveland Browns'],\n",
       " ['2009', '1', 'New York Giants', 'Washington Redskins'],\n",
       " ['2009', '1', 'San Francisco 49ers', 'Arizona Cardinals'],\n",
       " ['2009', '1', 'Seattle Seahawks', 'St. Louis Rams'],\n",
       " ['2009', '1', 'Philadelphia Eagles', 'Carolina Panthers'],\n",
       " ['2009', '1', 'New York Jets', 'Houston Texans'],\n",
       " ['2009', '1', 'Atlanta Falcons', 'Miami Dolphins'],\n",
       " ['2009', '1', 'Baltimore Ravens', 'Kansas City Chiefs']]"
      ]
     },
     "execution_count": 19,
     "metadata": {},
     "output_type": "execute_result"
    },
    {
     "name": "stdout",
     "output_type": "stream",
     "text": [
      "<class 'list'>\n"
     ]
    }
   ],
   "source": [
    "dataset_data = nfl_dataset.data\n",
    "dataset_data[:10]\n",
    "print(type(dataset_data))"
   ]
  },
  {
   "cell_type": "code",
   "execution_count": 20,
   "metadata": {
    "collapsed": true
   },
   "outputs": [],
   "source": [
    "class Dataset:\n",
    "    def __init__(self, data):\n",
    "        self.data = data\n",
    "    def print_data(self, num_rows):\n",
    "        print(self.data[:num_rows])"
   ]
  },
  {
   "cell_type": "code",
   "execution_count": 21,
   "metadata": {
    "collapsed": true
   },
   "outputs": [],
   "source": [
    "nfl_dataset = Dataset(nfl_data)"
   ]
  },
  {
   "cell_type": "code",
   "execution_count": 22,
   "metadata": {},
   "outputs": [
    {
     "name": "stdout",
     "output_type": "stream",
     "text": [
      "[['year', 'week', 'winner', 'loser'], ['2009', '1', 'Pittsburgh Steelers', 'Tennessee Titans'], ['2009', '1', 'Minnesota Vikings', 'Cleveland Browns'], ['2009', '1', 'New York Giants', 'Washington Redskins'], ['2009', '1', 'San Francisco 49ers', 'Arizona Cardinals']]\n",
      "<class 'NoneType'>\n"
     ]
    }
   ],
   "source": [
    "dataset_printdata = nfl_dataset.print_data(5)\n",
    "print(type(dataset_printdata))"
   ]
  },
  {
   "cell_type": "code",
   "execution_count": 23,
   "metadata": {
    "collapsed": true
   },
   "outputs": [],
   "source": [
    "class Dataset:\n",
    "    def __init__(self, data):\n",
    "        self.data = data\n",
    "        nfl_dataset = Dataset(nfl_data)\n",
    "\n",
    "class Dataset:\n",
    "    def __init__(self, data):\n",
    "        self.header = data[0]\n",
    "        self.data = data[1:]"
   ]
  },
  {
   "cell_type": "code",
   "execution_count": 24,
   "metadata": {},
   "outputs": [
    {
     "name": "stdout",
     "output_type": "stream",
     "text": [
      "['year', 'week', 'winner', 'loser']\n"
     ]
    }
   ],
   "source": [
    "nfl_dataset = Dataset(nfl_data)\n",
    "nfl_header = nfl_dataset.header\n",
    "print(nfl_header)"
   ]
  },
  {
   "cell_type": "markdown",
   "metadata": {
    "collapsed": true
   },
   "source": [
    "#### <p style=\"color:Gray\">Enhancing the Initializer<p/>\n",
    "we want is to extract the header once and only once in our class."
   ]
  },
  {
   "cell_type": "code",
   "execution_count": 25,
   "metadata": {
    "collapsed": true
   },
   "outputs": [],
   "source": [
    "class Dataset:\n",
    "    def __init__(self, data):\n",
    "        self.data = data"
   ]
  },
  {
   "cell_type": "code",
   "execution_count": 26,
   "metadata": {},
   "outputs": [
    {
     "data": {
      "text/plain": [
       "<__main__.Dataset at 0x1eeda031b70>"
      ]
     },
     "execution_count": 26,
     "metadata": {},
     "output_type": "execute_result"
    }
   ],
   "source": [
    "nfl_dataset = Dataset(nfl_data)\n",
    "nfl_dataset"
   ]
  },
  {
   "cell_type": "code",
   "execution_count": 27,
   "metadata": {},
   "outputs": [
    {
     "data": {
      "text/plain": [
       "[['year', 'week', 'winner', 'loser'],\n",
       " ['2009', '1', 'Pittsburgh Steelers', 'Tennessee Titans'],\n",
       " ['2009', '1', 'Minnesota Vikings', 'Cleveland Browns'],\n",
       " ['2009', '1', 'New York Giants', 'Washington Redskins'],\n",
       " ['2009', '1', 'San Francisco 49ers', 'Arizona Cardinals'],\n",
       " ['2009', '1', 'Seattle Seahawks', 'St. Louis Rams'],\n",
       " ['2009', '1', 'Philadelphia Eagles', 'Carolina Panthers'],\n",
       " ['2009', '1', 'New York Jets', 'Houston Texans'],\n",
       " ['2009', '1', 'Atlanta Falcons', 'Miami Dolphins'],\n",
       " ['2009', '1', 'Baltimore Ravens', 'Kansas City Chiefs']]"
      ]
     },
     "execution_count": 27,
     "metadata": {},
     "output_type": "execute_result"
    }
   ],
   "source": [
    "nfl_dataset.data[:10]"
   ]
  },
  {
   "cell_type": "code",
   "execution_count": 28,
   "metadata": {
    "collapsed": true
   },
   "outputs": [],
   "source": [
    "class Dataset:\n",
    "    def __init__(self, data):\n",
    "        self.header = data[0]\n",
    "        self.data = data[:1]"
   ]
  },
  {
   "cell_type": "code",
   "execution_count": 29,
   "metadata": {},
   "outputs": [
    {
     "data": {
      "text/plain": [
       "<__main__.Dataset at 0x1eeda037550>"
      ]
     },
     "execution_count": 29,
     "metadata": {},
     "output_type": "execute_result"
    },
    {
     "data": {
      "text/plain": [
       "['year', 'week', 'winner', 'loser']"
      ]
     },
     "execution_count": 29,
     "metadata": {},
     "output_type": "execute_result"
    }
   ],
   "source": [
    "nfl_dataset = Dataset(nfl_data)\n",
    "nfl_header = nfl_dataset.header\n",
    "nfl_dataset\n",
    "nfl_header"
   ]
  },
  {
   "cell_type": "markdown",
   "metadata": {},
   "source": [
    "#### <p style=\"color:Gray\">Enumerate()<p/>\n",
    "help us search the header and extract both the index and label to check."
   ]
  },
  {
   "cell_type": "code",
   "execution_count": 30,
   "metadata": {
    "scrolled": true
   },
   "outputs": [
    {
     "name": "stdout",
     "output_type": "stream",
     "text": [
      "0 foo\n",
      "1 bar\n"
     ]
    }
   ],
   "source": [
    "for idx, value in enumerate(['foo', 'bar']):\n",
    "    print(idx, value)"
   ]
  },
  {
   "cell_type": "code",
   "execution_count": 31,
   "metadata": {
    "collapsed": true
   },
   "outputs": [],
   "source": [
    "a = ['year', 'week', 'winner', 'loser']"
   ]
  },
  {
   "cell_type": "code",
   "execution_count": 32,
   "metadata": {
    "scrolled": true
   },
   "outputs": [
    {
     "name": "stdout",
     "output_type": "stream",
     "text": [
      "0 year\n",
      "1 week\n",
      "2 winner\n",
      "3 loser\n"
     ]
    }
   ],
   "source": [
    "for idx, value in enumerate(a):\n",
    "    print(idx, value)"
   ]
  },
  {
   "cell_type": "code",
   "execution_count": 33,
   "metadata": {
    "collapsed": true
   },
   "outputs": [],
   "source": [
    "class Dataset:\n",
    "    def __init__(self, data):\n",
    "        self.header = data[0]\n",
    "        self.data = data[1:]\n",
    "nfl_dataset = Dataset(nfl_data)\n",
    "\n",
    "class Dataset:\n",
    "    def __init__(self, data):\n",
    "        self.header = data[0]\n",
    "        self.data = data[1:]\n",
    "        \n",
    "    def column(self, label):\n",
    "        if label not in self.header:\n",
    "            return None\n",
    "        index = 0\n",
    "        for idx, element in enumerate(self.header):\n",
    "            if label == element:\n",
    "                index = idx\n",
    "                \n",
    "        column = []\n",
    "        for row in self.data:\n",
    "            column.append(row[index])\n",
    "        return column\n",
    "                \n",
    "        \n",
    "    "
   ]
  },
  {
   "cell_type": "code",
   "execution_count": 34,
   "metadata": {},
   "outputs": [
    {
     "name": "stdout",
     "output_type": "stream",
     "text": [
      "None\n",
      "['Pittsburgh Steelers', 'Minnesota Vikings', 'New York Giants', 'San Francisco 49ers', 'Seattle Seahawks', 'Philadelphia Eagles', 'New York Jets', 'Atlanta Falcons', 'Baltimore Ravens', 'Indianapolis Colts', 'New Orleans Saints', 'Denver Broncos', 'Green Bay Packers', 'Dallas Cowboys', 'New England Patriots', 'San Diego Chargers', 'New York Giants', 'Chicago Bears', 'Oakland Raiders', 'Washington Redskins', 'Baltimore Ravens', 'San Francisco 49ers', 'Buffalo Bills', 'New York Jets', 'New Orleans Saints', 'Atlanta Falcons', 'Cincinnati Bengals', 'Denver Broncos', 'Arizona Cardinals', 'Houston Texans', 'Minnesota Vikings', 'Indianapolis Colts', 'San Diego Chargers', 'New Orleans Saints', 'New York Giants', 'New York Jets', 'Cincinnati Bengals', 'Minnesota Vikings', 'Detroit Lions', 'Philadelphia Eagles', 'Jacksonville Jaguars', 'New England Patriots', 'Chicago Bears', 'Baltimore Ravens', 'Indianapolis Colts', 'Denver Broncos', 'Green Bay Packers', 'Dallas Cowboys', 'Houston Texans', 'San Francisco 49ers', 'New England Patriots', 'Pittsburgh Steelers', 'Washington Redskins', 'Jacksonville Jaguars', 'New Orleans Saints', 'New York Giants', 'Indianapolis Colts', 'Chicago Bears', 'Denver Broncos', 'Cincinnati Bengals', 'Miami Dolphins', 'Minnesota Vikings', 'Arizona Cardinals', 'Philadelphia Eagles', 'Carolina Panthers', 'Atlanta Falcons', 'New York Giants', 'Pittsburgh Steelers', 'Denver Broncos', 'Minnesota Vikings', 'Seattle Seahawks', 'Dallas Cowboys', 'Indianapolis Colts', 'Cleveland Browns', 'Cincinnati Bengals', 'Miami Dolphins', 'Oakland Raiders', 'Arizona Cardinals', 'Atlanta Falcons', 'Carolina Panthers', 'New Orleans Saints', 'Jacksonville Jaguars', 'Minnesota Vikings', 'New England Patriots', 'Kansas City Chiefs', 'Houston Texans', 'Green Bay Packers', 'Pittsburgh Steelers', 'Buffalo Bills', 'Denver Broncos', 'Arizona Cardinals', 'Indianapolis Colts', 'Cincinnati Bengals', 'New Orleans Saints', 'Dallas Cowboys', 'San Diego Chargers', 'New York Jets', 'Houston Texans', 'New England Patriots', 'Pittsburgh Steelers', 'Green Bay Packers', 'Buffalo Bills', 'Philadelphia Eagles', 'Minnesota Vikings', 'Miami Dolphins', 'Tennessee Titans', 'Dallas Cowboys', 'Baltimore Ravens', 'Chicago Bears', 'Carolina Panthers', 'Indianapolis Colts', 'St. Louis Rams', 'San Diego Chargers', 'Houston Texans', 'Philadelphia Eagles', 'New Orleans Saints', 'Atlanta Falcons', 'Cincinnati Bengals', 'Tennessee Titans', 'New England Patriots', 'Jacksonville Jaguars', 'Indianapolis Colts', 'Tampa Bay Buccaneers', 'Seattle Seahawks', 'Dallas Cowboys', 'New Orleans Saints', 'Arizona Cardinals', 'San Diego Chargers', 'Pittsburgh Steelers', 'San Francisco 49ers', 'New Orleans Saints', 'Indianapolis Colts', 'San Diego Chargers', 'Arizona Cardinals', 'Miami Dolphins', 'Kansas City Chiefs', 'Jacksonville Jaguars', 'Minnesota Vikings', 'Carolina Panthers', 'Tennessee Titans', 'Cincinnati Bengals', 'Green Bay Packers', 'Washington Redskins', 'Baltimore Ravens', 'Miami Dolphins', 'Philadelphia Eagles', 'Kansas City Chiefs', 'San Diego Chargers', 'Minnesota Vikings', 'Green Bay Packers', 'Dallas Cowboys', 'New England Patriots', 'New Orleans Saints', 'New York Giants', 'Jacksonville Jaguars', 'Oakland Raiders', 'Detroit Lions', 'Indianapolis Colts', 'Arizona Cardinals', 'Tennessee Titans', 'Denver Broncos', 'Green Bay Packers', 'Dallas Cowboys', 'Baltimore Ravens', 'Seattle Seahawks', 'Atlanta Falcons', 'Philadelphia Eagles', 'Buffalo Bills', 'San Diego Chargers', 'San Francisco 49ers', 'Tennessee Titans', 'Indianapolis Colts', 'Cincinnati Bengals', 'Minnesota Vikings', 'New York Jets', 'New Orleans Saints', 'New York Jets', 'Seattle Seahawks', 'San Diego Chargers', 'Chicago Bears', 'Oakland Raiders', 'Philadelphia Eagles', 'Indianapolis Colts', 'Carolina Panthers', 'Miami Dolphins', 'New York Giants', 'Denver Broncos', 'Cincinnati Bengals', 'Jacksonville Jaguars', 'Arizona Cardinals', 'New Orleans Saints', 'Green Bay Packers', 'Cleveland Browns', 'New York Jets', 'Philadelphia Eagles', 'Tennessee Titans', 'San Diego Chargers', 'Houston Texans', 'Washington Redskins', 'New Orleans Saints', 'Miami Dolphins', 'Buffalo Bills', 'New England Patriots', 'Minnesota Vikings', 'Indianapolis Colts', 'Baltimore Ravens', 'Green Bay Packers', 'San Francisco 49ers', 'Indianapolis Colts', 'Dallas Cowboys', 'Carolina Panthers', 'New England Patriots', 'Oakland Raiders', 'Philadelphia Eagles', 'Tampa Bay Buccaneers', 'Tennessee Titans', 'Houston Texans', 'Pittsburgh Steelers', 'Atlanta Falcons', 'Baltimore Ravens', 'San Diego Chargers', 'Cleveland Browns', 'Arizona Cardinals', 'New York Giants', 'San Diego Chargers', 'Cleveland Browns', 'Arizona Cardinals', 'Pittsburgh Steelers', 'Green Bay Packers', 'Tampa Bay Buccaneers', 'New York Jets', 'Cincinnati Bengals', 'Dallas Cowboys', 'New England Patriots', 'Houston Texans', 'San Francisco 49ers']\n"
     ]
    }
   ],
   "source": [
    "# label = ['year', 'week', 'winner', 'loser']\n",
    "nfl_dataset = Dataset(nfl_data)\n",
    "player_column = nfl_dataset.column('player')\n",
    "winner_column = nfl_dataset.column('winner')\n",
    "print(player_column) # 'player' is not in header\n",
    "print(winner_column)"
   ]
  },
  {
   "cell_type": "code",
   "execution_count": 35,
   "metadata": {
    "collapsed": true
   },
   "outputs": [],
   "source": [
    "index = 0\n",
    "for idx, element in enumerate(a):\n",
    "    if 'year' == element:\n",
    "        index = idx\n",
    "year_element = []\n",
    "for row in nfl_data[1:11]:\n",
    "    year_element.append(row[index])"
   ]
  },
  {
   "cell_type": "code",
   "execution_count": 36,
   "metadata": {},
   "outputs": [
    {
     "name": "stdout",
     "output_type": "stream",
     "text": [
      "['2009', '2009', '2009', '2009', '2009', '2009', '2009', '2009', '2009', '2009']\n"
     ]
    }
   ],
   "source": [
    "print(year_element)"
   ]
  },
  {
   "cell_type": "markdown",
   "metadata": {},
   "source": [
    "#### <p style=\"color:Gray\">count_unique()<p/>\n",
    "a user can choose a label and then get **the total amount of unique results in the column.** <br/>\n",
    "To return a unique set of items from a list, we can use the set() function. The set() function returns only the unique elements in a list:"
   ]
  },
  {
   "cell_type": "code",
   "execution_count": 37,
   "metadata": {
    "scrolled": true
   },
   "outputs": [
    {
     "name": "stdout",
     "output_type": "stream",
     "text": [
      "{1, 2}\n",
      "<class 'set'>\n",
      "2\n"
     ]
    }
   ],
   "source": [
    "weeks = [1, 1, 1, 1, 1, 1, 2, 2, 2, 2]\n",
    "unique_weeks = set(weeks)\n",
    "print(unique_weeks)\n",
    "\n",
    "print(type(unique_weeks))\n",
    "print(len(unique_weeks))"
   ]
  },
  {
   "cell_type": "code",
   "execution_count": 38,
   "metadata": {
    "collapsed": true
   },
   "outputs": [],
   "source": [
    "class Dataset:\n",
    "    def __init__(self, data):\n",
    "        self.header = data[0]\n",
    "        self.data = data[1:]\n",
    "        \n",
    "    def column(self, label):\n",
    "        if label not in self.header:\n",
    "            return None\n",
    "        \n",
    "        for idx, element in enumerate(self.header):\n",
    "            if label == element:\n",
    "                index = idx\n",
    "                \n",
    "        column = []\n",
    "        for row in self.data:\n",
    "            column.append(row[index])\n",
    "        return column\n",
    "    \n",
    "    def count_unique(self, label):\n",
    "        unique_results = set(self.column(label))\n",
    "        count = len(unique_results)\n",
    "        return count\n",
    "        \n",
    "        "
   ]
  },
  {
   "cell_type": "code",
   "execution_count": 39,
   "metadata": {},
   "outputs": [
    {
     "name": "stdout",
     "output_type": "stream",
     "text": [
      "1\n",
      "32\n"
     ]
    }
   ],
   "source": [
    "# self.column(label) like nfl_dataset.column('winner')\n",
    "nfl_dataset = Dataset(nfl_data)\n",
    "total_years = nfl_dataset.count_unique('year')\n",
    "print(total_years)\n",
    "total_winner = nfl_dataset.count_unique('winner')\n",
    "print(total_winner)"
   ]
  },
  {
   "cell_type": "markdown",
   "metadata": {},
   "source": [
    "#### <p style=\"color:Gray\">a list of special method<p/><hr>\n",
    "\n",
    "With all the feature of the Dataset class, we want to make it easier for the user to take a sanpshot look at the data. Multiple screens ago, we wrote a print_data method that took in a number of rows and then printed out those rows. We are going to write another method that will do something similar but using **a python special function** instead.<br/>\n",
    "Across all python classes, there are a list of special methods that we can implement. Each one of provieds additional customization \n",
    "<br/>\n",
    "\n",
    "Dataset 클래스의 모든 기능을 사용하여 사용자가 데이터에서 스냅 샷을보다 쉽게 볼 수 있도록하고 싶다. 여러 화면 전에 여러 행을 가져 와서 그 행을 인쇄하는 print_data 메소드를 작성했다. 지금부터는 비슷한 역할을 하지만 파이썬 특수 함수를 대신 사용하는 또 다른 메서드를 작성하려고 한다. "
   ]
  },
  {
   "cell_type": "markdown",
   "metadata": {},
   "source": [
    "#### <p style=\"color:Gray\">Basic customization()<p/><hr>\n",
    "https://docs.python.org/3/reference/datamodel.html#basic-customization <br/>\n",
    "A class can implement certain operations that are invoked by special syntax by defining methods with special names. <br/>\n",
    "This is Python's approach to operator overloading, allowing classes to define their own behavior with respect to language operators. <br/>\n",
    "<br/>\n",
    "클래스는 특별한 이름으로 메소드를 정의함으로써 특별한 구문에 의해 호출되는 특정 연산을 구현할 수 있습니다. <br/>\n",
    "이것은 연산자 오버로딩에 대한 파이썬의 접근 방식으로, 클래스가 언어 운영자와 관련하여 \n",
    "자체 동작을 정의 할 수 있도록 합니다. "
   ]
  },
  {
   "cell_type": "markdown",
   "metadata": {
    "collapsed": true
   },
   "source": [
    "#### <p style=\"color:Gray\">__init__()<p/><hr>\n",
    "\n",
    "when we emplemented __init__(), it told the python interpreter that anything within that method is what we want to initialize when we create our object. <br/>\n",
    "우리가 init 메서드를 구현했을 때, 그것은 파이썬 인터프리터에게 그 메서드 내의 모든 것은 우리가 객체를 생성 할 때 우리가 초기화하고자하는 것 이라고 말했다. <br/>\n",
    "<br/>\n",
    "\n",
    "(more...)\n",
    "https://docs.python.org/3/reference/datamodel.html#basic-customization <br/>\n",
    "Called after instance has been created(by __new__()), but before it is returned to the caller.<br/>\n",
    "The arguments are those passed to the class constructor expression<br/>\n",
    "if a base class has an __init__() method, the derived class's __init__() method, if any, must explicitly call it to ensure proper initialization of the base class part of the instance. for example: super()__init__([args...])<br/>\n",
    "because __new()__ and __init__()work together in constructing objects, no non-None value may be returned by __init__()\n",
    "<br/>\n",
    "인스턴스가 생선 된 후에 호출되었지만, 호출자에게 반환되기 전에 호출된다. 이 인수들은 클래스 생성자 표현식에 전달되는 해당 인수이다. 기본 클래스에 init()메서드가 있는 경우 파생 클래스의 init()메서드가 있으면 이를 명시적으로 호출하여 인스턴스의 기본 클래스 부분을 올바르게 초기화해야 한다. new() 메서드와 init()메서드는 객체를 구성하는 데 함께 사용되기 때문에, non-none value를 반환 할 수 없다. "
   ]
  },
  {
   "cell_type": "markdown",
   "metadata": {},
   "source": [
    "#### <p style=\"color:Gray\">__str__()<p/><hr>\n",
    "\n",
    "One special method is __str__() which tells the python interpreter how to represent you object as a string.<br/>\n",
    "Whenever we try to convert the object into a string or when we want to print out that object, we can use __str__() method to customize the way it looks when we display the object using the print() function. \n",
    "\n",
    "str은 파이썬 인터프리터에게 객체를 문자열로 나타내는 방법을 알려주는 메서드이다. 객체를 문자열로 변환하려고하거나 그 객체를 출력하고자 할 때마다 print() 함수를 사용하여 객체를 표시 할 때 __str__() 메서드를 사용하여 모양을 사용자정의 할 수 있다. \n",
    "\n",
    "(more..) https://docs.python.org/3/reference/datamodel.html#basic-customization <br/> Called by str(object) and the built-in functions format() and print() to compute the informal or nicely printable string representation of an object. The return value must be a string object.<br/>\n",
    "<br/>\n",
    "str() 및 내장 함수 format() 및 print()에 의해 호출되어 객체의 출력 가능한 문자열 표현을 비공식적으로 계산한다. 반환값은 문자열 객체이어야 한다. "
   ]
  },
  {
   "cell_type": "code",
   "execution_count": 46,
   "metadata": {
    "collapsed": true
   },
   "outputs": [],
   "source": [
    "class Dataset:\n",
    "    def __init__(self, data):\n",
    "        self.header = data[0]\n",
    "        self.data = data[1:]\n",
    "    def __str__(self):\n",
    "        data_string = self.data[:10]\n",
    "        return str(data_string)    \n",
    "        \n",
    "    def column(self, label):\n",
    "        if label not in self.header:\n",
    "            return None\n",
    "        index = 0\n",
    "        for idx, element in enumerate(self.header):\n",
    "            if label == element:\n",
    "                index = idx\n",
    "        column = []\n",
    "        for row in self.data:\n",
    "            column.append(row[index])\n",
    "        return column\n",
    "    def count_unique(self, label):\n",
    "        unique_results = set(self.column(label))\n",
    "        count = len(unique_results)\n",
    "        return count\n"
   ]
  },
  {
   "cell_type": "code",
   "execution_count": 48,
   "metadata": {},
   "outputs": [
    {
     "name": "stdout",
     "output_type": "stream",
     "text": [
      "[['2009', '1', 'Pittsburgh Steelers', 'Tennessee Titans'], ['2009', '1', 'Minnesota Vikings', 'Cleveland Browns'], ['2009', '1', 'New York Giants', 'Washington Redskins'], ['2009', '1', 'San Francisco 49ers', 'Arizona Cardinals'], ['2009', '1', 'Seattle Seahawks', 'St. Louis Rams'], ['2009', '1', 'Philadelphia Eagles', 'Carolina Panthers'], ['2009', '1', 'New York Jets', 'Houston Texans'], ['2009', '1', 'Atlanta Falcons', 'Miami Dolphins'], ['2009', '1', 'Baltimore Ravens', 'Kansas City Chiefs'], ['2009', '1', 'Indianapolis Colts', 'Jacksonville Jaguars']]\n",
      "<class '__main__.Dataset'>\n"
     ]
    }
   ],
   "source": [
    "nfl_dataset = Dataset(nfl_data)\n",
    "print(nfl_dataset)\n",
    "print(type(nfl_dataset))"
   ]
  },
  {
   "cell_type": "markdown",
   "metadata": {},
   "source": [
    "<hr>\n",
    "we would want a consistent set of behaviors and attributes to use with them.<br/>\n",
    "With classes, we bundle all of that data and behavior together in one location. An instance of **the dataset class** is all we need **to count unique terms in a dataset** or **get a file's header** <br/>\n",
    "Once we add behavior to a class, every instance of the class will be able to perform that behavior. As we develop our application, we can add more properties to classes to extet their functionality. **Using classes and instances ** helps organize our code, and allows us to represent real-world concepts in well-defined code constructs.\n",
    "<br/>\n",
    "<br/>\n",
    "우리는 일관된 일련의 동작과 속성을 사용하고 싶어합니다. Dataset 클래스의 인스턴스는 데이터 세트에서 고유 용어를 집계하거나 파일 헤더를 가져 오는 데 필요한 모든 것이다.\n",
    "클래스에 **behavior**를 추가하면 클래스의 모든 인스턴스가 해당 behavior를 수행 할 수 있다. 애플리케이션을 개발할 때 클래스에 속성을 추가하여 기능을 확장 할 수 있다. **클래스와 인스턴스를 사용**하면 코드를 구성하는데 도움이되며 잘 정의 된 코드 구문으로 실제 개념을 표현할 수 있다.<hr>"
   ]
  },
  {
   "cell_type": "markdown",
   "metadata": {},
   "source": [
    "### Error Handling\n",
    "If you want basic plan to acces Error Handling, need to upgrade with some pay.\n",
    "If you don't want you just keep going to Numpy pages"
   ]
  },
  {
   "cell_type": "code",
   "execution_count": null,
   "metadata": {
    "collapsed": true
   },
   "outputs": [],
   "source": []
  }
 ],
 "metadata": {
  "kernelspec": {
   "display_name": "Python 3",
   "language": "python",
   "name": "python3"
  },
  "language_info": {
   "codemirror_mode": {
    "name": "ipython",
    "version": 3
   },
   "file_extension": ".py",
   "mimetype": "text/x-python",
   "name": "python",
   "nbconvert_exporter": "python",
   "pygments_lexer": "ipython3",
   "version": "3.6.1"
  }
 },
 "nbformat": 4,
 "nbformat_minor": 2
}
