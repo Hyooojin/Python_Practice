{
 "cells": [
  {
   "cell_type": "code",
   "execution_count": 39,
   "metadata": {
    "scrolled": false
   },
   "outputs": [
    {
     "data": {
      "text/plain": [
       "'Albuquerque,749\\nAnaheim,371\\nAnchorage,828\\nArlington,503\\nAtlanta,1379\\nAurora,425\\nAustin,408\\nBakersfield,542\\nBaltimore,1405\\nBoston,835\\nBuffalo,1288\\nCharlotte-Mecklenburg,647\\nCincinnati,974\\nCleveland,1383\\nColorado Springs,455\\nCorpus Christi,658\\nDallas,675\\nDenver,615\\nDetroit,2122\\nEl Paso,423\\nFort Wayne,362\\nFort Worth,587\\nFresno,543\\nGreensboro,563\\nHenderson,168\\nHouston,992\\nIndianapolis,1185\\nJacksonville,617\\nJersey City,734\\nKansas City,1263\\nLas Vegas,784\\nLexington,352\\nLincoln,397\\nLong Beach,575\\nLos Angeles,481\\nLouisville Metro,598\\nMemphis,1750\\nMesa,399\\nMiami,1172\\nMilwaukee,1294\\nMinneapolis,992\\nMobile,522\\nNashville,1216\\nNew Orleans,815\\nNew York,639\\nNewark,1154\\nOakland,1993\\nOklahoma City,919\\nOmaha,594\\nPhiladelphia,1160\\nPhoenix,636\\nPittsburgh,752\\nPlano,130\\nPortland,517\\nRaleigh,423\\nRiverside,443\\nSacramento,738\\nSan Antonio,503\\nSan Diego,413\\nSan Francisco,704\\nSan Jose,363\\nSanta Ana,401\\nSeattle,597\\nSt. Louis,1776\\nSt. Paul,722\\nStockton,1548\\nTampa,616\\nToledo,1171\\nTucson,724\\nTulsa,990\\nVirginia Beach,169\\nWashington,1177\\nWichita,742\\n'"
      ]
     },
     "execution_count": 39,
     "metadata": {},
     "output_type": "execute_result"
    }
   ],
   "source": [
    "f = open('crime_rates.csv', 'r')\n",
    "data = f.read()\n",
    "data"
   ]
  },
  {
   "cell_type": "code",
   "execution_count": 37,
   "metadata": {},
   "outputs": [
    {
     "data": {
      "text/plain": [
       "'Albuquerque,749\\nAnaheim,371\\nAnchorage,828\\nArlington,503\\nAtlanta,1379\\nAurora,425\\nAustin,408\\nBakersfield,542\\nBaltimore,1405\\nBoston,835\\nBuffalo,1288\\nCharlotte-Mecklenburg,647\\nCincinnati,974\\nCleveland,1383\\nColorado Springs,455\\nCorpus Christi,658\\nDallas,675\\nDenver,615\\nDetroit,2122\\nEl Paso,423\\nFort Wayne,362\\nFort Worth,587\\nFresno,543\\nGreensboro,563\\nHenderson,168\\nHouston,992\\nIndianapolis,1185\\nJacksonville,617\\nJersey City,734\\nKansas City,1263\\nLas Vegas,784\\nLexington,352\\nLincoln,397\\nLong Beach,575\\nLos Angeles,481\\nLouisville Metro,598\\nMemphis,1750\\nMesa,399\\nMiami,1172\\nMilwaukee,1294\\nMinneapolis,992\\nMobile,522\\nNashville,1216\\nNew Orleans,815\\nNew York,639\\nNewark,1154\\nOakland,1993\\nOklahoma City,919\\nOmaha,594\\nPhiladelphia,1160\\nPhoenix,636\\nPittsburgh,752\\nPlano,130\\nPortland,517\\nRaleigh,423\\nRiverside,443\\nSacramento,738\\nSan Antonio,503\\nSan Diego,413\\nSan Francisco,704\\nSan Jose,363\\nSanta Ana,401\\nSeattle,597\\nSt. Louis,1776\\nSt. Paul,722\\nStockton,1548\\nTampa,616\\nToledo,1171\\nTucson,724\\nTulsa,990\\nVirginia Beach,169\\nWashington,1177\\nWichita,742'"
      ]
     },
     "execution_count": 37,
     "metadata": {},
     "output_type": "execute_result"
    }
   ],
   "source": [
    "len(data)\n",
    "data[:1030]"
   ]
  },
  {
   "cell_type": "code",
   "execution_count": 40,
   "metadata": {
    "scrolled": true
   },
   "outputs": [
    {
     "data": {
      "text/plain": [
       "['Albuquerque,749',\n",
       " 'Anaheim,371',\n",
       " 'Anchorage,828',\n",
       " 'Arlington,503',\n",
       " 'Atlanta,1379',\n",
       " 'Aurora,425',\n",
       " 'Austin,408',\n",
       " 'Bakersfield,542',\n",
       " 'Baltimore,1405',\n",
       " 'Boston,835',\n",
       " 'Buffalo,1288',\n",
       " 'Charlotte-Mecklenburg,647',\n",
       " 'Cincinnati,974',\n",
       " 'Cleveland,1383',\n",
       " 'Colorado Springs,455',\n",
       " 'Corpus Christi,658',\n",
       " 'Dallas,675',\n",
       " 'Denver,615',\n",
       " 'Detroit,2122',\n",
       " 'El Paso,423',\n",
       " 'Fort Wayne,362',\n",
       " 'Fort Worth,587',\n",
       " 'Fresno,543',\n",
       " 'Greensboro,563',\n",
       " 'Henderson,168',\n",
       " 'Houston,992',\n",
       " 'Indianapolis,1185',\n",
       " 'Jacksonville,617',\n",
       " 'Jersey City,734',\n",
       " 'Kansas City,1263',\n",
       " 'Las Vegas,784',\n",
       " 'Lexington,352',\n",
       " 'Lincoln,397',\n",
       " 'Long Beach,575',\n",
       " 'Los Angeles,481',\n",
       " 'Louisville Metro,598',\n",
       " 'Memphis,1750',\n",
       " 'Mesa,399',\n",
       " 'Miami,1172',\n",
       " 'Milwaukee,1294',\n",
       " 'Minneapolis,992',\n",
       " 'Mobile,522',\n",
       " 'Nashville,1216',\n",
       " 'New Orleans,815',\n",
       " 'New York,639',\n",
       " 'Newark,1154',\n",
       " 'Oakland,1993',\n",
       " 'Oklahoma City,919',\n",
       " 'Omaha,594',\n",
       " 'Philadelphia,1160',\n",
       " 'Phoenix,636',\n",
       " 'Pittsburgh,752',\n",
       " 'Plano,130',\n",
       " 'Portland,517',\n",
       " 'Raleigh,423',\n",
       " 'Riverside,443',\n",
       " 'Sacramento,738',\n",
       " 'San Antonio,503',\n",
       " 'San Diego,413',\n",
       " 'San Francisco,704',\n",
       " 'San Jose,363',\n",
       " 'Santa Ana,401',\n",
       " 'Seattle,597',\n",
       " 'St. Louis,1776',\n",
       " 'St. Paul,722',\n",
       " 'Stockton,1548',\n",
       " 'Tampa,616',\n",
       " 'Toledo,1171',\n",
       " 'Tucson,724',\n",
       " 'Tulsa,990',\n",
       " 'Virginia Beach,169',\n",
       " 'Washington,1177',\n",
       " 'Wichita,742']"
      ]
     },
     "execution_count": 40,
     "metadata": {},
     "output_type": "execute_result"
    }
   ],
   "source": [
    "rows = data[:1030].split('\\n')\n",
    "rows"
   ]
  },
  {
   "cell_type": "code",
   "execution_count": 35,
   "metadata": {},
   "outputs": [
    {
     "ename": "IndexError",
     "evalue": "list index out of range",
     "output_type": "error",
     "traceback": [
      "\u001b[1;31m---------------------------------------------------------------\u001b[0m",
      "\u001b[1;31mIndexError\u001b[0m                    Traceback (most recent call last)",
      "\u001b[1;32m<ipython-input-35-310b8d78d5e7>\u001b[0m in \u001b[0;36m<module>\u001b[1;34m()\u001b[0m\n\u001b[0;32m      3\u001b[0m \u001b[1;32mfor\u001b[0m \u001b[0mrow\u001b[0m \u001b[1;32min\u001b[0m \u001b[0mrows\u001b[0m\u001b[1;33m:\u001b[0m\u001b[1;33m\u001b[0m\u001b[0m\n\u001b[0;32m      4\u001b[0m     \u001b[0mvalues\u001b[0m \u001b[1;33m=\u001b[0m \u001b[0mrow\u001b[0m\u001b[1;33m.\u001b[0m\u001b[0msplit\u001b[0m\u001b[1;33m(\u001b[0m\u001b[1;34m','\u001b[0m\u001b[1;33m)\u001b[0m\u001b[1;33m\u001b[0m\u001b[0m\n\u001b[1;32m----> 5\u001b[1;33m     \u001b[0mcrime_rate\u001b[0m \u001b[1;33m=\u001b[0m \u001b[0mint\u001b[0m\u001b[1;33m(\u001b[0m\u001b[0mvalues\u001b[0m\u001b[1;33m[\u001b[0m\u001b[1;36m1\u001b[0m\u001b[1;33m]\u001b[0m\u001b[1;33m)\u001b[0m\u001b[1;33m\u001b[0m\u001b[0m\n\u001b[0m\u001b[0;32m      6\u001b[0m     \u001b[0mint_crime_rates\u001b[0m\u001b[1;33m.\u001b[0m\u001b[0mappend\u001b[0m\u001b[1;33m(\u001b[0m\u001b[0mcrime_rate\u001b[0m\u001b[1;33m)\u001b[0m\u001b[1;33m\u001b[0m\u001b[0m\n",
      "\u001b[1;31mIndexError\u001b[0m: list index out of range"
     ]
    }
   ],
   "source": [
    "int_crime_rates = []\n",
    "crime_rates = []\n",
    "for row in rows:\n",
    "    values = row.split(',')\n",
    "    crime_rate = int(values[1])\n",
    "    int_crime_rates.append(crime_rate)"
   ]
  },
  {
   "cell_type": "code",
   "execution_count": 42,
   "metadata": {},
   "outputs": [
    {
     "data": {
      "text/plain": [
       "[749,\n",
       " 371,\n",
       " 828,\n",
       " 503,\n",
       " 1379,\n",
       " 425,\n",
       " 408,\n",
       " 542,\n",
       " 1405,\n",
       " 835,\n",
       " 1288,\n",
       " 647,\n",
       " 974,\n",
       " 1383,\n",
       " 455,\n",
       " 658,\n",
       " 675,\n",
       " 615,\n",
       " 2122,\n",
       " 423,\n",
       " 362,\n",
       " 587,\n",
       " 543,\n",
       " 563,\n",
       " 168,\n",
       " 992,\n",
       " 1185,\n",
       " 617,\n",
       " 734,\n",
       " 1263,\n",
       " 784,\n",
       " 352,\n",
       " 397,\n",
       " 575,\n",
       " 481,\n",
       " 598,\n",
       " 1750,\n",
       " 399,\n",
       " 1172,\n",
       " 1294,\n",
       " 992,\n",
       " 522,\n",
       " 1216,\n",
       " 815,\n",
       " 639,\n",
       " 1154,\n",
       " 1993,\n",
       " 919,\n",
       " 594,\n",
       " 1160,\n",
       " 636,\n",
       " 752,\n",
       " 130,\n",
       " 517,\n",
       " 423,\n",
       " 443,\n",
       " 738,\n",
       " 503,\n",
       " 413,\n",
       " 704,\n",
       " 363,\n",
       " 401,\n",
       " 597,\n",
       " 1776,\n",
       " 722,\n",
       " 1548,\n",
       " 616,\n",
       " 1171,\n",
       " 724,\n",
       " 990,\n",
       " 169,\n",
       " 1177,\n",
       " 742]"
      ]
     },
     "execution_count": 42,
     "metadata": {},
     "output_type": "execute_result"
    }
   ],
   "source": [
    "int_crime_rates = []\n",
    "for row in rows:\n",
    "    crime_rate = row.split(',')\n",
    "    crime_rates = int(crime_rate[1])\n",
    "    int_crime_rates.append(crime_rates)\n",
    "int_crime_rates"
   ]
  },
  {
   "cell_type": "code",
   "execution_count": null,
   "metadata": {
    "collapsed": true
   },
   "outputs": [],
   "source": []
  }
 ],
 "metadata": {
  "kernelspec": {
   "display_name": "Python 3",
   "language": "python",
   "name": "python3"
  },
  "language_info": {
   "codemirror_mode": {
    "name": "ipython",
    "version": 3
   },
   "file_extension": ".py",
   "mimetype": "text/x-python",
   "name": "python",
   "nbconvert_exporter": "python",
   "pygments_lexer": "ipython3",
   "version": "3.6.1"
  }
 },
 "nbformat": 4,
 "nbformat_minor": 2
}
