{
 "cells": [
  {
   "cell_type": "code",
   "execution_count": 2,
   "metadata": {},
   "outputs": [],
   "source": [
    "from IPython.core.interactiveshell import InteractiveShell\n",
    "InteractiveShell.ast_node_interactivity = 'all'"
   ]
  },
  {
   "cell_type": "markdown",
   "metadata": {},
   "source": [
    "<p style=\"color:Gray\">movie_metadata.csv, stroy.txt<p/>"
   ]
  },
  {
   "cell_type": "markdown",
   "metadata": {},
   "source": [
    "#### <p style=\"color:Tomato\">[Think about] How can I remove the ['']?<p/>"
   ]
  },
  {
   "cell_type": "code",
   "execution_count": 50,
   "metadata": {
    "scrolled": true
   },
   "outputs": [
    {
     "data": {
      "text/plain": [
       "'56\\n'"
      ]
     },
     "execution_count": 50,
     "metadata": {},
     "output_type": "execute_result"
    },
    {
     "data": {
      "text/plain": [
       "['Color,Daniel Hsia,14,100,0,489,Daniel Henney,946,10443,Comedy|Drama|Romance,Alan Ruck,Shanghai Calling혻,1255,2386,Eliza Coupe,5,,http://www.imdb.com/title/tt2070597/?ref_=fn_tt_tt_1,9,English,USA,PG-13,,2012,719,6.3,2.35,660',\n",
       " 'Color,Jon Gunn,43,90,16,16,Brian Herzlinger,86,85222,Documentary,John August,My Date with Drew혻,4285,163,Jon Gunn,0,actress name in title|crush|date|four word title|video camera,http://www.imdb.com/title/tt0378407/?ref_=fn_tt_tt_1,84,English,USA,PG,1100,2004,23,6.6,1.85,456',\n",
       " '']"
      ]
     },
     "execution_count": 50,
     "metadata": {},
     "output_type": "execute_result"
    }
   ],
   "source": [
    "f = open('movie_metadata.csv', 'r')\n",
    "resource = f.read()\n",
    "resource[len(resource)-3:]\n",
    "data = resource.split('\\n')\n",
    "data[len(data)-3:]"
   ]
  },
  {
   "cell_type": "code",
   "execution_count": 60,
   "metadata": {
    "scrolled": true
   },
   "outputs": [
    {
     "data": {
      "text/plain": [
       "[['']]"
      ]
     },
     "execution_count": 60,
     "metadata": {},
     "output_type": "execute_result"
    },
    {
     "data": {
      "text/plain": [
       "5045"
      ]
     },
     "execution_count": 60,
     "metadata": {},
     "output_type": "execute_result"
    }
   ],
   "source": [
    "movie_data = []\n",
    "for row in data:\n",
    "    split_row = row.split(',')\n",
    "    movie_data.append(split_row)\n",
    "movie_data[len(movie_data)-1:]\n",
    "len(movie_data)"
   ]
  },
  {
   "cell_type": "code",
   "execution_count": 54,
   "metadata": {
    "scrolled": false
   },
   "outputs": [
    {
     "data": {
      "text/plain": [
       "['Color,Benjamin Roberds,13,76,0,0,Maxwell Moody,0,,Drama|Horror|Thriller,Eva Boehnke,A Plague So Pleasant혻,38,0,David Chandler,0,,http://www.imdb.com/title/tt2107644/?ref_=fn_tt_tt_1,3,English,USA,,1400,2013,0,6.3,,16\\n',\n",
       " 'Color,Daniel Hsia,14,100,0,489,Daniel Henney,946,10443,Comedy|Drama|Romance,Alan Ruck,Shanghai Calling혻,1255,2386,Eliza Coupe,5,,http://www.imdb.com/title/tt2070597/?ref_=fn_tt_tt_1,9,English,USA,PG-13,,2012,719,6.3,2.35,660\\n',\n",
       " 'Color,Jon Gunn,43,90,16,16,Brian Herzlinger,86,85222,Documentary,John August,My Date with Drew혻,4285,163,Jon Gunn,0,actress name in title|crush|date|four word title|video camera,http://www.imdb.com/title/tt0378407/?ref_=fn_tt_tt_1,84,English,USA,PG,1100,2004,23,6.6,1.85,456\\n']"
      ]
     },
     "execution_count": 54,
     "metadata": {},
     "output_type": "execute_result"
    }
   ],
   "source": [
    "f = open('movie_metadata.csv', 'r')\n",
    "resource = f.readlines()\n",
    "resource[len(resource)-3:]"
   ]
  },
  {
   "cell_type": "code",
   "execution_count": 62,
   "metadata": {
    "scrolled": true
   },
   "outputs": [
    {
     "data": {
      "text/plain": [
       "[['Color',\n",
       "  'Jon Gunn',\n",
       "  '43',\n",
       "  '90',\n",
       "  '16',\n",
       "  '16',\n",
       "  'Brian Herzlinger',\n",
       "  '86',\n",
       "  '85222',\n",
       "  'Documentary',\n",
       "  'John August',\n",
       "  'My Date with Drew혻',\n",
       "  '4285',\n",
       "  '163',\n",
       "  'Jon Gunn',\n",
       "  '0',\n",
       "  'actress name in title|crush|date|four word title|video camera',\n",
       "  'http://www.imdb.com/title/tt0378407/?ref_=fn_tt_tt_1',\n",
       "  '84',\n",
       "  'English',\n",
       "  'USA',\n",
       "  'PG',\n",
       "  '1100',\n",
       "  '2004',\n",
       "  '23',\n",
       "  '6.6',\n",
       "  '1.85',\n",
       "  '456']]"
      ]
     },
     "execution_count": 62,
     "metadata": {},
     "output_type": "execute_result"
    }
   ],
   "source": [
    "movie_data = []\n",
    "for row in data[:-1]:\n",
    "    split_com = row.split(',')\n",
    "    movie_data.append(split_com)\n",
    "movie_data[len(movie_data)-1:]"
   ]
  },
  {
   "cell_type": "code",
   "execution_count": 63,
   "metadata": {},
   "outputs": [
    {
     "data": {
      "text/plain": [
       "5044"
      ]
     },
     "execution_count": 63,
     "metadata": {},
     "output_type": "execute_result"
    }
   ],
   "source": [
    "len(movie_data)"
   ]
  },
  {
   "cell_type": "markdown",
   "metadata": {},
   "source": [
    "# # Debugging Errors\n",
    "<h4 style=\"color:gray\">The two main types of <mark>errors</mark> are:<br/><h4/>\n",
    "* Syntax errors\n",
    "* Runtime errors\n",
    "\n",
    "### <p style=\"color:MediumSeaGreen\">SyntaxError</p><hr>\n",
    "\n",
    "#### syntaxerror\n",
    "<br/>\n",
    "#### IndentationError\n",
    "* the indentation in our code is inconsistent\n",
    "\n",
    "\n",
    "### <p style=\"color:MediumSeaGreen\">runtime error<hr>\n",
    "\n",
    "* only occur when the code is actually running, which makes them harder to catch and prevent beforehand.\n",
    "\n",
    "#### TypeError\n",
    "\n",
    "#### ValueError\n",
    "* which is generated when the type is corrct but the value is still improper\n",
    "* int(), float(), str()\n",
    "#### IndexError\n",
    "* Since there's no value at index [where], an IndexError is returned.\n",
    "* len()\n",
    "#### AttributeError\n",
    "* This occurs when we try to call a method or attribute on an object that doesn't contain it.\n",
    "* split()\n",
    "* TextIOWrapper "
   ]
  },
  {
   "cell_type": "markdown",
   "metadata": {},
   "source": [
    "<hr> <p style=\"color:Gray\">## 1st. Instructions<p><br/>"
   ]
  },
  {
   "cell_type": "code",
   "execution_count": 11,
   "metadata": {},
   "outputs": [
    {
     "ename": "IndentationError",
     "evalue": "expected an indented block (<ipython-input-11-750bbbdd9377>, line 2)",
     "output_type": "error",
     "traceback": [
      "\u001b[1;36m  File \u001b[1;32m\"<ipython-input-11-750bbbdd9377>\"\u001b[1;36m, line \u001b[1;32m2\u001b[0m\n\u001b[1;33m    elts = []\u001b[0m\n\u001b[1;37m       ^\u001b[0m\n\u001b[1;31mIndentationError\u001b[0m\u001b[1;31m:\u001b[0m expected an indented block\n"
     ]
    }
   ],
   "source": [
    "def first_elts (input_lst):\n",
    "elts = []\n",
    "    for each in input_lst:\n",
    "        elts.append(each0)\n",
    "    retern elts\n",
    "\n",
    "animals = [[\"dog\",\"cat\",\"rabbit\"],[\"turtle\",\"snake\"],[\"sloth\",\"penguin\",\"bird\"]]\n",
    "first_animal = first_elts(animals)\n",
    "print(first_animal)"
   ]
  },
  {
   "cell_type": "code",
   "execution_count": 14,
   "metadata": {
    "collapsed": true
   },
   "outputs": [],
   "source": [
    "def first_elts (input_1st):\n",
    "    elts = []\n",
    "    for each in input_1st:\n",
    "        elts.append(each[0])\n",
    "    return elts"
   ]
  },
  {
   "cell_type": "code",
   "execution_count": 15,
   "metadata": {},
   "outputs": [
    {
     "name": "stdout",
     "output_type": "stream",
     "text": [
      "['dog', 'turtle', 'sloth']\n"
     ]
    }
   ],
   "source": [
    "animals = [[\"dog\",\"cat\",\"rabbit\"],\n",
    "           [\"turtle\",\"snake\"],\n",
    "           [\"sloth\",\"penguin\",\"bird\"]\n",
    "          ]\n",
    "first_animal = first_elts(animals)\n",
    "print(first_animal)"
   ]
  },
  {
   "cell_type": "markdown",
   "metadata": {},
   "source": [
    "<hr> <p style=\"color:Gray\">## 2st. Instructions<p><br/>"
   ]
  },
  {
   "cell_type": "code",
   "execution_count": 23,
   "metadata": {},
   "outputs": [
    {
     "ename": "TypeError",
     "evalue": "unsupported operand type(s) for +: 'int' and 'str'",
     "output_type": "error",
     "traceback": [
      "\u001b[1;31m---------------------------------------------------------------------------\u001b[0m",
      "\u001b[1;31mTypeError\u001b[0m                                 Traceback (most recent call last)",
      "\u001b[1;32m<ipython-input-23-d4c1f339d7ff>\u001b[0m in \u001b[0;36m<module>\u001b[1;34m()\u001b[0m\n\u001b[0;32m      1\u001b[0m \u001b[0mforty_two\u001b[0m \u001b[1;33m=\u001b[0m \u001b[1;36m42\u001b[0m\u001b[1;33m\u001b[0m\u001b[0m\n\u001b[1;32m----> 2\u001b[1;33m \u001b[0mforty_two\u001b[0m \u001b[1;33m+\u001b[0m \u001b[1;34m\"42\"\u001b[0m\u001b[1;33m\u001b[0m\u001b[0m\n\u001b[0m\u001b[0;32m      3\u001b[0m \u001b[0mint\u001b[0m\u001b[1;33m(\u001b[0m\u001b[0mfloat\u001b[0m\u001b[1;33m(\u001b[0m\u001b[1;34m\"guardians\"\u001b[0m\u001b[1;33m)\u001b[0m\u001b[1;33m)\u001b[0m\u001b[1;33m\u001b[0m\u001b[0m\n",
      "\u001b[1;31mTypeError\u001b[0m: unsupported operand type(s) for +: 'int' and 'str'"
     ]
    }
   ],
   "source": [
    "forty_two = 42\n",
    "forty_two + \"42\"\n",
    "int(float(\"guardians\"))"
   ]
  },
  {
   "cell_type": "code",
   "execution_count": 22,
   "metadata": {},
   "outputs": [
    {
     "data": {
      "text/plain": [
       "int"
      ]
     },
     "execution_count": 22,
     "metadata": {},
     "output_type": "execute_result"
    },
    {
     "data": {
      "text/plain": [
       "str"
      ]
     },
     "execution_count": 22,
     "metadata": {},
     "output_type": "execute_result"
    },
    {
     "data": {
      "text/plain": [
       "84"
      ]
     },
     "execution_count": 22,
     "metadata": {},
     "output_type": "execute_result"
    }
   ],
   "source": [
    "type(forty_two)\n",
    "type(\"42\")\n",
    "forty_two + int(\"42\")"
   ]
  },
  {
   "cell_type": "code",
   "execution_count": 24,
   "metadata": {},
   "outputs": [
    {
     "ename": "ValueError",
     "evalue": "could not convert string to float: 'guardians'",
     "output_type": "error",
     "traceback": [
      "\u001b[1;31m---------------------------------------------------------------------------\u001b[0m",
      "\u001b[1;31mValueError\u001b[0m                                Traceback (most recent call last)",
      "\u001b[1;32m<ipython-input-24-834bdc8afb91>\u001b[0m in \u001b[0;36m<module>\u001b[1;34m()\u001b[0m\n\u001b[1;32m----> 1\u001b[1;33m \u001b[0mtype\u001b[0m\u001b[1;33m(\u001b[0m\u001b[0mfloat\u001b[0m\u001b[1;33m(\u001b[0m\u001b[1;34m\"guardians\"\u001b[0m\u001b[1;33m)\u001b[0m\u001b[1;33m)\u001b[0m\u001b[1;33m\u001b[0m\u001b[0m\n\u001b[0m",
      "\u001b[1;31mValueError\u001b[0m: could not convert string to float: 'guardians'"
     ]
    }
   ],
   "source": [
    "type(float(\"guardians\"))"
   ]
  },
  {
   "cell_type": "code",
   "execution_count": null,
   "metadata": {
    "collapsed": true
   },
   "outputs": [],
   "source": [
    "str(\"guardians\")"
   ]
  },
  {
   "cell_type": "markdown",
   "metadata": {},
   "source": [
    "<hr> <p style=\"color:Gray\">## 3st. Instructions<p><br/>"
   ]
  },
  {
   "cell_type": "code",
   "execution_count": 29,
   "metadata": {},
   "outputs": [
    {
     "data": {
      "text/plain": [
       "3"
      ]
     },
     "execution_count": 29,
     "metadata": {},
     "output_type": "execute_result"
    }
   ],
   "source": [
    "lives = [1, 2, 3]\n",
    "# lives[4]\n",
    "len(lives) \n",
    "first_life = lives[0]"
   ]
  },
  {
   "cell_type": "code",
   "execution_count": 34,
   "metadata": {},
   "outputs": [
    {
     "data": {
      "text/plain": [
       "'There\\nwas\\nonce\\na\\ngreat\\nand\\nnoble\\nfrmer\\nnamed\\nJuliu'"
      ]
     },
     "execution_count": 34,
     "metadata": {},
     "output_type": "execute_result"
    },
    {
     "data": {
      "text/plain": [
       "['There',\n",
       " 'was',\n",
       " 'once',\n",
       " 'a',\n",
       " 'great',\n",
       " 'and',\n",
       " 'noble',\n",
       " 'frmer',\n",
       " 'named',\n",
       " 'Julius.']"
      ]
     },
     "execution_count": 34,
     "metadata": {},
     "output_type": "execute_result"
    }
   ],
   "source": [
    "f = open(\"story.txt\")\n",
    "story = f.read()\n",
    "story[:50]\n",
    "story = story.split('\\n')\n",
    "story[:10]\n",
    "\n"
   ]
  },
  {
   "cell_type": "markdown",
   "metadata": {},
   "source": [
    "<hr> <p style=\"color:Gray\">## 4st. Instructions<p><br/>"
   ]
  },
  {
   "cell_type": "code",
   "execution_count": 64,
   "metadata": {
    "scrolled": true
   },
   "outputs": [
    {
     "name": "stdout",
     "output_type": "stream",
     "text": [
      "{'japan_films': 23, 'color_films': 4815, 'films_in_english': 4647}\n"
     ]
    }
   ],
   "source": [
    "def summary_statistics(input_lst):\n",
    "    num_japan_films = feature_counter(input_lst,20,\"Japan\",True)\n",
    "    num_color_films = feature_counter(input_lst,0,\"Color\",True)\n",
    "    num_films_in_english = feature_counter(input_lst,19,\"English\",True)\n",
    "    summary_dict = {\"japan_films\" : num_japan_films, \"color_films\" : num_color_films, \"films_in_english\" : num_films_in_english}\n",
    "    return summary_dict\n",
    "\n",
    "def feature_counter(input_lst,index, input_str, header_row = False):\n",
    "    num_elt = 0\n",
    "    if header_row == True:\n",
    "        input_lst = input_lst[1:len(input_lst)]\n",
    "    for each in input_lst:\n",
    "        if each[index] == input_str:\n",
    "            num_elt = num_elt + 1\n",
    "    return num_elt\n",
    "\n",
    "summary = summary_statistics(movie_data)\n",
    "print(summary)"
   ]
  },
  {
   "cell_type": "code",
   "execution_count": null,
   "metadata": {
    "collapsed": true
   },
   "outputs": [],
   "source": []
  }
 ],
 "metadata": {
  "kernelspec": {
   "display_name": "Python 3",
   "language": "python",
   "name": "python3"
  },
  "language_info": {
   "codemirror_mode": {
    "name": "ipython",
    "version": 3
   },
   "file_extension": ".py",
   "mimetype": "text/x-python",
   "name": "python",
   "nbconvert_exporter": "python",
   "pygments_lexer": "ipython3",
   "version": "3.6.1"
  }
 },
 "nbformat": 4,
 "nbformat_minor": 2
}
