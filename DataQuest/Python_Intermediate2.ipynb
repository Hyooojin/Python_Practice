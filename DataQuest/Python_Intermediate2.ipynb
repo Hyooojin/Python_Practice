{
 "cells": [
  {
   "cell_type": "markdown",
   "metadata": {},
   "source": [
    "# # Error Handling\n",
    "### <p style=\"color:Tomato\">Learned the basics of error handling while finding common names for U.S. Congress members.<p/>\n",
    "some basic exploration and manipulation with legislators.csv, and laid the groundwork for our \"names project\"."
   ]
  },
  {
   "cell_type": "code",
   "execution_count": 1,
   "metadata": {
    "collapsed": true
   },
   "outputs": [],
   "source": [
    "from IPython.core.interactiveshell import InteractiveShell\n",
    "InteractiveShell.ast_node_interactivity = 'all'"
   ]
  },
  {
   "cell_type": "markdown",
   "metadata": {},
   "source": [
    "#### <p style=\"color:Gray\">Missing Data<p/><hr>\n",
    "working with **legislators.csv** <br/>\n",
    ":which records information on every historical member of the U.S. Conress.\n",
    "\n",
    "some rows contain misiing values for some columns.<br/>\n",
    "\n",
    "> we'll explore some of the errors that occur when we ignore missing values and how to handle them"
   ]
  },
  {
   "cell_type": "markdown",
   "metadata": {},
   "source": [
    "When exploring data, it's often useful to extract the unique elements in a list.<br/>\n",
    "데이터를 탐색 할 때 고유 한 요소를 목록에서 추출하는 것이 유용한 경우가 많습니다. "
   ]
  },
  {
   "cell_type": "markdown",
   "metadata": {},
   "source": [
    "#### <p style=\"color:Gray\">Set<p/><hr>\n",
    "If you add an element to a set that it already contains, the set will ignore it. <br/>\n",
    "The items in a set are unordered, while each item in a list has an index.<br/>\n",
    "Sets don't have indexes, the items in a set may display in a different order each time you print it.<br/>\n",
    "<br/>\n",
    "이미 포함 된 집합에 요소를 추가하면 집합에서이를 무시합니다.<br/>\n",
    "집합의 항목은 정렬되지 않은 반면, 목록의 각 항목에는 색인이 있습니다. Sets에는 인덱스가 없으므로 세트를 인쇄 할 때마다 세트의 항목이 다른 순서로 표시 될 수 있습니다."
   ]
  },
  {
   "cell_type": "code",
   "execution_count": 2,
   "metadata": {},
   "outputs": [
    {
     "data": {
      "text/plain": [
       "['Dog', 'Cat', 'Hippo', 'Dog', 'Cat', 'Dog', 'Dog', 'Cat']"
      ]
     },
     "execution_count": 2,
     "metadata": {},
     "output_type": "execute_result"
    },
    {
     "name": "stdout",
     "output_type": "stream",
     "text": [
      "{'Dog', 'Hippo', 'Cat'}\n"
     ]
    }
   ],
   "source": [
    "[\"Dog\", \"Cat\", \"Hippo\", \"Dog\", \"Cat\", \"Dog\", \"Dog\", \"Cat\"]\n",
    "unique_animals = set([\"Dog\", \"Cat\", \"Hippo\", \"Dog\", \"Cat\", \"Dog\", \"Dog\", \"Cat\"])\n",
    "print(unique_animals)"
   ]
  },
  {
   "cell_type": "code",
   "execution_count": 3,
   "metadata": {},
   "outputs": [
    {
     "name": "stdout",
     "output_type": "stream",
     "text": [
      "{'Tiger', 'Hippo', 'Cat'}\n"
     ]
    },
    {
     "data": {
      "text/plain": [
       "['Tiger', 'Hippo', 'Cat']"
      ]
     },
     "execution_count": 3,
     "metadata": {},
     "output_type": "execute_result"
    }
   ],
   "source": [
    "unique_animals.add('Tiger')\n",
    "unique_animals.remove('Dog')\n",
    "print(unique_animals)\n",
    "list(unique_animals)"
   ]
  },
  {
   "cell_type": "code",
   "execution_count": 4,
   "metadata": {
    "scrolled": true
   },
   "outputs": [
    {
     "data": {
      "text/plain": [
       "[['last_name', 'first_name', 'birthday', 'gender', 'type', 'state', 'party'],\n",
       " ['Bassett', 'Richard', '1745-04-02', 'M', 'sen', 'DE', 'Anti-Administration'],\n",
       " ['Bland', 'Theodorick', '1742-03-21', '', 'rep', 'VA', ''],\n",
       " ['Burke', 'Aedanus', '1743-06-16', '', 'rep', 'SC', ''],\n",
       " ['Carroll', 'Daniel', '1730-07-22', 'M', 'rep', 'MD', ''],\n",
       " ['Clymer', 'George', '1739-03-16', 'M', 'rep', 'PA', ''],\n",
       " ['Contee', 'Benjamin', '', 'M', 'rep', 'MD', ''],\n",
       " ['Dalton', 'Tristram', '1738-05-28', '', 'sen', 'MA', 'Pro-Administration'],\n",
       " ['Elmer', 'Jonathan', '1745-11-29', 'M', 'sen', 'NJ', 'Pro-Administration'],\n",
       " ['Few', 'William', '1748-06-08', 'M', 'sen', 'GA', 'Anti-Administration']]"
      ]
     },
     "execution_count": 4,
     "metadata": {},
     "output_type": "execute_result"
    }
   ],
   "source": [
    "import csv\n",
    "f = open('legislators.csv', 'r')\n",
    "csvreader = csv.reader(f)\n",
    "legi_data = list(csvreader)\n",
    "legi_data[:10]"
   ]
  },
  {
   "cell_type": "code",
   "execution_count": 5,
   "metadata": {
    "collapsed": true
   },
   "outputs": [],
   "source": [
    "class Dataset:\n",
    "    def __init__(self, data):\n",
    "        self.header = data[0]\n",
    "        self.data = data[1:]\n",
    "    def column(self, label):\n",
    "        if label not in self.header:\n",
    "            return None\n",
    "        index = 0\n",
    "        for idx, element in enumerate(self.header):\n",
    "            if label == element:\n",
    "                index = idx\n",
    "        column = []\n",
    "        for row in self.data:\n",
    "            column.append(row[index])\n",
    "        return column\n",
    "    def count_unique(self, label):\n",
    "        unique_results = set(self.column(label))\n",
    "        count = len(unique_results)\n",
    "        return count\n",
    "    def set_column(self, label):\n",
    "        unique_results = set(self.column(label))\n",
    "        return unique_results"
   ]
  },
  {
   "cell_type": "code",
   "execution_count": 6,
   "metadata": {},
   "outputs": [
    {
     "name": "stdout",
     "output_type": "stream",
     "text": [
      "['last_name', 'first_name', 'birthday', 'gender', 'type', 'state', 'party']\n",
      "['M', '', '', 'M', 'M', 'M', '', 'M', 'M', 'M']\n"
     ]
    }
   ],
   "source": [
    "legi_dataset = Dataset(legi_data)\n",
    "header = legi_dataset.header\n",
    "gender = legi_dataset.column('gender')\n",
    "print(header)\n",
    "print(gender[:10])"
   ]
  },
  {
   "cell_type": "code",
   "execution_count": 7,
   "metadata": {},
   "outputs": [
    {
     "name": "stdout",
     "output_type": "stream",
     "text": [
      "{'', 'M', 'F'}\n"
     ]
    }
   ],
   "source": [
    "gender = set(gender)\n",
    "print(gender)"
   ]
  },
  {
   "cell_type": "code",
   "execution_count": 8,
   "metadata": {},
   "outputs": [
    {
     "name": "stdout",
     "output_type": "stream",
     "text": [
      "{'', 'M', 'F'}\n"
     ]
    }
   ],
   "source": [
    "gender_def = legi_dataset.set_column('gender')\n",
    "print(gender_def)"
   ]
  },
  {
   "cell_type": "code",
   "execution_count": 9,
   "metadata": {},
   "outputs": [
    {
     "name": "stdout",
     "output_type": "stream",
     "text": [
      "{'', 'M', 'F'}\n"
     ]
    }
   ],
   "source": [
    "gender = []\n",
    "for item in legi_data[1:]:\n",
    "    gender.append(item[3])\n",
    "    \n",
    "gender = set(gender)\n",
    "print(gender)"
   ]
  },
  {
   "cell_type": "markdown",
   "metadata": {},
   "source": [
    "<p style=\"color:Tomato\">I need to remove null values<p/>\n",
    "<p style=\"color:Gray\">Print out datas and inspect the data<p/><hr>\n",
    "working with **legislators.csv** <br/>\n",
    ":which records information on every historical member of the U.S. Conress.\n",
    "\n",
    "some rows contain misiing values for some columns.<br/>\n",
    "\n",
    "> we'll explore some of the errors that occur when we ignore missing values and how to handle them\n",
    "When you have a fresh dataset, it's always a good idea to look for any patterns.\n",
    "* Missing data\n",
    "    * some files contain empty fields. Others may use a string like N/A to indicate missing values.\n",
    "* Values that don't make intuitive sense\n",
    "    * A legislator with a birhday in 2050, for example, would indicate a problem with the data.\n",
    "* Recurring themes \n",
    "    * One theme in this dataset is that the overwhelming majority of legislators are male.\n",
    "\n",
    "<br/>\n",
    "\n",
    "새로운 데이터 세트를 가지고있을 때는 항상 다음과 같은 패턴을 찾아 보는 것이 좋습니다.\n",
    "* 누락된 데이터\n",
    "    * 일부 파일에는 빈 필드가 있습니다. 다른 사람들은 N / A와 같은 문자열을 사용하여 누락 된 값을 나타낼 수 있습니다.\n",
    "* 직관적으로 이해할 수 없는 가치\n",
    "    * 예를 들어, 2050 년 생일을 가진 입법자는 데이터에 문제가 있음을 나타냅니다.\n",
    "* 되풀이되는 테마\n",
    "    * 이 데이터 세트의 하나의 주제는 압도적으로 다수의 의원이 남성이라는 점입니다. "
   ]
  },
  {
   "cell_type": "code",
   "execution_count": 10,
   "metadata": {},
   "outputs": [
    {
     "name": "stdout",
     "output_type": "stream",
     "text": [
      "['last_name', 'first_name', 'birthday', 'gender', 'type', 'state', 'party']\n"
     ]
    }
   ],
   "source": [
    "header = legi_dataset.header\n",
    "print(header)"
   ]
  },
  {
   "cell_type": "code",
   "execution_count": 11,
   "metadata": {},
   "outputs": [
    {
     "name": "stdout",
     "output_type": "stream",
     "text": [
      "[['Bassett', 'Richard', '1745-04-02', 'M', 'sen', 'DE', 'Anti-Administration'], ['Bland', 'Theodorick', '1742-03-21', '', 'rep', 'VA', ''], ['Burke', 'Aedanus', '1743-06-16', '', 'rep', 'SC', ''], ['Carroll', 'Daniel', '1730-07-22', 'M', 'rep', 'MD', ''], ['Clymer', 'George', '1739-03-16', 'M', 'rep', 'PA', ''], ['Contee', 'Benjamin', '', 'M', 'rep', 'MD', ''], ['Dalton', 'Tristram', '1738-05-28', '', 'sen', 'MA', 'Pro-Administration'], ['Elmer', 'Jonathan', '1745-11-29', 'M', 'sen', 'NJ', 'Pro-Administration'], ['Few', 'William', '1748-06-08', 'M', 'sen', 'GA', 'Anti-Administration'], ['Floyd', 'William', '1734-12-17', 'M', 'rep', 'NY', '']]\n"
     ]
    }
   ],
   "source": [
    "legislators = legi_dataset.data\n",
    "print(legislators[:10])"
   ]
  },
  {
   "cell_type": "code",
   "execution_count": 12,
   "metadata": {},
   "outputs": [
    {
     "name": "stdout",
     "output_type": "stream",
     "text": [
      "{'', 'Democrat', 'American Labor', 'Independent', 'Unconditional Unionist', 'Independent Democrat', 'Anti-Jacksonian', 'Anti Jacksonian', 'Adams', 'Anti-Administration', 'Democratic and Union Labor', 'Progressive Republican', 'Republican', 'Jacksonian', 'Ind. Whig', 'Jackson Republican', 'Union Democrat', 'Readjuster', 'National Greenbacker', 'Prohibitionist', 'Whig', 'Union', 'Conservative Republican', 'Anti Jackson', 'Liberty', 'Silver Republican', 'Socialist', 'Law and Order', 'Conservative', 'Federalist', 'Anti-Lecompton Democrat', 'Populist', 'Anti Masonic', 'Popular Democrat', 'Free Soil', 'Nonpartisan', 'Democrat-Liberal', 'Farmer-Labor', 'States Rights', 'Union Labor', 'Free Silver', 'Coalitionist', 'Constitutional Unionist', 'Ind. Republican', 'Unionist', 'American', 'Republican-Conservative', 'Progressive', 'Nullifier', 'Ind. Democrat', 'Pro-Administration', 'Ind. Republican-Democrat', 'Democratic Republican', 'Jackson', 'Crawford Republican', 'Liberal Republican', 'Readjuster Democrat', 'Adams Democrat', 'Unknown', 'New Progressive'}\n",
      "[['Bassett', 'Richard', '1745-04-02', 'M', 'sen', 'DE', 'Anti-Administration'], ['Bland', 'Theodorick', '1742-03-21', '', 'rep', 'VA', ''], ['Burke', 'Aedanus', '1743-06-16', '', 'rep', 'SC', ''], ['Carroll', 'Daniel', '1730-07-22', 'M', 'rep', 'MD', ''], ['Clymer', 'George', '1739-03-16', 'M', 'rep', 'PA', ''], ['Contee', 'Benjamin', '', 'M', 'rep', 'MD', ''], ['Dalton', 'Tristram', '1738-05-28', '', 'sen', 'MA', 'Pro-Administration'], ['Elmer', 'Jonathan', '1745-11-29', 'M', 'sen', 'NJ', 'Pro-Administration'], ['Few', 'William', '1748-06-08', 'M', 'sen', 'GA', 'Anti-Administration'], ['Floyd', 'William', '1734-12-17', 'M', 'rep', 'NY', '']]\n"
     ]
    }
   ],
   "source": [
    "# Print out party and inspect the values. And print out legislators and inspect the data.\n",
    "party = []\n",
    "for item in legislators:\n",
    "    party.append(item[6])\n",
    "party = set(party)    \n",
    "print(party)\n",
    "print(legislators[:10])\n"
   ]
  },
  {
   "cell_type": "markdown",
   "metadata": {},
   "source": [
    "> gender and party columns contained an **empty string('')**. This indicates that one or more of the rows in the data have missing values in those columns. <br/>\n",
    "Missing values are very common in real world data analysis, since the people compiling the datasets often don't have full information.<br/>\n",
    "<br/>\n",
    "성별 및 파티 열의 집합 표현에 빈 문자열 ( '')이 포함되어 있음을 알았을 수 있습니다. 이는 데이터의 하나 이상의 행에 해당 열에 누락 값이 있음을 나타냅니다. 누락 된 값은 실제 데이터 분석에서 매우 일반적입니다. 데이터 집합을 컴파일하는 사람들이 완전한 정보를 가지고 있지 않기 때문입니다."
   ]
  },
  {
   "cell_type": "markdown",
   "metadata": {},
   "source": [
    "<p style=\"color:Gray\">Strategies to address missing data<p/><hr>\n",
    "you can use one of the following strategies to address missing data.\n",
    "* Remove any rows that contain missing data\n",
    "* populate the empty fields with a specified value.\n",
    "* populate the empty fields with a calculated value.\n",
    "* Use analysis techniques that work with missing data"
   ]
  },
  {
   "cell_type": "code",
   "execution_count": 13,
   "metadata": {
    "collapsed": true
   },
   "outputs": [],
   "source": [
    "# focus on populating empty fields with a specified value\n",
    "rows = [ [\"Bassett\", \"Richard\", \"1745-04-02\", \"M\", \"sen\", \"DE\", \"Anti-Administration\"],\n",
    "    [\"Bland\", \"Theodorick\", \"1742-03-21\", \"\", \"rep\", \"VA\", \"\"]]\n",
    "for row in rows:\n",
    "    if row[6] == \"\":\n",
    "        row[6] = \"No Party\""
   ]
  },
  {
   "cell_type": "code",
   "execution_count": 14,
   "metadata": {},
   "outputs": [
    {
     "name": "stdout",
     "output_type": "stream",
     "text": [
      "['last_name', 'first_name', 'birthday', 'gender', 'type', 'state', 'party']\n"
     ]
    }
   ],
   "source": [
    "print(header)"
   ]
  },
  {
   "cell_type": "code",
   "execution_count": 15,
   "metadata": {
    "collapsed": true
   },
   "outputs": [],
   "source": [
    "# Replace any missing values in the gender column of legislators with the string \"M\"\n",
    "for row in legislators:\n",
    "    if row[3] == \"\":\n",
    "        row[3] = \"M\""
   ]
  },
  {
   "cell_type": "code",
   "execution_count": 16,
   "metadata": {
    "collapsed": true
   },
   "outputs": [],
   "source": [
    "gender = []\n",
    "for item in legislators:\n",
    "    gender.append(item[3])"
   ]
  },
  {
   "cell_type": "code",
   "execution_count": 17,
   "metadata": {},
   "outputs": [
    {
     "name": "stdout",
     "output_type": "stream",
     "text": [
      "{'M', 'F'}\n"
     ]
    }
   ],
   "source": [
    "print(set(gender))"
   ]
  },
  {
   "cell_type": "code",
   "execution_count": 18,
   "metadata": {},
   "outputs": [
    {
     "name": "stdout",
     "output_type": "stream",
     "text": [
      "[['Bassett', 'Richard', '1745-04-02', 'M', 'sen', 'DE', 'Anti-Administration'], ['Bland', 'Theodorick', '1742-03-21', 'M', 'rep', 'VA', ''], ['Burke', 'Aedanus', '1743-06-16', 'M', 'rep', 'SC', ''], ['Carroll', 'Daniel', '1730-07-22', 'M', 'rep', 'MD', ''], ['Clymer', 'George', '1739-03-16', 'M', 'rep', 'PA', ''], ['Contee', 'Benjamin', '', 'M', 'rep', 'MD', ''], ['Dalton', 'Tristram', '1738-05-28', 'M', 'sen', 'MA', 'Pro-Administration'], ['Elmer', 'Jonathan', '1745-11-29', 'M', 'sen', 'NJ', 'Pro-Administration'], ['Few', 'William', '1748-06-08', 'M', 'sen', 'GA', 'Anti-Administration'], ['Floyd', 'William', '1734-12-17', 'M', 'rep', 'NY', ''], ['Gale', 'George', '1756-06-03', 'M', 'rep', 'MD', ''], ['Grayson', 'William', '', 'M', 'sen', 'VA', 'Anti-Administration'], ['Grout', 'Jonathan', '1737-07-23', 'M', 'rep', 'MA', ''], ['Hawkins', 'Benjamin', '1754-08-15', 'M', 'sen', 'NC', 'Pro-Administration'], ['Huntington', 'Benjamin', '1736-04-19', 'M', 'rep', 'CT', ''], ['Izard', 'Ralph', '', 'M', 'sen', 'SC', 'Pro-Administration'], ['Johnson', 'William', '1727-10-07', 'M', 'sen', 'CT', 'Pro-Administration'], ['Johnston', 'Samuel', '1733-12-15', 'M', 'sen', 'NC', 'Pro-Administration'], ['Lee', 'Richard', '1732-01-20', 'M', 'sen', 'VA', 'Anti-Administration'], ['Maclay', 'William', '1737-07-20', 'M', 'sen', 'PA', 'Anti-Administration'], ['Mathews', 'George', '1739-08-30', 'M', 'rep', 'GA', ''], ['Morris', 'Robert', '1734-01-20', 'M', 'sen', 'PA', 'Pro-Administration'], ['Partridge', 'George', '1740-02-08', 'M', 'rep', 'MA', ''], ['Paterson', 'William', '1745-12-24', 'M', 'sen', 'NJ', 'Pro-Administration'], ['Smith', 'William', '1728-04-12', 'M', 'rep', 'MD', ''], ['Stone', 'Michael', '', 'M', 'rep', 'MD', ''], ['Van Rensselaer', 'Jeremiah', '1738-08-27', 'M', 'rep', 'NY', ''], ['Wynkoop', 'Henry', '1737-03-02', 'M', 'rep', 'PA', ''], ['Dickinson', 'Philemon', '1739-04-05', 'M', 'sen', 'NJ', 'Pro-Administration'], ['Walker', 'John', '1744-02-13', 'M', 'sen', 'VA', 'Pro-Administration']]\n"
     ]
    }
   ],
   "source": [
    "print(legislators[:30])"
   ]
  },
  {
   "cell_type": "markdown",
   "metadata": {},
   "source": [
    "<p style=\"color:Gray\">Identify historical naming trends, and explore how popular names have changed form 1820 to today<p/><hr>\n",
    "* looking for the most common names of U.S. legislators\n",
    "* The year of birth\n",
    "\n",
    "> The birthday column has the format 1820-01-02, which is hard to work with.<br/>\n",
    "1. It's common to reformat values to simplify them.<br/>\n",
    "2. split the data into its component parts\n",
    "\n",
    ">생일 형식이 1820-01-02이면 작업하기 어렵습니다. \n",
    "1. 따라서 간단하게 값을 다시 형식화해야 합니다.\n",
    "2. 날짜를 구성요소로 나눕니다."
   ]
  },
  {
   "cell_type": "code",
   "execution_count": 19,
   "metadata": {},
   "outputs": [
    {
     "name": "stdout",
     "output_type": "stream",
     "text": [
      "['last_name', 'first_name', 'birthday', 'gender', 'type', 'state', 'party']\n"
     ]
    }
   ],
   "source": [
    "print(header)"
   ]
  },
  {
   "cell_type": "code",
   "execution_count": 20,
   "metadata": {},
   "outputs": [
    {
     "name": "stdout",
     "output_type": "stream",
     "text": [
      "['1820', '01', '02']\n"
     ]
    }
   ],
   "source": [
    "date = \"1820-01-02\"\n",
    "parts = date.split(\"-\")\n",
    "print(parts)"
   ]
  },
  {
   "cell_type": "code",
   "execution_count": 21,
   "metadata": {},
   "outputs": [
    {
     "name": "stdout",
     "output_type": "stream",
     "text": [
      "['1745', '1742', '1743', '1730', '1739', '', '1738', '1745', '1748', '1734']\n"
     ]
    }
   ],
   "source": [
    "birth_years = []\n",
    "for item in legislators:\n",
    "    parts = item[2].split('-')\n",
    "    # print(parts[0])\n",
    "    birth_years.append(parts[0])\n",
    "print(birth_years[:10])"
   ]
  },
  {
   "cell_type": "markdown",
   "metadata": {},
   "source": [
    "* Converting a column to a different data type is a common operation in data analysis."
   ]
  },
  {
   "cell_type": "markdown",
   "metadata": {},
   "source": [
    "<p style=\"color:Gray\">string form -> integers<p/><hr>\n",
    "* date data\n",
    "* To find the average year in which legislators born\n",
    "* convert the data to integers\n",
    "* int() function\n",
    "> we just extracted the year on the previous screen, but it's in string form. To find the average year in which legislators were born, we'll need to convert the data to integers first. We can perform this conversion with the int() function. \n",
    "    1. handle the missing value - an empty string can't be converted to an integer.\n",
    "    2. "
   ]
  },
  {
   "cell_type": "markdown",
   "metadata": {},
   "source": [
    "#### <p style=\"color:Tomato\">Try/except<p/>\n",
    "<p style=\"color:Gray\">We can Manage errors with something known as a try/except block<p/><hr>\n",
    "\n",
    "> Not all errors should halt execution, thogh. Sometimes we expect **a certain type of errors**, and want to handle it in a specific way that allows the code to complete.<br/>\n",
    "If you surround the code that causes an error with a try/except block, the error will be handled, and the code will continue to run.\n",
    "\n",
    "> 모든 오류가 실행을 중단해야하는 것은 아닙니다. 때로는 특정 유형의 오류가 예상되며 코드를 완료 할 수있는 특정 방식으로 처리하려고합니다.  try / except 블록에서 오류를 일으키는 코드를 둘러싸면 오류가 처리되고 코드가 계속 실행됩니다."
   ]
  },
  {
   "cell_type": "code",
   "execution_count": 22,
   "metadata": {},
   "outputs": [
    {
     "data": {
      "text/plain": [
       "1"
      ]
     },
     "execution_count": 22,
     "metadata": {},
     "output_type": "execute_result"
    }
   ],
   "source": [
    "try:\n",
    "    int('1')\n",
    "except Exception:\n",
    "    print(\"There was an error\")"
   ]
  },
  {
   "cell_type": "code",
   "execution_count": 23,
   "metadata": {},
   "outputs": [
    {
     "name": "stdout",
     "output_type": "stream",
     "text": [
      "There was an error\n"
     ]
    }
   ],
   "source": [
    "try:\n",
    "    int('I am not a int')\n",
    "except Exception:\n",
    "    print(\"There was an error\")"
   ]
  },
  {
   "cell_type": "code",
   "execution_count": 24,
   "metadata": {},
   "outputs": [
    {
     "ename": "ValueError",
     "evalue": "could not convert string to float: 'hello'",
     "output_type": "error",
     "traceback": [
      "\u001b[1;31m---------------------------------------------------------------------------\u001b[0m",
      "\u001b[1;31mValueError\u001b[0m                                Traceback (most recent call last)",
      "\u001b[1;32m<ipython-input-24-00404d0bcc16>\u001b[0m in \u001b[0;36m<module>\u001b[1;34m()\u001b[0m\n\u001b[1;32m----> 1\u001b[1;33m \u001b[0mstring\u001b[0m \u001b[1;33m=\u001b[0m \u001b[0mfloat\u001b[0m\u001b[1;33m(\u001b[0m\u001b[1;34m'hello'\u001b[0m\u001b[1;33m)\u001b[0m\u001b[1;33m\u001b[0m\u001b[0m\n\u001b[0m",
      "\u001b[1;31mValueError\u001b[0m: could not convert string to float: 'hello'"
     ]
    }
   ],
   "source": [
    "string = float('hello')"
   ]
  },
  {
   "cell_type": "code",
   "execution_count": 25,
   "metadata": {},
   "outputs": [
    {
     "name": "stdout",
     "output_type": "stream",
     "text": [
      "Error converting to float.\n"
     ]
    }
   ],
   "source": [
    "try:\n",
    "    float(\"hello\")\n",
    "except Exception:\n",
    "    print(\"Error converting to float.\")"
   ]
  },
  {
   "cell_type": "markdown",
   "metadata": {},
   "source": [
    "> try/eception\n",
    "1. The python interpreter will try to run int(''), and generate a ValueError.\n",
    "2. Instead of stopping the code from executing, it will be handled by the except statement, which will print the message \"There was an error\"\n",
    "3. Python interpreter will countinue to run any lines of code that come after the cxcpt statment. \n",
    "\n",
    "> try/eception\n",
    "1. 파이썬 인터프리터는 int()를 실행하고 ValueError를 나타내려고 한다.\n",
    "2. 코드는 계속 실행되고, except문에 의해 처리된다. 오류 발생의 메세지를 출력한다.  \n",
    "3. except문 다음에 나오는 코드를 계속 실행한다. "
   ]
  },
  {
   "cell_type": "markdown",
   "metadata": {},
   "source": [
    "<p style=\"color:Gray\">Exception class<p/><hr>\n",
    "When the Python interpreter generates an exception, it actually creates an instance of the Exception class.\n",
    "* Has certain properties that help us **debug the error**\n",
    "* Access the instance of the Exception class in the except statement body.<br/>\n",
    "<br/>\n",
    "\n",
    "파이썬 인터프리터가 예외를 생성 할 때 실제로 Exception 클래스의 인스턴스를 생성합니다.\n",
    "* 오류를 디버그하는데 유용한 특정 속성을 가지고 있습니다. \n",
    "* except문의 본문에서 Exception 클래스의 인스턴스에 접근할 수 있습니다. "
   ]
  },
  {
   "cell_type": "code",
   "execution_count": 26,
   "metadata": {},
   "outputs": [
    {
     "name": "stdout",
     "output_type": "stream",
     "text": [
      "<class 'ValueError'>\n"
     ]
    }
   ],
   "source": [
    "try:\n",
    "    int('')\n",
    "except Exception as exc:\n",
    "    print(type(exc)) # we can then access the vaiable in the except statement body."
   ]
  },
  {
   "cell_type": "code",
   "execution_count": 27,
   "metadata": {},
   "outputs": [
    {
     "name": "stdout",
     "output_type": "stream",
     "text": [
      "invalid literal for int() with base 10: ''\n"
     ]
    }
   ],
   "source": [
    "try:\n",
    "    int('')\n",
    "except Exception as exc:\n",
    "    print(str(exc))"
   ]
  },
  {
   "cell_type": "code",
   "execution_count": 28,
   "metadata": {},
   "outputs": [
    {
     "name": "stdout",
     "output_type": "stream",
     "text": [
      "<class 'ValueError'>\n",
      "invalid literal for int() with base 10: ''\n"
     ]
    }
   ],
   "source": [
    "try:\n",
    "    int('')\n",
    "except Exception as exc:\n",
    "    print(type(exc)) # Print the type of the Exception instance.\n",
    "    print(str(exc)) # Convert the Exception instance to a string and print it out."
   ]
  },
  {
   "cell_type": "code",
   "execution_count": 29,
   "metadata": {},
   "outputs": [
    {
     "name": "stdout",
     "output_type": "stream",
     "text": [
      "There was an error\n",
      "There was an error\n",
      "There was an error\n",
      "There was an error\n",
      "There was an error\n",
      "There was an error\n",
      "There was an error\n",
      "There was an error\n",
      "There was an error\n",
      "There was an error\n"
     ]
    }
   ],
   "source": [
    "numbers = [1, 2, 3, 4, 5, 6, 7, 8, 9, 10]\n",
    "for i in numbers:\n",
    "    try:\n",
    "        int('')\n",
    "    except Exception:\n",
    "        print(\"There was an error\")"
   ]
  },
  {
   "cell_type": "markdown",
   "metadata": {},
   "source": [
    "<p style=\"color:Gray\">Pass<p/><hr>\n",
    "However, there are times when we don't want to do anything specific to handle eroors; we just want the code to keep running. <br/>\n",
    "While the pass keyword doesn't actually do anything, it's a valid statement body. <br/>\n",
    "<br/>\n",
    "그러나 오류를 처리하기 위해 특정 작업을 수행하고 싶지 않은 경우가 있습니다. 코드를 계속 실행하기 만하면됩니다. pass 키워드는 실제로 아무 것도하지 않지만 유효한 문 본문입니다. "
   ]
  },
  {
   "cell_type": "code",
   "execution_count": 30,
   "metadata": {
    "collapsed": true
   },
   "outputs": [],
   "source": [
    "numbers = [1, 2, 3, 4, 5, 6, 7, 8, 9, 10]\n",
    "for i in numbers:\n",
    "    try:\n",
    "        int('')\n",
    "    except Exception:\n",
    "        pass"
   ]
  },
  {
   "cell_type": "code",
   "execution_count": 31,
   "metadata": {
    "collapsed": true
   },
   "outputs": [],
   "source": [
    "converted_years = []\n",
    "for year in birth_years:\n",
    "    try:\n",
    "        year = int(year)\n",
    "    except Exception:\n",
    "        pass\n",
    "    converted_years.append(year)"
   ]
  },
  {
   "cell_type": "markdown",
   "metadata": {},
   "source": [
    "<p style=\"color:Gray\">Convert all of the birth years in legislators to integers<p/><hr>\n",
    "* To change the items in a list of lists.\n",
    "* Need to loop over the top-level list(items)\n",
    "* Convert all of the values in the second column of items to integers.\n",
    "<br/>\n",
    "<br/>\n",
    "* 목록안의 목록의 항목을 변경합니다.\n",
    "* 최상위 목록이 필요\n",
    "* 항목의 두 번째 열에있는 모든 값을 정수로 변환"
   ]
  },
  {
   "cell_type": "code",
   "execution_count": 32,
   "metadata": {},
   "outputs": [
    {
     "ename": "ValueError",
     "evalue": "invalid literal for int() with base 10: ''",
     "output_type": "error",
     "traceback": [
      "\u001b[1;31m---------------------------------------------------------------------------\u001b[0m",
      "\u001b[1;31mValueError\u001b[0m                                Traceback (most recent call last)",
      "\u001b[1;32m<ipython-input-32-1e495fda2545>\u001b[0m in \u001b[0;36m<module>\u001b[1;34m()\u001b[0m\n\u001b[0;32m      6\u001b[0m \u001b[1;33m\u001b[0m\u001b[0m\n\u001b[0;32m      7\u001b[0m \u001b[1;32mfor\u001b[0m \u001b[0mitem\u001b[0m \u001b[1;32min\u001b[0m \u001b[0mitems\u001b[0m\u001b[1;33m:\u001b[0m\u001b[1;33m\u001b[0m\u001b[0m\n\u001b[1;32m----> 8\u001b[1;33m     \u001b[0mitem\u001b[0m\u001b[1;33m[\u001b[0m\u001b[1;36m1\u001b[0m\u001b[1;33m]\u001b[0m \u001b[1;33m=\u001b[0m \u001b[0mint\u001b[0m\u001b[1;33m(\u001b[0m\u001b[0mitem\u001b[0m\u001b[1;33m[\u001b[0m\u001b[1;36m1\u001b[0m\u001b[1;33m]\u001b[0m\u001b[1;33m)\u001b[0m\u001b[1;33m\u001b[0m\u001b[0m\n\u001b[0m",
      "\u001b[1;31mValueError\u001b[0m: invalid literal for int() with base 10: ''"
     ]
    }
   ],
   "source": [
    "items = [          \n",
    "        [1, \"1\", 2],    \n",
    "        [2, \"\", 3],\n",
    "        [5, \"5\", 3]\n",
    "        ]\n",
    "\n",
    "for item in items:\n",
    "    item[1] = int(item[1])"
   ]
  },
  {
   "cell_type": "code",
   "execution_count": 33,
   "metadata": {},
   "outputs": [
    {
     "data": {
      "text/plain": [
       "['last_name', 'first_name', 'birthday', 'gender', 'type', 'state', 'party']"
      ]
     },
     "execution_count": 33,
     "metadata": {},
     "output_type": "execute_result"
    }
   ],
   "source": [
    "legi_dataset.header\n",
    "checking_birthday = legi_dataset.column('birthday') # year-month-day"
   ]
  },
  {
   "cell_type": "code",
   "execution_count": 34,
   "metadata": {
    "collapsed": true
   },
   "outputs": [],
   "source": [
    "for row in legislators:\n",
    "    birthday = row[2]\n",
    "    birth_year = birthday.split(\"-\")[0] # birth_year = row[2].split(\"-\")[0]\n",
    "    try:\n",
    "        birth_year = int(birth_year)\n",
    "    except Exception:\n",
    "        birth_year = 0\n",
    "    row.append(birth_year)"
   ]
  },
  {
   "cell_type": "code",
   "execution_count": 35,
   "metadata": {
    "scrolled": true
   },
   "outputs": [
    {
     "name": "stdout",
     "output_type": "stream",
     "text": [
      "[['Bassett', 'Richard', '1745-04-02', 'M', 'sen', 'DE', 'Anti-Administration', 1745], ['Bland', 'Theodorick', '1742-03-21', 'M', 'rep', 'VA', '', 1742], ['Burke', 'Aedanus', '1743-06-16', 'M', 'rep', 'SC', '', 1743], ['Carroll', 'Daniel', '1730-07-22', 'M', 'rep', 'MD', '', 1730], ['Clymer', 'George', '1739-03-16', 'M', 'rep', 'PA', '', 1739], ['Contee', 'Benjamin', '', 'M', 'rep', 'MD', '', 0], ['Dalton', 'Tristram', '1738-05-28', 'M', 'sen', 'MA', 'Pro-Administration', 1738], ['Elmer', 'Jonathan', '1745-11-29', 'M', 'sen', 'NJ', 'Pro-Administration', 1745], ['Few', 'William', '1748-06-08', 'M', 'sen', 'GA', 'Anti-Administration', 1748], ['Floyd', 'William', '1734-12-17', 'M', 'rep', 'NY', '', 1734]]\n"
     ]
    }
   ],
   "source": [
    "print(legislators[:10])"
   ]
  },
  {
   "cell_type": "markdown",
   "metadata": {},
   "source": [
    "<p style=\"color:Gray\">Using Chronological order situation<p/><hr>\n",
    ">While exploring the dataset, you may have noticed that the legislators appear in roughly chronological order. \n",
    "<br/>\n",
    "\n",
    "* The values generally **appear in chronological order**, we can loop through each year and replace any 0 values with the values from **the previous rows**\n",
    "* By doing this, we'll make sure each legislator without a birth year is assigned one that's relatively close to the actual date.\n",
    "<br/>\n",
    "<br/>\n",
    "* 값은 일반적으로 시간순을 표시되기 때문에 각 연도마다 loop를 돌리고 0값을 이전 행의 값으로 바꿀 수 있습니다. \n",
    "* 이렇게 함으로써 출생년도가 없는 의원에게 실제 날짜와 비교적 가깝게 값을 대입할 수 있습니다. "
   ]
  },
  {
   "cell_type": "markdown",
   "metadata": {},
   "source": [
    "1. We finished parsing the birth years to integers\n",
    "2. we have several birth years with the value 0 \n",
    "3. we replaced missing values with a fixed value M.\n",
    "4. Using Chronological order Situation, to assign the value. \n",
    "\n",
    "<br/>\n",
    "\n",
    "* 우리는 출생 년도를 정수로 파싱을 마쳤습니다.\n",
    "* 0의 값을 몇 개 가지고 있습니다. \n",
    "* 누락된 값을 고정 값 M으로 바꾸었습니다. \n",
    "* 시간순으로 나타나는 데이터의 상황을 이용해서 0값에 적절한 값들을 대입시킬 수 있습니다. "
   ]
  },
  {
   "cell_type": "markdown",
   "metadata": {},
   "source": [
    "### <p style=\"color:Tomato\">★<p/>"
   ]
  },
  {
   "cell_type": "code",
   "execution_count": 36,
   "metadata": {},
   "outputs": [],
   "source": [
    "last_value = 1\n",
    "for row in legislators:\n",
    "    # print(row[7])\n",
    "    # print(\"last_value:\")\n",
    "    # print(last_value)\n",
    "    if row[7] == 0:\n",
    "        row[7] = last_value\n",
    "    last_value = row[7]"
   ]
  },
  {
   "cell_type": "code",
   "execution_count": 37,
   "metadata": {},
   "outputs": [
    {
     "data": {
      "text/plain": [
       "1963"
      ]
     },
     "execution_count": 37,
     "metadata": {},
     "output_type": "execute_result"
    }
   ],
   "source": [
    "last_value"
   ]
  },
  {
   "cell_type": "code",
   "execution_count": 38,
   "metadata": {},
   "outputs": [
    {
     "data": {
      "text/plain": [
       "['last_name', 'first_name', 'birthday', 'gender', 'type', 'state', 'party']"
      ]
     },
     "execution_count": 38,
     "metadata": {},
     "output_type": "execute_result"
    }
   ],
   "source": [
    "legi_dataset.header"
   ]
  },
  {
   "cell_type": "markdown",
   "metadata": {},
   "source": [
    "[['Bassett', 'Richard', '1745-04-02', 'M', 'sen', 'DE', 'Anti-Administration', 1745], ['Bland', 'Theodorick', '1742-03-21', 'M', 'rep', 'VA', '', 1742], ['Burke', 'Aedanus', '1743-06-16', 'M', 'rep', 'SC', '', 1743], ['Carroll', 'Daniel', '1730-07-22', 'M', 'rep', 'MD', '', 1730], ['Clymer', 'George', '1739-03-16', 'M', 'rep', 'PA', '', 1739], ['Contee', 'Benjamin', '', 'M', 'rep', 'MD', '', <span style=\"color:Red\">0</span>], ['Dalton', 'Tristram', '1738-05-28', 'M', 'sen', 'MA', 'Pro-Administration', 1738], ['Elmer', 'Jonathan', '1745-11-29', 'M', 'sen', 'NJ', 'Pro-Administration', 1745], ['Few', 'William', '1748-06-08', 'M', 'sen', 'GA', 'Anti-Administration', 1748], ['Floyd', 'William', '1734-12-17', 'M', 'rep', 'NY', '', 1734]]"
   ]
  },
  {
   "cell_type": "code",
   "execution_count": 39,
   "metadata": {
    "scrolled": true
   },
   "outputs": [
    {
     "name": "stdout",
     "output_type": "stream",
     "text": [
      "[['Bassett', 'Richard', '1745-04-02', 'M', 'sen', 'DE', 'Anti-Administration', 1745], ['Bland', 'Theodorick', '1742-03-21', 'M', 'rep', 'VA', '', 1742], ['Burke', 'Aedanus', '1743-06-16', 'M', 'rep', 'SC', '', 1743], ['Carroll', 'Daniel', '1730-07-22', 'M', 'rep', 'MD', '', 1730], ['Clymer', 'George', '1739-03-16', 'M', 'rep', 'PA', '', 1739], ['Contee', 'Benjamin', '', 'M', 'rep', 'MD', '', 1739], ['Dalton', 'Tristram', '1738-05-28', 'M', 'sen', 'MA', 'Pro-Administration', 1738], ['Elmer', 'Jonathan', '1745-11-29', 'M', 'sen', 'NJ', 'Pro-Administration', 1745], ['Few', 'William', '1748-06-08', 'M', 'sen', 'GA', 'Anti-Administration', 1748], ['Floyd', 'William', '1734-12-17', 'M', 'rep', 'NY', '', 1734]]\n"
     ]
    }
   ],
   "source": [
    "print(legislators[:10])"
   ]
  },
  {
   "cell_type": "code",
   "execution_count": 40,
   "metadata": {
    "collapsed": true
   },
   "outputs": [],
   "source": [
    "for row in legislators:\n",
    "    if row[6] == \"\":\n",
    "        row[6] = \"No Party\""
   ]
  },
  {
   "cell_type": "code",
   "execution_count": 41,
   "metadata": {},
   "outputs": [
    {
     "name": "stdout",
     "output_type": "stream",
     "text": [
      "[['Bassett', 'Richard', '1745-04-02', 'M', 'sen', 'DE', 'Anti-Administration', 1745], ['Bland', 'Theodorick', '1742-03-21', 'M', 'rep', 'VA', 'No Party', 1742], ['Burke', 'Aedanus', '1743-06-16', 'M', 'rep', 'SC', 'No Party', 1743], ['Carroll', 'Daniel', '1730-07-22', 'M', 'rep', 'MD', 'No Party', 1730], ['Clymer', 'George', '1739-03-16', 'M', 'rep', 'PA', 'No Party', 1739], ['Contee', 'Benjamin', '', 'M', 'rep', 'MD', 'No Party', 1739], ['Dalton', 'Tristram', '1738-05-28', 'M', 'sen', 'MA', 'Pro-Administration', 1738], ['Elmer', 'Jonathan', '1745-11-29', 'M', 'sen', 'NJ', 'Pro-Administration', 1745], ['Few', 'William', '1748-06-08', 'M', 'sen', 'GA', 'Anti-Administration', 1748], ['Floyd', 'William', '1734-12-17', 'M', 'rep', 'NY', 'No Party', 1734]]\n"
     ]
    }
   ],
   "source": [
    "print(legislators[:10])"
   ]
  },
  {
   "cell_type": "markdown",
   "metadata": {},
   "source": [
    "# # List Comprehensions\n",
    "### <p style=\"color:Tomato\">Learn about list comprehensions and the None type while finding common names for U.S. legislators.<p/>"
   ]
  },
  {
   "cell_type": "code",
   "execution_count": 42,
   "metadata": {},
   "outputs": [
    {
     "name": "stdout",
     "output_type": "stream",
     "text": [
      "Animal\n",
      "Dog\n",
      "Viciousness\n",
      "Animal\n",
      "Tiger\n",
      "Viciousness\n",
      "Animal\n",
      "SuperLion\n",
      "Viciousness\n",
      "Animal\n",
      "Cow\n",
      "Viciousness\n",
      "Animal\n",
      "Panda\n",
      "Viciousness\n"
     ]
    }
   ],
   "source": [
    "animals = [\"Dog\", \"Tiger\", \"SuperLion\", \"Cow\", \"Panda\"]\n",
    "viciousness = [1, 5, 10, 10, 1]\n",
    "for animal in animals:\n",
    "    print(\"Animal\")\n",
    "    print(animal)\n",
    "    print(\"Viciousness\")"
   ]
  },
  {
   "cell_type": "code",
   "execution_count": 43,
   "metadata": {},
   "outputs": [
    {
     "name": "stdout",
     "output_type": "stream",
     "text": [
      "Animal Index\n",
      "0\n",
      "Animal\n",
      "Dog\n",
      "Animal Index\n",
      "1\n",
      "Animal\n",
      "Tiger\n",
      "Animal Index\n",
      "2\n",
      "Animal\n",
      "SuperLion\n",
      "Animal Index\n",
      "3\n",
      "Animal\n",
      "Cow\n",
      "Animal Index\n",
      "4\n",
      "Animal\n",
      "Panda\n"
     ]
    }
   ],
   "source": [
    "for i, animal in enumerate(animals):\n",
    "    print(\"Animal Index\")\n",
    "    print(i)\n",
    "    print(\"Animal\")\n",
    "    print(animal)"
   ]
  },
  {
   "cell_type": "code",
   "execution_count": 44,
   "metadata": {},
   "outputs": [
    {
     "name": "stdout",
     "output_type": "stream",
     "text": [
      "Animal\n",
      "Dog\n",
      "Viciousness\n",
      "1\n",
      "Animal\n",
      "Tiger\n",
      "Viciousness\n",
      "5\n",
      "Animal\n",
      "SuperLion\n",
      "Viciousness\n",
      "10\n",
      "Animal\n",
      "Cow\n",
      "Viciousness\n",
      "10\n",
      "Animal\n",
      "Panda\n",
      "Viciousness\n",
      "1\n"
     ]
    }
   ],
   "source": [
    "animals = [\"Dog\", \"Tiger\", \"SuperLion\", \"Cow\", \"Panda\"]\n",
    "viciousness = [1, 5, 10, 10, 1]\n",
    "\n",
    "for i, animal in enumerate(animals):\n",
    "    print(\"Animal\")\n",
    "    print(animal)\n",
    "    print(\"Viciousness\")\n",
    "    print(viciousness[i])"
   ]
  },
  {
   "cell_type": "code",
   "execution_count": null,
   "metadata": {
    "collapsed": true
   },
   "outputs": [],
   "source": []
  }
 ],
 "metadata": {
  "kernelspec": {
   "display_name": "Python 3",
   "language": "python",
   "name": "python3"
  },
  "language_info": {
   "codemirror_mode": {
    "name": "ipython",
    "version": 3
   },
   "file_extension": ".py",
   "mimetype": "text/x-python",
   "name": "python",
   "nbconvert_exporter": "python",
   "pygments_lexer": "ipython3",
   "version": "3.6.1"
  }
 },
 "nbformat": 4,
 "nbformat_minor": 2
}
