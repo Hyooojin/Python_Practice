{
 "cells": [
  {
   "cell_type": "markdown",
   "metadata": {},
   "source": [
    "# # Getting Started with Numpy\n",
    "### <p style=\"color:Tomato\">Learn the basics of Numpy while working with alcohol consumption data<p/>\n",
    "\n",
    "#### <p style=\"color:Gray\">world_alcohol.csv<p/>\n",
    "* a comma separated value dataset\n",
    "* specify the delimiter using the delimiter parameter"
   ]
  },
  {
   "cell_type": "code",
   "execution_count": 1,
   "metadata": {
    "collapsed": true
   },
   "outputs": [],
   "source": [
    "from IPython.core.interactiveshell import InteractiveShell\n",
    "InteractiveShell.ast_node_interactivity = 'all'"
   ]
  },
  {
   "cell_type": "code",
   "execution_count": 2,
   "metadata": {
    "collapsed": true
   },
   "outputs": [],
   "source": [
    "import numpy as np"
   ]
  },
  {
   "cell_type": "code",
   "execution_count": 3,
   "metadata": {},
   "outputs": [
    {
     "data": {
      "text/plain": [
       "array([ 5, 10, 15, 20])"
      ]
     },
     "execution_count": 3,
     "metadata": {},
     "output_type": "execute_result"
    },
    {
     "data": {
      "text/plain": [
       "array([[ 5, 10, 15],\n",
       "       [20, 25, 30],\n",
       "       [35, 40, 45]])"
      ]
     },
     "execution_count": 3,
     "metadata": {},
     "output_type": "execute_result"
    }
   ],
   "source": [
    "vector = np.array([5, 10, 15, 20])\n",
    "vector\n",
    "matrix = np.array([[5, 10, 15], [20, 25, 30], [35, 40, 45]])\n",
    "matrix"
   ]
  },
  {
   "cell_type": "code",
   "execution_count": 4,
   "metadata": {},
   "outputs": [
    {
     "data": {
      "text/plain": [
       "array([10, 20, 30])"
      ]
     },
     "execution_count": 4,
     "metadata": {},
     "output_type": "execute_result"
    }
   ],
   "source": [
    "vector = np.array([10, 20, 30])\n",
    "vector\n",
    "matrix = np.array([[5, 10, 15], [20, 25, 30], [35, 40, 45]])"
   ]
  },
  {
   "cell_type": "markdown",
   "metadata": {},
   "source": [
    "#### <p style=\"color:Gray\">ndarray.shape<p/><hr>\n",
    "To figure out how many elements are in the array."
   ]
  },
  {
   "cell_type": "code",
   "execution_count": 5,
   "metadata": {},
   "outputs": [
    {
     "name": "stdout",
     "output_type": "stream",
     "text": [
      "(4,)\n"
     ]
    }
   ],
   "source": [
    "vector = np.array([1, 2, 3, 4])\n",
    "print(vector.shape)"
   ]
  },
  {
   "cell_type": "markdown",
   "metadata": {},
   "source": [
    "> This tuple indicates that the array vector has one dimension, with length 4, which matches our intuition that vector has 4 elements."
   ]
  },
  {
   "cell_type": "code",
   "execution_count": 6,
   "metadata": {},
   "outputs": [
    {
     "name": "stdout",
     "output_type": "stream",
     "text": [
      "(2, 3)\n"
     ]
    }
   ],
   "source": [
    "matrix = np.array([[5, 10, 15], [20, 25, 30]])\n",
    "print(matrix.shape)"
   ]
  },
  {
   "cell_type": "markdown",
   "metadata": {},
   "source": [
    "> The above code will result in the tuple (2,3) indicating that matrix has 2 rows and 3 columns."
   ]
  },
  {
   "cell_type": "code",
   "execution_count": 7,
   "metadata": {},
   "outputs": [
    {
     "name": "stdout",
     "output_type": "stream",
     "text": [
      "(4,)\n",
      "(2, 3)\n"
     ]
    }
   ],
   "source": [
    "vector_shape = vector.shape\n",
    "matrix_shape = matrix.shape\n",
    "print(vector_shape)\n",
    "print(matrix_shape)"
   ]
  },
  {
   "cell_type": "markdown",
   "metadata": {},
   "source": [
    "#### <p style=\"color:Gray\">numpy.genfromtxt()<p/><hr>\n",
    "Read in datasets.<br/>\n"
   ]
  },
  {
   "cell_type": "code",
   "execution_count": 8,
   "metadata": {},
   "outputs": [
    {
     "name": "stdout",
     "output_type": "stream",
     "text": [
      "[[             nan              nan              nan              nan]\n",
      " [  2.00900000e+03   1.00000000e+00              nan              nan]\n",
      " [  2.00900000e+03   1.00000000e+00              nan              nan]\n",
      " [  2.00900000e+03   1.00000000e+00              nan              nan]\n",
      " [  2.00900000e+03   1.00000000e+00              nan              nan]\n",
      " [  2.00900000e+03   1.00000000e+00              nan              nan]\n",
      " [  2.00900000e+03   1.00000000e+00              nan              nan]\n",
      " [  2.00900000e+03   1.00000000e+00              nan              nan]\n",
      " [  2.00900000e+03   1.00000000e+00              nan              nan]\n",
      " [  2.00900000e+03   1.00000000e+00              nan              nan]]\n"
     ]
    }
   ],
   "source": [
    "nfl = np.genfromtxt(\"nfl.csv\", delimiter=\",\")\n",
    "print(nfl[:10])"
   ]
  },
  {
   "cell_type": "code",
   "execution_count": 9,
   "metadata": {},
   "outputs": [
    {
     "name": "stdout",
     "output_type": "stream",
     "text": [
      "<class 'numpy.ndarray'>\n",
      "[[             nan              nan              nan              nan\n",
      "               nan]\n",
      " [  1.98600000e+03              nan              nan              nan\n",
      "    0.00000000e+00]\n",
      " [  1.98600000e+03              nan              nan              nan\n",
      "    5.00000000e-01]\n",
      " [  1.98500000e+03              nan              nan              nan\n",
      "    1.62000000e+00]\n",
      " [  1.98600000e+03              nan              nan              nan\n",
      "    4.27000000e+00]\n",
      " [  1.98700000e+03              nan              nan              nan\n",
      "    1.98000000e+00]\n",
      " [  1.98700000e+03              nan              nan              nan\n",
      "    0.00000000e+00]\n",
      " [  1.98700000e+03              nan              nan              nan\n",
      "    1.30000000e-01]\n",
      " [  1.98500000e+03              nan              nan              nan\n",
      "    3.90000000e-01]\n",
      " [  1.98600000e+03              nan              nan              nan\n",
      "    1.55000000e+00]]\n"
     ]
    }
   ],
   "source": [
    "world_alcohol = np.genfromtxt('world_alcohol.csv', delimiter=\",\")\n",
    "print(type(world_alcohol))\n",
    "print(world_alcohol[:10])"
   ]
  },
  {
   "cell_type": "markdown",
   "metadata": {},
   "source": [
    "#### <p style=\"color:Gray\">dtype<p/><hr>\n",
    "Numpy will automatically figure out an appropriate data type when reading in data of converting lists to arrays. Check the data type of a Numpy array<br/>\n",
    "\n",
    "NumPy는 데이터를 읽거나 목록을 배열로 변환 할 때 자동으로 적절한 데이터 유형을 찾습니다. dtype 속성을 사용하여 NumPy 배열의 데이터 유형을 확인할 수 있습니다."
   ]
  },
  {
   "cell_type": "code",
   "execution_count": 10,
   "metadata": {},
   "outputs": [
    {
     "data": {
      "text/plain": [
       "dtype('int32')"
      ]
     },
     "execution_count": 10,
     "metadata": {},
     "output_type": "execute_result"
    }
   ],
   "source": [
    "numbers = np.array([1, 2, 3, 4])\n",
    "numbers.dtype"
   ]
  },
  {
   "cell_type": "code",
   "execution_count": 11,
   "metadata": {},
   "outputs": [
    {
     "data": {
      "text/plain": [
       "dtype('float64')"
      ]
     },
     "execution_count": 11,
     "metadata": {},
     "output_type": "execute_result"
    }
   ],
   "source": [
    "world_alcohol_dtype = world_alcohol.dtype\n",
    "world_alcohol_dtype"
   ]
  },
  {
   "cell_type": "markdown",
   "metadata": {},
   "source": [
    "### <p style=\"color:Tomato\">How to deal with missing data<p/>\n",
    "#### <p style=\"color:Gray\">Nan<p/><hr>\n",
    "Which stands for \"Not a number\", is a data type used to represent missing values.<br/>\n",
    "NumPy can't convert a value to a numeric data type like float or integer, it uses a special nan value that stands for \"not a number\".<br/>\n",
    "When NumPy can't convert a value to a numeric data type like float or integer, it uses a special nan value that stands for \"not a number\".\n",
    "* header\n",
    "#### <p style=\"color:Gray\">skip_header<p/><hr>\n",
    "> To skep the header when reading in the data, we use the skip_header parameter. The skip_header parameter accepts an integer value, specifying the number of lines from the top of the file we want Numpy to ignore. \n",
    "\n",
    "<br/>\n",
    "\n",
    "\n",
    "* To specify the data type for the entire Numpy array, we use the keyword argument dtype and set it to \"U75\".\n",
    "* This specifies that we want to read in each value as a 75 byte unicode data type.\n"
   ]
  },
  {
   "cell_type": "code",
   "execution_count": 13,
   "metadata": {},
   "outputs": [],
   "source": [
    "world_alcohol = np.genfromtxt(\n",
    "    'world_alcohol.csv', \n",
    "    dtype='U75', \n",
    "    delimiter=',',\n",
    "    skip_header=1)"
   ]
  },
  {
   "cell_type": "code",
   "execution_count": 14,
   "metadata": {},
   "outputs": [
    {
     "name": "stdout",
     "output_type": "stream",
     "text": [
      "[['1986' 'Western Pacific' 'Viet Nam' 'Wine' '0']\n",
      " ['1986' 'Americas' 'Uruguay' 'Other' '0.5']\n",
      " ['1985' 'Africa' \"Cte d'Ivoire\" 'Wine' '1.62']\n",
      " ..., \n",
      " ['1986' 'Europe' 'Switzerland' 'Spirits' '2.54']\n",
      " ['1987' 'Western Pacific' 'Papua New Guinea' 'Other' '0']\n",
      " ['1986' 'Africa' 'Swaziland' 'Other' '5.15']]\n"
     ]
    }
   ],
   "source": [
    "print(world_alcohol)"
   ]
  },
  {
   "cell_type": "code",
   "execution_count": null,
   "metadata": {
    "collapsed": true
   },
   "outputs": [],
   "source": []
  }
 ],
 "metadata": {
  "kernelspec": {
   "display_name": "Python 3",
   "language": "python",
   "name": "python3"
  },
  "language_info": {
   "codemirror_mode": {
    "name": "ipython",
    "version": 3
   },
   "file_extension": ".py",
   "mimetype": "text/x-python",
   "name": "python",
   "nbconvert_exporter": "python",
   "pygments_lexer": "ipython3",
   "version": "3.6.1"
  }
 },
 "nbformat": 4,
 "nbformat_minor": 2
}
