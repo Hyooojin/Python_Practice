{
 "cells": [
  {
   "cell_type": "markdown",
   "metadata": {},
   "source": [
    "# # Getting Started with Numpy\n",
    "### <p style=\"color:Tomato\">Learn the basics of Numpy while working with alcohol consumption data<p/>\n",
    "\n",
    "#### <p style=\"color:Gray\">world_alcohol.csv<p/>\n",
    ": Which records per capita alcohol consumption for each country.<br/>\n",
    "각 국가별로 1인당 알코올 섭취량을 기록\n",
    "* a comma separated value dataset\n",
    "* specify the delimiter using the delimiter parameter\n",
    "\n",
    "<p style=\"color:Blue\">**1. Which records per capita alcohol consumption for each country.**<p/>\n",
    "\n",
    "> learning of the basics of the NumPy library and how to work with NumPy arrays. "
   ]
  },
  {
   "cell_type": "code",
   "execution_count": 1,
   "metadata": {
    "collapsed": true
   },
   "outputs": [],
   "source": [
    "from IPython.core.interactiveshell import InteractiveShell\n",
    "InteractiveShell.ast_node_interactivity = 'all'"
   ]
  },
  {
   "cell_type": "code",
   "execution_count": 2,
   "metadata": {
    "collapsed": true
   },
   "outputs": [],
   "source": [
    "import numpy as np"
   ]
  },
  {
   "cell_type": "code",
   "execution_count": 3,
   "metadata": {},
   "outputs": [
    {
     "data": {
      "text/plain": [
       "array([ 5, 10, 15, 20])"
      ]
     },
     "execution_count": 3,
     "metadata": {},
     "output_type": "execute_result"
    },
    {
     "data": {
      "text/plain": [
       "array([[ 5, 10, 15],\n",
       "       [20, 25, 30],\n",
       "       [35, 40, 45]])"
      ]
     },
     "execution_count": 3,
     "metadata": {},
     "output_type": "execute_result"
    }
   ],
   "source": [
    "vector = np.array([5, 10, 15, 20])\n",
    "vector\n",
    "matrix = np.array([[5, 10, 15], [20, 25, 30], [35, 40, 45]])\n",
    "matrix"
   ]
  },
  {
   "cell_type": "code",
   "execution_count": 4,
   "metadata": {},
   "outputs": [
    {
     "data": {
      "text/plain": [
       "array([10, 20, 30])"
      ]
     },
     "execution_count": 4,
     "metadata": {},
     "output_type": "execute_result"
    }
   ],
   "source": [
    "vector = np.array([10, 20, 30])\n",
    "vector\n",
    "matrix = np.array([[5, 10, 15], [20, 25, 30], [35, 40, 45]])"
   ]
  },
  {
   "cell_type": "markdown",
   "metadata": {},
   "source": [
    "#### <p style=\"color:Gray\">ndarray.shape<p/><hr>\n",
    "To figure out how many elements are in the array."
   ]
  },
  {
   "cell_type": "code",
   "execution_count": 5,
   "metadata": {},
   "outputs": [
    {
     "name": "stdout",
     "output_type": "stream",
     "text": [
      "(4,)\n"
     ]
    }
   ],
   "source": [
    "vector = np.array([1, 2, 3, 4])\n",
    "print(vector.shape)"
   ]
  },
  {
   "cell_type": "markdown",
   "metadata": {},
   "source": [
    "> This tuple indicates that the array vector has one dimension, with length 4, which matches our intuition that vector has 4 elements."
   ]
  },
  {
   "cell_type": "code",
   "execution_count": 6,
   "metadata": {},
   "outputs": [
    {
     "name": "stdout",
     "output_type": "stream",
     "text": [
      "(2, 3)\n"
     ]
    }
   ],
   "source": [
    "matrix = np.array([[5, 10, 15], [20, 25, 30]])\n",
    "print(matrix.shape)"
   ]
  },
  {
   "cell_type": "markdown",
   "metadata": {},
   "source": [
    "> The above code will result in the tuple (2,3) indicating that matrix has 2 rows and 3 columns."
   ]
  },
  {
   "cell_type": "code",
   "execution_count": 7,
   "metadata": {},
   "outputs": [
    {
     "name": "stdout",
     "output_type": "stream",
     "text": [
      "(4,)\n",
      "(2, 3)\n"
     ]
    }
   ],
   "source": [
    "vector_shape = vector.shape\n",
    "matrix_shape = matrix.shape\n",
    "print(vector_shape)\n",
    "print(matrix_shape)"
   ]
  },
  {
   "cell_type": "markdown",
   "metadata": {},
   "source": [
    "#### <p style=\"color:Gray\">numpy.genfromtxt()<p/><hr>\n",
    "Read in datasets.<br/>\n"
   ]
  },
  {
   "cell_type": "code",
   "execution_count": 8,
   "metadata": {},
   "outputs": [
    {
     "name": "stdout",
     "output_type": "stream",
     "text": [
      "[[             nan              nan              nan              nan]\n",
      " [  2.00900000e+03   1.00000000e+00              nan              nan]\n",
      " [  2.00900000e+03   1.00000000e+00              nan              nan]\n",
      " [  2.00900000e+03   1.00000000e+00              nan              nan]\n",
      " [  2.00900000e+03   1.00000000e+00              nan              nan]\n",
      " [  2.00900000e+03   1.00000000e+00              nan              nan]\n",
      " [  2.00900000e+03   1.00000000e+00              nan              nan]\n",
      " [  2.00900000e+03   1.00000000e+00              nan              nan]\n",
      " [  2.00900000e+03   1.00000000e+00              nan              nan]\n",
      " [  2.00900000e+03   1.00000000e+00              nan              nan]]\n"
     ]
    }
   ],
   "source": [
    "nfl = np.genfromtxt(\"nfl.csv\", delimiter=\",\")\n",
    "print(nfl[:10])"
   ]
  },
  {
   "cell_type": "code",
   "execution_count": 9,
   "metadata": {},
   "outputs": [
    {
     "name": "stdout",
     "output_type": "stream",
     "text": [
      "<class 'numpy.ndarray'>\n",
      "[[             nan              nan              nan              nan\n",
      "               nan]\n",
      " [  1.98600000e+03              nan              nan              nan\n",
      "    0.00000000e+00]\n",
      " [  1.98600000e+03              nan              nan              nan\n",
      "    5.00000000e-01]\n",
      " [  1.98500000e+03              nan              nan              nan\n",
      "    1.62000000e+00]\n",
      " [  1.98600000e+03              nan              nan              nan\n",
      "    4.27000000e+00]\n",
      " [  1.98700000e+03              nan              nan              nan\n",
      "    1.98000000e+00]\n",
      " [  1.98700000e+03              nan              nan              nan\n",
      "    0.00000000e+00]\n",
      " [  1.98700000e+03              nan              nan              nan\n",
      "    1.30000000e-01]\n",
      " [  1.98500000e+03              nan              nan              nan\n",
      "    3.90000000e-01]\n",
      " [  1.98600000e+03              nan              nan              nan\n",
      "    1.55000000e+00]]\n"
     ]
    }
   ],
   "source": [
    "world_alcohol = np.genfromtxt('world_alcohol.csv', delimiter=\",\")\n",
    "print(type(world_alcohol))\n",
    "print(world_alcohol[:10])"
   ]
  },
  {
   "cell_type": "markdown",
   "metadata": {},
   "source": [
    "#### <p style=\"color:Gray\">dtype<p/><hr>\n",
    "Numpy will automatically figure out an appropriate data type when reading in data of converting lists to arrays. Check the data type of a Numpy array<br/>\n",
    "\n",
    "NumPy는 데이터를 읽거나 목록을 배열로 변환 할 때 자동으로 적절한 데이터 유형을 찾습니다. dtype 속성을 사용하여 NumPy 배열의 데이터 유형을 확인할 수 있습니다."
   ]
  },
  {
   "cell_type": "code",
   "execution_count": 10,
   "metadata": {},
   "outputs": [
    {
     "data": {
      "text/plain": [
       "dtype('int32')"
      ]
     },
     "execution_count": 10,
     "metadata": {},
     "output_type": "execute_result"
    }
   ],
   "source": [
    "numbers = np.array([1, 2, 3, 4])\n",
    "numbers.dtype"
   ]
  },
  {
   "cell_type": "code",
   "execution_count": 11,
   "metadata": {},
   "outputs": [
    {
     "data": {
      "text/plain": [
       "dtype('float64')"
      ]
     },
     "execution_count": 11,
     "metadata": {},
     "output_type": "execute_result"
    }
   ],
   "source": [
    "world_alcohol_dtype = world_alcohol.dtype\n",
    "world_alcohol_dtype"
   ]
  },
  {
   "cell_type": "markdown",
   "metadata": {},
   "source": [
    "### <p style=\"color:Tomato\">How to deal with missing data<p/>\n",
    "#### <p style=\"color:Gray\">Nan<p/><hr>\n",
    "Which stands for \"Not a number\", is a data type used to represent missing values.<br/>\n",
    "NumPy can't convert a value to a numeric data type like float or integer, it uses a special nan value that stands for \"not a number\".<br/>\n",
    "When NumPy can't convert a value to a numeric data type like float or integer, it uses a special nan value that stands for \"not a number\".\n",
    "* header\n",
    "#### <p style=\"color:Gray\">skip_header<p/><hr>\n",
    "> To skep the header when reading in the data, we use the skip_header parameter. The skip_header parameter accepts an integer value, specifying the number of lines from the top of the file we want Numpy to ignore. \n",
    "\n",
    "<br/>\n",
    "\n",
    "\n",
    "* To specify the data type for the entire Numpy array, we use the keyword argument dtype and set it to \"U75\".\n",
    "* This specifies that we want to read in each value as a 75 byte unicode data type.\n"
   ]
  },
  {
   "cell_type": "code",
   "execution_count": 12,
   "metadata": {
    "collapsed": true
   },
   "outputs": [],
   "source": [
    "world_alcohol = np.genfromtxt(\n",
    "    'world_alcohol.csv', \n",
    "    dtype='U75', \n",
    "    delimiter=',',\n",
    "    skip_header=1)"
   ]
  },
  {
   "cell_type": "code",
   "execution_count": 13,
   "metadata": {},
   "outputs": [
    {
     "name": "stdout",
     "output_type": "stream",
     "text": [
      "[['1986' 'Western Pacific' 'Viet Nam' 'Wine' '0']\n",
      " ['1986' 'Americas' 'Uruguay' 'Other' '0.5']\n",
      " ['1985' 'Africa' \"Cte d'Ivoire\" 'Wine' '1.62']\n",
      " ..., \n",
      " ['1986' 'Europe' 'Switzerland' 'Spirits' '2.54']\n",
      " ['1987' 'Western Pacific' 'Papua New Guinea' 'Other' '0']\n",
      " ['1986' 'Africa' 'Swaziland' 'Other' '5.15']]\n"
     ]
    }
   ],
   "source": [
    "print(world_alcohol)"
   ]
  },
  {
   "cell_type": "markdown",
   "metadata": {
    "collapsed": true
   },
   "source": [
    "#### <p style=\"color:Gray\">Indexing Array<p/><hr>"
   ]
  },
  {
   "cell_type": "code",
   "execution_count": 14,
   "metadata": {},
   "outputs": [
    {
     "name": "stdout",
     "output_type": "stream",
     "text": [
      "5\n"
     ]
    }
   ],
   "source": [
    "vector = np.array([5, 10, 15, 20])\n",
    "print(vector[0])"
   ]
  },
  {
   "cell_type": "code",
   "execution_count": 15,
   "metadata": {
    "collapsed": true
   },
   "outputs": [],
   "source": [
    "list_of_lists = [[5, 10, 15], [20, 25, 30]]"
   ]
  },
  {
   "cell_type": "code",
   "execution_count": 16,
   "metadata": {},
   "outputs": [
    {
     "data": {
      "text/plain": [
       "[5, 10, 15]"
      ]
     },
     "execution_count": 16,
     "metadata": {},
     "output_type": "execute_result"
    },
    {
     "data": {
      "text/plain": [
       "15"
      ]
     },
     "execution_count": 16,
     "metadata": {},
     "output_type": "execute_result"
    },
    {
     "data": {
      "text/plain": [
       "15"
      ]
     },
     "execution_count": 16,
     "metadata": {},
     "output_type": "execute_result"
    }
   ],
   "source": [
    "first_item = list_of_lists[0]\n",
    "first_item\n",
    "first_item[2]\n",
    "\n",
    "list_of_lists[0][2]"
   ]
  },
  {
   "cell_type": "code",
   "execution_count": 17,
   "metadata": {},
   "outputs": [
    {
     "data": {
      "text/plain": [
       "30"
      ]
     },
     "execution_count": 17,
     "metadata": {},
     "output_type": "execute_result"
    }
   ],
   "source": [
    "matrix = np.array([[5, 10, 15], [20, 25, 30]])\n",
    "matrix[1, 2]"
   ]
  },
  {
   "cell_type": "code",
   "execution_count": null,
   "metadata": {
    "collapsed": true
   },
   "outputs": [],
   "source": []
  },
  {
   "cell_type": "code",
   "execution_count": 18,
   "metadata": {},
   "outputs": [
    {
     "data": {
      "text/plain": [
       "array([['1986', 'Western Pacific', 'Viet Nam', 'Wine', '0'],\n",
       "       ['1986', 'Americas', 'Uruguay', 'Other', '0.5'],\n",
       "       ['1985', 'Africa', \"Cte d'Ivoire\", 'Wine', '1.62'],\n",
       "       ..., \n",
       "       ['1986', 'Europe', 'Switzerland', 'Spirits', '2.54'],\n",
       "       ['1987', 'Western Pacific', 'Papua New Guinea', 'Other', '0'],\n",
       "       ['1986', 'Africa', 'Swaziland', 'Other', '5.15']], \n",
       "      dtype='<U75')"
      ]
     },
     "execution_count": 18,
     "metadata": {},
     "output_type": "execute_result"
    }
   ],
   "source": [
    "world_alcohol"
   ]
  },
  {
   "cell_type": "code",
   "execution_count": 19,
   "metadata": {},
   "outputs": [
    {
     "data": {
      "text/plain": [
       "array([['Year', 'WHO region', 'Country', 'Beverage Types', 'Display Value'],\n",
       "       ['1986', 'Western Pacific', 'Viet Nam', 'Wine', '0'],\n",
       "       ['1986', 'Americas', 'Uruguay', 'Other', '0.5'],\n",
       "       ..., \n",
       "       ['1986', 'Europe', 'Switzerland', 'Spirits', '2.54'],\n",
       "       ['1987', 'Western Pacific', 'Papua New Guinea', 'Other', '0'],\n",
       "       ['1986', 'Africa', 'Swaziland', 'Other', '5.15']], \n",
       "      dtype='<U75')"
      ]
     },
     "execution_count": 19,
     "metadata": {},
     "output_type": "execute_result"
    }
   ],
   "source": [
    "world_alcohol = np.genfromtxt(\n",
    "    'world_alcohol.csv', \n",
    "    dtype='U75', \n",
    "    delimiter=',')\n",
    "world_alcohol"
   ]
  },
  {
   "cell_type": "code",
   "execution_count": 20,
   "metadata": {},
   "outputs": [
    {
     "data": {
      "text/plain": [
       "array([['1986', 'Western Pacific', 'Viet Nam', 'Wine', '0'],\n",
       "       ['1986', 'Americas', 'Uruguay', 'Other', '0.5'],\n",
       "       ['1985', 'Africa', \"Cte d'Ivoire\", 'Wine', '1.62'],\n",
       "       ..., \n",
       "       ['1986', 'Europe', 'Switzerland', 'Spirits', '2.54'],\n",
       "       ['1987', 'Western Pacific', 'Papua New Guinea', 'Other', '0'],\n",
       "       ['1986', 'Africa', 'Swaziland', 'Other', '5.15']], \n",
       "      dtype='<U75')"
      ]
     },
     "execution_count": 20,
     "metadata": {},
     "output_type": "execute_result"
    }
   ],
   "source": [
    "world_alcohol = np.genfromtxt(\n",
    "    'world_alcohol.csv', \n",
    "    dtype='U75', \n",
    "    delimiter=',',\n",
    "    skip_header=1)\n",
    "world_alcohol"
   ]
  },
  {
   "cell_type": "code",
   "execution_count": 21,
   "metadata": {},
   "outputs": [
    {
     "data": {
      "text/plain": [
       "'0.5'"
      ]
     },
     "execution_count": 21,
     "metadata": {},
     "output_type": "execute_result"
    }
   ],
   "source": [
    "# uruguay_other_1986 = world_alcohol[1][4]\n",
    "uruguay_other_1986 = world_alcohol[1, 4]\n",
    "uruguay_other_1986"
   ]
  },
  {
   "cell_type": "code",
   "execution_count": 22,
   "metadata": {},
   "outputs": [
    {
     "data": {
      "text/plain": [
       "\"Cte d'Ivoire\""
      ]
     },
     "execution_count": 22,
     "metadata": {},
     "output_type": "execute_result"
    }
   ],
   "source": [
    "# third_country = world_alcohol[2][2]\n",
    "third_country = world_alcohol[2, 2]\n",
    "third_country"
   ]
  },
  {
   "cell_type": "markdown",
   "metadata": {},
   "source": [
    "#### <p style=\"color:Gray\">Slicing Array<p/><hr>\n",
    "> The colon by itself : specifies that the entirety of a single dimension should be selected."
   ]
  },
  {
   "cell_type": "code",
   "execution_count": 23,
   "metadata": {},
   "outputs": [
    {
     "data": {
      "text/plain": [
       "array([ 5, 10, 15])"
      ]
     },
     "execution_count": 23,
     "metadata": {},
     "output_type": "execute_result"
    }
   ],
   "source": [
    "vector = np.array([5, 10, 15, 20])\n",
    "vector[0:3]"
   ]
  },
  {
   "cell_type": "code",
   "execution_count": 24,
   "metadata": {
    "collapsed": true
   },
   "outputs": [],
   "source": [
    "matrix = np.array([\n",
    "                    [5, 10, 15], \n",
    "                    [20, 25, 30],\n",
    "                    [35, 40, 45]\n",
    "                 ])"
   ]
  },
  {
   "cell_type": "code",
   "execution_count": 25,
   "metadata": {},
   "outputs": [
    {
     "data": {
      "text/plain": [
       "array([10, 25, 40])"
      ]
     },
     "execution_count": 25,
     "metadata": {},
     "output_type": "execute_result"
    }
   ],
   "source": [
    "matrix[:, 1]"
   ]
  },
  {
   "cell_type": "code",
   "execution_count": 26,
   "metadata": {},
   "outputs": [
    {
     "data": {
      "text/plain": [
       "array(['Viet Nam', 'Uruguay', \"Cte d'Ivoire\", ..., 'Switzerland',\n",
       "       'Papua New Guinea', 'Swaziland'], \n",
       "      dtype='<U75')"
      ]
     },
     "execution_count": 26,
     "metadata": {},
     "output_type": "execute_result"
    }
   ],
   "source": [
    "countries = world_alcohol[:, 2]\n",
    "countries"
   ]
  },
  {
   "cell_type": "code",
   "execution_count": 27,
   "metadata": {},
   "outputs": [
    {
     "data": {
      "text/plain": [
       "array(['0', '0.5', '1.62', ..., '2.54', '0', '5.15'], \n",
       "      dtype='<U75')"
      ]
     },
     "execution_count": 27,
     "metadata": {},
     "output_type": "execute_result"
    }
   ],
   "source": [
    "alcohol_consumption = world_alcohol[:, 4]\n",
    "alcohol_consumption"
   ]
  },
  {
   "cell_type": "markdown",
   "metadata": {},
   "source": [
    "#### <p style=\"color:Gray\">Slicing One dimention<p/><hr>\n",
    "To select one whole dimension, and a slice of the other, we need to use special notation"
   ]
  },
  {
   "cell_type": "code",
   "execution_count": 28,
   "metadata": {
    "collapsed": true
   },
   "outputs": [],
   "source": [
    "matrix = np.array([\n",
    "                    [5, 10, 15], \n",
    "                    [20, 25, 30],\n",
    "                    [35, 40, 45]\n",
    "                 ])"
   ]
  },
  {
   "cell_type": "code",
   "execution_count": 29,
   "metadata": {},
   "outputs": [
    {
     "data": {
      "text/plain": [
       "array([[ 5, 10],\n",
       "       [20, 25],\n",
       "       [35, 40]])"
      ]
     },
     "execution_count": 29,
     "metadata": {},
     "output_type": "execute_result"
    }
   ],
   "source": [
    "matrix[:, 0:2]"
   ]
  },
  {
   "cell_type": "code",
   "execution_count": 30,
   "metadata": {},
   "outputs": [
    {
     "data": {
      "text/plain": [
       "array([[20, 25, 30],\n",
       "       [35, 40, 45]])"
      ]
     },
     "execution_count": 30,
     "metadata": {},
     "output_type": "execute_result"
    }
   ],
   "source": [
    "matrix[1:3, :]"
   ]
  },
  {
   "cell_type": "code",
   "execution_count": 31,
   "metadata": {},
   "outputs": [
    {
     "data": {
      "text/plain": [
       "array([25, 40])"
      ]
     },
     "execution_count": 31,
     "metadata": {},
     "output_type": "execute_result"
    }
   ],
   "source": [
    "matrix[1:3, 1]"
   ]
  },
  {
   "cell_type": "code",
   "execution_count": 32,
   "metadata": {},
   "outputs": [
    {
     "data": {
      "text/plain": [
       "array([['1986', 'Western Pacific'],\n",
       "       ['1986', 'Americas'],\n",
       "       ['1985', 'Africa'],\n",
       "       ..., \n",
       "       ['1986', 'Europe'],\n",
       "       ['1987', 'Western Pacific'],\n",
       "       ['1986', 'Africa']], \n",
       "      dtype='<U75')"
      ]
     },
     "execution_count": 32,
     "metadata": {},
     "output_type": "execute_result"
    }
   ],
   "source": [
    "first_two_columns = world_alcohol[:, 0:2]\n",
    "first_two_columns"
   ]
  },
  {
   "cell_type": "code",
   "execution_count": 33,
   "metadata": {},
   "outputs": [
    {
     "data": {
      "text/plain": [
       "array(['1986', '1986', '1985', '1986', '1987', '1987', '1987', '1985',\n",
       "       '1986', '1984'], \n",
       "      dtype='<U75')"
      ]
     },
     "execution_count": 33,
     "metadata": {},
     "output_type": "execute_result"
    }
   ],
   "source": [
    "first_ten_years = world_alcohol[0:10, 0]\n",
    "first_ten_years"
   ]
  },
  {
   "cell_type": "code",
   "execution_count": 34,
   "metadata": {},
   "outputs": [
    {
     "data": {
      "text/plain": [
       "array([['1986', 'Western Pacific', 'Viet Nam', 'Wine', '0'],\n",
       "       ['1986', 'Americas', 'Uruguay', 'Other', '0.5'],\n",
       "       ['1985', 'Africa', \"Cte d'Ivoire\", 'Wine', '1.62'],\n",
       "       ['1986', 'Americas', 'Colombia', 'Beer', '4.27'],\n",
       "       ['1987', 'Americas', 'Saint Kitts and Nevis', 'Beer', '1.98'],\n",
       "       ['1987', 'Americas', 'Guatemala', 'Other', '0'],\n",
       "       ['1987', 'Africa', 'Mauritius', 'Wine', '0.13'],\n",
       "       ['1985', 'Africa', 'Angola', 'Spirits', '0.39'],\n",
       "       ['1986', 'Americas', 'Antigua and Barbuda', 'Spirits', '1.55'],\n",
       "       ['1984', 'Africa', 'Nigeria', 'Other', '6.1']], \n",
       "      dtype='<U75')"
      ]
     },
     "execution_count": 34,
     "metadata": {},
     "output_type": "execute_result"
    }
   ],
   "source": [
    "first_ten_rows = world_alcohol[0:10, :]\n",
    "first_ten_rows"
   ]
  },
  {
   "cell_type": "markdown",
   "metadata": {},
   "source": [
    "#### <p style=\"color:Gray\">Slicing arrays<p/><hr>\n",
    "slice along both dimensions simultaneously."
   ]
  },
  {
   "cell_type": "code",
   "execution_count": 35,
   "metadata": {},
   "outputs": [
    {
     "data": {
      "text/plain": [
       "array([[20, 25],\n",
       "       [35, 40]])"
      ]
     },
     "execution_count": 35,
     "metadata": {},
     "output_type": "execute_result"
    }
   ],
   "source": [
    "matrix[1:3, 0:2]"
   ]
  },
  {
   "cell_type": "code",
   "execution_count": 36,
   "metadata": {},
   "outputs": [
    {
     "data": {
      "text/plain": [
       "array([['Western Pacific', 'Viet Nam'],\n",
       "       ['Americas', 'Uruguay'],\n",
       "       ['Africa', \"Cte d'Ivoire\"],\n",
       "       ['Americas', 'Colombia'],\n",
       "       ['Americas', 'Saint Kitts and Nevis'],\n",
       "       ['Americas', 'Guatemala'],\n",
       "       ['Africa', 'Mauritius'],\n",
       "       ['Africa', 'Angola'],\n",
       "       ['Americas', 'Antigua and Barbuda'],\n",
       "       ['Africa', 'Nigeria'],\n",
       "       ['Africa', 'Botswana'],\n",
       "       ['Americas', 'Guatemala'],\n",
       "       ['Western Pacific', \"Lao People's Democratic Republic\"],\n",
       "       ['Eastern Mediterranean', 'Afghanistan'],\n",
       "       ['Western Pacific', 'Viet Nam'],\n",
       "       ['Africa', 'Guinea-Bissau'],\n",
       "       ['Americas', 'Costa Rica'],\n",
       "       ['Africa', 'Seychelles'],\n",
       "       ['Europe', 'Norway'],\n",
       "       ['Africa', 'Kenya']], \n",
       "      dtype='<U75')"
      ]
     },
     "execution_count": 36,
     "metadata": {},
     "output_type": "execute_result"
    }
   ],
   "source": [
    "first_twenty_regions = world_alcohol[0:20, 1:3]\n",
    "first_twenty_regions"
   ]
  },
  {
   "cell_type": "markdown",
   "metadata": {},
   "source": [
    "#### <p style=\"color:Gray\">world_alcohol.csv<p/>\n",
    "<p style=\"color:Blue\">**2. Each row specifies how many liters of a type of alcohol the average citizen of a particular country drank in a given year.** <p/>\n",
    "For example, One row shows **how many liters of wine the typical Vietnamese citizen drank in 1986.**<br/>\n",
    "각 행은 특정 국가의 시민들이 주어진 해에 특정종류의 알콜을 얼마나 마셨는지 나타냅니다. 예를 들어, 베트남 시민이 1986년에 마신 와인의 양은 얼마인가를 보여줍니다. \n",
    "\n",
    "> * Year -- The year the data in the row is for\n",
    "* WHO Region -- The region in which the country is located\n",
    "* Country -- The country of the data is for\n",
    "* Beverage Types -- The type of beverage\n",
    "* Display Value -- The average number of liters drunk per capita"
   ]
  },
  {
   "cell_type": "markdown",
   "metadata": {},
   "source": [
    "### <p style=\"color:Tomato\">Computation with NumPy<p/>\n",
    "#### <p style=\"color:Gray\">Array Comparisons<p/><hr>\n",
    "The NumPy modules is the ability to make comparisons across an entire array. These comparisons result in **Boolean Values**\n"
   ]
  },
  {
   "cell_type": "code",
   "execution_count": 37,
   "metadata": {},
   "outputs": [
    {
     "data": {
      "text/plain": [
       "array([False,  True, False, False], dtype=bool)"
      ]
     },
     "execution_count": 37,
     "metadata": {},
     "output_type": "execute_result"
    }
   ],
   "source": [
    "vector = np.array([5, 10, 15, 20])\n",
    "vector == 10"
   ]
  },
  {
   "cell_type": "code",
   "execution_count": 38,
   "metadata": {},
   "outputs": [
    {
     "data": {
      "text/plain": [
       "array([[False, False, False],\n",
       "       [False,  True, False],\n",
       "       [False, False, False]], dtype=bool)"
      ]
     },
     "execution_count": 38,
     "metadata": {},
     "output_type": "execute_result"
    }
   ],
   "source": [
    "matrix == 25"
   ]
  },
  {
   "cell_type": "code",
   "execution_count": 39,
   "metadata": {},
   "outputs": [
    {
     "data": {
      "text/plain": [
       "array([False, False, False, ..., False, False, False], dtype=bool)"
      ]
     },
     "execution_count": 39,
     "metadata": {},
     "output_type": "execute_result"
    }
   ],
   "source": [
    "countries_canada = world_alcohol[:, 2] == 'Canada'\n",
    "countries_canada"
   ]
  },
  {
   "cell_type": "code",
   "execution_count": 40,
   "metadata": {},
   "outputs": [
    {
     "data": {
      "text/plain": [
       "array([False, False, False, ..., False, False, False], dtype=bool)"
      ]
     },
     "execution_count": 40,
     "metadata": {},
     "output_type": "execute_result"
    }
   ],
   "source": [
    "years_1984 = world_alcohol[:, 0] == '1984'\n",
    "years_1984 "
   ]
  },
  {
   "cell_type": "markdown",
   "metadata": {},
   "source": [
    "#### <p style=\"color:Gray\">Selecting Elements<p/><hr>\n",
    "Select certain elements in vectors, or certain rows in matrics."
   ]
  },
  {
   "cell_type": "code",
   "execution_count": 41,
   "metadata": {},
   "outputs": [
    {
     "data": {
      "text/plain": [
       "array([ 5, 10, 15, 20])"
      ]
     },
     "execution_count": 41,
     "metadata": {},
     "output_type": "execute_result"
    }
   ],
   "source": [
    "vector"
   ]
  },
  {
   "cell_type": "code",
   "execution_count": 42,
   "metadata": {},
   "outputs": [
    {
     "name": "stdout",
     "output_type": "stream",
     "text": [
      "[10]\n"
     ]
    }
   ],
   "source": [
    "equal_to_ten = (vector == 10)\n",
    "print(vector[equal_to_ten])"
   ]
  },
  {
   "cell_type": "code",
   "execution_count": 43,
   "metadata": {},
   "outputs": [
    {
     "data": {
      "text/plain": [
       "array([[ 5, 10, 15],\n",
       "       [20, 25, 30],\n",
       "       [35, 40, 45]])"
      ]
     },
     "execution_count": 43,
     "metadata": {},
     "output_type": "execute_result"
    }
   ],
   "source": [
    "matrix"
   ]
  },
  {
   "cell_type": "code",
   "execution_count": 44,
   "metadata": {},
   "outputs": [
    {
     "name": "stdout",
     "output_type": "stream",
     "text": [
      "[[20 25 30]]\n"
     ]
    }
   ],
   "source": [
    "second_column_25 = (matrix[:, 1] == 25)\n",
    "print(matrix[second_column_25, :])"
   ]
  },
  {
   "cell_type": "code",
   "execution_count": 45,
   "metadata": {},
   "outputs": [
    {
     "data": {
      "text/plain": [
       "array([False, False, False, ..., False, False, False], dtype=bool)"
      ]
     },
     "execution_count": 45,
     "metadata": {},
     "output_type": "execute_result"
    },
    {
     "data": {
      "text/plain": [
       "array([['1984', 'Africa', 'Algeria', 'Spirits', '0.01'],\n",
       "       ['1987', 'Africa', 'Algeria', 'Beer', '0.17'],\n",
       "       ['1987', 'Africa', 'Algeria', 'Spirits', '0.01'],\n",
       "       ['1986', 'Africa', 'Algeria', 'Wine', '0.1'],\n",
       "       ['1984', 'Africa', 'Algeria', 'Other', '0'],\n",
       "       ['1989', 'Africa', 'Algeria', 'Beer', '0.16'],\n",
       "       ['1989', 'Africa', 'Algeria', 'Spirits', '0.01'],\n",
       "       ['1989', 'Africa', 'Algeria', 'Wine', '0.23'],\n",
       "       ['1986', 'Africa', 'Algeria', 'Spirits', '0.01'],\n",
       "       ['1984', 'Africa', 'Algeria', 'Wine', '0.12'],\n",
       "       ['1985', 'Africa', 'Algeria', 'Beer', '0.19'],\n",
       "       ['1985', 'Africa', 'Algeria', 'Other', '0'],\n",
       "       ['1986', 'Africa', 'Algeria', 'Beer', '0.18'],\n",
       "       ['1985', 'Africa', 'Algeria', 'Wine', '0.11'],\n",
       "       ['1986', 'Africa', 'Algeria', 'Other', '0'],\n",
       "       ['1989', 'Africa', 'Algeria', 'Other', '0'],\n",
       "       ['1987', 'Africa', 'Algeria', 'Other', '0'],\n",
       "       ['1984', 'Africa', 'Algeria', 'Beer', '0.2'],\n",
       "       ['1985', 'Africa', 'Algeria', 'Spirits', '0.01'],\n",
       "       ['1987', 'Africa', 'Algeria', 'Wine', '0.1']], \n",
       "      dtype='<U75')"
      ]
     },
     "execution_count": 45,
     "metadata": {},
     "output_type": "execute_result"
    }
   ],
   "source": [
    "country_is_algeria = world_alcohol[:, 2] == 'Algeria'\n",
    "contry_algeria = world_alcohol[country_is_algeria, :]\n",
    "country_is_algeria\n",
    "contry_algeria"
   ]
  },
  {
   "cell_type": "markdown",
   "metadata": {},
   "source": [
    "#### <p style=\"color:Gray\">Comparisons with Multiple Conditions<p/><hr>\n",
    "We can also perform comparisons with multiple conditions by specifying each one separately, then joining the with an ampersand(&)."
   ]
  },
  {
   "cell_type": "code",
   "execution_count": 46,
   "metadata": {},
   "outputs": [
    {
     "data": {
      "text/plain": [
       "array([False, False, False, False], dtype=bool)"
      ]
     },
     "execution_count": 46,
     "metadata": {},
     "output_type": "execute_result"
    }
   ],
   "source": [
    "equal_to_ten_and_five = (vector == 10) & (vector == 5)\n",
    "equal_to_ten_and_five\n",
    "#  none of the elements can be 10 and 5 at the same time"
   ]
  },
  {
   "cell_type": "code",
   "execution_count": 47,
   "metadata": {},
   "outputs": [
    {
     "data": {
      "text/plain": [
       "array([ True,  True, False, False], dtype=bool)"
      ]
     },
     "execution_count": 47,
     "metadata": {},
     "output_type": "execute_result"
    }
   ],
   "source": [
    "equal_to_ten_or_five = (vector == 10) | (vector == 5)\n",
    "equal_to_ten_or_five"
   ]
  },
  {
   "cell_type": "code",
   "execution_count": 48,
   "metadata": {},
   "outputs": [],
   "source": [
    "is_algeria_and_1986 =( \n",
    "                    world_alcohol[:, 0] == '1986') & (\n",
    "                    world_alcohol[:, 2] == 'Algeria')"
   ]
  },
  {
   "cell_type": "code",
   "execution_count": 49,
   "metadata": {},
   "outputs": [
    {
     "data": {
      "text/plain": [
       "array([['1986', 'Africa', 'Algeria', 'Wine', '0.1'],\n",
       "       ['1986', 'Africa', 'Algeria', 'Spirits', '0.01'],\n",
       "       ['1986', 'Africa', 'Algeria', 'Beer', '0.18'],\n",
       "       ['1986', 'Africa', 'Algeria', 'Other', '0']], \n",
       "      dtype='<U75')"
      ]
     },
     "execution_count": 49,
     "metadata": {},
     "output_type": "execute_result"
    }
   ],
   "source": [
    "rows_with_algeria_and_1986 = world_alcohol[is_algeria_and_1986, :]\n",
    "rows_with_algeria_and_1986"
   ]
  },
  {
   "cell_type": "markdown",
   "metadata": {},
   "source": [
    "#### <p style=\"color:Gray\">Replacing Values<p/><hr>\n",
    "Use comparisons to replace values in an array based on certain conditions."
   ]
  },
  {
   "cell_type": "code",
   "execution_count": 50,
   "metadata": {},
   "outputs": [
    {
     "data": {
      "text/plain": [
       "array([ True,  True, False, False], dtype=bool)"
      ]
     },
     "execution_count": 50,
     "metadata": {},
     "output_type": "execute_result"
    },
    {
     "data": {
      "text/plain": [
       "array([ 5, 10])"
      ]
     },
     "execution_count": 50,
     "metadata": {},
     "output_type": "execute_result"
    },
    {
     "name": "stdout",
     "output_type": "stream",
     "text": [
      "[50 50 15 20]\n"
     ]
    }
   ],
   "source": [
    "vector = np.array([5, 10, 15, 20])\n",
    "equal_to_ten_or_five = (vector == 10) | (vector == 5)\n",
    "equal_to_ten_or_five\n",
    "vector[equal_to_ten_or_five]\n",
    "vector[equal_to_ten_or_five] = 50\n",
    "print(vector)"
   ]
  },
  {
   "cell_type": "code",
   "execution_count": 51,
   "metadata": {
    "collapsed": true
   },
   "outputs": [],
   "source": [
    "matrix = np.array([\n",
    "         [5, 10, 15], \n",
    "         [20, 25, 30],\n",
    "         [35, 40, 45]\n",
    "        ])"
   ]
  },
  {
   "cell_type": "code",
   "execution_count": 52,
   "metadata": {},
   "outputs": [
    {
     "data": {
      "text/plain": [
       "array([[ 5, 10, 15],\n",
       "       [20, 10, 30],\n",
       "       [35, 40, 45]])"
      ]
     },
     "execution_count": 52,
     "metadata": {},
     "output_type": "execute_result"
    }
   ],
   "source": [
    "second_column_25 = matrix[:, 1] == 25\n",
    "matrix[second_column_25, 1] = 10\n",
    "matrix"
   ]
  },
  {
   "cell_type": "markdown",
   "metadata": {},
   "source": [
    "<p style=\"color:Blue\">**3. Replace all instance of the string 1986 in the first column of world_alcohol with the string 2014.** <p/>"
   ]
  },
  {
   "cell_type": "code",
   "execution_count": 53,
   "metadata": {
    "collapsed": true
   },
   "outputs": [],
   "source": [
    "world_alcohol[:, 0][world_alcohol[:, 0] == '1986'] = '2014'"
   ]
  },
  {
   "cell_type": "code",
   "execution_count": 54,
   "metadata": {
    "scrolled": true
   },
   "outputs": [
    {
     "data": {
      "text/plain": [
       "array([['2014', 'Western Pacific', 'Viet Nam', 'Wine', '0'],\n",
       "       ['2014', 'Americas', 'Uruguay', 'Other', '0.5'],\n",
       "       ['1985', 'Africa', \"Cte d'Ivoire\", 'Wine', '1.62'],\n",
       "       ..., \n",
       "       ['2014', 'Europe', 'Switzerland', 'Spirits', '2.54'],\n",
       "       ['1987', 'Western Pacific', 'Papua New Guinea', 'Other', '0'],\n",
       "       ['2014', 'Africa', 'Swaziland', 'Other', '5.15']], \n",
       "      dtype='<U75')"
      ]
     },
     "execution_count": 54,
     "metadata": {},
     "output_type": "execute_result"
    }
   ],
   "source": [
    "world_alcohol"
   ]
  },
  {
   "cell_type": "code",
   "execution_count": 55,
   "metadata": {
    "scrolled": true
   },
   "outputs": [
    {
     "data": {
      "text/plain": [
       "array([['2014', 'Western Pacific', 'Viet Nam', 'Grog', '0'],\n",
       "       ['2014', 'Americas', 'Uruguay', 'Other', '0.5'],\n",
       "       ['1985', 'Africa', \"Cte d'Ivoire\", 'Grog', '1.62'],\n",
       "       ..., \n",
       "       ['2014', 'Europe', 'Switzerland', 'Spirits', '2.54'],\n",
       "       ['1987', 'Western Pacific', 'Papua New Guinea', 'Other', '0'],\n",
       "       ['2014', 'Africa', 'Swaziland', 'Other', '5.15']], \n",
       "      dtype='<U75')"
      ]
     },
     "execution_count": 55,
     "metadata": {},
     "output_type": "execute_result"
    }
   ],
   "source": [
    "world_alcohol[:, 3][world_alcohol[:, 3] == 'Wine'] = 'Grog'\n",
    "world_alcohol"
   ]
  },
  {
   "cell_type": "markdown",
   "metadata": {},
   "source": [
    "#### <p style=\"color:Gray\">Replacing Empty Strings<p/><hr>\n",
    "**The Display Value column**:<br/>\n",
    "\n",
    "Which shows how much alcohol the average citizen of a country drinks.<br/>\n",
    "* world_alcohol currently has a unicode datatype, all of the values in the column are strings.\n",
    "* So we can't to add these values together or perform any other mathematical operations on them, we'll have to convert the data in the column to floats.\n",
    "* We need to address the empty string values (\") that appear where there was *no original data* for the given *country* and *year*. If we try to convert the data in the column to floats without removing these values first, we'll get a ValueError.\n",
    "\n",
    "<br/>\n",
    "이 칼럼은 한 국가의 평균 시민이 마시는 알코올 섭취량을 보여줍니다.\n",
    "* world_alcohol에는 유니코드 데이터를 가지고 있고, 모든 컬럼의 값은 문자열이다. \n",
    "* 이 값을 더하거나 다른 수학 연산을 수행하려면 열의 데이터를 float로 변환해야합니다. \n",
    "* 데이터가 없는 국가 및 연도 칼럼의 빈 문자열을 처리해야 합니다. 이 값을 먼저 제거하지 않고 열의 데이터를 부동으로 변환하려고 하면 ValueError가 표시됩니다.  "
   ]
  },
  {
   "cell_type": "code",
   "execution_count": 56,
   "metadata": {},
   "outputs": [
    {
     "data": {
      "text/plain": [
       "array([['1986', 'Western Pacific', 'Viet Nam', 'Wine', '0'],\n",
       "       ['1986', 'Americas', 'Uruguay', 'Other', '0.5'],\n",
       "       ['1985', 'Africa', \"Cte d'Ivoire\", 'Wine', '1.62'],\n",
       "       ..., \n",
       "       ['1986', 'Europe', 'Switzerland', 'Spirits', '2.54'],\n",
       "       ['1987', 'Western Pacific', 'Papua New Guinea', 'Other', '0'],\n",
       "       ['1986', 'Africa', 'Swaziland', 'Other', '5.15']], \n",
       "      dtype='<U75')"
      ]
     },
     "execution_count": 56,
     "metadata": {},
     "output_type": "execute_result"
    }
   ],
   "source": [
    "world_alcohol = np.genfromtxt(\n",
    "    'world_alcohol.csv', \n",
    "    dtype='U75', \n",
    "    delimiter=',',\n",
    "    skip_header=1)\n",
    "world_alcohol"
   ]
  },
  {
   "cell_type": "code",
   "execution_count": 57,
   "metadata": {},
   "outputs": [
    {
     "data": {
      "text/plain": [
       "array([False, False, False, ..., False, False, False], dtype=bool)"
      ]
     },
     "execution_count": 57,
     "metadata": {},
     "output_type": "execute_result"
    }
   ],
   "source": [
    "is_value_empty = world_alcohol[:, 4] == ''\n",
    "is_value_empty"
   ]
  },
  {
   "cell_type": "code",
   "execution_count": 58,
   "metadata": {},
   "outputs": [
    {
     "data": {
      "text/plain": [
       "array([['1986', 'Western Pacific', 'Viet Nam', 'Wine', '0'],\n",
       "       ['1986', 'Americas', 'Uruguay', 'Other', '0.5'],\n",
       "       ['1985', 'Africa', \"Cte d'Ivoire\", 'Wine', '1.62'],\n",
       "       ..., \n",
       "       ['1986', 'Europe', 'Switzerland', 'Spirits', '2.54'],\n",
       "       ['1987', 'Western Pacific', 'Papua New Guinea', 'Other', '0'],\n",
       "       ['1986', 'Africa', 'Swaziland', 'Other', '5.15']], \n",
       "      dtype='<U75')"
      ]
     },
     "execution_count": 58,
     "metadata": {},
     "output_type": "execute_result"
    }
   ],
   "source": [
    "world_alcohol[is_value_empty, 4] = '0'\n",
    "world_alcohol"
   ]
  },
  {
   "cell_type": "markdown",
   "metadata": {},
   "source": [
    "#### <p style=\"color:Gray\">Converting Data Types<p/><hr/>\n",
    "#### <p style=\"color:Gray\"># astype()<p/>"
   ]
  },
  {
   "cell_type": "code",
   "execution_count": 59,
   "metadata": {},
   "outputs": [
    {
     "name": "stdout",
     "output_type": "stream",
     "text": [
      "<class 'numpy.ndarray'>\n"
     ]
    },
    {
     "data": {
      "text/plain": [
       "array([ 1.,  2.,  3.])"
      ]
     },
     "execution_count": 59,
     "metadata": {},
     "output_type": "execute_result"
    }
   ],
   "source": [
    "vector = np.array([\"1\", \"2\", \"3\"])\n",
    "print(type(vector))\n",
    "\n",
    "vector = vector.astype(float)\n",
    "vector"
   ]
  },
  {
   "cell_type": "markdown",
   "metadata": {},
   "source": [
    "<p style=\"color:Blue\">**4. Figure out detemine which country drinks the most.** <p/>"
   ]
  },
  {
   "cell_type": "code",
   "execution_count": 60,
   "metadata": {},
   "outputs": [
    {
     "name": "stdout",
     "output_type": "stream",
     "text": [
      "[ 0.    0.5   1.62 ...,  2.54  0.    5.15]\n"
     ]
    }
   ],
   "source": [
    "alcohol_consumption = world_alcohol[:, 4].astype(float)\n",
    "print(alcohol_consumption)"
   ]
  },
  {
   "cell_type": "markdown",
   "metadata": {},
   "source": [
    "#### <p style=\"color:Gray\">sum(), mean(), max() with vector<p/>"
   ]
  },
  {
   "cell_type": "code",
   "execution_count": 61,
   "metadata": {},
   "outputs": [
    {
     "data": {
      "text/plain": [
       "50"
      ]
     },
     "execution_count": 61,
     "metadata": {},
     "output_type": "execute_result"
    }
   ],
   "source": [
    "vector = np.array([5, 10, 15, 20])\n",
    "vector.sum()"
   ]
  },
  {
   "cell_type": "markdown",
   "metadata": {},
   "source": [
    "#### <p style=\"color:Gray\">sum(), mean(), max() with matrix<p/>\n",
    "**axis** <br/>\n",
    "We have to specify an additional keyword argument, axis\n",
    "* 1 means that we want to perform the operation on each row\n",
    "* 0 means on each column\n"
   ]
  },
  {
   "cell_type": "code",
   "execution_count": 62,
   "metadata": {},
   "outputs": [
    {
     "data": {
      "text/plain": [
       "array([ 30,  75, 120])"
      ]
     },
     "execution_count": 62,
     "metadata": {},
     "output_type": "execute_result"
    }
   ],
   "source": [
    "matrix = np.array([\n",
    "            [5, 10, 15],\n",
    "            [20, 25, 30],\n",
    "            [35, 40, 45]\n",
    "            ]) \n",
    "matrix.sum(axis=1)"
   ]
  },
  {
   "cell_type": "code",
   "execution_count": 63,
   "metadata": {},
   "outputs": [
    {
     "data": {
      "text/plain": [
       "dtype('float64')"
      ]
     },
     "execution_count": 63,
     "metadata": {},
     "output_type": "execute_result"
    }
   ],
   "source": [
    "alcohol_consumption.dtype"
   ]
  },
  {
   "cell_type": "code",
   "execution_count": 64,
   "metadata": {},
   "outputs": [
    {
     "data": {
      "text/plain": [
       "3908.96"
      ]
     },
     "execution_count": 64,
     "metadata": {},
     "output_type": "execute_result"
    },
    {
     "data": {
      "text/plain": [
       "1.2001719373656738"
      ]
     },
     "execution_count": 64,
     "metadata": {},
     "output_type": "execute_result"
    }
   ],
   "source": [
    "total_alcohol = alcohol_consumption.sum()\n",
    "average_alcohol = alcohol_consumption.mean()\n",
    "total_alcohol\n",
    "average_alcohol"
   ]
  },
  {
   "cell_type": "markdown",
   "metadata": {},
   "source": [
    "<p style=\"color:Blue\">**5. To find the total amount the average person in Canada drank in 1986.** <p/>\n",
    "Each country is associated with several rows for different types of beverages:<br/>\n",
    "For example, we'd have to add up all 4 of the rows shown above, then repeat this process for each country."
   ]
  },
  {
   "cell_type": "code",
   "execution_count": 67,
   "metadata": {
    "collapsed": true
   },
   "outputs": [],
   "source": [
    "is_canada_1986 = (world_alcohol[:, 2] == 'Canada') & (\n",
    "                  world_alcohol[:, 0] == '1986')"
   ]
  },
  {
   "cell_type": "code",
   "execution_count": 68,
   "metadata": {
    "collapsed": true
   },
   "outputs": [],
   "source": [
    "canada_1986 = world_alcohol[is_canada_1986, :]"
   ]
  },
  {
   "cell_type": "code",
   "execution_count": 69,
   "metadata": {},
   "outputs": [],
   "source": [
    "canada_alcohol = canada_1986[:, 4]"
   ]
  },
  {
   "cell_type": "code",
   "execution_count": 70,
   "metadata": {
    "collapsed": true
   },
   "outputs": [],
   "source": [
    "empty_strings = canada_alcohol == ''"
   ]
  },
  {
   "cell_type": "code",
   "execution_count": 71,
   "metadata": {
    "collapsed": true
   },
   "outputs": [],
   "source": [
    "canada_alcohol[empty_strings] = \"0\""
   ]
  },
  {
   "cell_type": "code",
   "execution_count": 72,
   "metadata": {
    "collapsed": true
   },
   "outputs": [],
   "source": [
    "canada_alcohol = canada_alcohol.astype(float)"
   ]
  },
  {
   "cell_type": "code",
   "execution_count": 73,
   "metadata": {},
   "outputs": [
    {
     "data": {
      "text/plain": [
       "9.3100000000000005"
      ]
     },
     "execution_count": 73,
     "metadata": {},
     "output_type": "execute_result"
    }
   ],
   "source": [
    "total_candian_drinking = canada_alcohol.sum()\n",
    "total_candian_drinking"
   ]
  },
  {
   "cell_type": "markdown",
   "metadata": {},
   "source": [
    "#### <p style=\"color:Gray\">Calculating Consumption for Each Country<p/><hr/>\n",
    "<p style=\"color:Blue\">**6. Scale up the process and make the same calculation for all countries in a given year.** <p/>\n",
    "* Computed total alcohol consumption for each country in 1989."
   ]
  },
  {
   "cell_type": "code",
   "execution_count": 74,
   "metadata": {
    "collapsed": true
   },
   "outputs": [],
   "source": [
    "totals = {}\n",
    "is_year = world_alcohol[:, 0] == \"1989\"\n",
    "year = world_alcohol[is_year, :]"
   ]
  },
  {
   "cell_type": "code",
   "execution_count": 77,
   "metadata": {},
   "outputs": [
    {
     "data": {
      "text/plain": [
       "array(['Viet Nam', 'Uruguay', \"Cte d'Ivoire\", ..., 'Switzerland',\n",
       "       'Papua New Guinea', 'Swaziland'], \n",
       "      dtype='<U75')"
      ]
     },
     "execution_count": 77,
     "metadata": {},
     "output_type": "execute_result"
    },
    {
     "data": {
      "text/plain": [
       "array([['1989', 'Americas', 'Guatemala', 'Beer', '0.62'],\n",
       "       ['1989', 'Africa', 'Seychelles', 'Beer', '2.23'],\n",
       "       ['1989', 'Americas', 'Costa Rica', 'Spirits', '4.51'],\n",
       "       ..., \n",
       "       ['1989', 'Eastern Mediterranean', 'Morocco', 'Spirits', '0.07'],\n",
       "       ['1989', 'Europe', 'Poland', 'Beer', '2.03'],\n",
       "       ['1989', 'Europe', 'Turkey', 'Other', '0']], \n",
       "      dtype='<U75')"
      ]
     },
     "execution_count": 77,
     "metadata": {},
     "output_type": "execute_result"
    }
   ],
   "source": [
    "countries\n",
    "year"
   ]
  },
  {
   "cell_type": "code",
   "execution_count": 78,
   "metadata": {
    "collapsed": true
   },
   "outputs": [],
   "source": [
    "# ['Year', 'WHO region', 'Country', 'Beverage Types', 'Display Value']\n",
    "for country in countries:\n",
    "    is_country = year[:, 2] == country\n",
    "    country_consumption = year[is_country, :]\n",
    "    alcohol_column = country_consumption[:, 4]\n",
    "    is_empty = alcohol_column == ''\n",
    "    alcohol_column[is_empty] = \"0\"\n",
    "    alcohol_column = alcohol_column.astype(float)\n",
    "    totals[country] = alcohol_column.sum()"
   ]
  },
  {
   "cell_type": "code",
   "execution_count": 79,
   "metadata": {},
   "outputs": [
    {
     "data": {
      "text/plain": [
       "{'Afghanistan': 0.0,\n",
       " 'Albania': 1.73,\n",
       " 'Algeria': 0.40000000000000002,\n",
       " 'Angola': 2.2799999999999998,\n",
       " 'Antigua and Barbuda': 4.6900000000000004,\n",
       " 'Argentina': 10.82,\n",
       " 'Australia': 12.09,\n",
       " 'Austria': 13.9,\n",
       " 'Bahamas': 12.290000000000001,\n",
       " 'Bahrain': 4.8899999999999997,\n",
       " 'Bangladesh': 0.0,\n",
       " 'Belarus': 7.9799999999999995,\n",
       " 'Belgium': 11.609999999999999,\n",
       " 'Belize': 0.0,\n",
       " 'Benin': 1.3800000000000001,\n",
       " 'Bhutan': 0.31,\n",
       " 'Bolivia (Plurinational State of)': 3.0499999999999998,\n",
       " 'Botswana': 4.6299999999999999,\n",
       " 'Brazil': 5.5199999999999996,\n",
       " 'Brunei Darussalam': 2.7800000000000002,\n",
       " 'Bulgaria': 11.43,\n",
       " 'Burkina Faso': 3.9900000000000002,\n",
       " 'Burundi': 8.1599999999999984,\n",
       " 'Cabo Verde': 2.79,\n",
       " 'Cambodia': 0.33000000000000002,\n",
       " 'Cameroon': 6.3599999999999994,\n",
       " 'Canada': 9.0,\n",
       " 'Central African Republic': 2.5199999999999996,\n",
       " 'Chad': 0.30000000000000004,\n",
       " 'Chile': 8.6499999999999986,\n",
       " 'China': 3.3300000000000001,\n",
       " 'Colombia': 6.9600000000000009,\n",
       " 'Comoros': 0.10999999999999999,\n",
       " 'Congo': 3.1500000000000004,\n",
       " 'Costa Rica': 5.3999999999999995,\n",
       " 'Croatia': 10.92,\n",
       " \"Cte d'Ivoire\": 2.2000000000000002,\n",
       " 'Cuba': 4.3700000000000001,\n",
       " 'Cyprus': 9.2899999999999991,\n",
       " 'Czech Republic': 13.009999999999998,\n",
       " \"Democratic People's Republic of Korea\": 3.6799999999999997,\n",
       " 'Democratic Republic of the Congo': 1.9199999999999999,\n",
       " 'Denmark': 11.649999999999999,\n",
       " 'Djibouti': 0.87,\n",
       " 'Dominican Republic': 4.5300000000000002,\n",
       " 'Ecuador': 2.54,\n",
       " 'Egypt': 0.42000000000000004,\n",
       " 'El Salvador': 1.77,\n",
       " 'Equatorial Guinea': 6.4900000000000002,\n",
       " 'Eritrea': 0.28999999999999998,\n",
       " 'Ethiopia': 0.8600000000000001,\n",
       " 'Fiji': 1.9600000000000002,\n",
       " 'Finland': 9.4199999999999982,\n",
       " 'France': 16.050000000000001,\n",
       " 'Gabon': 9.3399999999999999,\n",
       " 'Gambia': 1.6300000000000001,\n",
       " 'Germany': 14.640000000000001,\n",
       " 'Ghana': 1.8599999999999999,\n",
       " 'Greece': 10.15,\n",
       " 'Guatemala': 2.4700000000000002,\n",
       " 'Guinea': 0.20999999999999999,\n",
       " 'Guinea-Bissau': 2.6699999999999999,\n",
       " 'Guyana': 9.9400000000000013,\n",
       " 'Haiti': 5.8099999999999996,\n",
       " 'Honduras': 2.1499999999999999,\n",
       " 'Hungary': 16.289999999999999,\n",
       " 'Iceland': 5.3599999999999994,\n",
       " 'India': 1.6599999999999999,\n",
       " 'Indonesia': 0.070000000000000007,\n",
       " 'Iran (Islamic Republic of)': 0.0,\n",
       " 'Iraq': 0.75,\n",
       " 'Ireland': 11.789999999999999,\n",
       " 'Israel': 2.0300000000000002,\n",
       " 'Italy': 10.899999999999999,\n",
       " 'Jamaica': 3.0299999999999998,\n",
       " 'Japan': 7.7400000000000002,\n",
       " 'Jordan': 0.19,\n",
       " 'Kenya': 2.8199999999999998,\n",
       " 'Kiribati': 0.47999999999999998,\n",
       " 'Kuwait': 0.0,\n",
       " 'Kyrgyzstan': 4.2799999999999994,\n",
       " \"Lao People's Democratic Republic\": 5.9500000000000002,\n",
       " 'Latvia': 7.0399999999999991,\n",
       " 'Lebanon': 3.9399999999999999,\n",
       " 'Lesotho': 2.02,\n",
       " 'Liberia': 5.6100000000000003,\n",
       " 'Libya': 0.0,\n",
       " 'Lithuania': 0.0,\n",
       " 'Luxembourg': 15.210000000000001,\n",
       " 'Madagascar': 1.3799999999999999,\n",
       " 'Malawi': 1.02,\n",
       " 'Malaysia': 0.68000000000000005,\n",
       " 'Mali': 0.66999999999999993,\n",
       " 'Malta': 7.1299999999999999,\n",
       " 'Mauritania': 0.02,\n",
       " 'Mauritius': 3.54,\n",
       " 'Mexico': 5.0999999999999996,\n",
       " 'Micronesia (Federated States of)': 0.0,\n",
       " 'Mongolia': 2.5899999999999999,\n",
       " 'Morocco': 0.69999999999999996,\n",
       " 'Mozambique': 0.39000000000000001,\n",
       " 'Myanmar': 0.16,\n",
       " 'Namibia': 0.23999999999999999,\n",
       " 'Nepal': 0.029999999999999999,\n",
       " 'Netherlands': 10.030000000000001,\n",
       " 'New Zealand': 11.52,\n",
       " 'Nicaragua': 2.5,\n",
       " 'Niger': 0.11,\n",
       " 'Nigeria': 6.7400000000000002,\n",
       " 'Norway': 5.0800000000000001,\n",
       " 'Oman': 1.03,\n",
       " 'Pakistan': 0.02,\n",
       " 'Panama': 4.6000000000000005,\n",
       " 'Papua New Guinea': 1.1099999999999999,\n",
       " 'Paraguay': 6.5099999999999998,\n",
       " 'Peru': 4.9900000000000002,\n",
       " 'Philippines': 3.7799999999999998,\n",
       " 'Poland': 9.3300000000000001,\n",
       " 'Portugal': 15.350000000000001,\n",
       " 'Qatar': 1.4500000000000002,\n",
       " 'Republic of Korea': 9.620000000000001,\n",
       " 'Romania': 8.4100000000000001,\n",
       " 'Russian Federation': 5.3499999999999996,\n",
       " 'Rwanda': 7.5499999999999989,\n",
       " 'Saint Kitts and Nevis': 4.6500000000000004,\n",
       " 'Saint Lucia': 11.619999999999999,\n",
       " 'Samoa': 2.6299999999999999,\n",
       " 'Sao Tome and Principe': 2.5699999999999998,\n",
       " 'Saudi Arabia': 0.14999999999999999,\n",
       " 'Senegal': 0.6100000000000001,\n",
       " 'Seychelles': 3.3000000000000003,\n",
       " 'Sierra Leone': 4.3800000000000008,\n",
       " 'Singapore': 1.6100000000000001,\n",
       " 'Slovakia': 12.700000000000001,\n",
       " 'Slovenia': 12.969999999999999,\n",
       " 'Solomon Islands': 0.58000000000000007,\n",
       " 'Somalia': 0.0,\n",
       " 'South Africa': 9.2100000000000009,\n",
       " 'Spain': 13.280000000000001,\n",
       " 'Sri Lanka': 0.14000000000000001,\n",
       " 'Sudan': 0.14999999999999999,\n",
       " 'Suriname': 3.6699999999999999,\n",
       " 'Swaziland': 6.6799999999999997,\n",
       " 'Sweden': 7.4699999999999998,\n",
       " 'Switzerland': 13.849999999999998,\n",
       " 'Syrian Arab Republic': 0.54000000000000004,\n",
       " 'Thailand': 3.9199999999999999,\n",
       " 'Togo': 2.2199999999999998,\n",
       " 'Trinidad and Tobago': 4.6799999999999997,\n",
       " 'Tunisia': 0.94999999999999996,\n",
       " 'Turkey': 0.71999999999999997,\n",
       " 'Uganda': 7.7999999999999998,\n",
       " 'Ukraine': 5.3200000000000003,\n",
       " 'United Arab Emirates': 4.4299999999999997,\n",
       " 'United Kingdom of Great Britain and Northern Ireland': 9.9900000000000002,\n",
       " 'United Republic of Tanzania': 5.9000000000000004,\n",
       " 'United States of America': 9.1600000000000001,\n",
       " 'Uruguay': 7.4399999999999995,\n",
       " 'Vanuatu': 1.74,\n",
       " 'Venezuela (Bolivarian Republic of)': 7.8700000000000001,\n",
       " 'Viet Nam': 0.16,\n",
       " 'Yemen': 0.20000000000000001,\n",
       " 'Zambia': 3.3700000000000001,\n",
       " 'Zimbabwe': 4.9199999999999999}"
      ]
     },
     "execution_count": 79,
     "metadata": {},
     "output_type": "execute_result"
    }
   ],
   "source": [
    "totals"
   ]
  },
  {
   "cell_type": "markdown",
   "metadata": {},
   "source": [
    "<p style=\"color:Blue\">**7. Loop through the totals dictionary to find the country the country with the highest value.** <p/>\n",
    "Dictionary에서 가장 가치가 높은 국가를 찾습니다."
   ]
  },
  {
   "cell_type": "code",
   "execution_count": 80,
   "metadata": {
    "collapsed": true
   },
   "outputs": [],
   "source": [
    "highest_value = 0\n",
    "highest_key = None\n",
    "for country in totals:\n",
    "    consumption = totals[country]\n",
    "    if highest_value < consumption:\n",
    "        highest_value = consumption\n",
    "        highest_key = country   "
   ]
  },
  {
   "cell_type": "code",
   "execution_count": 81,
   "metadata": {},
   "outputs": [
    {
     "data": {
      "text/plain": [
       "'Hungary'"
      ]
     },
     "execution_count": 81,
     "metadata": {},
     "output_type": "execute_result"
    }
   ],
   "source": [
    "highest_key"
   ]
  },
  {
   "cell_type": "code",
   "execution_count": null,
   "metadata": {
    "collapsed": true
   },
   "outputs": [],
   "source": []
  }
 ],
 "metadata": {
  "kernelspec": {
   "display_name": "Python 3",
   "language": "python",
   "name": "python3"
  },
  "language_info": {
   "codemirror_mode": {
    "name": "ipython",
    "version": 3
   },
   "file_extension": ".py",
   "mimetype": "text/x-python",
   "name": "python",
   "nbconvert_exporter": "python",
   "pygments_lexer": "ipython3",
   "version": "3.6.1"
  }
 },
 "nbformat": 4,
 "nbformat_minor": 2
}
