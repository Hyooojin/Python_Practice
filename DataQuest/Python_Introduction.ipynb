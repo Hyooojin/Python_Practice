{
 "cells": [
  {
   "cell_type": "markdown",
   "metadata": {},
   "source": [
    "# #Files And Loops"
   ]
  },
  {
   "cell_type": "code",
   "execution_count": 15,
   "metadata": {
    "scrolled": true
   },
   "outputs": [
    {
     "data": {
      "text/plain": [
       "'Albuquerque,749\\nAnaheim,371\\nAnchorage,828\\nArlington,503\\nAtlanta,1379\\nAurora,425\\nAustin,408\\nBakersfield,542\\nBaltimore,1405\\nBoston,835\\nBuffalo,1288\\nCharlotte-Mecklenburg,647\\nCincinnati,974\\nCleveland,1383\\nColorado Springs,455\\nCorpus Christi,658\\nDallas,675\\nDenver,615\\nDetroit,2122\\nEl Paso,423\\nFort Wayne,362\\nFort Worth,587\\nFresno,543\\nGreensboro,563\\nHenderson,168\\nHouston,992\\nIndianapolis,1185\\nJacksonville,617\\nJersey City,734\\nKansas City,1263\\nLas Vegas,784\\nLexington,352\\nLincoln,397\\nLong Beach,575\\nLos Angeles,481\\nLouisville Metro,598\\nMemphis,1750\\nMesa,399\\nMiami,1172\\nMilwaukee,1294\\nMinneapolis,992\\nMobile,522\\nNashville,1216\\nNew Orleans,815\\nNew York,639\\nNewark,1154\\nOakland,1993\\nOklahoma City,919\\nOmaha,594\\nPhiladelphia,1160\\nPhoenix,636\\nPittsburgh,752\\nPlano,130\\nPortland,517\\nRaleigh,423\\nRiverside,443\\nSacramento,738\\nSan Antonio,503\\nSan Diego,413\\nSan Francisco,704\\nSan Jose,363\\nSanta Ana,401\\nSeattle,597\\nSt. Louis,1776\\nSt. Paul,722\\nStockton,1548\\nTampa,616\\nToledo,1171\\nTucson,724\\nTulsa,990\\nVirginia Beach,169\\nWashington,1177\\nWichita,742\\n'"
      ]
     },
     "execution_count": 15,
     "metadata": {},
     "output_type": "execute_result"
    }
   ],
   "source": [
    "f = open('crime_rates.csv', 'r')\n",
    "data = f.read()\n",
    "data"
   ]
  },
  {
   "cell_type": "code",
   "execution_count": 16,
   "metadata": {},
   "outputs": [
    {
     "data": {
      "text/plain": [
       "1031"
      ]
     },
     "execution_count": 16,
     "metadata": {},
     "output_type": "execute_result"
    },
    {
     "data": {
      "text/plain": [
       "'Albuquerque,749\\nAnaheim,371\\nAnchorage,828\\nArlington,503\\nAtlanta,1379\\nAurora,425\\nAustin,408\\nBakersfield,542\\nBaltimore,1405\\nBoston,835\\nBuffalo,1288\\nCharlotte-Mecklenburg,647\\nCincinnati,974\\nCleveland,1383\\nColorado Springs,455\\nCorpus Christi,658\\nDallas,675\\nDenver,615\\nDetroit,2122\\nEl Paso,423\\nFort Wayne,362\\nFort Worth,587\\nFresno,543\\nGreensboro,563\\nHenderson,168\\nHouston,992\\nIndianapolis,1185\\nJacksonville,617\\nJersey City,734\\nKansas City,1263\\nLas Vegas,784\\nLexington,352\\nLincoln,397\\nLong Beach,575\\nLos Angeles,481\\nLouisville Metro,598\\nMemphis,1750\\nMesa,399\\nMiami,1172\\nMilwaukee,1294\\nMinneapolis,992\\nMobile,522\\nNashville,1216\\nNew Orleans,815\\nNew York,639\\nNewark,1154\\nOakland,1993\\nOklahoma City,919\\nOmaha,594\\nPhiladelphia,1160\\nPhoenix,636\\nPittsburgh,752\\nPlano,130\\nPortland,517\\nRaleigh,423\\nRiverside,443\\nSacramento,738\\nSan Antonio,503\\nSan Diego,413\\nSan Francisco,704\\nSan Jose,363\\nSanta Ana,401\\nSeattle,597\\nSt. Louis,1776\\nSt. Paul,722\\nStockton,1548\\nTampa,616\\nToledo,1171\\nTucson,724\\nTulsa,990\\nVirginia Beach,169\\nWashington,1177\\nWichita,742'"
      ]
     },
     "execution_count": 16,
     "metadata": {},
     "output_type": "execute_result"
    }
   ],
   "source": [
    "#I have to remove the last data ('\\n')\n",
    "len(data)\n",
    "data[:1030]"
   ]
  },
  {
   "cell_type": "code",
   "execution_count": 17,
   "metadata": {
    "scrolled": true
   },
   "outputs": [
    {
     "data": {
      "text/plain": [
       "['Albuquerque,749',\n",
       " 'Anaheim,371',\n",
       " 'Anchorage,828',\n",
       " 'Arlington,503',\n",
       " 'Atlanta,1379',\n",
       " 'Aurora,425',\n",
       " 'Austin,408',\n",
       " 'Bakersfield,542',\n",
       " 'Baltimore,1405',\n",
       " 'Boston,835',\n",
       " 'Buffalo,1288',\n",
       " 'Charlotte-Mecklenburg,647',\n",
       " 'Cincinnati,974',\n",
       " 'Cleveland,1383',\n",
       " 'Colorado Springs,455',\n",
       " 'Corpus Christi,658',\n",
       " 'Dallas,675',\n",
       " 'Denver,615',\n",
       " 'Detroit,2122',\n",
       " 'El Paso,423',\n",
       " 'Fort Wayne,362',\n",
       " 'Fort Worth,587',\n",
       " 'Fresno,543',\n",
       " 'Greensboro,563',\n",
       " 'Henderson,168',\n",
       " 'Houston,992',\n",
       " 'Indianapolis,1185',\n",
       " 'Jacksonville,617',\n",
       " 'Jersey City,734',\n",
       " 'Kansas City,1263',\n",
       " 'Las Vegas,784',\n",
       " 'Lexington,352',\n",
       " 'Lincoln,397',\n",
       " 'Long Beach,575',\n",
       " 'Los Angeles,481',\n",
       " 'Louisville Metro,598',\n",
       " 'Memphis,1750',\n",
       " 'Mesa,399',\n",
       " 'Miami,1172',\n",
       " 'Milwaukee,1294',\n",
       " 'Minneapolis,992',\n",
       " 'Mobile,522',\n",
       " 'Nashville,1216',\n",
       " 'New Orleans,815',\n",
       " 'New York,639',\n",
       " 'Newark,1154',\n",
       " 'Oakland,1993',\n",
       " 'Oklahoma City,919',\n",
       " 'Omaha,594',\n",
       " 'Philadelphia,1160',\n",
       " 'Phoenix,636',\n",
       " 'Pittsburgh,752',\n",
       " 'Plano,130',\n",
       " 'Portland,517',\n",
       " 'Raleigh,423',\n",
       " 'Riverside,443',\n",
       " 'Sacramento,738',\n",
       " 'San Antonio,503',\n",
       " 'San Diego,413',\n",
       " 'San Francisco,704',\n",
       " 'San Jose,363',\n",
       " 'Santa Ana,401',\n",
       " 'Seattle,597',\n",
       " 'St. Louis,1776',\n",
       " 'St. Paul,722',\n",
       " 'Stockton,1548',\n",
       " 'Tampa,616',\n",
       " 'Toledo,1171',\n",
       " 'Tucson,724',\n",
       " 'Tulsa,990',\n",
       " 'Virginia Beach,169',\n",
       " 'Washington,1177',\n",
       " 'Wichita,742']"
      ]
     },
     "execution_count": 17,
     "metadata": {},
     "output_type": "execute_result"
    }
   ],
   "source": [
    "rows = data[:1030].split('\\n')\n",
    "rows"
   ]
  },
  {
   "cell_type": "code",
   "execution_count": 18,
   "metadata": {},
   "outputs": [
    {
     "data": {
      "text/plain": [
       "[749,\n",
       " 371,\n",
       " 828,\n",
       " 503,\n",
       " 1379,\n",
       " 425,\n",
       " 408,\n",
       " 542,\n",
       " 1405,\n",
       " 835,\n",
       " 1288,\n",
       " 647,\n",
       " 974,\n",
       " 1383,\n",
       " 455,\n",
       " 658,\n",
       " 675,\n",
       " 615,\n",
       " 2122,\n",
       " 423,\n",
       " 362,\n",
       " 587,\n",
       " 543,\n",
       " 563,\n",
       " 168,\n",
       " 992,\n",
       " 1185,\n",
       " 617,\n",
       " 734,\n",
       " 1263,\n",
       " 784,\n",
       " 352,\n",
       " 397,\n",
       " 575,\n",
       " 481,\n",
       " 598,\n",
       " 1750,\n",
       " 399,\n",
       " 1172,\n",
       " 1294,\n",
       " 992,\n",
       " 522,\n",
       " 1216,\n",
       " 815,\n",
       " 639,\n",
       " 1154,\n",
       " 1993,\n",
       " 919,\n",
       " 594,\n",
       " 1160,\n",
       " 636,\n",
       " 752,\n",
       " 130,\n",
       " 517,\n",
       " 423,\n",
       " 443,\n",
       " 738,\n",
       " 503,\n",
       " 413,\n",
       " 704,\n",
       " 363,\n",
       " 401,\n",
       " 597,\n",
       " 1776,\n",
       " 722,\n",
       " 1548,\n",
       " 616,\n",
       " 1171,\n",
       " 724,\n",
       " 990,\n",
       " 169,\n",
       " 1177,\n",
       " 742]"
      ]
     },
     "execution_count": 18,
     "metadata": {},
     "output_type": "execute_result"
    }
   ],
   "source": [
    "int_crime_rates = []\n",
    "for row in rows:\n",
    "    crime_rate = row.split(',')\n",
    "    crime_rates = int(crime_rate[1])\n",
    "    int_crime_rates.append(crime_rates)\n",
    "int_crime_rates"
   ]
  },
  {
   "cell_type": "code",
   "execution_count": 19,
   "metadata": {
    "scrolled": true
   },
   "outputs": [
    {
     "name": "stdout",
     "output_type": "stream",
     "text": [
      "['Albuquerque', 'Anaheim', 'Anchorage', 'Arlington', 'Atlanta', 'Aurora', 'Austin', 'Bakersfield', 'Baltimore', 'Boston', 'Buffalo', 'Charlotte-Mecklenburg', 'Cincinnati', 'Cleveland', 'Colorado Springs', 'Corpus Christi', 'Dallas', 'Denver', 'Detroit', 'El Paso', 'Fort Wayne', 'Fort Worth', 'Fresno', 'Greensboro', 'Henderson', 'Houston', 'Indianapolis', 'Jacksonville', 'Jersey City', 'Kansas City', 'Las Vegas', 'Lexington', 'Lincoln', 'Long Beach', 'Los Angeles', 'Louisville Metro', 'Memphis', 'Mesa', 'Miami', 'Milwaukee', 'Minneapolis', 'Mobile', 'Nashville', 'New Orleans', 'New York', 'Newark', 'Oakland', 'Oklahoma City', 'Omaha', 'Philadelphia', 'Phoenix', 'Pittsburgh', 'Plano', 'Portland', 'Raleigh', 'Riverside', 'Sacramento', 'San Antonio', 'San Diego', 'San Francisco', 'San Jose', 'Santa Ana', 'Seattle', 'St. Louis', 'St. Paul', 'Stockton', 'Tampa', 'Toledo', 'Tucson', 'Tulsa', 'Virginia Beach', 'Washington', 'Wichita']\n"
     ]
    }
   ],
   "source": [
    "print(cities)"
   ]
  },
  {
   "cell_type": "markdown",
   "metadata": {},
   "source": [
    "# #Booleans And if Statements"
   ]
  },
  {
   "cell_type": "code",
   "execution_count": 20,
   "metadata": {
    "collapsed": true
   },
   "outputs": [],
   "source": [
    "from IPython.core.interactiveshell import InteractiveShell\n",
    "InteractiveShell.ast_node_interactivity = 'all'"
   ]
  },
  {
   "cell_type": "code",
   "execution_count": 21,
   "metadata": {},
   "outputs": [
    {
     "name": "stdout",
     "output_type": "stream",
     "text": [
      "True\n",
      "False\n",
      "<class 'bool'>\n"
     ]
    }
   ],
   "source": [
    "cat = True\n",
    "dog = False\n",
    "print(cat)\n",
    "print(dog)\n",
    "print(type(cat))"
   ]
  },
  {
   "cell_type": "code",
   "execution_count": 22,
   "metadata": {},
   "outputs": [
    {
     "data": {
      "text/plain": [
       "['Albuquerque',\n",
       " 'Anaheim',\n",
       " 'Anchorage',\n",
       " 'Arlington',\n",
       " 'Atlanta',\n",
       " 'Aurora',\n",
       " 'Austin',\n",
       " 'Bakersfield',\n",
       " 'Baltimore',\n",
       " 'Boston',\n",
       " 'Buffalo',\n",
       " 'Charlotte-Mecklenburg',\n",
       " 'Cincinnati',\n",
       " 'Cleveland',\n",
       " 'Colorado Springs',\n",
       " 'Corpus Christi',\n",
       " 'Dallas',\n",
       " 'Denver',\n",
       " 'Detroit',\n",
       " 'El Paso',\n",
       " 'Fort Wayne',\n",
       " 'Fort Worth',\n",
       " 'Fresno',\n",
       " 'Greensboro',\n",
       " 'Henderson',\n",
       " 'Houston',\n",
       " 'Indianapolis',\n",
       " 'Jacksonville',\n",
       " 'Jersey City',\n",
       " 'Kansas City',\n",
       " 'Las Vegas',\n",
       " 'Lexington',\n",
       " 'Lincoln',\n",
       " 'Long Beach',\n",
       " 'Los Angeles',\n",
       " 'Louisville Metro',\n",
       " 'Memphis',\n",
       " 'Mesa',\n",
       " 'Miami',\n",
       " 'Milwaukee',\n",
       " 'Minneapolis',\n",
       " 'Mobile',\n",
       " 'Nashville',\n",
       " 'New Orleans',\n",
       " 'New York',\n",
       " 'Newark',\n",
       " 'Oakland',\n",
       " 'Oklahoma City',\n",
       " 'Omaha',\n",
       " 'Philadelphia',\n",
       " 'Phoenix',\n",
       " 'Pittsburgh',\n",
       " 'Plano',\n",
       " 'Portland',\n",
       " 'Raleigh',\n",
       " 'Riverside',\n",
       " 'Sacramento',\n",
       " 'San Antonio',\n",
       " 'San Diego',\n",
       " 'San Francisco',\n",
       " 'San Jose',\n",
       " 'Santa Ana',\n",
       " 'Seattle',\n",
       " 'St. Louis',\n",
       " 'St. Paul',\n",
       " 'Stockton',\n",
       " 'Tampa',\n",
       " 'Toledo',\n",
       " 'Tucson',\n",
       " 'Tulsa',\n",
       " 'Virginia Beach',\n",
       " 'Washington',\n",
       " 'Wichita']"
      ]
     },
     "execution_count": 22,
     "metadata": {},
     "output_type": "execute_result"
    }
   ],
   "source": [
    "cities = []\n",
    "for row in rows:\n",
    "    cities_data = row.split(',')\n",
    "    cities_datas = cities_data[0]\n",
    "    cities.append(cities_datas)\n",
    "cities"
   ]
  },
  {
   "cell_type": "code",
   "execution_count": 23,
   "metadata": {},
   "outputs": [
    {
     "data": {
      "text/plain": [
       "True"
      ]
     },
     "execution_count": 23,
     "metadata": {},
     "output_type": "execute_result"
    },
    {
     "data": {
      "text/plain": [
       "False"
      ]
     },
     "execution_count": 23,
     "metadata": {},
     "output_type": "execute_result"
    },
    {
     "data": {
      "text/plain": [
       "72"
      ]
     },
     "execution_count": 23,
     "metadata": {},
     "output_type": "execute_result"
    },
    {
     "data": {
      "text/plain": [
       "False"
      ]
     },
     "execution_count": 23,
     "metadata": {},
     "output_type": "execute_result"
    }
   ],
   "source": [
    "first_alb = (cities[0] == \"Albuquerque\")\n",
    "first_alb\n",
    "second_alb = (cities[1] == \"Albuquerque\")\n",
    "second_alb\n",
    "last_element_index = len(cities) - 1\n",
    "last_element_index\n",
    "first_last = (cities[0] == cities[last_element_index])\n",
    "first_last"
   ]
  },
  {
   "cell_type": "code",
   "execution_count": 30,
   "metadata": {
    "collapsed": true
   },
   "outputs": [
    {
     "data": {
      "text/plain": [
       "[749,\n",
       " 371,\n",
       " 828,\n",
       " 503,\n",
       " 1379,\n",
       " 425,\n",
       " 408,\n",
       " 542,\n",
       " 1405,\n",
       " 835,\n",
       " 1288,\n",
       " 647,\n",
       " 974,\n",
       " 1383,\n",
       " 455,\n",
       " 658,\n",
       " 675,\n",
       " 615,\n",
       " 2122,\n",
       " 423,\n",
       " 362,\n",
       " 587,\n",
       " 543,\n",
       " 563,\n",
       " 168,\n",
       " 992,\n",
       " 1185,\n",
       " 617,\n",
       " 734,\n",
       " 1263,\n",
       " 784,\n",
       " 352,\n",
       " 397,\n",
       " 575,\n",
       " 481,\n",
       " 598,\n",
       " 1750,\n",
       " 399,\n",
       " 1172,\n",
       " 1294,\n",
       " 992,\n",
       " 522,\n",
       " 1216,\n",
       " 815,\n",
       " 639,\n",
       " 1154,\n",
       " 1993,\n",
       " 919,\n",
       " 594,\n",
       " 1160,\n",
       " 636,\n",
       " 752,\n",
       " 130,\n",
       " 517,\n",
       " 423,\n",
       " 443,\n",
       " 738,\n",
       " 503,\n",
       " 413,\n",
       " 704,\n",
       " 363,\n",
       " 401,\n",
       " 597,\n",
       " 1776,\n",
       " 722,\n",
       " 1548,\n",
       " 616,\n",
       " 1171,\n",
       " 724,\n",
       " 990,\n",
       " 169,\n",
       " 1177,\n",
       " 742]"
      ]
     },
     "execution_count": 30,
     "metadata": {},
     "output_type": "execute_result"
    }
   ],
   "source": [
    "crime_rates = int_crime_rates\n",
    "crime_rates"
   ]
  },
  {
   "cell_type": "code",
   "execution_count": 28,
   "metadata": {},
   "outputs": [
    {
     "data": {
      "text/plain": [
       "749"
      ]
     },
     "execution_count": 28,
     "metadata": {},
     "output_type": "execute_result"
    },
    {
     "data": {
      "text/plain": [
       "True"
      ]
     },
     "execution_count": 28,
     "metadata": {},
     "output_type": "execute_result"
    }
   ],
   "source": [
    "crime_rates[0]\n",
    "first_500 = (crime_rates[0] > 500)\n",
    "first_500"
   ]
  },
  {
   "cell_type": "code",
   "execution_count": 32,
   "metadata": {},
   "outputs": [
    {
     "data": {
      "text/plain": [
       "True"
      ]
     },
     "execution_count": 32,
     "metadata": {},
     "output_type": "execute_result"
    }
   ],
   "source": [
    "first_749 = (crime_rates[0] >= 749)\n",
    "first_749"
   ]
  },
  {
   "cell_type": "code",
   "execution_count": 36,
   "metadata": {},
   "outputs": [
    {
     "name": "stdout",
     "output_type": "stream",
     "text": [
      "72\n"
     ]
    },
    {
     "data": {
      "text/plain": [
       "True"
      ]
     },
     "execution_count": 36,
     "metadata": {},
     "output_type": "execute_result"
    }
   ],
   "source": [
    "print(len(crime_rates) - 1)\n",
    "first_last = (crime_rates[0] >= crime_rates[len(crime_rates) - 1])\n",
    "first_last"
   ]
  },
  {
   "cell_type": "markdown",
   "metadata": {},
   "source": [
    "#### # if statements\n",
    "The conditional statement after the if has to evaluate to either True or False."
   ]
  },
  {
   "cell_type": "code",
   "execution_count": 37,
   "metadata": {},
   "outputs": [
    {
     "name": "stdout",
     "output_type": "stream",
     "text": [
      "749\n"
     ]
    }
   ],
   "source": [
    "sample_rate = 749\n",
    "greater = (sample_rate > 5)\n",
    "if greater:\n",
    "    print(sample_rate)"
   ]
  },
  {
   "cell_type": "code",
   "execution_count": 38,
   "metadata": {},
   "outputs": [
    {
     "name": "stdout",
     "output_type": "stream",
     "text": [
      "749\n"
     ]
    }
   ],
   "source": [
    "if sample_rate > 5:\n",
    "    print(sample_rate)"
   ]
  },
  {
   "cell_type": "code",
   "execution_count": 39,
   "metadata": {},
   "outputs": [
    {
     "name": "stdout",
     "output_type": "stream",
     "text": [
      "Now you see me\n"
     ]
    }
   ],
   "source": [
    "if True:\n",
    "    print(\"Now you see me\")\n",
    "if False:\n",
    "    print(\"Now you don't \")"
   ]
  },
  {
   "cell_type": "code",
   "execution_count": 44,
   "metadata": {},
   "outputs": [
    {
     "data": {
      "text/plain": [
       "1"
      ]
     },
     "execution_count": 44,
     "metadata": {},
     "output_type": "execute_result"
    }
   ],
   "source": [
    "if cities[2] == \"Anchorage\":\n",
    "    result = 1\n",
    "result"
   ]
  },
  {
   "cell_type": "code",
   "execution_count": 47,
   "metadata": {},
   "outputs": [
    {
     "data": {
      "text/plain": [
       "749"
      ]
     },
     "execution_count": 47,
     "metadata": {},
     "output_type": "execute_result"
    },
    {
     "data": {
      "text/plain": [
       "371"
      ]
     },
     "execution_count": 47,
     "metadata": {},
     "output_type": "execute_result"
    },
    {
     "data": {
      "text/plain": [
       "True"
      ]
     },
     "execution_count": 47,
     "metadata": {},
     "output_type": "execute_result"
    }
   ],
   "source": [
    "crime_rates[0]\n",
    "crime_rates[1]\n",
    "both_conditions = False\n",
    "if crime_rates[0] > 500:\n",
    "    if crime_rates[1] > 300:\n",
    "        both_conditions = True\n",
    "both_conditions"
   ]
  },
  {
   "cell_type": "code",
   "execution_count": 48,
   "metadata": {},
   "outputs": [
    {
     "data": {
      "text/plain": [
       "True"
      ]
     },
     "execution_count": 48,
     "metadata": {},
     "output_type": "execute_result"
    }
   ],
   "source": [
    "found = False\n",
    "for city in cities:\n",
    "    if city == \"Washington\":\n",
    "        found = True\n",
    "found"
   ]
  },
  {
   "cell_type": "code",
   "execution_count": 51,
   "metadata": {},
   "outputs": [
    {
     "data": {
      "text/plain": [
       "73"
      ]
     },
     "execution_count": 51,
     "metadata": {},
     "output_type": "execute_result"
    }
   ],
   "source": [
    "counter = 0\n",
    "index = 0\n",
    "for city in cities:\n",
    "    if city == \"Washington\":\n",
    "        index = counter\n",
    "    counter += 1\n",
    "counter"
   ]
  },
  {
   "cell_type": "code",
   "execution_count": 52,
   "metadata": {},
   "outputs": [
    {
     "data": {
      "text/plain": [
       "[749,\n",
       " 828,\n",
       " 503,\n",
       " 1379,\n",
       " 542,\n",
       " 1405,\n",
       " 835,\n",
       " 1288,\n",
       " 647,\n",
       " 974,\n",
       " 1383,\n",
       " 658,\n",
       " 675,\n",
       " 615,\n",
       " 2122,\n",
       " 587,\n",
       " 543,\n",
       " 563,\n",
       " 992,\n",
       " 1185,\n",
       " 617,\n",
       " 734,\n",
       " 1263,\n",
       " 784,\n",
       " 575,\n",
       " 598,\n",
       " 1750,\n",
       " 1172,\n",
       " 1294,\n",
       " 992,\n",
       " 522,\n",
       " 1216,\n",
       " 815,\n",
       " 639,\n",
       " 1154,\n",
       " 1993,\n",
       " 919,\n",
       " 594,\n",
       " 1160,\n",
       " 636,\n",
       " 752,\n",
       " 517,\n",
       " 738,\n",
       " 503,\n",
       " 704,\n",
       " 597,\n",
       " 1776,\n",
       " 722,\n",
       " 1548,\n",
       " 616,\n",
       " 1171,\n",
       " 724,\n",
       " 990,\n",
       " 1177,\n",
       " 742]"
      ]
     },
     "execution_count": 52,
     "metadata": {},
     "output_type": "execute_result"
    }
   ],
   "source": [
    "five_hundred_list = []\n",
    "for data in crime_rates:\n",
    "    if data > 500:\n",
    "        five_hundred_list.append(data)\n",
    "five_hundred_list"
   ]
  },
  {
   "cell_type": "code",
   "execution_count": 53,
   "metadata": {},
   "outputs": [
    {
     "data": {
      "text/plain": [
       "2122"
      ]
     },
     "execution_count": 53,
     "metadata": {},
     "output_type": "execute_result"
    }
   ],
   "source": [
    "highest = crime_rates[0]\n",
    "for data in crime_rates:\n",
    "    if data > highest:\n",
    "        highest = data\n",
    "highest"
   ]
  },
  {
   "cell_type": "code",
   "execution_count": null,
   "metadata": {
    "collapsed": true
   },
   "outputs": [],
   "source": []
  },
  {
   "cell_type": "code",
   "execution_count": null,
   "metadata": {
    "collapsed": true
   },
   "outputs": [],
   "source": [
    "f = "
   ]
  },
  {
   "cell_type": "code",
   "execution_count": null,
   "metadata": {
    "collapsed": true
   },
   "outputs": [],
   "source": []
  },
  {
   "cell_type": "code",
   "execution_count": null,
   "metadata": {
    "collapsed": true
   },
   "outputs": [],
   "source": []
  },
  {
   "cell_type": "code",
   "execution_count": null,
   "metadata": {
    "collapsed": true
   },
   "outputs": [],
   "source": []
  },
  {
   "cell_type": "code",
   "execution_count": null,
   "metadata": {
    "collapsed": true
   },
   "outputs": [],
   "source": []
  },
  {
   "cell_type": "code",
   "execution_count": null,
   "metadata": {
    "collapsed": true
   },
   "outputs": [],
   "source": []
  },
  {
   "cell_type": "code",
   "execution_count": null,
   "metadata": {
    "collapsed": true
   },
   "outputs": [],
   "source": []
  },
  {
   "cell_type": "code",
   "execution_count": null,
   "metadata": {
    "collapsed": true
   },
   "outputs": [],
   "source": []
  },
  {
   "cell_type": "code",
   "execution_count": null,
   "metadata": {
    "collapsed": true
   },
   "outputs": [],
   "source": []
  },
  {
   "cell_type": "code",
   "execution_count": null,
   "metadata": {
    "collapsed": true
   },
   "outputs": [],
   "source": []
  },
  {
   "cell_type": "code",
   "execution_count": null,
   "metadata": {
    "collapsed": true
   },
   "outputs": [],
   "source": []
  },
  {
   "cell_type": "code",
   "execution_count": null,
   "metadata": {
    "collapsed": true
   },
   "outputs": [],
   "source": []
  },
  {
   "cell_type": "code",
   "execution_count": null,
   "metadata": {
    "collapsed": true
   },
   "outputs": [],
   "source": []
  },
  {
   "cell_type": "code",
   "execution_count": null,
   "metadata": {
    "collapsed": true
   },
   "outputs": [],
   "source": []
  },
  {
   "cell_type": "code",
   "execution_count": 55,
   "metadata": {},
   "outputs": [
    {
     "ename": "NameError",
     "evalue": "name 'numericla_list' is not defined",
     "output_type": "error",
     "traceback": [
      "\u001b[1;31m---------------------------------------------------------------------------\u001b[0m",
      "\u001b[1;31mNameError\u001b[0m                                 Traceback (most recent call last)",
      "\u001b[1;32m<ipython-input-55-2df3d61ed553>\u001b[0m in \u001b[0;36m<module>\u001b[1;34m()\u001b[0m\n\u001b[1;32m----> 1\u001b[1;33m \u001b[0mnumericla_list\u001b[0m\u001b[1;33m[\u001b[0m\u001b[0mlen\u001b[0m\u001b[1;33m(\u001b[0m\u001b[0mnumerical_list\u001b[0m\u001b[1;33m)\u001b[0m\u001b[1;33m-\u001b[0m\u001b[1;36m1\u001b[0m\u001b[1;33m]\u001b[0m\u001b[1;33m\u001b[0m\u001b[0m\n\u001b[0m\u001b[0;32m      2\u001b[0m \u001b[0mthousand_or_greater\u001b[0m \u001b[1;33m=\u001b[0m \u001b[1;33m[\u001b[0m\u001b[1;33m]\u001b[0m\u001b[1;33m\u001b[0m\u001b[0m\n\u001b[0;32m      3\u001b[0m \u001b[1;32mfor\u001b[0m \u001b[0mdata\u001b[0m \u001b[1;32min\u001b[0m \u001b[0mnumerical_list\u001b[0m\u001b[1;33m:\u001b[0m\u001b[1;33m\u001b[0m\u001b[0m\n\u001b[0;32m      4\u001b[0m     \u001b[0mname\u001b[0m \u001b[1;33m=\u001b[0m \u001b[0mline\u001b[0m\u001b[1;33m[\u001b[0m\u001b[1;36m0\u001b[0m\u001b[1;33m]\u001b[0m\u001b[1;33m\u001b[0m\u001b[0m\n\u001b[0;32m      5\u001b[0m     \u001b[0mpopulation\u001b[0m \u001b[1;33m=\u001b[0m \u001b[0mline\u001b[0m\u001b[1;33m[\u001b[0m\u001b[1;36m1\u001b[0m\u001b[1;33m]\u001b[0m\u001b[1;33m\u001b[0m\u001b[0m\n",
      "\u001b[1;31mNameError\u001b[0m: name 'numericla_list' is not defined"
     ]
    }
   ],
   "source": [
    "numericla_list[len(numerical_list)-1]\n",
    "thousand_or_greater = []\n",
    "for data in numerical_list:\n",
    "    name = line[0]\n",
    "    population = line[1]\n",
    "    if population >= 1000:\n",
    "        thousand_or_greater.append(name)\n",
    "print(thousand_or_greater[0:10])"
   ]
  },
  {
   "cell_type": "code",
   "execution_count": null,
   "metadata": {
    "collapsed": true
   },
   "outputs": [],
   "source": []
  }
 ],
 "metadata": {
  "kernelspec": {
   "display_name": "Python 3",
   "language": "python",
   "name": "python3"
  },
  "language_info": {
   "codemirror_mode": {
    "name": "ipython",
    "version": 3
   },
   "file_extension": ".py",
   "mimetype": "text/x-python",
   "name": "python",
   "nbconvert_exporter": "python",
   "pygments_lexer": "ipython3",
   "version": "3.6.1"
  }
 },
 "nbformat": 4,
 "nbformat_minor": 2
}
