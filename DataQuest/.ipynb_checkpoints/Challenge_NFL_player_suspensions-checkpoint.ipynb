{
 "cells": [
  {
   "cell_type": "markdown",
   "metadata": {},
   "source": [
    "# # Challenge\n",
    "### <p style=\"color:Tomato\">NFL player suspensions<p/>\n",
    "#### <p style=\"color:Gray\">nfl_suspensions_data.csv<p/><hr>\n",
    "The FiveThirtyEight team compiled the data st for a piece on domestic violence. The data set contains all domestic violence-related suspensions issued befor 2014. <br/>\n",
    "<br/>\n",
    "FiveThirtyEight 팀은 가정 폭력에 관한 자료 세트를 수집했습니다. 여기에서 다운로드 할 수 있습니다. 이 데이터에는 2014 년 이전에 발표 된 모든 가정 폭력 관련 정학 조치가 포함되어 있습니다."
   ]
  },
  {
   "cell_type": "markdown",
   "metadata": {},
   "source": [
    "#### <p style=\"color:Tomato\">read file and make a dictionary for year_column<p/>"
   ]
  },
  {
   "cell_type": "code",
   "execution_count": 39,
   "metadata": {
    "collapsed": true
   },
   "outputs": [],
   "source": [
    "from IPython.core.interactiveshell import InteractiveShell\n",
    "InteractiveShell.ast_node_interactivity = 'all'"
   ]
  },
  {
   "cell_type": "code",
   "execution_count": 40,
   "metadata": {},
   "outputs": [
    {
     "name": "stdout",
     "output_type": "stream",
     "text": [
      "['name', 'team', 'games', 'category', 'desc.', 'year', 'source']\n",
      "[['F. Davis', 'WAS', 'Indef.', 'Substance abuse, repeated offense', 'Marijuana-related', '2014', 'http://www.cbssports.com/nfl/eye-on-football/24448694/redskins-te-fred-davis-suspended-Indefiniteinitely-by-nfl'], ['J. Blackmon', 'JAX', 'Indef.', 'Substance abuse, repeated offense', '', '2014', 'http://espn.go.com/nfl/story/_/id/11257934/justin-blackmon-jacksonville-jaguars-arrested-marijuana-possession'], ['L. Brazill', 'IND', 'Indef.', 'Substance abuse, repeated offense', '', '2014', 'http://www.nfl.com/news/story/0ap2000000364622/article/lavon-brazill-released-by-colts-in-wake-of-suspension'], ['T. Jackson', 'WAS', 'Indef.', 'Substance abuse, repeated offense', '', '2014', 'http://www.nfl.com/news/story/0ap2000000364087/article/tanard-jackson-suspended-Indefiniteinitely-by-nfl']]\n"
     ]
    }
   ],
   "source": [
    "import csv\n",
    "f = open('nfl_suspensions_data.csv', 'r')\n",
    "readcsv = csv.reader(f)\n",
    "nfl_suspensions = list(readcsv)\n",
    "print(nfl_suspensions[0])\n",
    "print(nfl_suspensions[1:5])"
   ]
  },
  {
   "cell_type": "code",
   "execution_count": 41,
   "metadata": {
    "collapsed": true
   },
   "outputs": [],
   "source": [
    "class Dataset:\n",
    "    def __init__(self, data):\n",
    "        self.header = data[0]\n",
    "        self.data = data[1:]"
   ]
  },
  {
   "cell_type": "code",
   "execution_count": 42,
   "metadata": {
    "collapsed": true
   },
   "outputs": [],
   "source": [
    "nfl = Dataset(nfl_suspensions)\n",
    "header = nfl.header\n",
    "nfl_suspensions = nfl.data"
   ]
  },
  {
   "cell_type": "code",
   "execution_count": 43,
   "metadata": {
    "scrolled": true
   },
   "outputs": [
    {
     "data": {
      "text/plain": [
       "['name', 'team', 'games', 'category', 'desc.', 'year', 'source']"
      ]
     },
     "execution_count": 43,
     "metadata": {},
     "output_type": "execute_result"
    }
   ],
   "source": [
    "header"
   ]
  },
  {
   "cell_type": "code",
   "execution_count": 48,
   "metadata": {
    "scrolled": true
   },
   "outputs": [
    {
     "data": {
      "text/plain": [
       "['2014',\n",
       " '2014',\n",
       " '2014',\n",
       " '2014',\n",
       " '1946',\n",
       " '2014',\n",
       " '1947',\n",
       " '2010',\n",
       " '2008',\n",
       " '2007']"
      ]
     },
     "execution_count": 48,
     "metadata": {},
     "output_type": "execute_result"
    },
    {
     "name": "stdout",
     "output_type": "stream",
     "text": [
      "{'2014': 29, '1946': 1, '1947': 1, '2010': 21, '2008': 10, '2007': 17, '1983': 1, '2009': 10, '2005': 8, '2000': 1, '2012': 45, '2001': 3, '2006': 11, '1989': 17, '   ': 1, '1963': 1, '2013': 40, '1990': 3, '2011': 13, '2004': 6, '2002': 7, '2003': 9, '1997': 3, '1999': 5, '1993': 1, '1995': 1, '1998': 2, '1994': 1, '1986': 1}\n"
     ]
    }
   ],
   "source": [
    "row_year = []\n",
    "for item in nfl_suspensions:\n",
    "    row_year.append(item[5])\n",
    "row_year[:10]\n",
    "\n",
    "years = {}\n",
    "for year in row_year:\n",
    "    if year in years:\n",
    "        years[year] += 1\n",
    "    else:\n",
    "        years[year] = 1\n",
    "print(years)"
   ]
  },
  {
   "cell_type": "markdown",
   "metadata": {},
   "source": [
    "#### <p style=\"color:Gray\">dataquest solutions<p/><hr>\n"
   ]
  },
  {
   "cell_type": "code",
   "execution_count": 58,
   "metadata": {
    "collapsed": true
   },
   "outputs": [],
   "source": [
    "import csv\n",
    "f = open('nfl_suspensions_data.csv', 'r')\n",
    "nfl_suspensions = list(csv.reader(f))\n",
    "nfl_suspensions = nfl_suspensions[1:]\n",
    "\n",
    "years = {}\n",
    "\n",
    "for suspension in nfl_suspensions:\n",
    "    row_year = suspension[5]\n",
    "    if row_year in years:\n",
    "        years[row_year] = years[row_year] + 1\n",
    "    else:\n",
    "        years[row_year] = 1\n",
    "print(years)\n"
   ]
  },
  {
   "cell_type": "markdown",
   "metadata": {},
   "source": [
    "#### <p style=\"color:Tomato\">Pick up Unique elements in each column<p/>"
   ]
  },
  {
   "cell_type": "code",
   "execution_count": 63,
   "metadata": {
    "collapsed": true
   },
   "outputs": [],
   "source": [
    "team_column = []\n",
    "for row in nfl_suspensions:\n",
    "    row_team = row[1]\n",
    "    team_column.append(row_team)\n",
    "    \n",
    "unique_teams = set(team_column)"
   ]
  },
  {
   "cell_type": "code",
   "execution_count": 64,
   "metadata": {},
   "outputs": [
    {
     "name": "stdout",
     "output_type": "stream",
     "text": [
      "{'OAK', 'CIN', 'DAL', 'ATL', 'SEA', 'NE', 'KC', 'PHI', 'ARI', 'DET', 'JAX', 'GB', 'PIT', 'CHI', 'IND', 'NYG', 'CAR', 'HOU', 'SD', 'CLE', 'MIN', 'WAS', 'STL', 'TEN', 'NYJ', 'TB', 'NO', 'SF', 'DEN', 'FREE', 'BUF', 'BAL', 'LA', 'MIA'}\n"
     ]
    }
   ],
   "source": [
    "print(unique_teams)"
   ]
  },
  {
   "cell_type": "code",
   "execution_count": 67,
   "metadata": {},
   "outputs": [
    {
     "name": "stdout",
     "output_type": "stream",
     "text": [
      "{'OAK', 'CIN', 'DAL', 'ATL', 'SEA', 'NE', 'KC', 'PHI', 'ARI', 'DET', 'JAX', 'GB', 'PIT', 'CHI', 'IND', 'NYG', 'CAR', 'HOU', 'SD', 'CLE', 'MIN', 'WAS', 'STL', 'TEN', 'NYJ', 'TB', 'NO', 'SF', 'DEN', 'FREE', 'BUF', 'BAL', 'LA', 'MIA'}\n"
     ]
    }
   ],
   "source": [
    "team = [row[1] for row in nfl_suspensions]\n",
    "unique_teams = set(team)\n",
    "print(unique_teams)"
   ]
  },
  {
   "cell_type": "code",
   "execution_count": 68,
   "metadata": {},
   "outputs": [
    {
     "name": "stdout",
     "output_type": "stream",
     "text": [
      "{'36', '2', 'Indef.', '32', '20', '5', '1', '16', '6', '4', '8', '3', '14', '10'}\n"
     ]
    }
   ],
   "source": [
    "unique_games = set([row[2] for row in nfl_suspensions])\n",
    "print(unique_games)"
   ]
  },
  {
   "cell_type": "markdown",
   "metadata": {},
   "source": [
    "#### <p style=\"color:Tomato\">Create a class<p/>"
   ]
  },
  {
   "cell_type": "code",
   "execution_count": null,
   "metadata": {
    "collapsed": true
   },
   "outputs": [],
   "source": []
  },
  {
   "cell_type": "code",
   "execution_count": 93,
   "metadata": {
    "collapsed": true
   },
   "outputs": [],
   "source": [
    "class Suspension():\n",
    "    def __init__(self, row):\n",
    "        self.name = row[0]\n",
    "        self.team = row[1]\n",
    "        self.games = row[2]\n",
    "        self.year = row[5]"
   ]
  },
  {
   "cell_type": "code",
   "execution_count": 94,
   "metadata": {
    "scrolled": false
   },
   "outputs": [
    {
     "data": {
      "text/plain": [
       "['L. Brazill',\n",
       " 'IND',\n",
       " 'Indef.',\n",
       " 'Substance abuse, repeated offense',\n",
       " '',\n",
       " '2014',\n",
       " 'http://www.nfl.com/news/story/0ap2000000364622/article/lavon-brazill-released-by-colts-in-wake-of-suspension']"
      ]
     },
     "execution_count": 94,
     "metadata": {},
     "output_type": "execute_result"
    },
    {
     "data": {
      "text/plain": [
       "'IND'"
      ]
     },
     "execution_count": 94,
     "metadata": {},
     "output_type": "execute_result"
    },
    {
     "data": {
      "text/plain": [
       "'L. Brazill'"
      ]
     },
     "execution_count": 94,
     "metadata": {},
     "output_type": "execute_result"
    }
   ],
   "source": [
    "nfl_suspensions[2]\n",
    "third_suspension = Suspension(nfl_suspensions[2])\n",
    "third_suspension.team\n",
    "third_suspension.name"
   ]
  },
  {
   "cell_type": "code",
   "execution_count": 96,
   "metadata": {
    "collapsed": true
   },
   "outputs": [],
   "source": [
    "class Suspension():\n",
    "    def __init__(self, row):\n",
    "        self.name = row[0]\n",
    "        self.team = row[1]\n",
    "        self.games = row[2]\n",
    "        self.year = row[5]\n",
    "        try: \n",
    "            self.year = int(row[5])\n",
    "        except Exception:\n",
    "            self.year = 0\n",
    "    def get_year(self):\n",
    "        return(self.year)"
   ]
  },
  {
   "cell_type": "code",
   "execution_count": 100,
   "metadata": {},
   "outputs": [
    {
     "data": {
      "text/plain": [
       "['P. Hornung',\n",
       " 'GB',\n",
       " '14',\n",
       " 'Personal conduct',\n",
       " 'Gambling-related',\n",
       " '   ',\n",
       " 'http://espn.go.com/blog/nflnation/tag/_/name/frank-filchock']"
      ]
     },
     "execution_count": 100,
     "metadata": {},
     "output_type": "execute_result"
    }
   ],
   "source": [
    "nfl_suspensions[22]"
   ]
  },
  {
   "cell_type": "markdown",
   "metadata": {},
   "source": [
    "* Create **a Suspension instance** using the 23rd row, and assign it to missing_year.<br/>\n",
    "23 번째 행을 사용하여 a Suspension 인스턴스를 만들고 missing_year에 할당합니다.\n",
    "* Use the get_year() method to assign the year of the missing_year suspension instance to twenty_third_year.<br/>\n",
    "get_year() 메서드를 사용해서 the missing_year suspension instance의 year를 twenty_third_year에 지정합니다."
   ]
  },
  {
   "cell_type": "code",
   "execution_count": 102,
   "metadata": {},
   "outputs": [
    {
     "name": "stdout",
     "output_type": "stream",
     "text": [
      "<__main__.Suspension object at 0x00000201C5DAFB70>\n"
     ]
    },
    {
     "data": {
      "text/plain": [
       "0"
      ]
     },
     "execution_count": 102,
     "metadata": {},
     "output_type": "execute_result"
    }
   ],
   "source": [
    "missing_year = Suspension(nfl_suspensions[22])\n",
    "print(missing_year)\n",
    "twenty_third_year = missing_year.get_year()\n",
    "twenty_third_year"
   ]
  },
  {
   "cell_type": "code",
   "execution_count": null,
   "metadata": {
    "collapsed": true
   },
   "outputs": [],
   "source": []
  }
 ],
 "metadata": {
  "kernelspec": {
   "display_name": "Python 3",
   "language": "python",
   "name": "python3"
  },
  "language_info": {
   "codemirror_mode": {
    "name": "ipython",
    "version": 3
   },
   "file_extension": ".py",
   "mimetype": "text/x-python",
   "name": "python",
   "nbconvert_exporter": "python",
   "pygments_lexer": "ipython3",
   "version": "3.6.1"
  }
 },
 "nbformat": 4,
 "nbformat_minor": 2
}
