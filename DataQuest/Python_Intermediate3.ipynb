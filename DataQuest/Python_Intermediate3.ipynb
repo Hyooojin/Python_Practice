{
 "cells": [
  {
   "cell_type": "markdown",
   "metadata": {},
   "source": [
    "# # Variable Scopes\n",
    "### <p style=\"color:Tomato\">Learn about scopes by analyzing student loan defaults in the U.S.<p/>\n",
    "Using a data set on student loan defaults in the United States.<br/>\n",
    "Each row of our dataset represents a single university, and contains information about the number of its students who later defaulted on their loans. While the data contains twelve columns, we'll be looking at a few in particular: <br/>\n",
    "<br/>\n",
    "데이터 세트의 각 행은 단일 대학을 대표하며, 나중에 대출을 불이행 한 학생들의 수에 대한 정보를 포함합니다. 데이터에 12 개의 열이 포함되어 있지만 특히 몇 가지를 살펴 보겠습니다.\n",
    "#### <p style=\"color:Gray\">student_loan_defaults.csv<p/>\n"
   ]
  },
  {
   "cell_type": "code",
   "execution_count": 1,
   "metadata": {
    "collapsed": true
   },
   "outputs": [],
   "source": [
    "from IPython.core.interactiveshell import InteractiveShell\n",
    "InteractiveShell.ast_node_interactivity = 'all'"
   ]
  },
  {
   "cell_type": "code",
   "execution_count": 2,
   "metadata": {
    "scrolled": true
   },
   "outputs": [
    {
     "data": {
      "text/plain": [
       "['serial',\n",
       " 'opeid',\n",
       " 'institution',\n",
       " 'address',\n",
       " 'city',\n",
       " 'state',\n",
       " 'zip',\n",
       " 'repayment_borrowers',\n",
       " 'default_borrowers',\n",
       " 'default_rate',\n",
       " 'borrower_default_count_240',\n",
       " 'principal_outstanding_240']"
      ]
     },
     "execution_count": 2,
     "metadata": {},
     "output_type": "execute_result"
    },
    {
     "data": {
      "text/plain": [
       "[['1',\n",
       "  '100200',\n",
       "  'Alabama Agricultural & Mechanical University',\n",
       "  '4900 Meridian Street',\n",
       "  'Normal',\n",
       "  'AL',\n",
       "  '35762-1357',\n",
       "  '145',\n",
       "  '54',\n",
       "  '37.2400%',\n",
       "  '1606',\n",
       "  '954821'],\n",
       " ['6',\n",
       "  '100500',\n",
       "  'Alabama State University',\n",
       "  '915 South Jackson Street',\n",
       "  'Montgomery',\n",
       "  'AL',\n",
       "  '36104-5714',\n",
       "  '164',\n",
       "  '12',\n",
       "  '7.3200%',\n",
       "  '1567',\n",
       "  '1410608'],\n",
       " ['13',\n",
       "  '100900',\n",
       "  'Auburn University',\n",
       "  '107 Samford Hall',\n",
       "  'Auburn',\n",
       "  'AL',\n",
       "  '36849-5113',\n",
       "  '479',\n",
       "  '29',\n",
       "  '6.0500%',\n",
       "  '269',\n",
       "  '747267'],\n",
       " ['14',\n",
       "  '831000',\n",
       "  'Auburn University Montgomery',\n",
       "  '7440 East Drive',\n",
       "  'Montgomery',\n",
       "  'AL',\n",
       "  '36117-3596',\n",
       "  '88',\n",
       "  '20',\n",
       "  '22.7300%',\n",
       "  '184',\n",
       "  '457312'],\n",
       " ['16',\n",
       "  '101200',\n",
       "  'Birmingham Southern College',\n",
       "  '900 Arkadelphia Road',\n",
       "  'Birmingham',\n",
       "  'AL',\n",
       "  '35254-0002',\n",
       "  '69',\n",
       "  '12',\n",
       "  '17.3900%',\n",
       "  '93',\n",
       "  '240798']]"
      ]
     },
     "execution_count": 2,
     "metadata": {},
     "output_type": "execute_result"
    }
   ],
   "source": [
    "import csv\n",
    "f = open('student_loan_defaults.csv', encoding='UTF8')\n",
    "student_loan = list(csv.reader(f))\n",
    "# 'cp949' codec can't decode byte 0xe2 in position 7250: illegal multibyte sequence\n",
    "# must be add encoding='UTF8\n",
    "student_loan[0]\n",
    "student_loan = student_loan[1:]\n",
    "student_loan[:5]"
   ]
  },
  {
   "cell_type": "code",
   "execution_count": 3,
   "metadata": {
    "collapsed": true
   },
   "outputs": [],
   "source": [
    "f = open('student_loan_defaults.csv', encoding='UTF8')\n",
    "student_loan = list(csv.reader(f))\n",
    "\n",
    "class Dataset:\n",
    "    def __init__(self, data):\n",
    "        self.header = data[0]\n",
    "        self.data = data[1:]\n",
    "    def column(self, label):\n",
    "        if label not in self.header:\n",
    "            return None\n",
    "        index = 0\n",
    "        for idx, element in enumerate(self.header):\n",
    "            if label == element:\n",
    "                index = idx\n",
    "        column = []\n",
    "        for row in self.data:\n",
    "            column.append(row[index])\n",
    "        return column\n",
    "    "
   ]
  },
  {
   "cell_type": "code",
   "execution_count": 4,
   "metadata": {
    "collapsed": true
   },
   "outputs": [],
   "source": [
    "student_loan_dataset = Dataset(student_loan)\n",
    "header = student_loan_dataset.header\n",
    "borrower_default_count_240 = student_loan_dataset.column('borrower_default_count_240')"
   ]
  },
  {
   "cell_type": "code",
   "execution_count": 5,
   "metadata": {},
   "outputs": [
    {
     "name": "stdout",
     "output_type": "stream",
     "text": [
      "1845\n",
      "['1606', '1567', '269', '184', '93', '75', '52', '88', '12', '5']\n"
     ]
    }
   ],
   "source": [
    "print(len(borrower_default_count_240))\n",
    "print(borrower_default_count_240[0:10])"
   ]
  },
  {
   "cell_type": "code",
   "execution_count": 6,
   "metadata": {},
   "outputs": [
    {
     "data": {
      "text/plain": [
       "['serial',\n",
       " 'opeid',\n",
       " 'institution',\n",
       " 'address',\n",
       " 'city',\n",
       " 'state',\n",
       " 'zip',\n",
       " 'repayment_borrowers',\n",
       " 'default_borrowers',\n",
       " 'default_rate',\n",
       " 'borrower_default_count_240',\n",
       " 'principal_outstanding_240']"
      ]
     },
     "execution_count": 6,
     "metadata": {},
     "output_type": "execute_result"
    }
   ],
   "source": [
    "header = student_loan_dataset.header\n",
    "header"
   ]
  },
  {
   "cell_type": "markdown",
   "metadata": {
    "collapsed": true
   },
   "source": [
    "#### <p style=\"color:Gray\">Bulit-in functions<p/>\n",
    ">some python functions are available by defalut, without having to import them.<br/>\n",
    "Developers use these functions so often that it made sense to make them a part of the language itself. <br/>\n",
    "https://docs.python.org/3/library/functions.html"
   ]
  },
  {
   "cell_type": "code",
   "execution_count": 7,
   "metadata": {},
   "outputs": [
    {
     "data": {
      "text/plain": [
       "17"
      ]
     },
     "execution_count": 7,
     "metadata": {},
     "output_type": "execute_result"
    }
   ],
   "source": [
    "a = [6, 11]\n",
    "total = sum(a)\n",
    "total"
   ]
  },
  {
   "cell_type": "code",
   "execution_count": 8,
   "metadata": {
    "collapsed": true
   },
   "outputs": [],
   "source": [
    "total = sum([6, 11])"
   ]
  },
  {
   "cell_type": "code",
   "execution_count": null,
   "metadata": {
    "collapsed": true
   },
   "outputs": [],
   "source": []
  },
  {
   "cell_type": "code",
   "execution_count": 9,
   "metadata": {
    "scrolled": true
   },
   "outputs": [
    {
     "name": "stdout",
     "output_type": "stream",
     "text": [
      "10\n"
     ]
    }
   ],
   "source": [
    "b = 10\n",
    "print(b)"
   ]
  },
  {
   "cell_type": "markdown",
   "metadata": {},
   "source": [
    "This code will actually generate an error because sum no longer points to the built-in Python function but to the expression sum(b) instead. "
   ]
  },
  {
   "cell_type": "code",
   "execution_count": 10,
   "metadata": {},
   "outputs": [
    {
     "name": "stdout",
     "output_type": "stream",
     "text": [
      "<built-in function sum>\n"
     ]
    }
   ],
   "source": [
    "b = [1, 2]\n",
    "# sum = sum(b)\n",
    "print(sum)"
   ]
  },
  {
   "cell_type": "code",
   "execution_count": 11,
   "metadata": {
    "collapsed": true
   },
   "outputs": [],
   "source": [
    "def add(a, b):\n",
    "    total = a + b\n",
    "    return total"
   ]
  },
  {
   "cell_type": "code",
   "execution_count": 12,
   "metadata": {},
   "outputs": [
    {
     "name": "stdout",
     "output_type": "stream",
     "text": [
      "30\n",
      "15\n"
     ]
    }
   ],
   "source": [
    "total = 15\n",
    "print(add(10, 20))\n",
    "print(total)"
   ]
  },
  {
   "cell_type": "markdown",
   "metadata": {},
   "source": []
  },
  {
   "cell_type": "markdown",
   "metadata": {},
   "source": [
    "#### <p style=\"color:Tomato\">The ide of variable scoping<p/>\n",
    "allows us to isolate what happens in functions from what happens in the rest of our program\n",
    "#### <p style=\"color:Gray\"># global scope<p/>\n",
    "> The global scope is whatever happens outside of a function.<br/>\n",
    "ex) Global scope<br/>\n",
    "total = 15\n",
    "\n",
    "<br/>\n",
    "#### <p style=\"color:Gray\"># local scope<p/>\n",
    "> Anything that happens inside a function is in a local scope<br/>\n",
    "ex) Local scope(add) <br/>\n",
    "total = 30<br/><br/>\n",
    "\n",
    "<br/>\n",
    "**There's only one global scope, but each function creates its own local scope.**\n",
    "<br/>\n",
    "the script above would print out two different totals: first 30, then 15.<br/>\n",
    "That's because the variable total we defined in our script is in **the global scope**, whereas the total variable inside add is in **a local scope**."
   ]
  },
  {
   "cell_type": "code",
   "execution_count": 13,
   "metadata": {},
   "outputs": [
    {
     "name": "stdout",
     "output_type": "stream",
     "text": [
      "<class 'str'>\n"
     ]
    }
   ],
   "source": [
    "print(type(borrower_default_count_240[0]))"
   ]
  },
  {
   "cell_type": "markdown",
   "metadata": {},
   "source": [
    "[Error handling]<br/>\n",
    "what error:<br/>\n",
    "unsupported operand type(s) for +: 'int' and 'str'"
   ]
  },
  {
   "cell_type": "code",
   "execution_count": 14,
   "metadata": {
    "collapsed": true
   },
   "outputs": [],
   "source": [
    "borrower_default_count_240 = [int(row) for row in borrower_default_count_240]"
   ]
  },
  {
   "cell_type": "code",
   "execution_count": 15,
   "metadata": {},
   "outputs": [
    {
     "name": "stdout",
     "output_type": "stream",
     "text": [
      "<class 'int'>\n"
     ]
    }
   ],
   "source": [
    "print(type(borrower_default_count_240[0]))"
   ]
  },
  {
   "cell_type": "code",
   "execution_count": 16,
   "metadata": {
    "collapsed": true
   },
   "outputs": [],
   "source": [
    "def find_average(column):\n",
    "    length = len(column)\n",
    "    total = sum(column)\n",
    "    return total / length"
   ]
  },
  {
   "cell_type": "code",
   "execution_count": 17,
   "metadata": {},
   "outputs": [
    {
     "name": "stdout",
     "output_type": "stream",
     "text": [
      "499833\n"
     ]
    }
   ],
   "source": [
    "total = sum(borrower_default_count_240)\n",
    "print(total)"
   ]
  },
  {
   "cell_type": "code",
   "execution_count": 18,
   "metadata": {},
   "outputs": [
    {
     "name": "stdout",
     "output_type": "stream",
     "text": [
      "270.91219512195124\n"
     ]
    }
   ],
   "source": [
    "average = find_average(borrower_default_count_240)\n",
    "print(average)"
   ]
  },
  {
   "cell_type": "code",
   "execution_count": 19,
   "metadata": {
    "collapsed": true
   },
   "outputs": [],
   "source": [
    "total = 50\n",
    "def find_average(column):\n",
    "    length = len(column)\n",
    "    return total /length"
   ]
  },
  {
   "cell_type": "code",
   "execution_count": 20,
   "metadata": {
    "collapsed": true
   },
   "outputs": [],
   "source": [
    "principal_outstanding_240 = student_loan_dataset.column('principal_outstanding_240')"
   ]
  },
  {
   "cell_type": "code",
   "execution_count": 21,
   "metadata": {
    "collapsed": true
   },
   "outputs": [],
   "source": [
    "principal_outstanding_240 = [int(row) for row in principal_outstanding_240]"
   ]
  },
  {
   "cell_type": "code",
   "execution_count": 22,
   "metadata": {
    "scrolled": false
   },
   "outputs": [
    {
     "name": "stdout",
     "output_type": "stream",
     "text": [
      "0.02710027100271003\n"
     ]
    }
   ],
   "source": [
    "average = find_average(principal_outstanding_240)\n",
    "print(average)"
   ]
  },
  {
   "cell_type": "code",
   "execution_count": 23,
   "metadata": {},
   "outputs": [
    {
     "data": {
      "text/plain": [
       "0.02710027100271003"
      ]
     },
     "execution_count": 23,
     "metadata": {},
     "output_type": "execute_result"
    }
   ],
   "source": [
    "50 / len(principal_outstanding_240)"
   ]
  },
  {
   "cell_type": "code",
   "execution_count": 24,
   "metadata": {
    "collapsed": true,
    "scrolled": true
   },
   "outputs": [],
   "source": [
    "def find_average(column):\n",
    "    total = sum(column)\n",
    "    length = len(column)\n",
    "    return total/length"
   ]
  },
  {
   "cell_type": "code",
   "execution_count": 25,
   "metadata": {},
   "outputs": [
    {
     "name": "stdout",
     "output_type": "stream",
     "text": [
      "563408.6590785908\n"
     ]
    }
   ],
   "source": [
    "average = find_average(principal_outstanding_240)\n",
    "print(average)"
   ]
  },
  {
   "cell_type": "code",
   "execution_count": 26,
   "metadata": {
    "collapsed": true
   },
   "outputs": [],
   "source": [
    "def find_average(column):\n",
    "    total = sum(column)\n",
    "    return total/length"
   ]
  },
  {
   "cell_type": "code",
   "execution_count": 27,
   "metadata": {},
   "outputs": [
    {
     "name": "stdout",
     "output_type": "stream",
     "text": [
      "103948897.6\n"
     ]
    }
   ],
   "source": [
    "length = 10\n",
    "\n",
    "average = find_average(principal_outstanding_240)\n",
    "\n",
    "print(average)"
   ]
  },
  {
   "cell_type": "markdown",
   "metadata": {},
   "source": [
    "#### <p style=\"color:Tomato\">Local scope, Global scope, built-in function<p/>\n",
    ">If we use a variable in **a local scope** that isn't defined there, the Python interpreter **will look for it in the global scope**. If it doesn't find the variable there, it will check whether the variable is a built-in function name.<br/><br/>\n",
    "We use the sum variable in the total() function, but don't define in the local scope or the global scope. This variable is actually a built-in function called sum().\n"
   ]
  },
  {
   "cell_type": "code",
   "execution_count": 28,
   "metadata": {
    "collapsed": true
   },
   "outputs": [],
   "source": [
    "def total(a):\n",
    "    return sum(a)"
   ]
  },
  {
   "cell_type": "code",
   "execution_count": 29,
   "metadata": {},
   "outputs": [
    {
     "data": {
      "text/plain": [
       "15"
      ]
     },
     "execution_count": 29,
     "metadata": {},
     "output_type": "execute_result"
    }
   ],
   "source": [
    "b = [1, 2, 3, 4, 5]\n",
    "total(b)"
   ]
  },
  {
   "cell_type": "markdown",
   "metadata": {},
   "source": [
    ">If other code in the global scope overwrites the built-in function, then the interpreter uses the value in the global scope:"
   ]
  },
  {
   "cell_type": "code",
   "execution_count": 30,
   "metadata": {},
   "outputs": [
    {
     "data": {
      "text/plain": [
       "'sum = 10\\ndef total(a):\\n    return sum(a)\\n\\nprint(total(int([1, 2])))\\nerror'"
      ]
     },
     "execution_count": 30,
     "metadata": {},
     "output_type": "execute_result"
    }
   ],
   "source": [
    "'''sum = 10\n",
    "def total(a):\n",
    "    return sum(a)\n",
    "\n",
    "print(total(int([1, 2])))\n",
    "error'''\n",
    "\n"
   ]
  },
  {
   "cell_type": "markdown",
   "metadata": {},
   "source": [
    ">The code above will cause an error, because the interpreter will use the global scope value for sum in the total() function. That's because the global scope value for sum is an integer, and won't work as a function."
   ]
  },
  {
   "cell_type": "markdown",
   "metadata": {},
   "source": [
    "#### <p style=\"color:Gray\"># global scope<p/>\n",
    "Global variables are variables that are available across all scopes. We can access and change the value of a global variable inside any global scope or local scope.\n",
    "\n",
    "While Global variables can sometimes be handy, the developer community generally doesn't recommend using them. That's because they make functions dependent on the value of variables in the global scope, and prevent them from being reusable in any situation."
   ]
  },
  {
   "cell_type": "code",
   "execution_count": 31,
   "metadata": {},
   "outputs": [
    {
     "name": "stdout",
     "output_type": "stream",
     "text": [
      "30\n"
     ]
    }
   ],
   "source": [
    "total = 10\n",
    "def add_to_total(a):\n",
    "    global total\n",
    "    total = total + a\n",
    "add_to_total(20)\n",
    "print(total)"
   ]
  },
  {
   "cell_type": "code",
   "execution_count": 51,
   "metadata": {},
   "outputs": [
    {
     "name": "stdout",
     "output_type": "stream",
     "text": [
      "10\n"
     ]
    }
   ],
   "source": [
    "def test_function():\n",
    "    global a\n",
    "    a = 10\n",
    "\n",
    "test_function()\n",
    "\n",
    "print(a)"
   ]
  },
  {
   "cell_type": "code",
   "execution_count": 52,
   "metadata": {},
   "outputs": [
    {
     "name": "stdout",
     "output_type": "stream",
     "text": [
      "20\n"
     ]
    }
   ],
   "source": [
    "def test_function2():\n",
    "    global b\n",
    "    b = 20\n",
    "\n",
    "test_function2()\n",
    "\n",
    "print(b)"
   ]
  },
  {
   "cell_type": "code",
   "execution_count": 53,
   "metadata": {},
   "outputs": [
    {
     "name": "stdout",
     "output_type": "stream",
     "text": [
      "30\n",
      "40\n"
     ]
    }
   ],
   "source": [
    "c = 30\n",
    "\n",
    "def test_function3():\n",
    "    global c\n",
    "    c = 40\n",
    "\n",
    "print(c)\n",
    "\n",
    "test_function3()\n",
    "\n",
    "print(c)"
   ]
  },
  {
   "cell_type": "markdown",
   "metadata": {},
   "source": [
    "* Start with the local scope, if any. If the variable is defined here, it will use that value.\n",
    "* Look at any enclosing scopes, starting with the innermost. These are \"outside\" local scopes. If the variable is defined in any of them, it will use the value.\n",
    "* Look in the global scope. If the variable is there, it uses the value.\n",
    "* Look in the built-in functions.\n",
    "* Throw an error if it doesn't find the variable.\n",
    "\n",
    "<br/>\n",
    "A simple way to remember this is **LEGBE**, which stands for \"Local, Enclosing, Global, Built-ins, Error\"."
   ]
  },
  {
   "cell_type": "code",
   "execution_count": null,
   "metadata": {
    "collapsed": true
   },
   "outputs": [],
   "source": []
  }
 ],
 "metadata": {
  "kernelspec": {
   "display_name": "Python 3",
   "language": "python",
   "name": "python3"
  },
  "language_info": {
   "codemirror_mode": {
    "name": "ipython",
    "version": 3
   },
   "file_extension": ".py",
   "mimetype": "text/x-python",
   "name": "python",
   "nbconvert_exporter": "python",
   "pygments_lexer": "ipython3",
   "version": "3.6.1"
  }
 },
 "nbformat": 4,
 "nbformat_minor": 2
}
