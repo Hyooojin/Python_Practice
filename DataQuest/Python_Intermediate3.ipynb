{
 "cells": [
  {
   "cell_type": "markdown",
   "metadata": {},
   "source": [
    "# # Variable Scopes\n",
    "### <p style=\"color:Tomato\">Learn about scopes by analyzing student loan defaults in the U.S.<p/>\n",
    "Using a data set on student loan defaults in the United States.<br/>\n",
    "Each row of our dataset represents a single university, and contains information about the number of its students who later defaulted on their loans. While the data contains twelve columns, we'll be looking at a few in particular: <br/>\n",
    "<br/>\n",
    "데이터 세트의 각 행은 단일 대학을 대표하며, 나중에 대출을 불이행 한 학생들의 수에 대한 정보를 포함합니다. 데이터에 12 개의 열이 포함되어 있지만 특히 몇 가지를 살펴 보겠습니다.\n",
    "#### <p style=\"color:Gray\">student_loan_defaults.csv<p/>\n"
   ]
  },
  {
   "cell_type": "code",
   "execution_count": null,
   "metadata": {
    "collapsed": true
   },
   "outputs": [],
   "source": [
    "from IPython.core.interactiveshell import InteractiveShell\n",
    "InteractiveShell.ast_node_interactivity = 'all'"
   ]
  },
  {
   "cell_type": "code",
   "execution_count": null,
   "metadata": {
    "scrolled": true
   },
   "outputs": [],
   "source": [
    "import csv\n",
    "f = open('student_loan_defaults.csv', encoding='UTF8')\n",
    "student_loan = list(csv.reader(f))\n",
    "# 'cp949' codec can't decode byte 0xe2 in position 7250: illegal multibyte sequence\n",
    "# must be add encoding='UTF8\n",
    "student_loan[0]\n",
    "student_loan = student_loan[1:]\n",
    "student_loan[:5]"
   ]
  },
  {
   "cell_type": "code",
   "execution_count": null,
   "metadata": {
    "collapsed": true
   },
   "outputs": [],
   "source": [
    "f = open('student_loan_defaults.csv', encoding='UTF8')\n",
    "student_loan = list(csv.reader(f))\n",
    "\n",
    "class Dataset:\n",
    "    def __init__(self, data):\n",
    "        self.header = data[0]\n",
    "        self.data = data[1:]\n",
    "    def column(self, label):\n",
    "        if label not in self.header:\n",
    "            return None\n",
    "        index = 0\n",
    "        for idx, element in enumerate(self.header):\n",
    "            if label == element:\n",
    "                index = idx\n",
    "        column = []\n",
    "        for row in self.data:\n",
    "            column.append(row[index])\n",
    "        return column\n",
    "    "
   ]
  },
  {
   "cell_type": "code",
   "execution_count": null,
   "metadata": {
    "collapsed": true
   },
   "outputs": [],
   "source": [
    "student_loan_dataset = Dataset(student_loan)\n",
    "header = student_loan_dataset.header\n",
    "borrower_default_count_240 = student_loan_dataset.column('borrower_default_count_240')"
   ]
  },
  {
   "cell_type": "code",
   "execution_count": null,
   "metadata": {},
   "outputs": [],
   "source": [
    "print(len(borrower_default_count_240))\n",
    "print(borrower_default_count_240[0:10])"
   ]
  },
  {
   "cell_type": "code",
   "execution_count": null,
   "metadata": {},
   "outputs": [],
   "source": [
    "header = student_loan_dataset.header\n",
    "header"
   ]
  },
  {
   "cell_type": "markdown",
   "metadata": {
    "collapsed": true
   },
   "source": [
    "#### <p style=\"color:Gray\">Bulit-in functions<p/>\n",
    ">some python functions are available by defalut, without having to import them.<br/>\n",
    "Developers use these functions so often that it made sense to make them a part of the language itself. <br/>\n",
    "https://docs.python.org/3/library/functions.html"
   ]
  },
  {
   "cell_type": "code",
   "execution_count": null,
   "metadata": {},
   "outputs": [],
   "source": [
    "a = [6, 11]\n",
    "total = sum(a)\n",
    "total"
   ]
  },
  {
   "cell_type": "code",
   "execution_count": null,
   "metadata": {
    "collapsed": true
   },
   "outputs": [],
   "source": [
    "total = sum([6, 11])"
   ]
  },
  {
   "cell_type": "code",
   "execution_count": null,
   "metadata": {
    "collapsed": true
   },
   "outputs": [],
   "source": []
  },
  {
   "cell_type": "code",
   "execution_count": null,
   "metadata": {
    "scrolled": true
   },
   "outputs": [],
   "source": [
    "b = 10\n",
    "print(b)"
   ]
  },
  {
   "cell_type": "markdown",
   "metadata": {},
   "source": [
    "This code will actually generate an error because sum no longer points to the built-in Python function but to the expression sum(b) instead. "
   ]
  },
  {
   "cell_type": "code",
   "execution_count": null,
   "metadata": {
    "collapsed": true
   },
   "outputs": [],
   "source": [
    "b = [1, 2]\n",
    "# sum = sum(b)\n",
    "print(sum)"
   ]
  },
  {
   "cell_type": "code",
   "execution_count": null,
   "metadata": {
    "collapsed": true
   },
   "outputs": [],
   "source": [
    "def add(a, b):\n",
    "    total = a + b\n",
    "    return total"
   ]
  },
  {
   "cell_type": "code",
   "execution_count": null,
   "metadata": {},
   "outputs": [],
   "source": [
    "total = 15\n",
    "print(add(10, 20))\n",
    "print(total)"
   ]
  },
  {
   "cell_type": "markdown",
   "metadata": {},
   "source": []
  },
  {
   "cell_type": "markdown",
   "metadata": {},
   "source": [
    "#### <p style=\"color:Tomato\">The ide of variable scoping<p/>\n",
    "allows us to isolate what happens in functions from what happens in the rest of our program\n",
    "#### <p style=\"color:Gray\"># global scope<p/>\n",
    "> The global scope is whatever happens outside of a function.<br/>\n",
    "ex) Global scope<br/>\n",
    "total = 15\n",
    "\n",
    "<br/>\n",
    "#### <p style=\"color:Gray\"># local scope<p/>\n",
    "> Anything that happens inside a function is in a local scope<br/>\n",
    "ex) Local scope(add) <br/>\n",
    "total = 30<br/><br/>\n",
    "\n",
    "<br/>\n",
    "**There's only one global scope, but each function creates its own local scope.**\n",
    "<br/>\n",
    "the script above would print out two different totals: first 30, then 15.<br/>\n",
    "That's because the variable total we defined in our script is in **the global scope**, whereas the total variable inside add is in **a local scope**."
   ]
  },
  {
   "cell_type": "code",
   "execution_count": null,
   "metadata": {
    "collapsed": true
   },
   "outputs": [],
   "source": [
    "def find_average(column):\n",
    "    length = len(column)\n",
    "    total = sum(column)\n",
    "    return total / length"
   ]
  },
  {
   "cell_type": "code",
   "execution_count": null,
   "metadata": {},
   "outputs": [],
   "source": [
    "total = sum(borrower_default_count_240)"
   ]
  },
  {
   "cell_type": "code",
   "execution_count": null,
   "metadata": {
    "collapsed": true
   },
   "outputs": [],
   "source": []
  }
 ],
 "metadata": {
  "kernelspec": {
   "display_name": "Python 3",
   "language": "python",
   "name": "python3"
  },
  "language_info": {
   "codemirror_mode": {
    "name": "ipython",
    "version": 3
   },
   "file_extension": ".py",
   "mimetype": "text/x-python",
   "name": "python",
   "nbconvert_exporter": "python",
   "pygments_lexer": "ipython3",
   "version": "3.6.1"
  }
 },
 "nbformat": 4,
 "nbformat_minor": 2
}
