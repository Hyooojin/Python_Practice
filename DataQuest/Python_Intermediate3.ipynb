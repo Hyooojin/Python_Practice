{
 "cells": [
  {
   "cell_type": "markdown",
   "metadata": {},
   "source": [
    "# # Variable Scopes\n",
    "### <p style=\"color:Tomato\">Learn about scopes by analyzing student loan defaults in the U.S.<p/>\n",
    "Using a data set on student loan defaults in the United States.<br/>\n",
    "Each row of our dataset represents a single university, and contains information about the number of its students who later defaulted on their loans. While the data contains twelve columns, we'll be looking at a few in particular: <br/>\n",
    "<br/>\n",
    "데이터 세트의 각 행은 단일 대학을 대표하며, 나중에 대출을 불이행 한 학생들의 수에 대한 정보를 포함합니다. 데이터에 12 개의 열이 포함되어 있지만 특히 몇 가지를 살펴 보겠습니다.\n",
    "#### <p style=\"color:Gray\">student_loan_defaults.csv<p/>\n"
   ]
  },
  {
   "cell_type": "code",
   "execution_count": 1,
   "metadata": {
    "collapsed": true
   },
   "outputs": [],
   "source": [
    "from IPython.core.interactiveshell import InteractiveShell\n",
    "InteractiveShell.ast_node_interactivity = 'all'"
   ]
  },
  {
   "cell_type": "code",
   "execution_count": 2,
   "metadata": {
    "scrolled": true
   },
   "outputs": [
    {
     "data": {
      "text/plain": [
       "['serial',\n",
       " 'opeid',\n",
       " 'institution',\n",
       " 'address',\n",
       " 'city',\n",
       " 'state',\n",
       " 'zip',\n",
       " 'repayment_borrowers',\n",
       " 'default_borrowers',\n",
       " 'default_rate',\n",
       " 'borrower_default_count_240',\n",
       " 'principal_outstanding_240']"
      ]
     },
     "execution_count": 2,
     "metadata": {},
     "output_type": "execute_result"
    },
    {
     "data": {
      "text/plain": [
       "[['1',\n",
       "  '100200',\n",
       "  'Alabama Agricultural & Mechanical University',\n",
       "  '4900 Meridian Street',\n",
       "  'Normal',\n",
       "  'AL',\n",
       "  '35762-1357',\n",
       "  '145',\n",
       "  '54',\n",
       "  '37.2400%',\n",
       "  '1606',\n",
       "  '954821'],\n",
       " ['6',\n",
       "  '100500',\n",
       "  'Alabama State University',\n",
       "  '915 South Jackson Street',\n",
       "  'Montgomery',\n",
       "  'AL',\n",
       "  '36104-5714',\n",
       "  '164',\n",
       "  '12',\n",
       "  '7.3200%',\n",
       "  '1567',\n",
       "  '1410608'],\n",
       " ['13',\n",
       "  '100900',\n",
       "  'Auburn University',\n",
       "  '107 Samford Hall',\n",
       "  'Auburn',\n",
       "  'AL',\n",
       "  '36849-5113',\n",
       "  '479',\n",
       "  '29',\n",
       "  '6.0500%',\n",
       "  '269',\n",
       "  '747267'],\n",
       " ['14',\n",
       "  '831000',\n",
       "  'Auburn University Montgomery',\n",
       "  '7440 East Drive',\n",
       "  'Montgomery',\n",
       "  'AL',\n",
       "  '36117-3596',\n",
       "  '88',\n",
       "  '20',\n",
       "  '22.7300%',\n",
       "  '184',\n",
       "  '457312'],\n",
       " ['16',\n",
       "  '101200',\n",
       "  'Birmingham Southern College',\n",
       "  '900 Arkadelphia Road',\n",
       "  'Birmingham',\n",
       "  'AL',\n",
       "  '35254-0002',\n",
       "  '69',\n",
       "  '12',\n",
       "  '17.3900%',\n",
       "  '93',\n",
       "  '240798']]"
      ]
     },
     "execution_count": 2,
     "metadata": {},
     "output_type": "execute_result"
    }
   ],
   "source": [
    "import csv\n",
    "f = open('student_loan_defaults.csv', encoding='UTF8')\n",
    "student_loan = list(csv.reader(f))\n",
    "# 'cp949' codec can't decode byte 0xe2 in position 7250: illegal multibyte sequence\n",
    "# must be add encoding='UTF8\n",
    "student_loan[0]\n",
    "student_loan = student_loan[1:]\n",
    "student_loan[:5]"
   ]
  },
  {
   "cell_type": "code",
   "execution_count": 3,
   "metadata": {
    "collapsed": true
   },
   "outputs": [],
   "source": [
    "f = open('student_loan_defaults.csv', encoding='UTF8')\n",
    "student_loan = list(csv.reader(f))\n",
    "\n",
    "class Dataset:\n",
    "    def __init__(self, data):\n",
    "        self.header = data[0]\n",
    "        self.data = data[1:]\n",
    "    def column(self, label):\n",
    "        if label not in self.header:\n",
    "            return None\n",
    "        index = 0\n",
    "        for idx, element in enumerate(self.header):\n",
    "            if label == element:\n",
    "                index = idx\n",
    "        column = []\n",
    "        for row in self.data:\n",
    "            column.append(row[index])\n",
    "        return column\n",
    "    "
   ]
  },
  {
   "cell_type": "code",
   "execution_count": 4,
   "metadata": {
    "collapsed": true
   },
   "outputs": [],
   "source": [
    "student_loan_dataset = Dataset(student_loan)\n",
    "header = student_loan_dataset.header\n",
    "borrower_default_count_240 = student_loan_dataset.column('borrower_default_count_240')"
   ]
  },
  {
   "cell_type": "code",
   "execution_count": 5,
   "metadata": {},
   "outputs": [
    {
     "name": "stdout",
     "output_type": "stream",
     "text": [
      "1845\n",
      "['1606', '1567', '269', '184', '93', '75', '52', '88', '12', '5']\n"
     ]
    }
   ],
   "source": [
    "print(len(borrower_default_count_240))\n",
    "print(borrower_default_count_240[0:10])"
   ]
  },
  {
   "cell_type": "code",
   "execution_count": 6,
   "metadata": {},
   "outputs": [
    {
     "data": {
      "text/plain": [
       "['serial',\n",
       " 'opeid',\n",
       " 'institution',\n",
       " 'address',\n",
       " 'city',\n",
       " 'state',\n",
       " 'zip',\n",
       " 'repayment_borrowers',\n",
       " 'default_borrowers',\n",
       " 'default_rate',\n",
       " 'borrower_default_count_240',\n",
       " 'principal_outstanding_240']"
      ]
     },
     "execution_count": 6,
     "metadata": {},
     "output_type": "execute_result"
    }
   ],
   "source": [
    "header = student_loan_dataset.header\n",
    "header"
   ]
  },
  {
   "cell_type": "markdown",
   "metadata": {
    "collapsed": true
   },
   "source": [
    "#### <p style=\"color:Gray\">Bulit-in functions<p/>\n",
    ">some python functions are available by defalut, without having to import them.<br/>\n",
    "Developers use these functions so often that it made sense to make them a part of the language itself. <br/>\n",
    "https://docs.python.org/3/library/functions.html"
   ]
  },
  {
   "cell_type": "code",
   "execution_count": 7,
   "metadata": {},
   "outputs": [
    {
     "data": {
      "text/plain": [
       "17"
      ]
     },
     "execution_count": 7,
     "metadata": {},
     "output_type": "execute_result"
    }
   ],
   "source": [
    "a = [6, 11]\n",
    "total = sum(a)\n",
    "total"
   ]
  },
  {
   "cell_type": "code",
   "execution_count": 8,
   "metadata": {
    "collapsed": true
   },
   "outputs": [],
   "source": [
    "total = sum([6, 11])"
   ]
  },
  {
   "cell_type": "code",
   "execution_count": null,
   "metadata": {
    "collapsed": true
   },
   "outputs": [],
   "source": []
  },
  {
   "cell_type": "code",
   "execution_count": 9,
   "metadata": {
    "scrolled": true
   },
   "outputs": [
    {
     "name": "stdout",
     "output_type": "stream",
     "text": [
      "10\n"
     ]
    }
   ],
   "source": [
    "b = 10\n",
    "print(b)"
   ]
  },
  {
   "cell_type": "markdown",
   "metadata": {},
   "source": [
    "This code will actually generate an error because sum no longer points to the built-in Python function but to the expression sum(b) instead. "
   ]
  },
  {
   "cell_type": "code",
   "execution_count": 10,
   "metadata": {},
   "outputs": [
    {
     "name": "stdout",
     "output_type": "stream",
     "text": [
      "<built-in function sum>\n"
     ]
    }
   ],
   "source": [
    "b = [1, 2]\n",
    "# sum = sum(b)\n",
    "print(sum)"
   ]
  },
  {
   "cell_type": "code",
   "execution_count": 11,
   "metadata": {
    "collapsed": true
   },
   "outputs": [],
   "source": [
    "def add(a, b):\n",
    "    total = a + b\n",
    "    return total"
   ]
  },
  {
   "cell_type": "code",
   "execution_count": 12,
   "metadata": {},
   "outputs": [
    {
     "name": "stdout",
     "output_type": "stream",
     "text": [
      "30\n",
      "15\n"
     ]
    }
   ],
   "source": [
    "total = 15\n",
    "print(add(10, 20))\n",
    "print(total)"
   ]
  },
  {
   "cell_type": "markdown",
   "metadata": {},
   "source": []
  },
  {
   "cell_type": "markdown",
   "metadata": {},
   "source": [
    "#### <p style=\"color:Tomato\">The ide of variable scoping<p/>\n",
    "allows us to isolate what happens in functions from what happens in the rest of our program\n",
    "#### <p style=\"color:Gray\"># global scope<p/>\n",
    "> The global scope is whatever happens outside of a function.<br/>\n",
    "ex) Global scope<br/>\n",
    "total = 15\n",
    "\n",
    "<br/>\n",
    "#### <p style=\"color:Gray\"># local scope<p/>\n",
    "> Anything that happens inside a function is in a local scope<br/>\n",
    "ex) Local scope(add) <br/>\n",
    "total = 30<br/><br/>\n",
    "\n",
    "<br/>\n",
    "**There's only one global scope, but each function creates its own local scope.**\n",
    "<br/>\n",
    "the script above would print out two different totals: first 30, then 15.<br/>\n",
    "That's because the variable total we defined in our script is in **the global scope**, whereas the total variable inside add is in **a local scope**."
   ]
  },
  {
   "cell_type": "code",
   "execution_count": 14,
   "metadata": {},
   "outputs": [
    {
     "name": "stdout",
     "output_type": "stream",
     "text": [
      "<class 'str'>\n"
     ]
    }
   ],
   "source": [
    "print(type(borrower_default_count_240[0]))"
   ]
  },
  {
   "cell_type": "markdown",
   "metadata": {},
   "source": [
    "[Error handling]<br/>\n",
    "what error:<br/>\n",
    "unsupported operand type(s) for +: 'int' and 'str'"
   ]
  },
  {
   "cell_type": "code",
   "execution_count": 17,
   "metadata": {
    "collapsed": true
   },
   "outputs": [],
   "source": [
    "borrower_default_count_240 = [int(row) for row in borrower_default_count_240]"
   ]
  },
  {
   "cell_type": "code",
   "execution_count": 18,
   "metadata": {},
   "outputs": [
    {
     "name": "stdout",
     "output_type": "stream",
     "text": [
      "<class 'int'>\n"
     ]
    }
   ],
   "source": [
    "print(type(borrower_default_count_240[0]))"
   ]
  },
  {
   "cell_type": "code",
   "execution_count": 19,
   "metadata": {
    "collapsed": true
   },
   "outputs": [],
   "source": [
    "def find_average(column):\n",
    "    length = len(column)\n",
    "    total = sum(column)\n",
    "    return total / length"
   ]
  },
  {
   "cell_type": "code",
   "execution_count": 21,
   "metadata": {},
   "outputs": [
    {
     "name": "stdout",
     "output_type": "stream",
     "text": [
      "499833\n"
     ]
    }
   ],
   "source": [
    "total = sum(borrower_default_count_240)\n",
    "print(total)"
   ]
  },
  {
   "cell_type": "code",
   "execution_count": 23,
   "metadata": {},
   "outputs": [
    {
     "name": "stdout",
     "output_type": "stream",
     "text": [
      "270.91219512195124\n"
     ]
    }
   ],
   "source": [
    "average = find_average(borrower_default_count_240)\n",
    "print(average)"
   ]
  }
 ],
 "metadata": {
  "kernelspec": {
   "display_name": "Python 3",
   "language": "python",
   "name": "python3"
  },
  "language_info": {
   "codemirror_mode": {
    "name": "ipython",
    "version": 3
   },
   "file_extension": ".py",
   "mimetype": "text/x-python",
   "name": "python",
   "nbconvert_exporter": "python",
   "pygments_lexer": "ipython3",
   "version": "3.6.1"
  }
 },
 "nbformat": 4,
 "nbformat_minor": 2
}
