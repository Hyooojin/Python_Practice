{
 "cells": [
  {
   "cell_type": "markdown",
   "metadata": {},
   "source": [
    "# Everyting is object"
   ]
  },
  {
   "cell_type": "code",
   "execution_count": null,
   "metadata": {
    "collapsed": true
   },
   "outputs": [],
   "source": []
  },
  {
   "cell_type": "markdown",
   "metadata": {},
   "source": [
    "# Pass by Reference"
   ]
  },
  {
   "cell_type": "markdown",
   "metadata": {},
   "source": [
    "#### https://www.cs.fsu.edu/~myers/++/notes/references.html\n",
    "\n",
    "1. the local parameters are references to the storage locations of the original in.\n",
    "2. changes to these variables in the function will affect the originals.\n",
    "3. No copy is made, so overhead of copying is saved. "
   ]
  },
  {
   "cell_type": "markdown",
   "metadata": {},
   "source": [
    "# How to Execute a Python Program"
   ]
  },
  {
   "cell_type": "markdown",
   "metadata": {},
   "source": [
    "#### https://courses.cs.washington.edu/courses/cse140/13wi/eval_rules.pdf\n",
    "1. Python executes a statement by evaluating its expressions to values one by one, then performing some\n",
    "operation on those values.\n",
    "2. Python evaluates an expression by first evaluating its sub-expressions, then performing an operation\n",
    "on the values. Notice that each sub-expression might have its own sub-sub-expressions, so this process\n",
    "might repeat several times.\n",
    "3. However, this process of dividing and evaluating always terminates because the\n",
    "expressions become smaller at each step until they reach some base expression.\n"
   ]
  },
  {
   "cell_type": "markdown",
   "metadata": {},
   "source": [
    "# Iterators & Generators"
   ]
  },
  {
   "cell_type": "markdown",
   "metadata": {},
   "source": [
    "#### http://anandology.com/python-practice-book/iterators.html\n",
    "\n",
    "***Iterators***\n",
    "There are many types of objects which can be used with a for loop. These are called iterable| objects.\n",
    "for example, a list, a string, a dictionary, a file\n",
    "\n",
    "(For example) using this site, but be careful about python version.<br/>\n",
    "x.next() -> next(x)"
   ]
  },
  {
   "cell_type": "code",
   "execution_count": 19,
   "metadata": {},
   "outputs": [
    {
     "name": "stdout",
     "output_type": "stream",
     "text": [
      "H\n",
      "e\n",
      "l\n",
      "l\n",
      "o\n",
      " \n",
      "w\n",
      "o\n",
      "r\n",
      "l\n",
      "d\n"
     ]
    }
   ],
   "source": [
    "for c in \"Hello world\":\n",
    "    print(c)"
   ]
  },
  {
   "cell_type": "code",
   "execution_count": 11,
   "metadata": {
    "scrolled": true
   },
   "outputs": [
    {
     "data": {
      "text/plain": [
       "<list_iterator at 0x1b013dde240>"
      ]
     },
     "execution_count": 11,
     "metadata": {},
     "output_type": "execute_result"
    }
   ],
   "source": [
    "x = iter([1, 2, 3]); x"
   ]
  },
  {
   "cell_type": "code",
   "execution_count": 12,
   "metadata": {},
   "outputs": [
    {
     "data": {
      "text/plain": [
       "list_iterator"
      ]
     },
     "execution_count": 12,
     "metadata": {},
     "output_type": "execute_result"
    }
   ],
   "source": [
    "type(x)"
   ]
  },
  {
   "cell_type": "code",
   "execution_count": 14,
   "metadata": {},
   "outputs": [
    {
     "data": {
      "text/plain": [
       "1"
      ]
     },
     "execution_count": 14,
     "metadata": {},
     "output_type": "execute_result"
    }
   ],
   "source": [
    "x.__next__()"
   ]
  },
  {
   "cell_type": "code",
   "execution_count": 15,
   "metadata": {},
   "outputs": [
    {
     "data": {
      "text/plain": [
       "2"
      ]
     },
     "execution_count": 15,
     "metadata": {},
     "output_type": "execute_result"
    }
   ],
   "source": [
    "next(x)"
   ]
  },
  {
   "cell_type": "code",
   "execution_count": 16,
   "metadata": {},
   "outputs": [
    {
     "data": {
      "text/plain": [
       "3"
      ]
     },
     "execution_count": 16,
     "metadata": {},
     "output_type": "execute_result"
    }
   ],
   "source": [
    "next(x)"
   ]
  },
  {
   "cell_type": "code",
   "execution_count": 18,
   "metadata": {
    "scrolled": true
   },
   "outputs": [
    {
     "ename": "StopIteration",
     "evalue": "",
     "output_type": "error",
     "traceback": [
      "\u001b[1;31m---------------------------------------------------------------------------\u001b[0m",
      "\u001b[1;31mStopIteration\u001b[0m                             Traceback (most recent call last)",
      "\u001b[1;32m<ipython-input-18-5e4e57af3a97>\u001b[0m in \u001b[0;36m<module>\u001b[1;34m()\u001b[0m\n\u001b[1;32m----> 1\u001b[1;33m \u001b[0mnext\u001b[0m\u001b[1;33m(\u001b[0m\u001b[0mx\u001b[0m\u001b[1;33m)\u001b[0m\u001b[1;33m\u001b[0m\u001b[0m\n\u001b[0m",
      "\u001b[1;31mStopIteration\u001b[0m: "
     ]
    }
   ],
   "source": [
    "next(x)"
   ]
  },
  {
   "cell_type": "markdown",
   "metadata": {},
   "source": [
    "#### ... countinue interator\n",
    "Each time we call the next method on the iterator gives us the next element. If there are no more elements, it raises a StopIteration.\n",
    "\n",
    "***Generators***\n",
    "A function which returns an iterator. It looks like a normal function except that it contains yield statements for producing a series of values usable in a for-loop or that can be retrieved one at a time with the next() function. Each yield temporarily suspends processing, remembering the location execution state (including local variables and pending try-statements). When the generator resumes, it picks-up where it left-off (in contrast to functions which start fresh on every invocation).\n",
    "\n",
    "#### http://bluese05.tistory.com/56"
   ]
  },
  {
   "cell_type": "code",
   "execution_count": 20,
   "metadata": {
    "collapsed": true
   },
   "outputs": [],
   "source": [
    "def generator(n):\n",
    "    i = 0\n",
    "    while i < n:\n",
    "        yield i \n",
    "        i += 1"
   ]
  },
  {
   "cell_type": "code",
   "execution_count": 21,
   "metadata": {},
   "outputs": [
    {
     "name": "stdout",
     "output_type": "stream",
     "text": [
      "0\n",
      "1\n",
      "2\n",
      "3\n",
      "4\n"
     ]
    }
   ],
   "source": [
    "for x in generator(5):\n",
    "    print(x)"
   ]
  },
  {
   "cell_type": "markdown",
   "metadata": {},
   "source": [
    "#### .. continue generator\n",
    "1. saving time and memory <br/>\n",
    "The larger the size of the list, the greater the memory usage. However, in the case of the generator, the memory size occupied is the same even if the size increases.<br/>\n",
    "http://letstalkdata.com/2015/05/how-to-use-python-generators-to-save-memory/\n",
    "<br/>\n",
    "\n",
    "2. Lazy evaluation <br/>\n",
    "we can see the effect of delaying the calculation until the calculation result value is needed."
   ]
  },
  {
   "cell_type": "code",
   "execution_count": 22,
   "metadata": {
    "collapsed": true
   },
   "outputs": [],
   "source": [
    "import sys"
   ]
  },
  {
   "cell_type": "code",
   "execution_count": 23,
   "metadata": {},
   "outputs": [
    {
     "data": {
      "text/plain": [
       "528"
      ]
     },
     "execution_count": 23,
     "metadata": {},
     "output_type": "execute_result"
    }
   ],
   "source": [
    "sys.getsizeof([i for i in range(100) if i % 2]) #list"
   ]
  },
  {
   "cell_type": "code",
   "execution_count": 27,
   "metadata": {},
   "outputs": [
    {
     "data": {
      "text/plain": [
       "4272"
      ]
     },
     "execution_count": 27,
     "metadata": {},
     "output_type": "execute_result"
    }
   ],
   "source": [
    "sys.getsizeof([i for i in range(1000) if i % 2]) \n",
    "#list(size1000)"
   ]
  },
  {
   "cell_type": "code",
   "execution_count": 26,
   "metadata": {},
   "outputs": [
    {
     "data": {
      "text/plain": [
       "88"
      ]
     },
     "execution_count": 26,
     "metadata": {},
     "output_type": "execute_result"
    }
   ],
   "source": [
    "sys.getsizeof((i for i in range(100) if i % 2)) \n",
    "# generator(size100)"
   ]
  },
  {
   "cell_type": "code",
   "execution_count": 30,
   "metadata": {},
   "outputs": [
    {
     "data": {
      "text/plain": [
       "88"
      ]
     },
     "execution_count": 30,
     "metadata": {},
     "output_type": "execute_result"
    }
   ],
   "source": [
    "sys.getsizeof((i for i in range(1000) if i % 2))\n",
    "# generator(size1000)"
   ]
  },
  {
   "cell_type": "code",
   "execution_count": 36,
   "metadata": {
    "collapsed": true
   },
   "outputs": [],
   "source": [
    "from __future__ import (absolute_import, division, print_function)\n",
    "#                        unicode_literals)\n",
    "\n",
    "import threading\n",
    "import time"
   ]
  },
  {
   "cell_type": "code",
   "execution_count": 40,
   "metadata": {
    "collapsed": true
   },
   "outputs": [],
   "source": [
    "def sleep_func(x):\n",
    "    print(\"sleep...\")\n",
    "    time.sleep(1)\n",
    "    return(x)"
   ]
  },
  {
   "cell_type": "code",
   "execution_count": 45,
   "metadata": {},
   "outputs": [
    {
     "name": "stdout",
     "output_type": "stream",
     "text": [
      "sleep...\n",
      "sleep...\n",
      "sleep...\n",
      "sleep...\n",
      "sleep...\n",
      "0\n",
      "1\n",
      "2\n",
      "3\n",
      "4\n"
     ]
    }
   ],
   "source": [
    "list = [sleep_func(x) for x in range(5)]\n",
    "for i in list:\n",
    "    print(i)"
   ]
  },
  {
   "cell_type": "code",
   "execution_count": 46,
   "metadata": {},
   "outputs": [
    {
     "name": "stdout",
     "output_type": "stream",
     "text": [
      "sleep...\n",
      "0\n",
      "sleep...\n",
      "1\n",
      "sleep...\n",
      "2\n",
      "sleep...\n",
      "3\n",
      "sleep...\n",
      "4\n"
     ]
    }
   ],
   "source": [
    "generator = (sleep_func(x) for x in range(5))\n",
    "for i in generator:\n",
    "    print(i)"
   ]
  },
  {
   "cell_type": "code",
   "execution_count": 50,
   "metadata": {
    "collapsed": true
   },
   "outputs": [],
   "source": [
    "def fibonacci_func(n):\n",
    "    a,b = 0, 1\n",
    "    i = 0\n",
    "    while True:\n",
    "        if (i > n): return\n",
    "        yield a \n",
    "        a, b = b, a+b\n",
    "        i += 1"
   ]
  },
  {
   "cell_type": "code",
   "execution_count": 51,
   "metadata": {},
   "outputs": [
    {
     "name": "stdout",
     "output_type": "stream",
     "text": [
      "0\n",
      "1\n",
      "1\n",
      "2\n",
      "3\n",
      "5\n",
      "8\n",
      "13\n",
      "21\n",
      "34\n",
      "55\n"
     ]
    }
   ],
   "source": [
    "fib = fibonacci_func(10)\n",
    "for x in fib:\n",
    "    print(x)"
   ]
  },
  {
   "cell_type": "markdown",
   "metadata": {},
   "source": [
    "#### .. continue generator\n",
    "\n",
    "Looking at the above results, you will see what the difference is when you use the generator. In the case of list, when list comprehension is performed, all values of list are executed first, so sleep_func () function is executed at xrange () value at a time. If sleep_func () takes a long time or if the list value is very large, it will be burdensome for the first time.\n",
    "\n",
    " However, generator does not load the actual value when generating generator, but executes the sleep_func () one by one when the for statement is executed. It is possible to delay an operation with a long execution time to a necessary moment."
   ]
  },
  {
   "cell_type": "markdown",
   "metadata": {},
   "source": [
    "# The Structure of a Python Program\n",
    "https://courses.cs.washington.edu/courses/cse140/13wi/eval_rules.pdf<br/>\n",
    "***sequential Data Types***\n",
    "A Python program is ***a sequence of statements***. Python executes this sequence of statements in a specific,\n",
    "consistent, and predictable order.<br/>\n",
    "<br/>\n",
    "http://www.python-course.eu/python3_sequential_data_types.php<br/>\n",
    "***Sequences*** are oe of the principal built-in data types besides numerics, mappings, files, instances and exceptions. Python provides for six sequence (or sequential) data types:\n",
    "1. string\n",
    "2. byte sequences\n",
    "3. byte arrays\n",
    "4. lists\n",
    "5. tuples\n",
    "6. range objects\n",
    "\n",
    "The items or elements of strings, lists and tuples are ordered in a defined sequence\n",
    "The elements can be accessed via indices\n",
    "Unlike other programming languages Python uses the same syntax and function names to work on sequential data types. For example, the length of a string, a list, and a tuple can be determined with a function called len():"
   ]
  },
  {
   "cell_type": "code",
   "execution_count": 52,
   "metadata": {
    "collapsed": true
   },
   "outputs": [],
   "source": [
    "from collections import namedtuple\n",
    "Book = namedtuple('Book', 'author title henre year price instock')"
   ]
  },
  {
   "cell_type": "code",
   "execution_count": 57,
   "metadata": {
    "collapsed": true
   },
   "outputs": [],
   "source": [
    "BSI = [\n",
    "    Book('Tyler Hawkin','ABC','education', 2009, 20.00, 75), \n",
    "    Book('Miss Hanigan','Jannie','adventure', 1900, 26.00, 51),\n",
    "    Book('Leila Star','My first crush','comedy', 2013, 8.89, 11), \n",
    "    Book('John Green', 'Fault in our Stars', 'romance' ,2006, 17.00, 0),\n",
    "    Book('Shakespeare', 'Romeo', 'Drama', 1610, 5.00, 99),\n",
    "    Book('Janett Smith','How to be Young Again','life', 1995, 13.00, 3) ]\n"
   ]
  },
  {
   "cell_type": "code",
   "execution_count": 58,
   "metadata": {},
   "outputs": [
    {
     "name": "stdout",
     "output_type": "stream",
     "text": [
      "ABC\n",
      "Jannie\n",
      "My first crush\n",
      "Fault in our Stars\n",
      "Romeo\n",
      "How to be Young Again\n"
     ]
    }
   ],
   "source": [
    "for book in BSI:\n",
    "    print(book.title)"
   ]
  },
  {
   "cell_type": "code",
   "execution_count": null,
   "metadata": {
    "collapsed": true
   },
   "outputs": [],
   "source": []
  }
 ],
 "metadata": {
  "kernelspec": {
   "display_name": "Python 3",
   "language": "python",
   "name": "python3"
  },
  "language_info": {
   "codemirror_mode": {
    "name": "ipython",
    "version": 3
   },
   "file_extension": ".py",
   "mimetype": "text/x-python",
   "name": "python",
   "nbconvert_exporter": "python",
   "pygments_lexer": "ipython3",
   "version": "3.6.1"
  }
 },
 "nbformat": 4,
 "nbformat_minor": 2
}
