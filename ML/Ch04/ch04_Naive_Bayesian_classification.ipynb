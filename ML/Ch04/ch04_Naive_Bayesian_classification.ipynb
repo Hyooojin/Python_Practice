{
 "cells": [
  {
   "cell_type": "code",
   "execution_count": 6,
   "metadata": {
    "collapsed": true
   },
   "outputs": [],
   "source": [
    "from IPython.core.interactiveshell import InteractiveShell\n",
    "InteractiveShell.ast_node_interactivity = 'all'"
   ]
  },
  {
   "cell_type": "code",
   "execution_count": 7,
   "metadata": {},
   "outputs": [
    {
     "name": "stdout",
     "output_type": "stream",
     "text": [
      "[Error 2] : u'ch04'\n",
      "C:\\pydev\\machinelearninginaction\\Ch04\n"
     ]
    }
   ],
   "source": [
    "cd ch04"
   ]
  },
  {
   "cell_type": "code",
   "execution_count": 8,
   "metadata": {
    "scrolled": true
   },
   "outputs": [
    {
     "data": {
      "text/plain": [
       "u'C:\\\\pydev\\\\machinelearninginaction\\\\Ch04'"
      ]
     },
     "execution_count": 8,
     "metadata": {},
     "output_type": "execute_result"
    }
   ],
   "source": [
    "pwd"
   ]
  },
  {
   "cell_type": "code",
   "execution_count": 9,
   "metadata": {},
   "outputs": [],
   "source": [
    "import bayes"
   ]
  },
  {
   "cell_type": "code",
   "execution_count": 10,
   "metadata": {},
   "outputs": [
    {
     "data": {
      "text/plain": [
       "<module 'bayes' from 'bayes.pyc'>"
      ]
     },
     "execution_count": 10,
     "metadata": {},
     "output_type": "execute_result"
    }
   ],
   "source": [
    "reload(bayes)"
   ]
  },
  {
   "cell_type": "code",
   "execution_count": 11,
   "metadata": {},
   "outputs": [
    {
     "data": {
      "text/plain": [
       "[['my', 'dog', 'has', 'flea', 'problems', 'help', 'please'],\n",
       " ['maybe', 'not', 'take', 'him', 'to', 'dog', 'park', 'stupid'],\n",
       " ['my', 'dalmation', 'is', 'so', 'cute', 'I', 'love', 'him'],\n",
       " ['stop', 'posting', 'stupid', 'worthless', 'garbage'],\n",
       " ['mr', 'licks', 'ate', 'my', 'steak', 'how', 'to', 'stop', 'him'],\n",
       " ['quit', 'buying', 'worthless', 'dog', 'food', 'stupid']]"
      ]
     },
     "execution_count": 11,
     "metadata": {},
     "output_type": "execute_result"
    },
    {
     "data": {
      "text/plain": [
       "[0, 1, 0, 1, 0, 1]"
      ]
     },
     "execution_count": 11,
     "metadata": {},
     "output_type": "execute_result"
    }
   ],
   "source": [
    "list_of_post, class_label = bayes.loadDataSet()\n",
    "list_of_post\n",
    "class_label"
   ]
  },
  {
   "cell_type": "code",
   "execution_count": 12,
   "metadata": {},
   "outputs": [
    {
     "name": "stdout",
     "output_type": "stream",
     "text": [
      "document: ['my', 'dog', 'has', 'flea', 'problems', 'help', 'please']\n",
      "document: set(['help', 'please', 'problems', 'dog', 'flea', 'has', 'my'])\n",
      "document: ['my', 'dog', 'has', 'flea', 'problems', 'help', 'please']\n",
      "document: ['maybe', 'not', 'take', 'him', 'to', 'dog', 'park', 'stupid']\n",
      "document: set(['maybe', 'park', 'dog', 'to', 'stupid', 'take', 'not', 'him'])\n",
      "document: ['maybe', 'not', 'take', 'him', 'to', 'dog', 'park', 'stupid']\n",
      "document: ['my', 'dalmation', 'is', 'so', 'cute', 'I', 'love', 'him']\n",
      "document: set(['cute', 'love', 'I', 'is', 'dalmation', 'so', 'my', 'him'])\n",
      "document: ['my', 'dalmation', 'is', 'so', 'cute', 'I', 'love', 'him']\n",
      "document: ['stop', 'posting', 'stupid', 'worthless', 'garbage']\n",
      "document: set(['worthless', 'stupid', 'stop', 'posting', 'garbage'])\n",
      "document: ['stop', 'posting', 'stupid', 'worthless', 'garbage']\n",
      "document: ['mr', 'licks', 'ate', 'my', 'steak', 'how', 'to', 'stop', 'him']\n",
      "document: set(['licks', 'to', 'stop', 'how', 'ate', 'mr', 'steak', 'my', 'him'])\n",
      "document: ['mr', 'licks', 'ate', 'my', 'steak', 'how', 'to', 'stop', 'him']\n",
      "document: ['quit', 'buying', 'worthless', 'dog', 'food', 'stupid']\n",
      "document: set(['quit', 'worthless', 'food', 'dog', 'stupid', 'buying'])\n",
      "document: ['quit', 'buying', 'worthless', 'dog', 'food', 'stupid']\n"
     ]
    }
   ],
   "source": [
    "my_vocab_list = bayes.createVocabList_lec(list_of_post)"
   ]
  },
  {
   "cell_type": "code",
   "execution_count": 14,
   "metadata": {},
   "outputs": [
    {
     "data": {
      "text/plain": [
       "32"
      ]
     },
     "execution_count": 14,
     "metadata": {},
     "output_type": "execute_result"
    }
   ],
   "source": [
    "len(my_vocab_list)"
   ]
  },
  {
   "cell_type": "code",
   "execution_count": 15,
   "metadata": {},
   "outputs": [
    {
     "data": {
      "text/plain": [
       "<module 'bayes' from 'bayes.py'>"
      ]
     },
     "execution_count": 15,
     "metadata": {},
     "output_type": "execute_result"
    }
   ],
   "source": [
    "reload(bayes)"
   ]
  },
  {
   "cell_type": "code",
   "execution_count": 17,
   "metadata": {
    "scrolled": false
   },
   "outputs": [
    {
     "data": {
      "text/plain": [
       "['my', 'dog', 'has', 'flea', 'problems', 'help', 'please']"
      ]
     },
     "execution_count": 17,
     "metadata": {},
     "output_type": "execute_result"
    },
    {
     "name": "stdout",
     "output_type": "stream",
     "text": [
      "returnVec: [0, 0, 0, 0, 0, 0, 0, 0, 0, 0, 0, 0, 0, 0, 0, 0, 0, 0, 0, 0, 0, 0, 0, 0, 0, 0, 0, 0, 0, 0, 0, 0]\n",
      "word: my\n",
      "vocabList: ['cute', 'love', 'help', 'garbage', 'quit', 'I', 'problems', 'is', 'park', 'stop', 'flea', 'dalmation', 'licks', 'food', 'not', 'him', 'buying', 'posting', 'has', 'worthless', 'ate', 'to', 'maybe', 'please', 'dog', 'how', 'stupid', 'so', 'take', 'mr', 'steak', 'my']\n",
      "\n",
      "----->word: my\n",
      "----->vocablist.index(word): 31\n",
      "----->returnVec[vocabList.index(word)]: 0\n",
      "----->returnvec[vocabList.index(word)]: 0\n",
      "word: dog\n",
      "vocabList: ['cute', 'love', 'help', 'garbage', 'quit', 'I', 'problems', 'is', 'park', 'stop', 'flea', 'dalmation', 'licks', 'food', 'not', 'him', 'buying', 'posting', 'has', 'worthless', 'ate', 'to', 'maybe', 'please', 'dog', 'how', 'stupid', 'so', 'take', 'mr', 'steak', 'my']\n",
      "\n",
      "----->word: dog\n",
      "----->vocablist.index(word): 24\n",
      "----->returnVec[vocabList.index(word)]: 0\n",
      "----->returnvec[vocabList.index(word)]: 0\n",
      "word: has\n",
      "vocabList: ['cute', 'love', 'help', 'garbage', 'quit', 'I', 'problems', 'is', 'park', 'stop', 'flea', 'dalmation', 'licks', 'food', 'not', 'him', 'buying', 'posting', 'has', 'worthless', 'ate', 'to', 'maybe', 'please', 'dog', 'how', 'stupid', 'so', 'take', 'mr', 'steak', 'my']\n",
      "\n",
      "----->word: has\n",
      "----->vocablist.index(word): 18\n",
      "----->returnVec[vocabList.index(word)]: 0\n",
      "----->returnvec[vocabList.index(word)]: 0\n",
      "word: flea\n",
      "vocabList: ['cute', 'love', 'help', 'garbage', 'quit', 'I', 'problems', 'is', 'park', 'stop', 'flea', 'dalmation', 'licks', 'food', 'not', 'him', 'buying', 'posting', 'has', 'worthless', 'ate', 'to', 'maybe', 'please', 'dog', 'how', 'stupid', 'so', 'take', 'mr', 'steak', 'my']\n",
      "\n",
      "----->word: flea\n",
      "----->vocablist.index(word): 10\n",
      "----->returnVec[vocabList.index(word)]: 0\n",
      "----->returnvec[vocabList.index(word)]: 0\n",
      "word: problems\n",
      "vocabList: ['cute', 'love', 'help', 'garbage', 'quit', 'I', 'problems', 'is', 'park', 'stop', 'flea', 'dalmation', 'licks', 'food', 'not', 'him', 'buying', 'posting', 'has', 'worthless', 'ate', 'to', 'maybe', 'please', 'dog', 'how', 'stupid', 'so', 'take', 'mr', 'steak', 'my']\n",
      "\n",
      "----->word: problems\n",
      "----->vocablist.index(word): 6\n",
      "----->returnVec[vocabList.index(word)]: 0\n",
      "----->returnvec[vocabList.index(word)]: 0\n",
      "word: help\n",
      "vocabList: ['cute', 'love', 'help', 'garbage', 'quit', 'I', 'problems', 'is', 'park', 'stop', 'flea', 'dalmation', 'licks', 'food', 'not', 'him', 'buying', 'posting', 'has', 'worthless', 'ate', 'to', 'maybe', 'please', 'dog', 'how', 'stupid', 'so', 'take', 'mr', 'steak', 'my']\n",
      "\n",
      "----->word: help\n",
      "----->vocablist.index(word): 2\n",
      "----->returnVec[vocabList.index(word)]: 0\n",
      "----->returnvec[vocabList.index(word)]: 0\n",
      "word: please\n",
      "vocabList: ['cute', 'love', 'help', 'garbage', 'quit', 'I', 'problems', 'is', 'park', 'stop', 'flea', 'dalmation', 'licks', 'food', 'not', 'him', 'buying', 'posting', 'has', 'worthless', 'ate', 'to', 'maybe', 'please', 'dog', 'how', 'stupid', 'so', 'take', 'mr', 'steak', 'my']\n",
      "\n",
      "----->word: please\n",
      "----->vocablist.index(word): 23\n",
      "----->returnVec[vocabList.index(word)]: 0\n",
      "----->returnvec[vocabList.index(word)]: 0\n"
     ]
    },
    {
     "data": {
      "text/plain": [
       "[0,\n",
       " 0,\n",
       " 1,\n",
       " 0,\n",
       " 0,\n",
       " 0,\n",
       " 1,\n",
       " 0,\n",
       " 0,\n",
       " 0,\n",
       " 1,\n",
       " 0,\n",
       " 0,\n",
       " 0,\n",
       " 0,\n",
       " 0,\n",
       " 0,\n",
       " 0,\n",
       " 1,\n",
       " 0,\n",
       " 0,\n",
       " 0,\n",
       " 0,\n",
       " 1,\n",
       " 1,\n",
       " 0,\n",
       " 0,\n",
       " 0,\n",
       " 0,\n",
       " 0,\n",
       " 0,\n",
       " 1]"
      ]
     },
     "execution_count": 17,
     "metadata": {},
     "output_type": "execute_result"
    }
   ],
   "source": [
    "list_of_post[0]\n",
    "bayes.setOfWords2Vec_lec(my_vocab_list, list_of_post[0])"
   ]
  },
  {
   "cell_type": "code",
   "execution_count": 18,
   "metadata": {},
   "outputs": [
    {
     "data": {
      "text/plain": [
       "['maybe', 'not', 'take', 'him', 'to', 'dog', 'park', 'stupid']"
      ]
     },
     "execution_count": 18,
     "metadata": {},
     "output_type": "execute_result"
    }
   ],
   "source": [
    "list_of_post[1]"
   ]
  },
  {
   "cell_type": "code",
   "execution_count": 23,
   "metadata": {
    "scrolled": true
   },
   "outputs": [
    {
     "data": {
      "text/plain": [
       "<module 'bayes' from 'bayes.py'>"
      ]
     },
     "execution_count": 23,
     "metadata": {},
     "output_type": "execute_result"
    }
   ],
   "source": [
    "reload(bayes)"
   ]
  },
  {
   "cell_type": "code",
   "execution_count": 25,
   "metadata": {},
   "outputs": [
    {
     "data": {
      "text/plain": [
       "[0,\n",
       " 0,\n",
       " 0,\n",
       " 0,\n",
       " 0,\n",
       " 0,\n",
       " 0,\n",
       " 0,\n",
       " 1,\n",
       " 0,\n",
       " 0,\n",
       " 0,\n",
       " 0,\n",
       " 0,\n",
       " 1,\n",
       " 1,\n",
       " 0,\n",
       " 0,\n",
       " 0,\n",
       " 0,\n",
       " 0,\n",
       " 1,\n",
       " 1,\n",
       " 0,\n",
       " 1,\n",
       " 0,\n",
       " 1,\n",
       " 0,\n",
       " 1,\n",
       " 0,\n",
       " 0,\n",
       " 0]"
      ]
     },
     "execution_count": 25,
     "metadata": {},
     "output_type": "execute_result"
    }
   ],
   "source": [
    "bayes.setOfWords2Vec(my_vocab_list, list_of_post[1])"
   ]
  },
  {
   "cell_type": "code",
   "execution_count": 26,
   "metadata": {},
   "outputs": [
    {
     "data": {
      "text/plain": [
       "<module 'bayes' from 'bayes.pyc'>"
      ]
     },
     "execution_count": 26,
     "metadata": {},
     "output_type": "execute_result"
    }
   ],
   "source": [
    "reload(bayes)"
   ]
  },
  {
   "cell_type": "markdown",
   "metadata": {},
   "source": [
    "testingNB"
   ]
  },
  {
   "cell_type": "code",
   "execution_count": 27,
   "metadata": {
    "collapsed": true
   },
   "outputs": [],
   "source": [
    "list_of_post, class_label = bayes.loadDataSet()"
   ]
  },
  {
   "cell_type": "code",
   "execution_count": 28,
   "metadata": {
    "collapsed": true
   },
   "outputs": [],
   "source": [
    "my_vocab_list = bayes.createVocabList(list_of_post)"
   ]
  },
  {
   "cell_type": "code",
   "execution_count": 30,
   "metadata": {},
   "outputs": [],
   "source": [
    "trainMat = []\n",
    "for post in list_of_post:\n",
    "    trainMat.append(bayes.setOfWords2Vec(my_vocab_list,  post))"
   ]
  },
  {
   "cell_type": "code",
   "execution_count": 36,
   "metadata": {},
   "outputs": [
    {
     "data": {
      "text/plain": [
       "[[0,\n",
       "  0,\n",
       "  1,\n",
       "  0,\n",
       "  0,\n",
       "  0,\n",
       "  1,\n",
       "  0,\n",
       "  0,\n",
       "  0,\n",
       "  1,\n",
       "  0,\n",
       "  0,\n",
       "  0,\n",
       "  0,\n",
       "  0,\n",
       "  0,\n",
       "  0,\n",
       "  1,\n",
       "  0,\n",
       "  0,\n",
       "  0,\n",
       "  0,\n",
       "  1,\n",
       "  1,\n",
       "  0,\n",
       "  0,\n",
       "  0,\n",
       "  0,\n",
       "  0,\n",
       "  0,\n",
       "  1],\n",
       " [0,\n",
       "  0,\n",
       "  0,\n",
       "  0,\n",
       "  0,\n",
       "  0,\n",
       "  0,\n",
       "  0,\n",
       "  1,\n",
       "  0,\n",
       "  0,\n",
       "  0,\n",
       "  0,\n",
       "  0,\n",
       "  1,\n",
       "  1,\n",
       "  0,\n",
       "  0,\n",
       "  0,\n",
       "  0,\n",
       "  0,\n",
       "  1,\n",
       "  1,\n",
       "  0,\n",
       "  1,\n",
       "  0,\n",
       "  1,\n",
       "  0,\n",
       "  1,\n",
       "  0,\n",
       "  0,\n",
       "  0]]"
      ]
     },
     "execution_count": 36,
     "metadata": {},
     "output_type": "execute_result"
    }
   ],
   "source": [
    "trainMat[0:2][:10]"
   ]
  },
  {
   "cell_type": "code",
   "execution_count": 34,
   "metadata": {
    "collapsed": true
   },
   "outputs": [],
   "source": [
    "trainMat2 = [bayes.setOfWords2Vec(my_vocab_list, post) for ost in list_of_post]"
   ]
  },
  {
   "cell_type": "code",
   "execution_count": 35,
   "metadata": {},
   "outputs": [
    {
     "data": {
      "text/plain": [
       "False"
      ]
     },
     "execution_count": 35,
     "metadata": {},
     "output_type": "execute_result"
    }
   ],
   "source": [
    "trainMat == trainMat2"
   ]
  },
  {
   "cell_type": "code",
   "execution_count": 37,
   "metadata": {
    "scrolled": true
   },
   "outputs": [
    {
     "name": "stdout",
     "output_type": "stream",
     "text": [
      "[0, 0, 1, 0, 0, 0, 1, 0, 0, 0, 1, 0, 0, 0, 0, 0, 0, 0, 1, 0, 0, 0, 0, 1, 1, 0, 0, 0, 0, 0, 0, 1]\n",
      "[0, 0, 0, 0, 0, 0, 0, 0, 1, 0, 0, 0, 0, 0, 1, 1, 0, 0, 0, 0, 0, 1, 1, 0, 1, 0, 1, 0, 1, 0, 0, 0]\n"
     ]
    }
   ],
   "source": [
    "print(trainMat[0])\n",
    "print(trainMat[1])"
   ]
  },
  {
   "cell_type": "code",
   "execution_count": 59,
   "metadata": {
    "scrolled": false
   },
   "outputs": [
    {
     "data": {
      "text/plain": [
       "<module 'bayes' from 'bayes.py'>"
      ]
     },
     "execution_count": 59,
     "metadata": {},
     "output_type": "execute_result"
    }
   ],
   "source": [
    "reload(bayes)"
   ]
  },
  {
   "cell_type": "code",
   "execution_count": 60,
   "metadata": {
    "scrolled": false
   },
   "outputs": [
    {
     "name": "stdout",
     "output_type": "stream",
     "text": [
      "porb. of abusive: 0.5\n",
      "\n",
      "-->i: 0\n",
      "-->if trainCategory[0] == 1\n",
      "-->trainCategory: [0, 1, 0, 1, 0, 1]\n",
      "----> trainMatrix[0]\n",
      "----> p0Num: [ 1.  1.  2.  1.  1.  1.  2.  1.  1.  1.  2.  1.  1.  1.  1.  1.  1.  1.\n",
      "  2.  1.  1.  1.  1.  2.  2.  1.  1.  1.  1.  1.  1.  2.]\n",
      "----> p0Denom: 9.0\n",
      "\n",
      "-->i: 1\n",
      "-->if trainCategory[1] == 1\n",
      "-->trainCategory: [0, 1, 0, 1, 0, 1]\n",
      "----> trainMatrix[1]\n",
      "----> p1Num: [ 1.  1.  1.  1.  1.  1.  1.  1.  2.  1.  1.  1.  1.  1.  2.  2.  1.  1.\n",
      "  1.  1.  1.  2.  2.  1.  2.  1.  2.  1.  2.  1.  1.  1.]\n",
      "----> p1Denom: 10.0\n",
      "\n",
      "-->i: 2\n",
      "-->if trainCategory[2] == 1\n",
      "-->trainCategory: [0, 1, 0, 1, 0, 1]\n",
      "----> trainMatrix[2]\n",
      "----> p0Num: [ 2.  2.  2.  1.  1.  2.  2.  2.  1.  1.  2.  2.  1.  1.  1.  2.  1.  1.\n",
      "  2.  1.  1.  1.  1.  2.  2.  1.  1.  2.  1.  1.  1.  3.]\n",
      "----> p0Denom: 17.0\n",
      "\n",
      "-->i: 3\n",
      "-->if trainCategory[3] == 1\n",
      "-->trainCategory: [0, 1, 0, 1, 0, 1]\n",
      "----> trainMatrix[3]\n",
      "----> p1Num: [ 1.  1.  1.  2.  1.  1.  1.  1.  2.  2.  1.  1.  1.  1.  2.  2.  1.  2.\n",
      "  1.  2.  1.  2.  2.  1.  2.  1.  3.  1.  2.  1.  1.  1.]\n",
      "----> p1Denom: 15.0\n",
      "\n",
      "-->i: 4\n",
      "-->if trainCategory[4] == 1\n",
      "-->trainCategory: [0, 1, 0, 1, 0, 1]\n",
      "----> trainMatrix[4]\n",
      "----> p0Num: [ 2.  2.  2.  1.  1.  2.  2.  2.  1.  2.  2.  2.  2.  1.  1.  3.  1.  1.\n",
      "  2.  1.  2.  2.  1.  2.  2.  2.  1.  2.  1.  2.  2.  4.]\n",
      "----> p0Denom: 26.0\n",
      "\n",
      "-->i: 5\n",
      "-->if trainCategory[5] == 1\n",
      "-->trainCategory: [0, 1, 0, 1, 0, 1]\n",
      "----> trainMatrix[5]\n",
      "----> p1Num: [ 1.  1.  1.  2.  2.  1.  1.  1.  2.  2.  1.  1.  1.  2.  2.  2.  2.  2.\n",
      "  1.  3.  1.  2.  2.  1.  3.  1.  4.  1.  2.  1.  1.  1.]\n",
      "----> p1Denom: 21.0\n",
      "---------->p1Vect: [-3.04452244 -3.04452244 -3.04452244 -2.35137526 -2.35137526 -3.04452244\n",
      " -3.04452244 -3.04452244 -2.35137526 -2.35137526 -3.04452244 -3.04452244\n",
      " -3.04452244 -2.35137526 -2.35137526 -2.35137526 -2.35137526 -2.35137526\n",
      " -3.04452244 -1.94591015 -3.04452244 -2.35137526 -2.35137526 -3.04452244\n",
      " -1.94591015 -3.04452244 -1.65822808 -3.04452244 -2.35137526 -3.04452244\n",
      " -3.04452244 -3.04452244]\n",
      "---------->p0Vect: [-2.56494936 -2.56494936 -2.56494936 -3.25809654 -3.25809654 -2.56494936\n",
      " -2.56494936 -2.56494936 -3.25809654 -2.56494936 -2.56494936 -2.56494936\n",
      " -2.56494936 -3.25809654 -3.25809654 -2.15948425 -3.25809654 -3.25809654\n",
      " -2.56494936 -3.25809654 -2.56494936 -2.56494936 -3.25809654 -2.56494936\n",
      " -2.56494936 -2.56494936 -3.25809654 -2.56494936 -3.25809654 -2.56494936\n",
      " -2.56494936 -1.87180218]\n"
     ]
    },
    {
     "data": {
      "text/plain": [
       "(array([-2.56494936, -2.56494936, -2.56494936, -3.25809654, -3.25809654,\n",
       "        -2.56494936, -2.56494936, -2.56494936, -3.25809654, -2.56494936,\n",
       "        -2.56494936, -2.56494936, -2.56494936, -3.25809654, -3.25809654,\n",
       "        -2.15948425, -3.25809654, -3.25809654, -2.56494936, -3.25809654,\n",
       "        -2.56494936, -2.56494936, -3.25809654, -2.56494936, -2.56494936,\n",
       "        -2.56494936, -3.25809654, -2.56494936, -3.25809654, -2.56494936,\n",
       "        -2.56494936, -1.87180218]),\n",
       " array([-3.04452244, -3.04452244, -3.04452244, -2.35137526, -2.35137526,\n",
       "        -3.04452244, -3.04452244, -3.04452244, -2.35137526, -2.35137526,\n",
       "        -3.04452244, -3.04452244, -3.04452244, -2.35137526, -2.35137526,\n",
       "        -2.35137526, -2.35137526, -2.35137526, -3.04452244, -1.94591015,\n",
       "        -3.04452244, -2.35137526, -2.35137526, -3.04452244, -1.94591015,\n",
       "        -3.04452244, -1.65822808, -3.04452244, -2.35137526, -3.04452244,\n",
       "        -3.04452244, -3.04452244]),\n",
       " 0.5)"
      ]
     },
     "execution_count": 60,
     "metadata": {},
     "output_type": "execute_result"
    }
   ],
   "source": [
    "bayes.trainNB0_lec(trainMat, class_label)"
   ]
  },
  {
   "cell_type": "code",
   "execution_count": 62,
   "metadata": {
    "scrolled": true
   },
   "outputs": [
    {
     "data": {
      "text/plain": [
       "['cute',\n",
       " 'love',\n",
       " 'help',\n",
       " 'garbage',\n",
       " 'quit',\n",
       " 'I',\n",
       " 'problems',\n",
       " 'is',\n",
       " 'park',\n",
       " 'stop',\n",
       " 'flea',\n",
       " 'dalmation',\n",
       " 'licks',\n",
       " 'food',\n",
       " 'not',\n",
       " 'him',\n",
       " 'buying',\n",
       " 'posting',\n",
       " 'has',\n",
       " 'worthless',\n",
       " 'ate',\n",
       " 'to',\n",
       " 'maybe',\n",
       " 'please',\n",
       " 'dog',\n",
       " 'how',\n",
       " 'stupid',\n",
       " 'so',\n",
       " 'take',\n",
       " 'mr',\n",
       " 'steak',\n",
       " 'my']"
      ]
     },
     "execution_count": 62,
     "metadata": {},
     "output_type": "execute_result"
    }
   ],
   "source": [
    "my_vocab_list"
   ]
  },
  {
   "cell_type": "code",
   "execution_count": 63,
   "metadata": {},
   "outputs": [
    {
     "name": "stdout",
     "output_type": "stream",
     "text": [
      "porb. of abusive: 0.5\n",
      "\n",
      "-->i: 0\n",
      "-->if trainCategory[0] == 1\n",
      "-->trainCategory: [0, 1, 0, 1, 0, 1]\n",
      "----> trainMatrix[0]\n",
      "----> p0Num: [ 1.  1.  2.  1.  1.  1.  2.  1.  1.  1.  2.  1.  1.  1.  1.  1.  1.  1.\n",
      "  2.  1.  1.  1.  1.  2.  2.  1.  1.  1.  1.  1.  1.  2.]\n",
      "----> p0Denom: 9.0\n",
      "\n",
      "-->i: 1\n",
      "-->if trainCategory[1] == 1\n",
      "-->trainCategory: [0, 1, 0, 1, 0, 1]\n",
      "----> trainMatrix[1]\n",
      "----> p1Num: [ 1.  1.  1.  1.  1.  1.  1.  1.  2.  1.  1.  1.  1.  1.  2.  2.  1.  1.\n",
      "  1.  1.  1.  2.  2.  1.  2.  1.  2.  1.  2.  1.  1.  1.]\n",
      "----> p1Denom: 10.0\n",
      "\n",
      "-->i: 2\n",
      "-->if trainCategory[2] == 1\n",
      "-->trainCategory: [0, 1, 0, 1, 0, 1]\n",
      "----> trainMatrix[2]\n",
      "----> p0Num: [ 2.  2.  2.  1.  1.  2.  2.  2.  1.  1.  2.  2.  1.  1.  1.  2.  1.  1.\n",
      "  2.  1.  1.  1.  1.  2.  2.  1.  1.  2.  1.  1.  1.  3.]\n",
      "----> p0Denom: 17.0\n",
      "\n",
      "-->i: 3\n",
      "-->if trainCategory[3] == 1\n",
      "-->trainCategory: [0, 1, 0, 1, 0, 1]\n",
      "----> trainMatrix[3]\n",
      "----> p1Num: [ 1.  1.  1.  2.  1.  1.  1.  1.  2.  2.  1.  1.  1.  1.  2.  2.  1.  2.\n",
      "  1.  2.  1.  2.  2.  1.  2.  1.  3.  1.  2.  1.  1.  1.]\n",
      "----> p1Denom: 15.0\n",
      "\n",
      "-->i: 4\n",
      "-->if trainCategory[4] == 1\n",
      "-->trainCategory: [0, 1, 0, 1, 0, 1]\n",
      "----> trainMatrix[4]\n",
      "----> p0Num: [ 2.  2.  2.  1.  1.  2.  2.  2.  1.  2.  2.  2.  2.  1.  1.  3.  1.  1.\n",
      "  2.  1.  2.  2.  1.  2.  2.  2.  1.  2.  1.  2.  2.  4.]\n",
      "----> p0Denom: 26.0\n",
      "\n",
      "-->i: 5\n",
      "-->if trainCategory[5] == 1\n",
      "-->trainCategory: [0, 1, 0, 1, 0, 1]\n",
      "----> trainMatrix[5]\n",
      "----> p1Num: [ 1.  1.  1.  2.  2.  1.  1.  1.  2.  2.  1.  1.  1.  2.  2.  2.  2.  2.\n",
      "  1.  3.  1.  2.  2.  1.  3.  1.  4.  1.  2.  1.  1.  1.]\n",
      "----> p1Denom: 21.0\n",
      "---------->p1Vect: [-3.04452244 -3.04452244 -3.04452244 -2.35137526 -2.35137526 -3.04452244\n",
      " -3.04452244 -3.04452244 -2.35137526 -2.35137526 -3.04452244 -3.04452244\n",
      " -3.04452244 -2.35137526 -2.35137526 -2.35137526 -2.35137526 -2.35137526\n",
      " -3.04452244 -1.94591015 -3.04452244 -2.35137526 -2.35137526 -3.04452244\n",
      " -1.94591015 -3.04452244 -1.65822808 -3.04452244 -2.35137526 -3.04452244\n",
      " -3.04452244 -3.04452244]\n",
      "---------->p0Vect: [-2.56494936 -2.56494936 -2.56494936 -3.25809654 -3.25809654 -2.56494936\n",
      " -2.56494936 -2.56494936 -3.25809654 -2.56494936 -2.56494936 -2.56494936\n",
      " -2.56494936 -3.25809654 -3.25809654 -2.15948425 -3.25809654 -3.25809654\n",
      " -2.56494936 -3.25809654 -2.56494936 -2.56494936 -3.25809654 -2.56494936\n",
      " -2.56494936 -2.56494936 -3.25809654 -2.56494936 -3.25809654 -2.56494936\n",
      " -2.56494936 -1.87180218]\n"
     ]
    },
    {
     "data": {
      "text/plain": [
       "(array([-2.56494936, -2.56494936, -2.56494936, -3.25809654, -3.25809654,\n",
       "        -2.56494936, -2.56494936, -2.56494936, -3.25809654, -2.56494936,\n",
       "        -2.56494936, -2.56494936, -2.56494936, -3.25809654, -3.25809654,\n",
       "        -2.15948425, -3.25809654, -3.25809654, -2.56494936, -3.25809654,\n",
       "        -2.56494936, -2.56494936, -3.25809654, -2.56494936, -2.56494936,\n",
       "        -2.56494936, -3.25809654, -2.56494936, -3.25809654, -2.56494936,\n",
       "        -2.56494936, -1.87180218]),\n",
       " array([-3.04452244, -3.04452244, -3.04452244, -2.35137526, -2.35137526,\n",
       "        -3.04452244, -3.04452244, -3.04452244, -2.35137526, -2.35137526,\n",
       "        -3.04452244, -3.04452244, -3.04452244, -2.35137526, -2.35137526,\n",
       "        -2.35137526, -2.35137526, -2.35137526, -3.04452244, -1.94591015,\n",
       "        -3.04452244, -2.35137526, -2.35137526, -3.04452244, -1.94591015,\n",
       "        -3.04452244, -1.65822808, -3.04452244, -2.35137526, -3.04452244,\n",
       "        -3.04452244, -3.04452244]),\n",
       " 0.5)"
      ]
     },
     "execution_count": 63,
     "metadata": {},
     "output_type": "execute_result"
    }
   ],
   "source": [
    "bayes.trainNB0_lec(trainMat, class_label)"
   ]
  },
  {
   "cell_type": "code",
   "execution_count": 88,
   "metadata": {
    "scrolled": true
   },
   "outputs": [
    {
     "data": {
      "text/plain": [
       "<module 'bayes' from 'bayes.py'>"
      ]
     },
     "execution_count": 88,
     "metadata": {},
     "output_type": "execute_result"
    }
   ],
   "source": [
    "reload(bayes)"
   ]
  },
  {
   "cell_type": "code",
   "execution_count": 89,
   "metadata": {},
   "outputs": [
    {
     "name": "stdout",
     "output_type": "stream",
     "text": [
      "porb. of abusive: 0.5\n"
     ]
    }
   ],
   "source": [
    "p0v, p1v, pAbusive = bayes.trainNB0(trainMat, class_label)"
   ]
  },
  {
   "cell_type": "code",
   "execution_count": 90,
   "metadata": {},
   "outputs": [],
   "source": [
    "testEntry = ['loe', 'my', 'dalmeation']"
   ]
  },
  {
   "cell_type": "code",
   "execution_count": 91,
   "metadata": {},
   "outputs": [
    {
     "name": "stdout",
     "output_type": "stream",
     "text": [
      "the word: loe is not in my Vocabulary!\n",
      "the word: dalmeation is not in my Vocabulary!\n"
     ]
    },
    {
     "data": {
      "text/plain": [
       "[0,\n",
       " 0,\n",
       " 0,\n",
       " 0,\n",
       " 0,\n",
       " 0,\n",
       " 0,\n",
       " 0,\n",
       " 0,\n",
       " 0,\n",
       " 0,\n",
       " 0,\n",
       " 0,\n",
       " 0,\n",
       " 0,\n",
       " 0,\n",
       " 0,\n",
       " 0,\n",
       " 0,\n",
       " 0,\n",
       " 0,\n",
       " 0,\n",
       " 0,\n",
       " 0,\n",
       " 0,\n",
       " 0,\n",
       " 0,\n",
       " 0,\n",
       " 0,\n",
       " 0,\n",
       " 0,\n",
       " 1]"
      ]
     },
     "execution_count": 91,
     "metadata": {},
     "output_type": "execute_result"
    }
   ],
   "source": [
    "testVec = bayes.setOfWords2Vec(my_vocab_list, testEntry)\n",
    "testVec"
   ]
  },
  {
   "cell_type": "code",
   "execution_count": 92,
   "metadata": {
    "scrolled": true
   },
   "outputs": [
    {
     "name": "stdout",
     "output_type": "stream",
     "text": [
      "vec2Classify: [0, 0, 0, 0, 0, 0, 0, 0, 0, 0, 0, 0, 0, 0, 0, 0, 0, 0, 0, 0, 0, 0, 0, 0, 0, 0, 0, 0, 0, 0, 0, 1]\n",
      "p1Vec: [-3.04452244 -3.04452244 -3.04452244 -2.35137526 -2.35137526 -3.04452244\n",
      " -3.04452244 -3.04452244 -2.35137526 -2.35137526 -3.04452244 -3.04452244\n",
      " -3.04452244 -2.35137526 -2.35137526 -2.35137526 -2.35137526 -2.35137526\n",
      " -3.04452244 -1.94591015 -3.04452244 -2.35137526 -2.35137526 -3.04452244\n",
      " -1.94591015 -3.04452244 -1.65822808 -3.04452244 -2.35137526 -3.04452244\n",
      " -3.04452244 -3.04452244]\n",
      "p0Vec: [-2.56494936 -2.56494936 -2.56494936 -3.25809654 -3.25809654 -2.56494936\n",
      " -2.56494936 -2.56494936 -3.25809654 -2.56494936 -2.56494936 -2.56494936\n",
      " -2.56494936 -3.25809654 -3.25809654 -2.15948425 -3.25809654 -3.25809654\n",
      " -2.56494936 -3.25809654 -2.56494936 -2.56494936 -3.25809654 -2.56494936\n",
      " -2.56494936 -2.56494936 -3.25809654 -2.56494936 -3.25809654 -2.56494936\n",
      " -2.56494936 -1.87180218]\n",
      "pClass1: 0.5\n",
      "p1: -3.73766961828, p0: -2.56494935746\n"
     ]
    },
    {
     "data": {
      "text/plain": [
       "0"
      ]
     },
     "execution_count": 92,
     "metadata": {},
     "output_type": "execute_result"
    }
   ],
   "source": [
    "bayes.classifyNB_lec(testVec, p0v, p1v, pAbusive)"
   ]
  },
  {
   "cell_type": "code",
   "execution_count": 93,
   "metadata": {
    "scrolled": true
   },
   "outputs": [
    {
     "data": {
      "text/plain": [
       "<function bayes.testingNB>"
      ]
     },
     "execution_count": 93,
     "metadata": {},
     "output_type": "execute_result"
    }
   ],
   "source": [
    "bayes.testingNB"
   ]
  },
  {
   "cell_type": "code",
   "execution_count": 94,
   "metadata": {},
   "outputs": [
    {
     "name": "stdout",
     "output_type": "stream",
     "text": [
      "porb. of abusive: 0.5\n",
      "['love', 'my', 'dalmation'] classified as:  0\n",
      "['stupid', 'garbage'] classified as:  1\n"
     ]
    }
   ],
   "source": [
    "bayes.testingNB()"
   ]
  },
  {
   "cell_type": "code",
   "execution_count": 95,
   "metadata": {
    "collapsed": true
   },
   "outputs": [],
   "source": [
    "testEntry = ['I', 'dumped', 'garbage','for', 'my', 'cute', 'dog']"
   ]
  },
  {
   "cell_type": "code",
   "execution_count": 96,
   "metadata": {},
   "outputs": [
    {
     "name": "stdout",
     "output_type": "stream",
     "text": [
      "the word: dumped is not in my Vocabulary!\n",
      "the word: for is not in my Vocabulary!\n",
      "[0, 0, 0, 0, 0, 0, 0, 0, 0, 0, 0, 0, 0, 0, 0, 0, 0, 0, 0, 0, 0, 0, 0, 0, 0, 0, 0, 0, 0, 0, 0, 1]\n"
     ]
    }
   ],
   "source": [
    "textVec = bayes.setOfWords2Vec(my_vocab_list, testEntry)\n",
    "print testVec"
   ]
  },
  {
   "cell_type": "code",
   "execution_count": 98,
   "metadata": {},
   "outputs": [
    {
     "data": {
      "text/plain": [
       "1"
      ]
     },
     "execution_count": 98,
     "metadata": {},
     "output_type": "execute_result"
    }
   ],
   "source": [
    "bayes.classifyNB(trainMat, p0v, p1v, pAbusive)"
   ]
  },
  {
   "cell_type": "code",
   "execution_count": 99,
   "metadata": {
    "collapsed": true
   },
   "outputs": [],
   "source": [
    "t1 = ['a', 'bc', 'def']; t2 = [1, 2, 'hello']"
   ]
  },
  {
   "cell_type": "code",
   "execution_count": 100,
   "metadata": {
    "collapsed": true
   },
   "outputs": [],
   "source": [
    "t_a = []; t_e = []"
   ]
  },
  {
   "cell_type": "code",
   "execution_count": 102,
   "metadata": {
    "collapsed": true
   },
   "outputs": [],
   "source": [
    "t = []\n",
    "t.append(t1)"
   ]
  },
  {
   "cell_type": "code",
   "execution_count": 103,
   "metadata": {},
   "outputs": [
    {
     "data": {
      "text/plain": [
       "[['a', 'bc', 'def']]"
      ]
     },
     "execution_count": 103,
     "metadata": {},
     "output_type": "execute_result"
    }
   ],
   "source": [
    "t"
   ]
  },
  {
   "cell_type": "code",
   "execution_count": 104,
   "metadata": {},
   "outputs": [
    {
     "data": {
      "text/plain": [
       "[['a', 'bc', 'def'], [1, 2, 'hello']]"
      ]
     },
     "execution_count": 104,
     "metadata": {},
     "output_type": "execute_result"
    }
   ],
   "source": [
    "t.append(t2); t"
   ]
  },
  {
   "cell_type": "code",
   "execution_count": 105,
   "metadata": {},
   "outputs": [
    {
     "data": {
      "text/plain": [
       "['a', 'bc', 'def']"
      ]
     },
     "execution_count": 105,
     "metadata": {},
     "output_type": "execute_result"
    }
   ],
   "source": [
    "tt = []\n",
    "tt.extend(t1); tt"
   ]
  },
  {
   "cell_type": "code",
   "execution_count": 106,
   "metadata": {
    "scrolled": true
   },
   "outputs": [
    {
     "data": {
      "text/plain": [
       "['a', 'bc', 'def', 1, 2, 'hello']"
      ]
     },
     "execution_count": 106,
     "metadata": {},
     "output_type": "execute_result"
    }
   ],
   "source": [
    "tt.extend(t2); tt"
   ]
  },
  {
   "cell_type": "code",
   "execution_count": 108,
   "metadata": {},
   "outputs": [
    {
     "data": {
      "text/plain": [
       "<module 'bayes' from 'bayes.pyc'>"
      ]
     },
     "execution_count": 108,
     "metadata": {},
     "output_type": "execute_result"
    }
   ],
   "source": [
    "reload(bayes)"
   ]
  },
  {
   "cell_type": "code",
   "execution_count": 109,
   "metadata": {
    "collapsed": true
   },
   "outputs": [
    {
     "name": "stdout",
     "output_type": "stream",
     "text": [
      "porb. of abusive: 0.525\n",
      "classification error ['yeah', 'ready', 'may', 'not', 'here', 'because', 'jar', 'jar', 'has', 'plane', 'tickets', 'germany', 'for']\n",
      "the error rate is:  0.1\n"
     ]
    }
   ],
   "source": [
    "bayes.spamTest()"
   ]
  },
  {
   "cell_type": "code",
   "execution_count": 110,
   "metadata": {
    "collapsed": true
   },
   "outputs": [],
   "source": [
    "import numpy as np"
   ]
  },
  {
   "cell_type": "code",
   "execution_count": 111,
   "metadata": {},
   "outputs": [
    {
     "data": {
      "text/plain": [
       "10"
      ]
     },
     "execution_count": 111,
     "metadata": {},
     "output_type": "execute_result"
    }
   ],
   "source": [
    "randIndex = int(np.random.uniform(0, 50))\n",
    "randIndex"
   ]
  },
  {
   "cell_type": "code",
   "execution_count": 114,
   "metadata": {},
   "outputs": [
    {
     "data": {
      "text/plain": [
       "[49, 39, 11, 26, 7, 47, 31, 22, 37, 20]"
      ]
     },
     "execution_count": 114,
     "metadata": {},
     "output_type": "execute_result"
    }
   ],
   "source": [
    "[int(np.random.uniform(0, 50)) for _ in range(10)]\n",
    "# 중복값이 나온다. \n",
    "# 원래는 다른 값이었어도 소숫점을 버리니까"
   ]
  },
  {
   "cell_type": "code",
   "execution_count": 115,
   "metadata": {},
   "outputs": [
    {
     "data": {
      "text/plain": [
       "<module 'bayes' from 'bayes.py'>"
      ]
     },
     "execution_count": 115,
     "metadata": {},
     "output_type": "execute_result"
    }
   ],
   "source": [
    "reload(bayes)"
   ]
  },
  {
   "cell_type": "code",
   "execution_count": 116,
   "metadata": {},
   "outputs": [
    {
     "name": "stdout",
     "output_type": "stream",
     "text": [
      "porb. of abusive: 0.475\n",
      "p0V: []\n",
      "p1V:{}\n",
      "pSpam\n",
      "classification error ['scifinance', 'now', 'automatically', 'generates', 'gpu', 'enabled', 'pricing', 'risk', 'model', 'source', 'code', 'that', 'runs', '300x', 'faster', 'than', 'serial', 'code', 'using', 'new', 'nvidia', 'fermi', 'class', 'tesla', 'series', 'gpu', 'scifinance', 'derivatives', 'pricing', 'and', 'risk', 'model', 'development', 'tool', 'that', 'automatically', 'generates', 'and', 'gpu', 'enabled', 'source', 'code', 'from', 'concise', 'high', 'level', 'model', 'specifications', 'parallel', 'computing', 'cuda', 'programming', 'expertise', 'required', 'scifinance', 'automatic', 'gpu', 'enabled', 'monte', 'carlo', 'pricing', 'model', 'source', 'code', 'generation', 'capabilities', 'have', 'been', 'significantly', 'extended', 'the', 'latest', 'release', 'this', 'includes']\n",
      "the error rate is:  0.1\n"
     ]
    }
   ],
   "source": [
    "bayes.spamTest()"
   ]
  },
  {
   "cell_type": "code",
   "execution_count": 122,
   "metadata": {
    "scrolled": true
   },
   "outputs": [
    {
     "data": {
      "text/plain": [
       "<module 'bayes' from 'bayes.pyc'>"
      ]
     },
     "execution_count": 122,
     "metadata": {},
     "output_type": "execute_result"
    }
   ],
   "source": [
    "reload(bayes)"
   ]
  },
  {
   "cell_type": "code",
   "execution_count": 123,
   "metadata": {
    "scrolled": true
   },
   "outputs": [
    {
     "name": "stdout",
     "output_type": "stream",
     "text": [
      "porb. of abusive: 0.525\n",
      "p0V: []\n",
      "p1V:{}\n",
      "pSpam\n",
      "classification error ['yeah', 'ready', 'may', 'not', 'here', 'because', 'jar', 'jar', 'has', 'plane', 'tickets', 'germany', 'for']\n",
      "the error rate is:  0.1\n"
     ]
    }
   ],
   "source": [
    "bayes.spamTest()"
   ]
  },
  {
   "cell_type": "markdown",
   "metadata": {},
   "source": [
    "나이브한 날리즈 레프렌테이션 \n",
    "* spam mail의 확률\n",
    "* spam mail일 때 각 단어의 확률"
   ]
  },
  {
   "cell_type": "markdown",
   "metadata": {},
   "source": [
    "# RSS Feeds"
   ]
  },
  {
   "cell_type": "code",
   "execution_count": 148,
   "metadata": {},
   "outputs": [],
   "source": [
    "import feedparser"
   ]
  },
  {
   "cell_type": "code",
   "execution_count": 131,
   "metadata": {
    "collapsed": true
   },
   "outputs": [],
   "source": [
    "ny = feedparser.parse(\n",
    "    'https://newyork.craigslist.org/stp/index.rss')"
   ]
  },
  {
   "cell_type": "code",
   "execution_count": 132,
   "metadata": {
    "collapsed": true
   },
   "outputs": [
    {
     "data": {
      "text/plain": [
       "{'bozo': 0,\n",
       " 'encoding': u'utf-8',\n",
       " 'entries': [{'dc_source': u'https://newyork.craigslist.org/brk/stp/d/cool-friend-maybe-more-m4w/6311894226.html',\n",
       "   'dc_type': u'text',\n",
       "   'id': u'https://newyork.craigslist.org/brk/stp/d/cool-friend-maybe-more-m4w/6311894226.html',\n",
       "   'language': u'en-us',\n",
       "   'link': u'https://newyork.craigslist.org/brk/stp/d/cool-friend-maybe-more-m4w/6311894226.html',\n",
       "   'links': [{'href': u'https://newyork.craigslist.org/brk/stp/d/cool-friend-maybe-more-m4w/6311894226.html',\n",
       "     'rel': u'alternate',\n",
       "     'type': u'text/html'}],\n",
       "   'published': u'2017-09-19T02:56:54-04:00',\n",
       "   'published_parsed': time.struct_time(tm_year=2017, tm_mon=9, tm_mday=19, tm_hour=6, tm_min=56, tm_sec=54, tm_wday=1, tm_yday=262, tm_isdst=0),\n",
       "   'rights': u'copyright 2017 craiglist',\n",
       "   'rights_detail': {'base': u'https://newyork.craigslist.org/search/stp?format=rss',\n",
       "    'language': None,\n",
       "    'type': u'text/plain',\n",
       "    'value': u'copyright 2017 craiglist'},\n",
       "   'summary': u\"average guy seeking a cool female friend that I can chat with laugh bug out and just be ourselves around each other. Someone who has a good head on a shoulders that's funny mature and cool to hang with it doesnt matter what borough you're from just b ...\",\n",
       "   'summary_detail': {'base': u'https://newyork.craigslist.org/search/stp?format=rss',\n",
       "    'language': None,\n",
       "    'type': u'text/html',\n",
       "    'value': u\"average guy seeking a cool female friend that I can chat with laugh bug out and just be ourselves around each other. Someone who has a good head on a shoulders that's funny mature and cool to hang with it doesnt matter what borough you're from just b ...\"},\n",
       "   'title': u'Cool friend maybe more - m4w (Brooklyn)',\n",
       "   'title_detail': {'base': u'https://newyork.craigslist.org/search/stp?format=rss',\n",
       "    'language': None,\n",
       "    'type': u'text/plain',\n",
       "    'value': u'Cool friend maybe more - m4w (Brooklyn)'},\n",
       "   'updated': u'2017-09-19T02:56:54-04:00',\n",
       "   'updated_parsed': time.struct_time(tm_year=2017, tm_mon=9, tm_mday=19, tm_hour=6, tm_min=56, tm_sec=54, tm_wday=1, tm_yday=262, tm_isdst=0)},\n",
       "  {'dc_source': u'https://newyork.craigslist.org/mnh/stp/d/jewish-marriage-m4w-m4w/6304094202.html',\n",
       "   'dc_type': u'text',\n",
       "   'enc_enclosure': {'resource': u'https://images.craigslist.org/00U0U_g7NhVOxIYuA_300x300.jpg',\n",
       "    'type': u'image/jpeg'},\n",
       "   'id': u'https://newyork.craigslist.org/mnh/stp/d/jewish-marriage-m4w-m4w/6304094202.html',\n",
       "   'language': u'en-us',\n",
       "   'link': u'https://newyork.craigslist.org/mnh/stp/d/jewish-marriage-m4w-m4w/6304094202.html',\n",
       "   'links': [{'href': u'https://newyork.craigslist.org/mnh/stp/d/jewish-marriage-m4w-m4w/6304094202.html',\n",
       "     'rel': u'alternate',\n",
       "     'type': u'text/html'}],\n",
       "   'published': u'2017-09-19T02:55:07-04:00',\n",
       "   'published_parsed': time.struct_time(tm_year=2017, tm_mon=9, tm_mday=19, tm_hour=6, tm_min=55, tm_sec=7, tm_wday=1, tm_yday=262, tm_isdst=0),\n",
       "   'rights': u'copyright 2017 craiglist',\n",
       "   'rights_detail': {'base': u'https://newyork.craigslist.org/search/stp?format=rss',\n",
       "    'language': None,\n",
       "    'type': u'text/plain',\n",
       "    'value': u'copyright 2017 craiglist'},\n",
       "   'summary': u\"Looking for Commitment - Let's Get Married!!! \\nDon't Spend Another Day as a Single Woman! \\nLet's see what we can do about that! \\nI'm NOT looking for a one night'er or a fling, but rather a meaningful relationship. \\nBased on Openness, Trust and Honest ...\",\n",
       "   'summary_detail': {'base': u'https://newyork.craigslist.org/search/stp?format=rss',\n",
       "    'language': None,\n",
       "    'type': u'text/html',\n",
       "    'value': u\"Looking for Commitment - Let's Get Married!!! \\nDon't Spend Another Day as a Single Woman! \\nLet's see what we can do about that! \\nI'm NOT looking for a one night'er or a fling, but rather a meaningful relationship. \\nBased on Openness, Trust and Honest ...\"},\n",
       "   'title': u'Jewish Marriage - m4w - m4w (Midtown East)',\n",
       "   'title_detail': {'base': u'https://newyork.craigslist.org/search/stp?format=rss',\n",
       "    'language': None,\n",
       "    'type': u'text/plain',\n",
       "    'value': u'Jewish Marriage - m4w - m4w (Midtown East)'},\n",
       "   'updated': u'2017-09-19T02:55:07-04:00',\n",
       "   'updated_parsed': time.struct_time(tm_year=2017, tm_mon=9, tm_mday=19, tm_hour=6, tm_min=55, tm_sec=7, tm_wday=1, tm_yday=262, tm_isdst=0)},\n",
       "  {'dc_source': u'https://newyork.craigslist.org/mnh/stp/d/fitness-friends-w4m/6304657755.html',\n",
       "   'dc_type': u'text',\n",
       "   'id': u'https://newyork.craigslist.org/mnh/stp/d/fitness-friends-w4m/6304657755.html',\n",
       "   'language': u'en-us',\n",
       "   'link': u'https://newyork.craigslist.org/mnh/stp/d/fitness-friends-w4m/6304657755.html',\n",
       "   'links': [{'href': u'https://newyork.craigslist.org/mnh/stp/d/fitness-friends-w4m/6304657755.html',\n",
       "     'rel': u'alternate',\n",
       "     'type': u'text/html'}],\n",
       "   'published': u'2017-09-19T02:49:02-04:00',\n",
       "   'published_parsed': time.struct_time(tm_year=2017, tm_mon=9, tm_mday=19, tm_hour=6, tm_min=49, tm_sec=2, tm_wday=1, tm_yday=262, tm_isdst=0),\n",
       "   'rights': u'copyright 2017 craiglist',\n",
       "   'rights_detail': {'base': u'https://newyork.craigslist.org/search/stp?format=rss',\n",
       "    'language': None,\n",
       "    'type': u'text/plain',\n",
       "    'value': u'copyright 2017 craiglist'},\n",
       "   'summary': u'I am 37yr old female who works out 5 to 6 times a week. Attend martial arts 3 times a week. Big nerd as well. Strict diet during the week. Sun only day cheat on my diet. \\nLooking for someone that is 21 to 35 years old. Into martial arts.Works out. On ...',\n",
       "   'summary_detail': {'base': u'https://newyork.craigslist.org/search/stp?format=rss',\n",
       "    'language': None,\n",
       "    'type': u'text/html',\n",
       "    'value': u'I am 37yr old female who works out 5 to 6 times a week. Attend martial arts 3 times a week. Big nerd as well. Strict diet during the week. Sun only day cheat on my diet. \\nLooking for someone that is 21 to 35 years old. Into martial arts.Works out. On ...'},\n",
       "   'title': u'Fitness friends - w4m (All over tristate)',\n",
       "   'title_detail': {'base': u'https://newyork.craigslist.org/search/stp?format=rss',\n",
       "    'language': None,\n",
       "    'type': u'text/plain',\n",
       "    'value': u'Fitness friends - w4m (All over tristate)'},\n",
       "   'updated': u'2017-09-19T02:49:02-04:00',\n",
       "   'updated_parsed': time.struct_time(tm_year=2017, tm_mon=9, tm_mday=19, tm_hour=6, tm_min=49, tm_sec=2, tm_wday=1, tm_yday=262, tm_isdst=0)},\n",
       "  {'dc_source': u'https://newyork.craigslist.org/brk/stp/d/our-little-secret-m4w/6303896868.html',\n",
       "   'dc_type': u'text',\n",
       "   'id': u'https://newyork.craigslist.org/brk/stp/d/our-little-secret-m4w/6303896868.html',\n",
       "   'language': u'en-us',\n",
       "   'link': u'https://newyork.craigslist.org/brk/stp/d/our-little-secret-m4w/6303896868.html',\n",
       "   'links': [{'href': u'https://newyork.craigslist.org/brk/stp/d/our-little-secret-m4w/6303896868.html',\n",
       "     'rel': u'alternate',\n",
       "     'type': u'text/html'}],\n",
       "   'published': u'2017-09-19T02:38:29-04:00',\n",
       "   'published_parsed': time.struct_time(tm_year=2017, tm_mon=9, tm_mday=19, tm_hour=6, tm_min=38, tm_sec=29, tm_wday=1, tm_yday=262, tm_isdst=0),\n",
       "   'rights': u'copyright 2017 craiglist',\n",
       "   'rights_detail': {'base': u'https://newyork.craigslist.org/search/stp?format=rss',\n",
       "    'language': None,\n",
       "    'type': u'text/plain',\n",
       "    'value': u'copyright 2017 craiglist'},\n",
       "   'summary': u'Did you ever want to watch a guy jerk-off or jerk him off yourself? No one would know but us. If you\\'re interested, put \"JERK-OFF\" on the subject line.',\n",
       "   'summary_detail': {'base': u'https://newyork.craigslist.org/search/stp?format=rss',\n",
       "    'language': None,\n",
       "    'type': u'text/html',\n",
       "    'value': u'Did you ever want to watch a guy jerk-off or jerk him off yourself? No one would know but us. If you\\'re interested, put \"JERK-OFF\" on the subject line.'},\n",
       "   'title': u'OUR LITTLE SECRET - m4w',\n",
       "   'title_detail': {'base': u'https://newyork.craigslist.org/search/stp?format=rss',\n",
       "    'language': None,\n",
       "    'type': u'text/plain',\n",
       "    'value': u'OUR LITTLE SECRET - m4w'},\n",
       "   'updated': u'2017-09-19T02:38:29-04:00',\n",
       "   'updated_parsed': time.struct_time(tm_year=2017, tm_mon=9, tm_mday=19, tm_hour=6, tm_min=38, tm_sec=29, tm_wday=1, tm_yday=262, tm_isdst=0)},\n",
       "  {'dc_source': u'https://newyork.craigslist.org/mnh/stp/d/had-long-day-at-work-on-your/6275899286.html',\n",
       "   'dc_type': u'text',\n",
       "   'enc_enclosure': {'resource': u'https://images.craigslist.org/00e0e_hIdu1Z4LQu2_300x300.jpg',\n",
       "    'type': u'image/jpeg'},\n",
       "   'id': u'https://newyork.craigslist.org/mnh/stp/d/had-long-day-at-work-on-your/6275899286.html',\n",
       "   'language': u'en-us',\n",
       "   'link': u'https://newyork.craigslist.org/mnh/stp/d/had-long-day-at-work-on-your/6275899286.html',\n",
       "   'links': [{'href': u'https://newyork.craigslist.org/mnh/stp/d/had-long-day-at-work-on-your/6275899286.html',\n",
       "     'rel': u'alternate',\n",
       "     'type': u'text/html'}],\n",
       "   'published': u'2017-09-19T02:33:12-04:00',\n",
       "   'published_parsed': time.struct_time(tm_year=2017, tm_mon=9, tm_mday=19, tm_hour=6, tm_min=33, tm_sec=12, tm_wday=1, tm_yday=262, tm_isdst=0),\n",
       "   'rights': u'copyright 2017 craiglist',\n",
       "   'rights_detail': {'base': u'https://newyork.craigslist.org/search/stp?format=rss',\n",
       "    'language': None,\n",
       "    'type': u'text/plain',\n",
       "    'value': u'copyright 2017 craiglist'},\n",
       "   'summary': u\"Have you had a long hard day at work? Do you spend most of the day on your feet? Maybe you'd just like to indulge in a nice relaxing foot massage. Whatever the case may be, I'd love to help. \\nI would love to give you a relaxing foot massage and suck  ...\",\n",
       "   'summary_detail': {'base': u'https://newyork.craigslist.org/search/stp?format=rss',\n",
       "    'language': None,\n",
       "    'type': u'text/html',\n",
       "    'value': u\"Have you had a long hard day at work? Do you spend most of the day on your feet? Maybe you'd just like to indulge in a nice relaxing foot massage. Whatever the case may be, I'd love to help. \\nI would love to give you a relaxing foot massage and suck  ...\"},\n",
       "   'title': u'Had a Long Day at Work on Your Feet? Need a Foot Massage? - m4w (Manhattan)',\n",
       "   'title_detail': {'base': u'https://newyork.craigslist.org/search/stp?format=rss',\n",
       "    'language': None,\n",
       "    'type': u'text/plain',\n",
       "    'value': u'Had a Long Day at Work on Your Feet? Need a Foot Massage? - m4w (Manhattan)'},\n",
       "   'updated': u'2017-09-19T02:33:12-04:00',\n",
       "   'updated_parsed': time.struct_time(tm_year=2017, tm_mon=9, tm_mday=19, tm_hour=6, tm_min=33, tm_sec=12, tm_wday=1, tm_yday=262, tm_isdst=0)},\n",
       "  {'dc_source': u'https://newyork.craigslist.org/mnh/stp/d/model-availableloves-wine-w4w/6295666458.html',\n",
       "   'dc_type': u'text',\n",
       "   'id': u'https://newyork.craigslist.org/mnh/stp/d/model-availableloves-wine-w4w/6295666458.html',\n",
       "   'language': u'en-us',\n",
       "   'link': u'https://newyork.craigslist.org/mnh/stp/d/model-availableloves-wine-w4w/6295666458.html',\n",
       "   'links': [{'href': u'https://newyork.craigslist.org/mnh/stp/d/model-availableloves-wine-w4w/6295666458.html',\n",
       "     'rel': u'alternate',\n",
       "     'type': u'text/html'}],\n",
       "   'published': u'2017-09-19T02:23:00-04:00',\n",
       "   'published_parsed': time.struct_time(tm_year=2017, tm_mon=9, tm_mday=19, tm_hour=6, tm_min=23, tm_sec=0, tm_wday=1, tm_yday=262, tm_isdst=0),\n",
       "   'rights': u'copyright 2017 craiglist',\n",
       "   'rights_detail': {'base': u'https://newyork.craigslist.org/search/stp?format=rss',\n",
       "    'language': None,\n",
       "    'type': u'text/plain',\n",
       "    'value': u'copyright 2017 craiglist'},\n",
       "   'summary': u\"Hey I'm a plus-size model looking for modeling work ASAP. \\nI'm African American and Puerto Rican! Brown hair and eyes. 36DD. \\nWill send portfolio link with reply.\",\n",
       "   'summary_detail': {'base': u'https://newyork.craigslist.org/search/stp?format=rss',\n",
       "    'language': None,\n",
       "    'type': u'text/html',\n",
       "    'value': u\"Hey I'm a plus-size model looking for modeling work ASAP. \\nI'm African American and Puerto Rican! Brown hair and eyes. 36DD. \\nWill send portfolio link with reply.\"},\n",
       "   'title': u'Model Available..Loves Wine - w4w (Midtown West)',\n",
       "   'title_detail': {'base': u'https://newyork.craigslist.org/search/stp?format=rss',\n",
       "    'language': None,\n",
       "    'type': u'text/plain',\n",
       "    'value': u'Model Available..Loves Wine - w4w (Midtown West)'},\n",
       "   'updated': u'2017-09-19T02:23:00-04:00',\n",
       "   'updated_parsed': time.struct_time(tm_year=2017, tm_mon=9, tm_mday=19, tm_hour=6, tm_min=23, tm_sec=0, tm_wday=1, tm_yday=262, tm_isdst=0)},\n",
       "  {'dc_source': u'https://newyork.craigslist.org/lgi/stp/d/free-full-body-massage-m4w/6285942734.html',\n",
       "   'dc_type': u'text',\n",
       "   'id': u'https://newyork.craigslist.org/lgi/stp/d/free-full-body-massage-m4w/6285942734.html',\n",
       "   'language': u'en-us',\n",
       "   'link': u'https://newyork.craigslist.org/lgi/stp/d/free-full-body-massage-m4w/6285942734.html',\n",
       "   'links': [{'href': u'https://newyork.craigslist.org/lgi/stp/d/free-full-body-massage-m4w/6285942734.html',\n",
       "     'rel': u'alternate',\n",
       "     'type': u'text/html'}],\n",
       "   'published': u'2017-09-19T01:07:29-04:00',\n",
       "   'published_parsed': time.struct_time(tm_year=2017, tm_mon=9, tm_mday=19, tm_hour=5, tm_min=7, tm_sec=29, tm_wday=1, tm_yday=262, tm_isdst=0),\n",
       "   'rights': u'copyright 2017 craiglist',\n",
       "   'rights_detail': {'base': u'https://newyork.craigslist.org/search/stp?format=rss',\n",
       "    'language': None,\n",
       "    'type': u'text/plain',\n",
       "    'value': u'copyright 2017 craiglist'},\n",
       "   'summary': u'take a break from day to day stress and strain - let me come over to you and give you a very relaxing full body rubdown with my special oral technique that will release you built up stress.. - there no charge ever for the session... \\nemail me back fo ...',\n",
       "   'summary_detail': {'base': u'https://newyork.craigslist.org/search/stp?format=rss',\n",
       "    'language': None,\n",
       "    'type': u'text/html',\n",
       "    'value': u'take a break from day to day stress and strain - let me come over to you and give you a very relaxing full body rubdown with my special oral technique that will release you built up stress.. - there no charge ever for the session... \\nemail me back fo ...'},\n",
       "   'title': u'Free Full Body Massage - m4w',\n",
       "   'title_detail': {'base': u'https://newyork.craigslist.org/search/stp?format=rss',\n",
       "    'language': None,\n",
       "    'type': u'text/plain',\n",
       "    'value': u'Free Full Body Massage - m4w'},\n",
       "   'updated': u'2017-09-19T01:07:29-04:00',\n",
       "   'updated_parsed': time.struct_time(tm_year=2017, tm_mon=9, tm_mday=19, tm_hour=5, tm_min=7, tm_sec=29, tm_wday=1, tm_yday=262, tm_isdst=0)},\n",
       "  {'dc_source': u'https://newyork.craigslist.org/mnh/stp/d/court-my-husband-w4w/6311872044.html',\n",
       "   'dc_type': u'text',\n",
       "   'id': u'https://newyork.craigslist.org/mnh/stp/d/court-my-husband-w4w/6311872044.html',\n",
       "   'language': u'en-us',\n",
       "   'link': u'https://newyork.craigslist.org/mnh/stp/d/court-my-husband-w4w/6311872044.html',\n",
       "   'links': [{'href': u'https://newyork.craigslist.org/mnh/stp/d/court-my-husband-w4w/6311872044.html',\n",
       "     'rel': u'alternate',\n",
       "     'type': u'text/html'}],\n",
       "   'published': u'2017-09-19T00:55:33-04:00',\n",
       "   'published_parsed': time.struct_time(tm_year=2017, tm_mon=9, tm_mday=19, tm_hour=4, tm_min=55, tm_sec=33, tm_wday=1, tm_yday=262, tm_isdst=0),\n",
       "   'rights': u'copyright 2017 craiglist',\n",
       "   'rights_detail': {'base': u'https://newyork.craigslist.org/search/stp?format=rss',\n",
       "    'language': None,\n",
       "    'type': u'text/plain',\n",
       "    'value': u'copyright 2017 craiglist'},\n",
       "   'summary': u'Hello fellow ladies, like the title says, court my husband. I was cursed with a non-existent sex libido but my husband and I still have a happy marriage...except in the bedroom unfortunately. I am looking for a woman who is up to my standards to take ...',\n",
       "   'summary_detail': {'base': u'https://newyork.craigslist.org/search/stp?format=rss',\n",
       "    'language': None,\n",
       "    'type': u'text/html',\n",
       "    'value': u'Hello fellow ladies, like the title says, court my husband. I was cursed with a non-existent sex libido but my husband and I still have a happy marriage...except in the bedroom unfortunately. I am looking for a woman who is up to my standards to take ...'},\n",
       "   'title': u'Court My Husband - w4w',\n",
       "   'title_detail': {'base': u'https://newyork.craigslist.org/search/stp?format=rss',\n",
       "    'language': None,\n",
       "    'type': u'text/plain',\n",
       "    'value': u'Court My Husband - w4w'},\n",
       "   'updated': u'2017-09-19T00:55:33-04:00',\n",
       "   'updated_parsed': time.struct_time(tm_year=2017, tm_mon=9, tm_mday=19, tm_hour=4, tm_min=55, tm_sec=33, tm_wday=1, tm_yday=262, tm_isdst=0)},\n",
       "  {'dc_source': u'https://newyork.craigslist.org/lgi/stp/d/free-full-body-massage-m4w/6297450891.html',\n",
       "   'dc_type': u'text',\n",
       "   'id': u'https://newyork.craigslist.org/lgi/stp/d/free-full-body-massage-m4w/6297450891.html',\n",
       "   'language': u'en-us',\n",
       "   'link': u'https://newyork.craigslist.org/lgi/stp/d/free-full-body-massage-m4w/6297450891.html',\n",
       "   'links': [{'href': u'https://newyork.craigslist.org/lgi/stp/d/free-full-body-massage-m4w/6297450891.html',\n",
       "     'rel': u'alternate',\n",
       "     'type': u'text/html'}],\n",
       "   'published': u'2017-09-19T00:55:23-04:00',\n",
       "   'published_parsed': time.struct_time(tm_year=2017, tm_mon=9, tm_mday=19, tm_hour=4, tm_min=55, tm_sec=23, tm_wday=1, tm_yday=262, tm_isdst=0),\n",
       "   'rights': u'copyright 2017 craiglist',\n",
       "   'rights_detail': {'base': u'https://newyork.craigslist.org/search/stp?format=rss',\n",
       "    'language': None,\n",
       "    'type': u'text/plain',\n",
       "    'value': u'copyright 2017 craiglist'},\n",
       "   'summary': u'take a break from day to day stress and strain - let me come over to you and give you a very relaxing full body rubdown with my special oral technique that will release you built up stress.. - there no charge ever for the session... \\nemail me back fo ...',\n",
       "   'summary_detail': {'base': u'https://newyork.craigslist.org/search/stp?format=rss',\n",
       "    'language': None,\n",
       "    'type': u'text/html',\n",
       "    'value': u'take a break from day to day stress and strain - let me come over to you and give you a very relaxing full body rubdown with my special oral technique that will release you built up stress.. - there no charge ever for the session... \\nemail me back fo ...'},\n",
       "   'title': u'Free Full Body Massage - m4w',\n",
       "   'title_detail': {'base': u'https://newyork.craigslist.org/search/stp?format=rss',\n",
       "    'language': None,\n",
       "    'type': u'text/plain',\n",
       "    'value': u'Free Full Body Massage - m4w'},\n",
       "   'updated': u'2017-09-19T00:55:23-04:00',\n",
       "   'updated_parsed': time.struct_time(tm_year=2017, tm_mon=9, tm_mday=19, tm_hour=4, tm_min=55, tm_sec=23, tm_wday=1, tm_yday=262, tm_isdst=0)},\n",
       "  {'dc_source': u'https://newyork.craigslist.org/lgi/stp/d/free-full-body-massage-m4w/6281679196.html',\n",
       "   'dc_type': u'text',\n",
       "   'id': u'https://newyork.craigslist.org/lgi/stp/d/free-full-body-massage-m4w/6281679196.html',\n",
       "   'language': u'en-us',\n",
       "   'link': u'https://newyork.craigslist.org/lgi/stp/d/free-full-body-massage-m4w/6281679196.html',\n",
       "   'links': [{'href': u'https://newyork.craigslist.org/lgi/stp/d/free-full-body-massage-m4w/6281679196.html',\n",
       "     'rel': u'alternate',\n",
       "     'type': u'text/html'}],\n",
       "   'published': u'2017-09-19T00:55:19-04:00',\n",
       "   'published_parsed': time.struct_time(tm_year=2017, tm_mon=9, tm_mday=19, tm_hour=4, tm_min=55, tm_sec=19, tm_wday=1, tm_yday=262, tm_isdst=0),\n",
       "   'rights': u'copyright 2017 craiglist',\n",
       "   'rights_detail': {'base': u'https://newyork.craigslist.org/search/stp?format=rss',\n",
       "    'language': None,\n",
       "    'type': u'text/plain',\n",
       "    'value': u'copyright 2017 craiglist'},\n",
       "   'summary': u'take a break from day to day stress and strain - let me come over to you and give you a very relaxing full body rubdown with my special oral technique that will release you built up stress.. - there no charge ever for the session... \\nemail me back fo ...',\n",
       "   'summary_detail': {'base': u'https://newyork.craigslist.org/search/stp?format=rss',\n",
       "    'language': None,\n",
       "    'type': u'text/html',\n",
       "    'value': u'take a break from day to day stress and strain - let me come over to you and give you a very relaxing full body rubdown with my special oral technique that will release you built up stress.. - there no charge ever for the session... \\nemail me back fo ...'},\n",
       "   'title': u'Free Full Body Massage - m4w',\n",
       "   'title_detail': {'base': u'https://newyork.craigslist.org/search/stp?format=rss',\n",
       "    'language': None,\n",
       "    'type': u'text/plain',\n",
       "    'value': u'Free Full Body Massage - m4w'},\n",
       "   'updated': u'2017-09-19T00:55:19-04:00',\n",
       "   'updated_parsed': time.struct_time(tm_year=2017, tm_mon=9, tm_mday=19, tm_hour=4, tm_min=55, tm_sec=19, tm_wday=1, tm_yday=262, tm_isdst=0)},\n",
       "  {'dc_source': u'https://newyork.craigslist.org/lgi/stp/d/free-massage-m4w/6305236280.html',\n",
       "   'dc_type': u'text',\n",
       "   'id': u'https://newyork.craigslist.org/lgi/stp/d/free-massage-m4w/6305236280.html',\n",
       "   'language': u'en-us',\n",
       "   'link': u'https://newyork.craigslist.org/lgi/stp/d/free-massage-m4w/6305236280.html',\n",
       "   'links': [{'href': u'https://newyork.craigslist.org/lgi/stp/d/free-massage-m4w/6305236280.html',\n",
       "     'rel': u'alternate',\n",
       "     'type': u'text/html'}],\n",
       "   'published': u'2017-09-19T00:55:06-04:00',\n",
       "   'published_parsed': time.struct_time(tm_year=2017, tm_mon=9, tm_mday=19, tm_hour=4, tm_min=55, tm_sec=6, tm_wday=1, tm_yday=262, tm_isdst=0),\n",
       "   'rights': u'copyright 2017 craiglist',\n",
       "   'rights_detail': {'base': u'https://newyork.craigslist.org/search/stp?format=rss',\n",
       "    'language': None,\n",
       "    'type': u'text/plain',\n",
       "    'value': u'copyright 2017 craiglist'},\n",
       "   'summary': u'HI have you ever thought about having a really great full body rubdown - now is your chance to give it a try - I need to practice newly learned massage techniques - and you can benefit by getting a free massage.. I come to you so you can relax and en ...',\n",
       "   'summary_detail': {'base': u'https://newyork.craigslist.org/search/stp?format=rss',\n",
       "    'language': None,\n",
       "    'type': u'text/html',\n",
       "    'value': u'HI have you ever thought about having a really great full body rubdown - now is your chance to give it a try - I need to practice newly learned massage techniques - and you can benefit by getting a free massage.. I come to you so you can relax and en ...'},\n",
       "   'title': u'Free Massage - m4w',\n",
       "   'title_detail': {'base': u'https://newyork.craigslist.org/search/stp?format=rss',\n",
       "    'language': None,\n",
       "    'type': u'text/plain',\n",
       "    'value': u'Free Massage - m4w'},\n",
       "   'updated': u'2017-09-19T00:55:06-04:00',\n",
       "   'updated_parsed': time.struct_time(tm_year=2017, tm_mon=9, tm_mday=19, tm_hour=4, tm_min=55, tm_sec=6, tm_wday=1, tm_yday=262, tm_isdst=0)},\n",
       "  {'dc_source': u'https://newyork.craigslist.org/que/stp/d/drinks-chat-friends-m4w/6309183536.html',\n",
       "   'dc_type': u'text',\n",
       "   'id': u'https://newyork.craigslist.org/que/stp/d/drinks-chat-friends-m4w/6309183536.html',\n",
       "   'language': u'en-us',\n",
       "   'link': u'https://newyork.craigslist.org/que/stp/d/drinks-chat-friends-m4w/6309183536.html',\n",
       "   'links': [{'href': u'https://newyork.craigslist.org/que/stp/d/drinks-chat-friends-m4w/6309183536.html',\n",
       "     'rel': u'alternate',\n",
       "     'type': u'text/html'}],\n",
       "   'published': u'2017-09-19T00:52:35-04:00',\n",
       "   'published_parsed': time.struct_time(tm_year=2017, tm_mon=9, tm_mday=19, tm_hour=4, tm_min=52, tm_sec=35, tm_wday=1, tm_yday=262, tm_isdst=0),\n",
       "   'rights': u'copyright 2017 craiglist',\n",
       "   'rights_detail': {'base': u'https://newyork.craigslist.org/search/stp?format=rss',\n",
       "    'language': None,\n",
       "    'type': u'text/plain',\n",
       "    'value': u'copyright 2017 craiglist'},\n",
       "   'summary': u'I am 31 years old. Looking to go out for drinks and chat with ladies that enjoy to drink and chat. I am not the type to hang out with a group of guys. I am not into sports. I feel like I have a better time hanging out with women than men. If you like ...',\n",
       "   'summary_detail': {'base': u'https://newyork.craigslist.org/search/stp?format=rss',\n",
       "    'language': None,\n",
       "    'type': u'text/html',\n",
       "    'value': u'I am 31 years old. Looking to go out for drinks and chat with ladies that enjoy to drink and chat. I am not the type to hang out with a group of guys. I am not into sports. I feel like I have a better time hanging out with women than men. If you like ...'},\n",
       "   'title': u'Drinks, Chat, Friends - m4w (Bayside)',\n",
       "   'title_detail': {'base': u'https://newyork.craigslist.org/search/stp?format=rss',\n",
       "    'language': None,\n",
       "    'type': u'text/plain',\n",
       "    'value': u'Drinks, Chat, Friends - m4w (Bayside)'},\n",
       "   'updated': u'2017-09-19T00:52:35-04:00',\n",
       "   'updated_parsed': time.struct_time(tm_year=2017, tm_mon=9, tm_mday=19, tm_hour=4, tm_min=52, tm_sec=35, tm_wday=1, tm_yday=262, tm_isdst=0)},\n",
       "  {'dc_source': u'https://newyork.craigslist.org/mnh/stp/d/long-distance-pen-pal-m4mw/6277992197.html',\n",
       "   'dc_type': u'text',\n",
       "   'id': u'https://newyork.craigslist.org/mnh/stp/d/long-distance-pen-pal-m4mw/6277992197.html',\n",
       "   'language': u'en-us',\n",
       "   'link': u'https://newyork.craigslist.org/mnh/stp/d/long-distance-pen-pal-m4mw/6277992197.html',\n",
       "   'links': [{'href': u'https://newyork.craigslist.org/mnh/stp/d/long-distance-pen-pal-m4mw/6277992197.html',\n",
       "     'rel': u'alternate',\n",
       "     'type': u'text/html'}],\n",
       "   'published': u'2017-09-19T00:52:21-04:00',\n",
       "   'published_parsed': time.struct_time(tm_year=2017, tm_mon=9, tm_mday=19, tm_hour=4, tm_min=52, tm_sec=21, tm_wday=1, tm_yday=262, tm_isdst=0),\n",
       "   'rights': u'copyright 2017 craiglist',\n",
       "   'rights_detail': {'base': u'https://newyork.craigslist.org/search/stp?format=rss',\n",
       "    'language': None,\n",
       "    'type': u'text/plain',\n",
       "    'value': u'copyright 2017 craiglist'},\n",
       "   'summary': u\"Hello, Egyptian guy here looking for pen pals.. \\nDon't care about gender, race or age just be nice and have something to say..\",\n",
       "   'summary_detail': {'base': u'https://newyork.craigslist.org/search/stp?format=rss',\n",
       "    'language': None,\n",
       "    'type': u'text/html',\n",
       "    'value': u\"Hello, Egyptian guy here looking for pen pals.. \\nDon't care about gender, race or age just be nice and have something to say..\"},\n",
       "   'title': u'Long distance pen pal - m4mw (Anywhere)',\n",
       "   'title_detail': {'base': u'https://newyork.craigslist.org/search/stp?format=rss',\n",
       "    'language': None,\n",
       "    'type': u'text/plain',\n",
       "    'value': u'Long distance pen pal - m4mw (Anywhere)'},\n",
       "   'updated': u'2017-09-19T00:52:21-04:00',\n",
       "   'updated_parsed': time.struct_time(tm_year=2017, tm_mon=9, tm_mday=19, tm_hour=4, tm_min=52, tm_sec=21, tm_wday=1, tm_yday=262, tm_isdst=0)},\n",
       "  {'dc_source': u'https://newyork.craigslist.org/mnh/stp/d/revenge-of-the-married-man-m4w/6307480375.html',\n",
       "   'dc_type': u'text',\n",
       "   'enc_enclosure': {'resource': u'https://images.craigslist.org/00U0U_aujUM5pKoJV_300x300.jpg',\n",
       "    'type': u'image/jpeg'},\n",
       "   'id': u'https://newyork.craigslist.org/mnh/stp/d/revenge-of-the-married-man-m4w/6307480375.html',\n",
       "   'language': u'en-us',\n",
       "   'link': u'https://newyork.craigslist.org/mnh/stp/d/revenge-of-the-married-man-m4w/6307480375.html',\n",
       "   'links': [{'href': u'https://newyork.craigslist.org/mnh/stp/d/revenge-of-the-married-man-m4w/6307480375.html',\n",
       "     'rel': u'alternate',\n",
       "     'type': u'text/html'}],\n",
       "   'published': u'2017-09-19T00:44:23-04:00',\n",
       "   'published_parsed': time.struct_time(tm_year=2017, tm_mon=9, tm_mday=19, tm_hour=4, tm_min=44, tm_sec=23, tm_wday=1, tm_yday=262, tm_isdst=0),\n",
       "   'rights': u'copyright 2017 craiglist',\n",
       "   'rights_detail': {'base': u'https://newyork.craigslist.org/search/stp?format=rss',\n",
       "    'language': None,\n",
       "    'type': u'text/plain',\n",
       "    'value': u'copyright 2017 craiglist'},\n",
       "   'summary': u\"She swore up and down that she didn't do it. She said the off hour phone calls were business related and that the sexy panties in her pocketbook were a friends. I wanted so much to believe it all. \\nI first became suspicious when the same friend who s ...\",\n",
       "   'summary_detail': {'base': u'https://newyork.craigslist.org/search/stp?format=rss',\n",
       "    'language': None,\n",
       "    'type': u'text/html',\n",
       "    'value': u\"She swore up and down that she didn't do it. She said the off hour phone calls were business related and that the sexy panties in her pocketbook were a friends. I wanted so much to believe it all. \\nI first became suspicious when the same friend who s ...\"},\n",
       "   'title': u'Revenge of the Married Man - m4w (NYC and beyond)',\n",
       "   'title_detail': {'base': u'https://newyork.craigslist.org/search/stp?format=rss',\n",
       "    'language': None,\n",
       "    'type': u'text/plain',\n",
       "    'value': u'Revenge of the Married Man - m4w (NYC and beyond)'},\n",
       "   'updated': u'2017-09-19T00:44:23-04:00',\n",
       "   'updated_parsed': time.struct_time(tm_year=2017, tm_mon=9, tm_mday=19, tm_hour=4, tm_min=44, tm_sec=23, tm_wday=1, tm_yday=262, tm_isdst=0)},\n",
       "  {'dc_source': u'https://newyork.craigslist.org/mnh/stp/d/coffee-without-expectations/6298477144.html',\n",
       "   'dc_type': u'text',\n",
       "   'enc_enclosure': {'resource': u'https://images.craigslist.org/00W0W_6uOW3tlpNOB_300x300.jpg',\n",
       "    'type': u'image/jpeg'},\n",
       "   'id': u'https://newyork.craigslist.org/mnh/stp/d/coffee-without-expectations/6298477144.html',\n",
       "   'language': u'en-us',\n",
       "   'link': u'https://newyork.craigslist.org/mnh/stp/d/coffee-without-expectations/6298477144.html',\n",
       "   'links': [{'href': u'https://newyork.craigslist.org/mnh/stp/d/coffee-without-expectations/6298477144.html',\n",
       "     'rel': u'alternate',\n",
       "     'type': u'text/html'}],\n",
       "   'published': u'2017-09-19T00:43:22-04:00',\n",
       "   'published_parsed': time.struct_time(tm_year=2017, tm_mon=9, tm_mday=19, tm_hour=4, tm_min=43, tm_sec=22, tm_wday=1, tm_yday=262, tm_isdst=0),\n",
       "   'rights': u'copyright 2017 craiglist',\n",
       "   'rights_detail': {'base': u'https://newyork.craigslist.org/search/stp?format=rss',\n",
       "    'language': None,\n",
       "    'type': u'text/plain',\n",
       "    'value': u'copyright 2017 craiglist'},\n",
       "   'summary': u\"On the outside, I'm the perfect family man. \\nThe screen on my phone shows the image of my wife and kids. I do grocery runs and occasionally volunteer to do the dishes. I make time to get my kids from point A to point B almost every time I'm asked. I  ...\",\n",
       "   'summary_detail': {'base': u'https://newyork.craigslist.org/search/stp?format=rss',\n",
       "    'language': None,\n",
       "    'type': u'text/html',\n",
       "    'value': u\"On the outside, I'm the perfect family man. \\nThe screen on my phone shows the image of my wife and kids. I do grocery runs and occasionally volunteer to do the dishes. I make time to get my kids from point A to point B almost every time I'm asked. I  ...\"},\n",
       "   'title': u'Coffee without expectations/The married man - m4w (The corner booth)',\n",
       "   'title_detail': {'base': u'https://newyork.craigslist.org/search/stp?format=rss',\n",
       "    'language': None,\n",
       "    'type': u'text/plain',\n",
       "    'value': u'Coffee without expectations/The married man - m4w (The corner booth)'},\n",
       "   'updated': u'2017-09-19T00:43:22-04:00',\n",
       "   'updated_parsed': time.struct_time(tm_year=2017, tm_mon=9, tm_mday=19, tm_hour=4, tm_min=43, tm_sec=22, tm_wday=1, tm_yday=262, tm_isdst=0)},\n",
       "  {'dc_source': u'https://newyork.craigslist.org/que/stp/d/white-girl-for-friendship/6311877265.html',\n",
       "   'dc_type': u'text',\n",
       "   'id': u'https://newyork.craigslist.org/que/stp/d/white-girl-for-friendship/6311877265.html',\n",
       "   'language': u'en-us',\n",
       "   'link': u'https://newyork.craigslist.org/que/stp/d/white-girl-for-friendship/6311877265.html',\n",
       "   'links': [{'href': u'https://newyork.craigslist.org/que/stp/d/white-girl-for-friendship/6311877265.html',\n",
       "     'rel': u'alternate',\n",
       "     'type': u'text/html'}],\n",
       "   'published': u'2017-09-19T00:40:23-04:00',\n",
       "   'published_parsed': time.struct_time(tm_year=2017, tm_mon=9, tm_mday=19, tm_hour=4, tm_min=40, tm_sec=23, tm_wday=1, tm_yday=262, tm_isdst=0),\n",
       "   'rights': u'copyright 2017 craiglist',\n",
       "   'rights_detail': {'base': u'https://newyork.craigslist.org/search/stp?format=rss',\n",
       "    'language': None,\n",
       "    'type': u'text/plain',\n",
       "    'value': u'copyright 2017 craiglist'},\n",
       "   'summary': u\"I'm a single guy seeking a single (Not in a relationship) white girl for friendship, possibly more! \\nI'm twenty-six from Queens. How old are you, and what borough are you in? \\nWould you like to exchange pictures? :-) \\nI imagine we meet up and keep ea ...\",\n",
       "   'summary_detail': {'base': u'https://newyork.craigslist.org/search/stp?format=rss',\n",
       "    'language': None,\n",
       "    'type': u'text/html',\n",
       "    'value': u\"I'm a single guy seeking a single (Not in a relationship) white girl for friendship, possibly more! \\nI'm twenty-six from Queens. How old are you, and what borough are you in? \\nWould you like to exchange pictures? :-) \\nI imagine we meet up and keep ea ...\"},\n",
       "   'title': u'White Girl for Friendship, maybe more - m4w (Queens)',\n",
       "   'title_detail': {'base': u'https://newyork.craigslist.org/search/stp?format=rss',\n",
       "    'language': None,\n",
       "    'type': u'text/plain',\n",
       "    'value': u'White Girl for Friendship, maybe more - m4w (Queens)'},\n",
       "   'updated': u'2017-09-19T00:40:23-04:00',\n",
       "   'updated_parsed': time.struct_time(tm_year=2017, tm_mon=9, tm_mday=19, tm_hour=4, tm_min=40, tm_sec=23, tm_wday=1, tm_yday=262, tm_isdst=0)},\n",
       "  {'dc_source': u'https://newyork.craigslist.org/brk/stp/d/looking-for-bestie-partner-in/6286036922.html',\n",
       "   'dc_type': u'text',\n",
       "   'id': u'https://newyork.craigslist.org/brk/stp/d/looking-for-bestie-partner-in/6286036922.html',\n",
       "   'language': u'en-us',\n",
       "   'link': u'https://newyork.craigslist.org/brk/stp/d/looking-for-bestie-partner-in/6286036922.html',\n",
       "   'links': [{'href': u'https://newyork.craigslist.org/brk/stp/d/looking-for-bestie-partner-in/6286036922.html',\n",
       "     'rel': u'alternate',\n",
       "     'type': u'text/html'}],\n",
       "   'published': u'2017-09-19T00:38:48-04:00',\n",
       "   'published_parsed': time.struct_time(tm_year=2017, tm_mon=9, tm_mday=19, tm_hour=4, tm_min=38, tm_sec=48, tm_wday=1, tm_yday=262, tm_isdst=0),\n",
       "   'rights': u'copyright 2017 craiglist',\n",
       "   'rights_detail': {'base': u'https://newyork.craigslist.org/search/stp?format=rss',\n",
       "    'language': None,\n",
       "    'type': u'text/plain',\n",
       "    'value': u'copyright 2017 craiglist'},\n",
       "   'summary': u\"Well, as the title says I'm looking for a bestie. all my friends are guys,but it gets boring being around them. I'm African American 39. down to earth,funny. small bbw if it matters. But weight shouldn't matter when it comes to being friends. I'm jus ...\",\n",
       "   'summary_detail': {'base': u'https://newyork.craigslist.org/search/stp?format=rss',\n",
       "    'language': None,\n",
       "    'type': u'text/html',\n",
       "    'value': u\"Well, as the title says I'm looking for a bestie. all my friends are guys,but it gets boring being around them. I'm African American 39. down to earth,funny. small bbw if it matters. But weight shouldn't matter when it comes to being friends. I'm jus ...\"},\n",
       "   'title': u'looking for a bestie/partner in crime - w4w (brooklyn)',\n",
       "   'title_detail': {'base': u'https://newyork.craigslist.org/search/stp?format=rss',\n",
       "    'language': None,\n",
       "    'type': u'text/plain',\n",
       "    'value': u'looking for a bestie/partner in crime - w4w (brooklyn)'},\n",
       "   'updated': u'2017-09-19T00:38:48-04:00',\n",
       "   'updated_parsed': time.struct_time(tm_year=2017, tm_mon=9, tm_mday=19, tm_hour=4, tm_min=38, tm_sec=48, tm_wday=1, tm_yday=262, tm_isdst=0)},\n",
       "  {'dc_source': u'https://newyork.craigslist.org/brk/stp/d/email-buddies-lets-talk-w4w/6304666272.html',\n",
       "   'dc_type': u'text',\n",
       "   'id': u'https://newyork.craigslist.org/brk/stp/d/email-buddies-lets-talk-w4w/6304666272.html',\n",
       "   'language': u'en-us',\n",
       "   'link': u'https://newyork.craigslist.org/brk/stp/d/email-buddies-lets-talk-w4w/6304666272.html',\n",
       "   'links': [{'href': u'https://newyork.craigslist.org/brk/stp/d/email-buddies-lets-talk-w4w/6304666272.html',\n",
       "     'rel': u'alternate',\n",
       "     'type': u'text/html'}],\n",
       "   'published': u'2017-09-19T00:38:16-04:00',\n",
       "   'published_parsed': time.struct_time(tm_year=2017, tm_mon=9, tm_mday=19, tm_hour=4, tm_min=38, tm_sec=16, tm_wday=1, tm_yday=262, tm_isdst=0),\n",
       "   'rights': u'copyright 2017 craiglist',\n",
       "   'rights_detail': {'base': u'https://newyork.craigslist.org/search/stp?format=rss',\n",
       "    'language': None,\n",
       "    'type': u'text/plain',\n",
       "    'value': u'copyright 2017 craiglist'},\n",
       "   'summary': u\"hey ladies. I'm on here looking for other ladies who want to be email buddies. We can talk about anything/give advise. We can talk about how good,bad our day was. guy problems. Whatever. No topic is off limits. we don't even have to use our real name ...\",\n",
       "   'summary_detail': {'base': u'https://newyork.craigslist.org/search/stp?format=rss',\n",
       "    'language': None,\n",
       "    'type': u'text/html',\n",
       "    'value': u\"hey ladies. I'm on here looking for other ladies who want to be email buddies. We can talk about anything/give advise. We can talk about how good,bad our day was. guy problems. Whatever. No topic is off limits. we don't even have to use our real name ...\"},\n",
       "   'title': u\"Email buddies let's talk - w4w (brooklyn)\",\n",
       "   'title_detail': {'base': u'https://newyork.craigslist.org/search/stp?format=rss',\n",
       "    'language': None,\n",
       "    'type': u'text/plain',\n",
       "    'value': u\"Email buddies let's talk - w4w (brooklyn)\"},\n",
       "   'updated': u'2017-09-19T00:38:16-04:00',\n",
       "   'updated_parsed': time.struct_time(tm_year=2017, tm_mon=9, tm_mday=19, tm_hour=4, tm_min=38, tm_sec=16, tm_wday=1, tm_yday=262, tm_isdst=0)},\n",
       "  {'dc_source': u'https://newyork.craigslist.org/brk/stp/d/50-cent-at-highline-ballroom/6304688280.html',\n",
       "   'dc_type': u'text',\n",
       "   'id': u'https://newyork.craigslist.org/brk/stp/d/50-cent-at-highline-ballroom/6304688280.html',\n",
       "   'language': u'en-us',\n",
       "   'link': u'https://newyork.craigslist.org/brk/stp/d/50-cent-at-highline-ballroom/6304688280.html',\n",
       "   'links': [{'href': u'https://newyork.craigslist.org/brk/stp/d/50-cent-at-highline-ballroom/6304688280.html',\n",
       "     'rel': u'alternate',\n",
       "     'type': u'text/html'}],\n",
       "   'published': u'2017-09-19T00:38:03-04:00',\n",
       "   'published_parsed': time.struct_time(tm_year=2017, tm_mon=9, tm_mday=19, tm_hour=4, tm_min=38, tm_sec=3, tm_wday=1, tm_yday=262, tm_isdst=0),\n",
       "   'rights': u'copyright 2017 craiglist',\n",
       "   'rights_detail': {'base': u'https://newyork.craigslist.org/search/stp?format=rss',\n",
       "    'language': None,\n",
       "    'type': u'text/plain',\n",
       "    'value': u'copyright 2017 craiglist'},\n",
       "   'summary': u\"well, as the title says 50 cent will be at the highlinr ballroom. i am looking for a cool person to go to the event with. I don't care about your weight,race. Just be over 21 and have your own money. i will not be paying for anything for you.we are a ...\",\n",
       "   'summary_detail': {'base': u'https://newyork.craigslist.org/search/stp?format=rss',\n",
       "    'language': None,\n",
       "    'type': u'text/html',\n",
       "    'value': u\"well, as the title says 50 cent will be at the highlinr ballroom. i am looking for a cool person to go to the event with. I don't care about your weight,race. Just be over 21 and have your own money. i will not be paying for anything for you.we are a ...\"},\n",
       "   'title': u'50 cent at highline ballroom 9/30 - w4w (brooklyn)',\n",
       "   'title_detail': {'base': u'https://newyork.craigslist.org/search/stp?format=rss',\n",
       "    'language': None,\n",
       "    'type': u'text/plain',\n",
       "    'value': u'50 cent at highline ballroom 9/30 - w4w (brooklyn)'},\n",
       "   'updated': u'2017-09-19T00:38:03-04:00',\n",
       "   'updated_parsed': time.struct_time(tm_year=2017, tm_mon=9, tm_mday=19, tm_hour=4, tm_min=38, tm_sec=3, tm_wday=1, tm_yday=262, tm_isdst=0)},\n",
       "  {'dc_source': u'https://newyork.craigslist.org/brk/stp/d/walking-partner-prospect-park/6308096878.html',\n",
       "   'dc_type': u'text',\n",
       "   'id': u'https://newyork.craigslist.org/brk/stp/d/walking-partner-prospect-park/6308096878.html',\n",
       "   'language': u'en-us',\n",
       "   'link': u'https://newyork.craigslist.org/brk/stp/d/walking-partner-prospect-park/6308096878.html',\n",
       "   'links': [{'href': u'https://newyork.craigslist.org/brk/stp/d/walking-partner-prospect-park/6308096878.html',\n",
       "     'rel': u'alternate',\n",
       "     'type': u'text/html'}],\n",
       "   'published': u'2017-09-19T00:37:39-04:00',\n",
       "   'published_parsed': time.struct_time(tm_year=2017, tm_mon=9, tm_mday=19, tm_hour=4, tm_min=37, tm_sec=39, tm_wday=1, tm_yday=262, tm_isdst=0),\n",
       "   'rights': u'copyright 2017 craiglist',\n",
       "   'rights_detail': {'base': u'https://newyork.craigslist.org/search/stp?format=rss',\n",
       "    'language': None,\n",
       "    'type': u'text/plain',\n",
       "    'value': u'copyright 2017 craiglist'},\n",
       "   'summary': u'I\\'m looking for a walking partner in prospect park. I figured it would be more fun/safer if I had a partner. I\\'m a small bbw size 18. Want to lose at least 20 pounds to start. I\\'m short 5\"3. just looking to get down to a more healthy weight for my he ...',\n",
       "   'summary_detail': {'base': u'https://newyork.craigslist.org/search/stp?format=rss',\n",
       "    'language': None,\n",
       "    'type': u'text/html',\n",
       "    'value': u'I\\'m looking for a walking partner in prospect park. I figured it would be more fun/safer if I had a partner. I\\'m a small bbw size 18. Want to lose at least 20 pounds to start. I\\'m short 5\"3. just looking to get down to a more healthy weight for my he ...'},\n",
       "   'title': u'Walking partner prospect park - w4w (Flatbush)',\n",
       "   'title_detail': {'base': u'https://newyork.craigslist.org/search/stp?format=rss',\n",
       "    'language': None,\n",
       "    'type': u'text/plain',\n",
       "    'value': u'Walking partner prospect park - w4w (Flatbush)'},\n",
       "   'updated': u'2017-09-19T00:37:39-04:00',\n",
       "   'updated_parsed': time.struct_time(tm_year=2017, tm_mon=9, tm_mday=19, tm_hour=4, tm_min=37, tm_sec=39, tm_wday=1, tm_yday=262, tm_isdst=0)},\n",
       "  {'dc_source': u'https://newyork.craigslist.org/lgi/stp/d/free-erotic-massage-m4w/6297356927.html',\n",
       "   'dc_type': u'text',\n",
       "   'id': u'https://newyork.craigslist.org/lgi/stp/d/free-erotic-massage-m4w/6297356927.html',\n",
       "   'language': u'en-us',\n",
       "   'link': u'https://newyork.craigslist.org/lgi/stp/d/free-erotic-massage-m4w/6297356927.html',\n",
       "   'links': [{'href': u'https://newyork.craigslist.org/lgi/stp/d/free-erotic-massage-m4w/6297356927.html',\n",
       "     'rel': u'alternate',\n",
       "     'type': u'text/html'}],\n",
       "   'published': u'2017-09-19T00:31:02-04:00',\n",
       "   'published_parsed': time.struct_time(tm_year=2017, tm_mon=9, tm_mday=19, tm_hour=4, tm_min=31, tm_sec=2, tm_wday=1, tm_yday=262, tm_isdst=0),\n",
       "   'rights': u'copyright 2017 craiglist',\n",
       "   'rights_detail': {'base': u'https://newyork.craigslist.org/search/stp?format=rss',\n",
       "    'language': None,\n",
       "    'type': u'text/plain',\n",
       "    'value': u'copyright 2017 craiglist'},\n",
       "   'summary': u'HI have you ever thought about having a really great full body rubdown - now is your chance to give it a try - I need to practice newly learned massage techniques - and you can benefit by getting a free massage.. I come to you so you can relax and en ...',\n",
       "   'summary_detail': {'base': u'https://newyork.craigslist.org/search/stp?format=rss',\n",
       "    'language': None,\n",
       "    'type': u'text/html',\n",
       "    'value': u'HI have you ever thought about having a really great full body rubdown - now is your chance to give it a try - I need to practice newly learned massage techniques - and you can benefit by getting a free massage.. I come to you so you can relax and en ...'},\n",
       "   'title': u'Free Erotic Massage - m4w',\n",
       "   'title_detail': {'base': u'https://newyork.craigslist.org/search/stp?format=rss',\n",
       "    'language': None,\n",
       "    'type': u'text/plain',\n",
       "    'value': u'Free Erotic Massage - m4w'},\n",
       "   'updated': u'2017-09-19T00:31:02-04:00',\n",
       "   'updated_parsed': time.struct_time(tm_year=2017, tm_mon=9, tm_mday=19, tm_hour=4, tm_min=31, tm_sec=2, tm_wday=1, tm_yday=262, tm_isdst=0)},\n",
       "  {'dc_source': u'https://newyork.craigslist.org/mnh/stp/d/creampie-delicious-squirting/6278527702.html',\n",
       "   'dc_type': u'text',\n",
       "   'enc_enclosure': {'resource': u'https://images.craigslist.org/00303_esaIe1LZOFt_300x300.jpg',\n",
       "    'type': u'image/jpeg'},\n",
       "   'id': u'https://newyork.craigslist.org/mnh/stp/d/creampie-delicious-squirting/6278527702.html',\n",
       "   'language': u'en-us',\n",
       "   'link': u'https://newyork.craigslist.org/mnh/stp/d/creampie-delicious-squirting/6278527702.html',\n",
       "   'links': [{'href': u'https://newyork.craigslist.org/mnh/stp/d/creampie-delicious-squirting/6278527702.html',\n",
       "     'rel': u'alternate',\n",
       "     'type': u'text/html'}],\n",
       "   'published': u'2017-09-19T00:21:18-04:00',\n",
       "   'published_parsed': time.struct_time(tm_year=2017, tm_mon=9, tm_mday=19, tm_hour=4, tm_min=21, tm_sec=18, tm_wday=1, tm_yday=262, tm_isdst=0),\n",
       "   'rights': u'copyright 2017 craiglist',\n",
       "   'rights_detail': {'base': u'https://newyork.craigslist.org/search/stp?format=rss',\n",
       "    'language': None,\n",
       "    'type': u'text/plain',\n",
       "    'value': u'copyright 2017 craiglist'},\n",
       "   'summary': u\"Please send me a message on kik if you're interested : honeyraexo &lt;------- \\n* DO NOT MESSAGE ME IF YOU ARE NOT BUYING* \\n* I DO NOT TRADE PHOTOS OR SEND ANYTHING FOR FREE* \\n* I DO NOT MEET UP OR MAKE VIDEOS . PLEASE STOP ASKING. \\nLove girls playing ...\",\n",
       "   'summary_detail': {'base': u'https://newyork.craigslist.org/search/stp?format=rss',\n",
       "    'language': None,\n",
       "    'type': u'text/html',\n",
       "    'value': u\"Please send me a message on kik if you're interested : honeyraexo &lt;------- \\n* DO NOT MESSAGE ME IF YOU ARE NOT BUYING* \\n* I DO NOT TRADE PHOTOS OR SEND ANYTHING FOR FREE* \\n* I DO NOT MEET UP OR MAKE VIDEOS . PLEASE STOP ASKING. \\nLove girls playing ...\"},\n",
       "   'title': u'Creampie delicious squirting hot milf selllling my s e x a n al videos (TriBeCa)',\n",
       "   'title_detail': {'base': u'https://newyork.craigslist.org/search/stp?format=rss',\n",
       "    'language': None,\n",
       "    'type': u'text/plain',\n",
       "    'value': u'Creampie delicious squirting hot milf selllling my s e x a n al videos (TriBeCa)'},\n",
       "   'updated': u'2017-09-19T00:21:18-04:00',\n",
       "   'updated_parsed': time.struct_time(tm_year=2017, tm_mon=9, tm_mday=19, tm_hour=4, tm_min=21, tm_sec=18, tm_wday=1, tm_yday=262, tm_isdst=0)},\n",
       "  {'dc_source': u'https://newyork.craigslist.org/lgi/stp/d/free-full-body-massage-m4w/6293375388.html',\n",
       "   'dc_type': u'text',\n",
       "   'id': u'https://newyork.craigslist.org/lgi/stp/d/free-full-body-massage-m4w/6293375388.html',\n",
       "   'language': u'en-us',\n",
       "   'link': u'https://newyork.craigslist.org/lgi/stp/d/free-full-body-massage-m4w/6293375388.html',\n",
       "   'links': [{'href': u'https://newyork.craigslist.org/lgi/stp/d/free-full-body-massage-m4w/6293375388.html',\n",
       "     'rel': u'alternate',\n",
       "     'type': u'text/html'}],\n",
       "   'published': u'2017-09-19T00:14:12-04:00',\n",
       "   'published_parsed': time.struct_time(tm_year=2017, tm_mon=9, tm_mday=19, tm_hour=4, tm_min=14, tm_sec=12, tm_wday=1, tm_yday=262, tm_isdst=0),\n",
       "   'rights': u'copyright 2017 craiglist',\n",
       "   'rights_detail': {'base': u'https://newyork.craigslist.org/search/stp?format=rss',\n",
       "    'language': None,\n",
       "    'type': u'text/plain',\n",
       "    'value': u'copyright 2017 craiglist'},\n",
       "   'summary': u'take a break from day to day stress and strain - let me come over to you and give you a very relaxing full body rubdown with my special oral technique that will release you built up stress.. - there no charge ever for the session... \\nemail me back fo ...',\n",
       "   'summary_detail': {'base': u'https://newyork.craigslist.org/search/stp?format=rss',\n",
       "    'language': None,\n",
       "    'type': u'text/html',\n",
       "    'value': u'take a break from day to day stress and strain - let me come over to you and give you a very relaxing full body rubdown with my special oral technique that will release you built up stress.. - there no charge ever for the session... \\nemail me back fo ...'},\n",
       "   'title': u'Free Full Body Massage - m4w',\n",
       "   'title_detail': {'base': u'https://newyork.craigslist.org/search/stp?format=rss',\n",
       "    'language': None,\n",
       "    'type': u'text/plain',\n",
       "    'value': u'Free Full Body Massage - m4w'},\n",
       "   'updated': u'2017-09-19T00:14:12-04:00',\n",
       "   'updated_parsed': time.struct_time(tm_year=2017, tm_mon=9, tm_mday=19, tm_hour=4, tm_min=14, tm_sec=12, tm_wday=1, tm_yday=262, tm_isdst=0)},\n",
       "  {'dc_source': u'https://newyork.craigslist.org/mnh/stp/d/designer-shopping-ww4m/6311853024.html',\n",
       "   'dc_type': u'text',\n",
       "   'id': u'https://newyork.craigslist.org/mnh/stp/d/designer-shopping-ww4m/6311853024.html',\n",
       "   'language': u'en-us',\n",
       "   'link': u'https://newyork.craigslist.org/mnh/stp/d/designer-shopping-ww4m/6311853024.html',\n",
       "   'links': [{'href': u'https://newyork.craigslist.org/mnh/stp/d/designer-shopping-ww4m/6311853024.html',\n",
       "     'rel': u'alternate',\n",
       "     'type': u'text/html'}],\n",
       "   'published': u'2017-09-18T23:58:27-04:00',\n",
       "   'published_parsed': time.struct_time(tm_year=2017, tm_mon=9, tm_mday=19, tm_hour=3, tm_min=58, tm_sec=27, tm_wday=1, tm_yday=262, tm_isdst=0),\n",
       "   'rights': u'copyright 2017 craiglist',\n",
       "   'rights_detail': {'base': u'https://newyork.craigslist.org/search/stp?format=rss',\n",
       "    'language': None,\n",
       "    'type': u'text/plain',\n",
       "    'value': u'copyright 2017 craiglist'},\n",
       "   'summary': u'Hi! We are two young college girls looking for a gentleman to take us designer shopping. Our favorite area is Soho and some of our favorite shops include Louis Vuitton, Gucci, Barneys and Sephora. We are a duo, contact us for pics and more informatio ...',\n",
       "   'summary_detail': {'base': u'https://newyork.craigslist.org/search/stp?format=rss',\n",
       "    'language': None,\n",
       "    'type': u'text/html',\n",
       "    'value': u'Hi! We are two young college girls looking for a gentleman to take us designer shopping. Our favorite area is Soho and some of our favorite shops include Louis Vuitton, Gucci, Barneys and Sephora. We are a duo, contact us for pics and more informatio ...'},\n",
       "   'title': u'Designer Shopping - ww4m (East Village)',\n",
       "   'title_detail': {'base': u'https://newyork.craigslist.org/search/stp?format=rss',\n",
       "    'language': None,\n",
       "    'type': u'text/plain',\n",
       "    'value': u'Designer Shopping - ww4m (East Village)'},\n",
       "   'updated': u'2017-09-18T23:58:27-04:00',\n",
       "   'updated_parsed': time.struct_time(tm_year=2017, tm_mon=9, tm_mday=19, tm_hour=3, tm_min=58, tm_sec=27, tm_wday=1, tm_yday=262, tm_isdst=0)},\n",
       "  {'dc_source': u'https://newyork.craigslist.org/lgi/stp/d/sock-play-tonight-anyone-m4mm/6311828363.html',\n",
       "   'dc_type': u'text',\n",
       "   'id': u'https://newyork.craigslist.org/lgi/stp/d/sock-play-tonight-anyone-m4mm/6311828363.html',\n",
       "   'language': u'en-us',\n",
       "   'link': u'https://newyork.craigslist.org/lgi/stp/d/sock-play-tonight-anyone-m4mm/6311828363.html',\n",
       "   'links': [{'href': u'https://newyork.craigslist.org/lgi/stp/d/sock-play-tonight-anyone-m4mm/6311828363.html',\n",
       "     'rel': u'alternate',\n",
       "     'type': u'text/html'}],\n",
       "   'published': u'2017-09-18T23:56:59-04:00',\n",
       "   'published_parsed': time.struct_time(tm_year=2017, tm_mon=9, tm_mday=19, tm_hour=3, tm_min=56, tm_sec=59, tm_wday=1, tm_yday=262, tm_isdst=0),\n",
       "   'rights': u'copyright 2017 craiglist',\n",
       "   'rights_detail': {'base': u'https://newyork.craigslist.org/search/stp?format=rss',\n",
       "    'language': None,\n",
       "    'type': u'text/plain',\n",
       "    'value': u'copyright 2017 craiglist'},\n",
       "   'summary': u'Looking for guys into white tube socks and sneakers. \\nAGES: 18-30 years old ONLY (DO NOT SUBMIT IF YOU ARE OLDER THAN 30) \\nHosting tonight at a motel at 630pm. If interested, hit me up with two pics and foot size and we will have some fun. \\nFOR TONIG ...',\n",
       "   'summary_detail': {'base': u'https://newyork.craigslist.org/search/stp?format=rss',\n",
       "    'language': None,\n",
       "    'type': u'text/html',\n",
       "    'value': u'Looking for guys into white tube socks and sneakers. \\nAGES: 18-30 years old ONLY (DO NOT SUBMIT IF YOU ARE OLDER THAN 30) \\nHosting tonight at a motel at 630pm. If interested, hit me up with two pics and foot size and we will have some fun. \\nFOR TONIG ...'},\n",
       "   'title': u'Sock play tonight anyone - m4mm (Nassau County, Long Island)',\n",
       "   'title_detail': {'base': u'https://newyork.craigslist.org/search/stp?format=rss',\n",
       "    'language': None,\n",
       "    'type': u'text/plain',\n",
       "    'value': u'Sock play tonight anyone - m4mm (Nassau County, Long Island)'},\n",
       "   'updated': u'2017-09-18T23:56:59-04:00',\n",
       "   'updated_parsed': time.struct_time(tm_year=2017, tm_mon=9, tm_mday=19, tm_hour=3, tm_min=56, tm_sec=59, tm_wday=1, tm_yday=262, tm_isdst=0)}],\n",
       " 'feed': {'author': u'robot@craigslist.org',\n",
       "  'author_detail': {'email': u'robot@craigslist.org'},\n",
       "  'authors': [{'email': u'robot@craigslist.org'}],\n",
       "  'dc_source': u'https://newyork.craigslist.org/search/stp?format=rss',\n",
       "  'dc_type': u'Collection',\n",
       "  'entries': u'',\n",
       "  'language': u'en-us',\n",
       "  'link': u'https://newyork.craigslist.org/search/stp',\n",
       "  'links': [{'href': u'https://newyork.craigslist.org/search/stp',\n",
       "    'rel': u'alternate',\n",
       "    'type': u'text/html'}],\n",
       "  'publisher': u'robot@craigslist.org',\n",
       "  'publisher_detail': {'email': u'robot@craigslist.org'},\n",
       "  'rdf_li': {'rdf:resource': u'https://newyork.craigslist.org/lgi/stp/d/sock-play-tonight-anyone-m4mm/6311828363.html'},\n",
       "  'rdf_seq': u'',\n",
       "  'rights': u'copyright 2017 craiglist',\n",
       "  'rights_detail': {'base': u'https://newyork.craigslist.org/search/stp?format=rss',\n",
       "   'language': None,\n",
       "   'type': u'text/plain',\n",
       "   'value': u'copyright 2017 craiglist'},\n",
       "  'subtitle': u'',\n",
       "  'subtitle_detail': {'base': u'https://newyork.craigslist.org/search/stp?format=rss',\n",
       "   'language': None,\n",
       "   'type': u'text/html',\n",
       "   'value': u''},\n",
       "  'sy_updatebase': u'2017-09-19T04:31:29-04:00',\n",
       "  'sy_updatefrequency': u'6',\n",
       "  'sy_updateperiod': u'hourly',\n",
       "  'title': u'craigslist new york | strictly platonic search',\n",
       "  'title_detail': {'base': u'https://newyork.craigslist.org/search/stp?format=rss',\n",
       "   'language': None,\n",
       "   'type': u'text/plain',\n",
       "   'value': u'craigslist new york | strictly platonic search'}},\n",
       " 'headers': {'cache-control': 'max-age=900, public',\n",
       "  'content-encoding': 'gzip',\n",
       "  'content-length': '5362',\n",
       "  'content-type': 'application/rss+xml; charset=utf-8',\n",
       "  'date': 'Tue, 19 Sep 2017 08:31:29 GMT',\n",
       "  'expires': 'Tue, 19 Sep 2017 08:46:29 GMT',\n",
       "  'last-modified': 'Tue, 19 Sep 2017 08:31:29 GMT',\n",
       "  'server': 'Apache',\n",
       "  'strict-transport-security': 'max-age=86400',\n",
       "  'vary': 'Accept-Encoding',\n",
       "  'x-frame-options': 'SAMEORIGIN'},\n",
       " 'href': u'https://newyork.craigslist.org/search/stp?format=rss',\n",
       " 'namespaces': {'': u'http://purl.org/rss/1.0/',\n",
       "  'admin': u'http://webns.net/mvcb/',\n",
       "  'content': u'http://purl.org/rss/1.0/modules/content/',\n",
       "  'dc': u'http://purl.org/dc/elements/1.1/',\n",
       "  'dcterms': u'http://purl.org/dc/terms/',\n",
       "  u'enc': u'http://purl.oclc.org/net/rss_2.0/enc#',\n",
       "  'ev': u'http://purl.org/rss/1.0/modules/event/',\n",
       "  'rdf': u'http://www.w3.org/1999/02/22-rdf-syntax-ns#',\n",
       "  'sy': u'http://purl.org/rss/1.0/modules/syndication/',\n",
       "  'taxo': u'http://purl.org/rss/1.0/modules/taxonomy/'},\n",
       " 'status': 301,\n",
       " 'updated': 'Tue, 19 Sep 2017 08:31:29 GMT',\n",
       " 'updated_parsed': time.struct_time(tm_year=2017, tm_mon=9, tm_mday=19, tm_hour=8, tm_min=31, tm_sec=29, tm_wday=1, tm_yday=262, tm_isdst=0),\n",
       " 'version': u'rss10'}"
      ]
     },
     "execution_count": 132,
     "metadata": {},
     "output_type": "execute_result"
    }
   ],
   "source": [
    "ny"
   ]
  },
  {
   "cell_type": "code",
   "execution_count": 133,
   "metadata": {},
   "outputs": [
    {
     "data": {
      "text/plain": [
       "[{'dc_source': u'https://newyork.craigslist.org/brk/stp/d/cool-friend-maybe-more-m4w/6311894226.html',\n",
       "  'dc_type': u'text',\n",
       "  'id': u'https://newyork.craigslist.org/brk/stp/d/cool-friend-maybe-more-m4w/6311894226.html',\n",
       "  'language': u'en-us',\n",
       "  'link': u'https://newyork.craigslist.org/brk/stp/d/cool-friend-maybe-more-m4w/6311894226.html',\n",
       "  'links': [{'href': u'https://newyork.craigslist.org/brk/stp/d/cool-friend-maybe-more-m4w/6311894226.html',\n",
       "    'rel': u'alternate',\n",
       "    'type': u'text/html'}],\n",
       "  'published': u'2017-09-19T02:56:54-04:00',\n",
       "  'published_parsed': time.struct_time(tm_year=2017, tm_mon=9, tm_mday=19, tm_hour=6, tm_min=56, tm_sec=54, tm_wday=1, tm_yday=262, tm_isdst=0),\n",
       "  'rights': u'copyright 2017 craiglist',\n",
       "  'rights_detail': {'base': u'https://newyork.craigslist.org/search/stp?format=rss',\n",
       "   'language': None,\n",
       "   'type': u'text/plain',\n",
       "   'value': u'copyright 2017 craiglist'},\n",
       "  'summary': u\"average guy seeking a cool female friend that I can chat with laugh bug out and just be ourselves around each other. Someone who has a good head on a shoulders that's funny mature and cool to hang with it doesnt matter what borough you're from just b ...\",\n",
       "  'summary_detail': {'base': u'https://newyork.craigslist.org/search/stp?format=rss',\n",
       "   'language': None,\n",
       "   'type': u'text/html',\n",
       "   'value': u\"average guy seeking a cool female friend that I can chat with laugh bug out and just be ourselves around each other. Someone who has a good head on a shoulders that's funny mature and cool to hang with it doesnt matter what borough you're from just b ...\"},\n",
       "  'title': u'Cool friend maybe more - m4w (Brooklyn)',\n",
       "  'title_detail': {'base': u'https://newyork.craigslist.org/search/stp?format=rss',\n",
       "   'language': None,\n",
       "   'type': u'text/plain',\n",
       "   'value': u'Cool friend maybe more - m4w (Brooklyn)'},\n",
       "  'updated': u'2017-09-19T02:56:54-04:00',\n",
       "  'updated_parsed': time.struct_time(tm_year=2017, tm_mon=9, tm_mday=19, tm_hour=6, tm_min=56, tm_sec=54, tm_wday=1, tm_yday=262, tm_isdst=0)},\n",
       " {'dc_source': u'https://newyork.craigslist.org/mnh/stp/d/jewish-marriage-m4w-m4w/6304094202.html',\n",
       "  'dc_type': u'text',\n",
       "  'enc_enclosure': {'resource': u'https://images.craigslist.org/00U0U_g7NhVOxIYuA_300x300.jpg',\n",
       "   'type': u'image/jpeg'},\n",
       "  'id': u'https://newyork.craigslist.org/mnh/stp/d/jewish-marriage-m4w-m4w/6304094202.html',\n",
       "  'language': u'en-us',\n",
       "  'link': u'https://newyork.craigslist.org/mnh/stp/d/jewish-marriage-m4w-m4w/6304094202.html',\n",
       "  'links': [{'href': u'https://newyork.craigslist.org/mnh/stp/d/jewish-marriage-m4w-m4w/6304094202.html',\n",
       "    'rel': u'alternate',\n",
       "    'type': u'text/html'}],\n",
       "  'published': u'2017-09-19T02:55:07-04:00',\n",
       "  'published_parsed': time.struct_time(tm_year=2017, tm_mon=9, tm_mday=19, tm_hour=6, tm_min=55, tm_sec=7, tm_wday=1, tm_yday=262, tm_isdst=0),\n",
       "  'rights': u'copyright 2017 craiglist',\n",
       "  'rights_detail': {'base': u'https://newyork.craigslist.org/search/stp?format=rss',\n",
       "   'language': None,\n",
       "   'type': u'text/plain',\n",
       "   'value': u'copyright 2017 craiglist'},\n",
       "  'summary': u\"Looking for Commitment - Let's Get Married!!! \\nDon't Spend Another Day as a Single Woman! \\nLet's see what we can do about that! \\nI'm NOT looking for a one night'er or a fling, but rather a meaningful relationship. \\nBased on Openness, Trust and Honest ...\",\n",
       "  'summary_detail': {'base': u'https://newyork.craigslist.org/search/stp?format=rss',\n",
       "   'language': None,\n",
       "   'type': u'text/html',\n",
       "   'value': u\"Looking for Commitment - Let's Get Married!!! \\nDon't Spend Another Day as a Single Woman! \\nLet's see what we can do about that! \\nI'm NOT looking for a one night'er or a fling, but rather a meaningful relationship. \\nBased on Openness, Trust and Honest ...\"},\n",
       "  'title': u'Jewish Marriage - m4w - m4w (Midtown East)',\n",
       "  'title_detail': {'base': u'https://newyork.craigslist.org/search/stp?format=rss',\n",
       "   'language': None,\n",
       "   'type': u'text/plain',\n",
       "   'value': u'Jewish Marriage - m4w - m4w (Midtown East)'},\n",
       "  'updated': u'2017-09-19T02:55:07-04:00',\n",
       "  'updated_parsed': time.struct_time(tm_year=2017, tm_mon=9, tm_mday=19, tm_hour=6, tm_min=55, tm_sec=7, tm_wday=1, tm_yday=262, tm_isdst=0)},\n",
       " {'dc_source': u'https://newyork.craigslist.org/mnh/stp/d/fitness-friends-w4m/6304657755.html',\n",
       "  'dc_type': u'text',\n",
       "  'id': u'https://newyork.craigslist.org/mnh/stp/d/fitness-friends-w4m/6304657755.html',\n",
       "  'language': u'en-us',\n",
       "  'link': u'https://newyork.craigslist.org/mnh/stp/d/fitness-friends-w4m/6304657755.html',\n",
       "  'links': [{'href': u'https://newyork.craigslist.org/mnh/stp/d/fitness-friends-w4m/6304657755.html',\n",
       "    'rel': u'alternate',\n",
       "    'type': u'text/html'}],\n",
       "  'published': u'2017-09-19T02:49:02-04:00',\n",
       "  'published_parsed': time.struct_time(tm_year=2017, tm_mon=9, tm_mday=19, tm_hour=6, tm_min=49, tm_sec=2, tm_wday=1, tm_yday=262, tm_isdst=0),\n",
       "  'rights': u'copyright 2017 craiglist',\n",
       "  'rights_detail': {'base': u'https://newyork.craigslist.org/search/stp?format=rss',\n",
       "   'language': None,\n",
       "   'type': u'text/plain',\n",
       "   'value': u'copyright 2017 craiglist'},\n",
       "  'summary': u'I am 37yr old female who works out 5 to 6 times a week. Attend martial arts 3 times a week. Big nerd as well. Strict diet during the week. Sun only day cheat on my diet. \\nLooking for someone that is 21 to 35 years old. Into martial arts.Works out. On ...',\n",
       "  'summary_detail': {'base': u'https://newyork.craigslist.org/search/stp?format=rss',\n",
       "   'language': None,\n",
       "   'type': u'text/html',\n",
       "   'value': u'I am 37yr old female who works out 5 to 6 times a week. Attend martial arts 3 times a week. Big nerd as well. Strict diet during the week. Sun only day cheat on my diet. \\nLooking for someone that is 21 to 35 years old. Into martial arts.Works out. On ...'},\n",
       "  'title': u'Fitness friends - w4m (All over tristate)',\n",
       "  'title_detail': {'base': u'https://newyork.craigslist.org/search/stp?format=rss',\n",
       "   'language': None,\n",
       "   'type': u'text/plain',\n",
       "   'value': u'Fitness friends - w4m (All over tristate)'},\n",
       "  'updated': u'2017-09-19T02:49:02-04:00',\n",
       "  'updated_parsed': time.struct_time(tm_year=2017, tm_mon=9, tm_mday=19, tm_hour=6, tm_min=49, tm_sec=2, tm_wday=1, tm_yday=262, tm_isdst=0)},\n",
       " {'dc_source': u'https://newyork.craigslist.org/brk/stp/d/our-little-secret-m4w/6303896868.html',\n",
       "  'dc_type': u'text',\n",
       "  'id': u'https://newyork.craigslist.org/brk/stp/d/our-little-secret-m4w/6303896868.html',\n",
       "  'language': u'en-us',\n",
       "  'link': u'https://newyork.craigslist.org/brk/stp/d/our-little-secret-m4w/6303896868.html',\n",
       "  'links': [{'href': u'https://newyork.craigslist.org/brk/stp/d/our-little-secret-m4w/6303896868.html',\n",
       "    'rel': u'alternate',\n",
       "    'type': u'text/html'}],\n",
       "  'published': u'2017-09-19T02:38:29-04:00',\n",
       "  'published_parsed': time.struct_time(tm_year=2017, tm_mon=9, tm_mday=19, tm_hour=6, tm_min=38, tm_sec=29, tm_wday=1, tm_yday=262, tm_isdst=0),\n",
       "  'rights': u'copyright 2017 craiglist',\n",
       "  'rights_detail': {'base': u'https://newyork.craigslist.org/search/stp?format=rss',\n",
       "   'language': None,\n",
       "   'type': u'text/plain',\n",
       "   'value': u'copyright 2017 craiglist'},\n",
       "  'summary': u'Did you ever want to watch a guy jerk-off or jerk him off yourself? No one would know but us. If you\\'re interested, put \"JERK-OFF\" on the subject line.',\n",
       "  'summary_detail': {'base': u'https://newyork.craigslist.org/search/stp?format=rss',\n",
       "   'language': None,\n",
       "   'type': u'text/html',\n",
       "   'value': u'Did you ever want to watch a guy jerk-off or jerk him off yourself? No one would know but us. If you\\'re interested, put \"JERK-OFF\" on the subject line.'},\n",
       "  'title': u'OUR LITTLE SECRET - m4w',\n",
       "  'title_detail': {'base': u'https://newyork.craigslist.org/search/stp?format=rss',\n",
       "   'language': None,\n",
       "   'type': u'text/plain',\n",
       "   'value': u'OUR LITTLE SECRET - m4w'},\n",
       "  'updated': u'2017-09-19T02:38:29-04:00',\n",
       "  'updated_parsed': time.struct_time(tm_year=2017, tm_mon=9, tm_mday=19, tm_hour=6, tm_min=38, tm_sec=29, tm_wday=1, tm_yday=262, tm_isdst=0)},\n",
       " {'dc_source': u'https://newyork.craigslist.org/mnh/stp/d/had-long-day-at-work-on-your/6275899286.html',\n",
       "  'dc_type': u'text',\n",
       "  'enc_enclosure': {'resource': u'https://images.craigslist.org/00e0e_hIdu1Z4LQu2_300x300.jpg',\n",
       "   'type': u'image/jpeg'},\n",
       "  'id': u'https://newyork.craigslist.org/mnh/stp/d/had-long-day-at-work-on-your/6275899286.html',\n",
       "  'language': u'en-us',\n",
       "  'link': u'https://newyork.craigslist.org/mnh/stp/d/had-long-day-at-work-on-your/6275899286.html',\n",
       "  'links': [{'href': u'https://newyork.craigslist.org/mnh/stp/d/had-long-day-at-work-on-your/6275899286.html',\n",
       "    'rel': u'alternate',\n",
       "    'type': u'text/html'}],\n",
       "  'published': u'2017-09-19T02:33:12-04:00',\n",
       "  'published_parsed': time.struct_time(tm_year=2017, tm_mon=9, tm_mday=19, tm_hour=6, tm_min=33, tm_sec=12, tm_wday=1, tm_yday=262, tm_isdst=0),\n",
       "  'rights': u'copyright 2017 craiglist',\n",
       "  'rights_detail': {'base': u'https://newyork.craigslist.org/search/stp?format=rss',\n",
       "   'language': None,\n",
       "   'type': u'text/plain',\n",
       "   'value': u'copyright 2017 craiglist'},\n",
       "  'summary': u\"Have you had a long hard day at work? Do you spend most of the day on your feet? Maybe you'd just like to indulge in a nice relaxing foot massage. Whatever the case may be, I'd love to help. \\nI would love to give you a relaxing foot massage and suck  ...\",\n",
       "  'summary_detail': {'base': u'https://newyork.craigslist.org/search/stp?format=rss',\n",
       "   'language': None,\n",
       "   'type': u'text/html',\n",
       "   'value': u\"Have you had a long hard day at work? Do you spend most of the day on your feet? Maybe you'd just like to indulge in a nice relaxing foot massage. Whatever the case may be, I'd love to help. \\nI would love to give you a relaxing foot massage and suck  ...\"},\n",
       "  'title': u'Had a Long Day at Work on Your Feet? Need a Foot Massage? - m4w (Manhattan)',\n",
       "  'title_detail': {'base': u'https://newyork.craigslist.org/search/stp?format=rss',\n",
       "   'language': None,\n",
       "   'type': u'text/plain',\n",
       "   'value': u'Had a Long Day at Work on Your Feet? Need a Foot Massage? - m4w (Manhattan)'},\n",
       "  'updated': u'2017-09-19T02:33:12-04:00',\n",
       "  'updated_parsed': time.struct_time(tm_year=2017, tm_mon=9, tm_mday=19, tm_hour=6, tm_min=33, tm_sec=12, tm_wday=1, tm_yday=262, tm_isdst=0)},\n",
       " {'dc_source': u'https://newyork.craigslist.org/mnh/stp/d/model-availableloves-wine-w4w/6295666458.html',\n",
       "  'dc_type': u'text',\n",
       "  'id': u'https://newyork.craigslist.org/mnh/stp/d/model-availableloves-wine-w4w/6295666458.html',\n",
       "  'language': u'en-us',\n",
       "  'link': u'https://newyork.craigslist.org/mnh/stp/d/model-availableloves-wine-w4w/6295666458.html',\n",
       "  'links': [{'href': u'https://newyork.craigslist.org/mnh/stp/d/model-availableloves-wine-w4w/6295666458.html',\n",
       "    'rel': u'alternate',\n",
       "    'type': u'text/html'}],\n",
       "  'published': u'2017-09-19T02:23:00-04:00',\n",
       "  'published_parsed': time.struct_time(tm_year=2017, tm_mon=9, tm_mday=19, tm_hour=6, tm_min=23, tm_sec=0, tm_wday=1, tm_yday=262, tm_isdst=0),\n",
       "  'rights': u'copyright 2017 craiglist',\n",
       "  'rights_detail': {'base': u'https://newyork.craigslist.org/search/stp?format=rss',\n",
       "   'language': None,\n",
       "   'type': u'text/plain',\n",
       "   'value': u'copyright 2017 craiglist'},\n",
       "  'summary': u\"Hey I'm a plus-size model looking for modeling work ASAP. \\nI'm African American and Puerto Rican! Brown hair and eyes. 36DD. \\nWill send portfolio link with reply.\",\n",
       "  'summary_detail': {'base': u'https://newyork.craigslist.org/search/stp?format=rss',\n",
       "   'language': None,\n",
       "   'type': u'text/html',\n",
       "   'value': u\"Hey I'm a plus-size model looking for modeling work ASAP. \\nI'm African American and Puerto Rican! Brown hair and eyes. 36DD. \\nWill send portfolio link with reply.\"},\n",
       "  'title': u'Model Available..Loves Wine - w4w (Midtown West)',\n",
       "  'title_detail': {'base': u'https://newyork.craigslist.org/search/stp?format=rss',\n",
       "   'language': None,\n",
       "   'type': u'text/plain',\n",
       "   'value': u'Model Available..Loves Wine - w4w (Midtown West)'},\n",
       "  'updated': u'2017-09-19T02:23:00-04:00',\n",
       "  'updated_parsed': time.struct_time(tm_year=2017, tm_mon=9, tm_mday=19, tm_hour=6, tm_min=23, tm_sec=0, tm_wday=1, tm_yday=262, tm_isdst=0)},\n",
       " {'dc_source': u'https://newyork.craigslist.org/lgi/stp/d/free-full-body-massage-m4w/6285942734.html',\n",
       "  'dc_type': u'text',\n",
       "  'id': u'https://newyork.craigslist.org/lgi/stp/d/free-full-body-massage-m4w/6285942734.html',\n",
       "  'language': u'en-us',\n",
       "  'link': u'https://newyork.craigslist.org/lgi/stp/d/free-full-body-massage-m4w/6285942734.html',\n",
       "  'links': [{'href': u'https://newyork.craigslist.org/lgi/stp/d/free-full-body-massage-m4w/6285942734.html',\n",
       "    'rel': u'alternate',\n",
       "    'type': u'text/html'}],\n",
       "  'published': u'2017-09-19T01:07:29-04:00',\n",
       "  'published_parsed': time.struct_time(tm_year=2017, tm_mon=9, tm_mday=19, tm_hour=5, tm_min=7, tm_sec=29, tm_wday=1, tm_yday=262, tm_isdst=0),\n",
       "  'rights': u'copyright 2017 craiglist',\n",
       "  'rights_detail': {'base': u'https://newyork.craigslist.org/search/stp?format=rss',\n",
       "   'language': None,\n",
       "   'type': u'text/plain',\n",
       "   'value': u'copyright 2017 craiglist'},\n",
       "  'summary': u'take a break from day to day stress and strain - let me come over to you and give you a very relaxing full body rubdown with my special oral technique that will release you built up stress.. - there no charge ever for the session... \\nemail me back fo ...',\n",
       "  'summary_detail': {'base': u'https://newyork.craigslist.org/search/stp?format=rss',\n",
       "   'language': None,\n",
       "   'type': u'text/html',\n",
       "   'value': u'take a break from day to day stress and strain - let me come over to you and give you a very relaxing full body rubdown with my special oral technique that will release you built up stress.. - there no charge ever for the session... \\nemail me back fo ...'},\n",
       "  'title': u'Free Full Body Massage - m4w',\n",
       "  'title_detail': {'base': u'https://newyork.craigslist.org/search/stp?format=rss',\n",
       "   'language': None,\n",
       "   'type': u'text/plain',\n",
       "   'value': u'Free Full Body Massage - m4w'},\n",
       "  'updated': u'2017-09-19T01:07:29-04:00',\n",
       "  'updated_parsed': time.struct_time(tm_year=2017, tm_mon=9, tm_mday=19, tm_hour=5, tm_min=7, tm_sec=29, tm_wday=1, tm_yday=262, tm_isdst=0)},\n",
       " {'dc_source': u'https://newyork.craigslist.org/mnh/stp/d/court-my-husband-w4w/6311872044.html',\n",
       "  'dc_type': u'text',\n",
       "  'id': u'https://newyork.craigslist.org/mnh/stp/d/court-my-husband-w4w/6311872044.html',\n",
       "  'language': u'en-us',\n",
       "  'link': u'https://newyork.craigslist.org/mnh/stp/d/court-my-husband-w4w/6311872044.html',\n",
       "  'links': [{'href': u'https://newyork.craigslist.org/mnh/stp/d/court-my-husband-w4w/6311872044.html',\n",
       "    'rel': u'alternate',\n",
       "    'type': u'text/html'}],\n",
       "  'published': u'2017-09-19T00:55:33-04:00',\n",
       "  'published_parsed': time.struct_time(tm_year=2017, tm_mon=9, tm_mday=19, tm_hour=4, tm_min=55, tm_sec=33, tm_wday=1, tm_yday=262, tm_isdst=0),\n",
       "  'rights': u'copyright 2017 craiglist',\n",
       "  'rights_detail': {'base': u'https://newyork.craigslist.org/search/stp?format=rss',\n",
       "   'language': None,\n",
       "   'type': u'text/plain',\n",
       "   'value': u'copyright 2017 craiglist'},\n",
       "  'summary': u'Hello fellow ladies, like the title says, court my husband. I was cursed with a non-existent sex libido but my husband and I still have a happy marriage...except in the bedroom unfortunately. I am looking for a woman who is up to my standards to take ...',\n",
       "  'summary_detail': {'base': u'https://newyork.craigslist.org/search/stp?format=rss',\n",
       "   'language': None,\n",
       "   'type': u'text/html',\n",
       "   'value': u'Hello fellow ladies, like the title says, court my husband. I was cursed with a non-existent sex libido but my husband and I still have a happy marriage...except in the bedroom unfortunately. I am looking for a woman who is up to my standards to take ...'},\n",
       "  'title': u'Court My Husband - w4w',\n",
       "  'title_detail': {'base': u'https://newyork.craigslist.org/search/stp?format=rss',\n",
       "   'language': None,\n",
       "   'type': u'text/plain',\n",
       "   'value': u'Court My Husband - w4w'},\n",
       "  'updated': u'2017-09-19T00:55:33-04:00',\n",
       "  'updated_parsed': time.struct_time(tm_year=2017, tm_mon=9, tm_mday=19, tm_hour=4, tm_min=55, tm_sec=33, tm_wday=1, tm_yday=262, tm_isdst=0)},\n",
       " {'dc_source': u'https://newyork.craigslist.org/lgi/stp/d/free-full-body-massage-m4w/6297450891.html',\n",
       "  'dc_type': u'text',\n",
       "  'id': u'https://newyork.craigslist.org/lgi/stp/d/free-full-body-massage-m4w/6297450891.html',\n",
       "  'language': u'en-us',\n",
       "  'link': u'https://newyork.craigslist.org/lgi/stp/d/free-full-body-massage-m4w/6297450891.html',\n",
       "  'links': [{'href': u'https://newyork.craigslist.org/lgi/stp/d/free-full-body-massage-m4w/6297450891.html',\n",
       "    'rel': u'alternate',\n",
       "    'type': u'text/html'}],\n",
       "  'published': u'2017-09-19T00:55:23-04:00',\n",
       "  'published_parsed': time.struct_time(tm_year=2017, tm_mon=9, tm_mday=19, tm_hour=4, tm_min=55, tm_sec=23, tm_wday=1, tm_yday=262, tm_isdst=0),\n",
       "  'rights': u'copyright 2017 craiglist',\n",
       "  'rights_detail': {'base': u'https://newyork.craigslist.org/search/stp?format=rss',\n",
       "   'language': None,\n",
       "   'type': u'text/plain',\n",
       "   'value': u'copyright 2017 craiglist'},\n",
       "  'summary': u'take a break from day to day stress and strain - let me come over to you and give you a very relaxing full body rubdown with my special oral technique that will release you built up stress.. - there no charge ever for the session... \\nemail me back fo ...',\n",
       "  'summary_detail': {'base': u'https://newyork.craigslist.org/search/stp?format=rss',\n",
       "   'language': None,\n",
       "   'type': u'text/html',\n",
       "   'value': u'take a break from day to day stress and strain - let me come over to you and give you a very relaxing full body rubdown with my special oral technique that will release you built up stress.. - there no charge ever for the session... \\nemail me back fo ...'},\n",
       "  'title': u'Free Full Body Massage - m4w',\n",
       "  'title_detail': {'base': u'https://newyork.craigslist.org/search/stp?format=rss',\n",
       "   'language': None,\n",
       "   'type': u'text/plain',\n",
       "   'value': u'Free Full Body Massage - m4w'},\n",
       "  'updated': u'2017-09-19T00:55:23-04:00',\n",
       "  'updated_parsed': time.struct_time(tm_year=2017, tm_mon=9, tm_mday=19, tm_hour=4, tm_min=55, tm_sec=23, tm_wday=1, tm_yday=262, tm_isdst=0)},\n",
       " {'dc_source': u'https://newyork.craigslist.org/lgi/stp/d/free-full-body-massage-m4w/6281679196.html',\n",
       "  'dc_type': u'text',\n",
       "  'id': u'https://newyork.craigslist.org/lgi/stp/d/free-full-body-massage-m4w/6281679196.html',\n",
       "  'language': u'en-us',\n",
       "  'link': u'https://newyork.craigslist.org/lgi/stp/d/free-full-body-massage-m4w/6281679196.html',\n",
       "  'links': [{'href': u'https://newyork.craigslist.org/lgi/stp/d/free-full-body-massage-m4w/6281679196.html',\n",
       "    'rel': u'alternate',\n",
       "    'type': u'text/html'}],\n",
       "  'published': u'2017-09-19T00:55:19-04:00',\n",
       "  'published_parsed': time.struct_time(tm_year=2017, tm_mon=9, tm_mday=19, tm_hour=4, tm_min=55, tm_sec=19, tm_wday=1, tm_yday=262, tm_isdst=0),\n",
       "  'rights': u'copyright 2017 craiglist',\n",
       "  'rights_detail': {'base': u'https://newyork.craigslist.org/search/stp?format=rss',\n",
       "   'language': None,\n",
       "   'type': u'text/plain',\n",
       "   'value': u'copyright 2017 craiglist'},\n",
       "  'summary': u'take a break from day to day stress and strain - let me come over to you and give you a very relaxing full body rubdown with my special oral technique that will release you built up stress.. - there no charge ever for the session... \\nemail me back fo ...',\n",
       "  'summary_detail': {'base': u'https://newyork.craigslist.org/search/stp?format=rss',\n",
       "   'language': None,\n",
       "   'type': u'text/html',\n",
       "   'value': u'take a break from day to day stress and strain - let me come over to you and give you a very relaxing full body rubdown with my special oral technique that will release you built up stress.. - there no charge ever for the session... \\nemail me back fo ...'},\n",
       "  'title': u'Free Full Body Massage - m4w',\n",
       "  'title_detail': {'base': u'https://newyork.craigslist.org/search/stp?format=rss',\n",
       "   'language': None,\n",
       "   'type': u'text/plain',\n",
       "   'value': u'Free Full Body Massage - m4w'},\n",
       "  'updated': u'2017-09-19T00:55:19-04:00',\n",
       "  'updated_parsed': time.struct_time(tm_year=2017, tm_mon=9, tm_mday=19, tm_hour=4, tm_min=55, tm_sec=19, tm_wday=1, tm_yday=262, tm_isdst=0)},\n",
       " {'dc_source': u'https://newyork.craigslist.org/lgi/stp/d/free-massage-m4w/6305236280.html',\n",
       "  'dc_type': u'text',\n",
       "  'id': u'https://newyork.craigslist.org/lgi/stp/d/free-massage-m4w/6305236280.html',\n",
       "  'language': u'en-us',\n",
       "  'link': u'https://newyork.craigslist.org/lgi/stp/d/free-massage-m4w/6305236280.html',\n",
       "  'links': [{'href': u'https://newyork.craigslist.org/lgi/stp/d/free-massage-m4w/6305236280.html',\n",
       "    'rel': u'alternate',\n",
       "    'type': u'text/html'}],\n",
       "  'published': u'2017-09-19T00:55:06-04:00',\n",
       "  'published_parsed': time.struct_time(tm_year=2017, tm_mon=9, tm_mday=19, tm_hour=4, tm_min=55, tm_sec=6, tm_wday=1, tm_yday=262, tm_isdst=0),\n",
       "  'rights': u'copyright 2017 craiglist',\n",
       "  'rights_detail': {'base': u'https://newyork.craigslist.org/search/stp?format=rss',\n",
       "   'language': None,\n",
       "   'type': u'text/plain',\n",
       "   'value': u'copyright 2017 craiglist'},\n",
       "  'summary': u'HI have you ever thought about having a really great full body rubdown - now is your chance to give it a try - I need to practice newly learned massage techniques - and you can benefit by getting a free massage.. I come to you so you can relax and en ...',\n",
       "  'summary_detail': {'base': u'https://newyork.craigslist.org/search/stp?format=rss',\n",
       "   'language': None,\n",
       "   'type': u'text/html',\n",
       "   'value': u'HI have you ever thought about having a really great full body rubdown - now is your chance to give it a try - I need to practice newly learned massage techniques - and you can benefit by getting a free massage.. I come to you so you can relax and en ...'},\n",
       "  'title': u'Free Massage - m4w',\n",
       "  'title_detail': {'base': u'https://newyork.craigslist.org/search/stp?format=rss',\n",
       "   'language': None,\n",
       "   'type': u'text/plain',\n",
       "   'value': u'Free Massage - m4w'},\n",
       "  'updated': u'2017-09-19T00:55:06-04:00',\n",
       "  'updated_parsed': time.struct_time(tm_year=2017, tm_mon=9, tm_mday=19, tm_hour=4, tm_min=55, tm_sec=6, tm_wday=1, tm_yday=262, tm_isdst=0)},\n",
       " {'dc_source': u'https://newyork.craigslist.org/que/stp/d/drinks-chat-friends-m4w/6309183536.html',\n",
       "  'dc_type': u'text',\n",
       "  'id': u'https://newyork.craigslist.org/que/stp/d/drinks-chat-friends-m4w/6309183536.html',\n",
       "  'language': u'en-us',\n",
       "  'link': u'https://newyork.craigslist.org/que/stp/d/drinks-chat-friends-m4w/6309183536.html',\n",
       "  'links': [{'href': u'https://newyork.craigslist.org/que/stp/d/drinks-chat-friends-m4w/6309183536.html',\n",
       "    'rel': u'alternate',\n",
       "    'type': u'text/html'}],\n",
       "  'published': u'2017-09-19T00:52:35-04:00',\n",
       "  'published_parsed': time.struct_time(tm_year=2017, tm_mon=9, tm_mday=19, tm_hour=4, tm_min=52, tm_sec=35, tm_wday=1, tm_yday=262, tm_isdst=0),\n",
       "  'rights': u'copyright 2017 craiglist',\n",
       "  'rights_detail': {'base': u'https://newyork.craigslist.org/search/stp?format=rss',\n",
       "   'language': None,\n",
       "   'type': u'text/plain',\n",
       "   'value': u'copyright 2017 craiglist'},\n",
       "  'summary': u'I am 31 years old. Looking to go out for drinks and chat with ladies that enjoy to drink and chat. I am not the type to hang out with a group of guys. I am not into sports. I feel like I have a better time hanging out with women than men. If you like ...',\n",
       "  'summary_detail': {'base': u'https://newyork.craigslist.org/search/stp?format=rss',\n",
       "   'language': None,\n",
       "   'type': u'text/html',\n",
       "   'value': u'I am 31 years old. Looking to go out for drinks and chat with ladies that enjoy to drink and chat. I am not the type to hang out with a group of guys. I am not into sports. I feel like I have a better time hanging out with women than men. If you like ...'},\n",
       "  'title': u'Drinks, Chat, Friends - m4w (Bayside)',\n",
       "  'title_detail': {'base': u'https://newyork.craigslist.org/search/stp?format=rss',\n",
       "   'language': None,\n",
       "   'type': u'text/plain',\n",
       "   'value': u'Drinks, Chat, Friends - m4w (Bayside)'},\n",
       "  'updated': u'2017-09-19T00:52:35-04:00',\n",
       "  'updated_parsed': time.struct_time(tm_year=2017, tm_mon=9, tm_mday=19, tm_hour=4, tm_min=52, tm_sec=35, tm_wday=1, tm_yday=262, tm_isdst=0)},\n",
       " {'dc_source': u'https://newyork.craigslist.org/mnh/stp/d/long-distance-pen-pal-m4mw/6277992197.html',\n",
       "  'dc_type': u'text',\n",
       "  'id': u'https://newyork.craigslist.org/mnh/stp/d/long-distance-pen-pal-m4mw/6277992197.html',\n",
       "  'language': u'en-us',\n",
       "  'link': u'https://newyork.craigslist.org/mnh/stp/d/long-distance-pen-pal-m4mw/6277992197.html',\n",
       "  'links': [{'href': u'https://newyork.craigslist.org/mnh/stp/d/long-distance-pen-pal-m4mw/6277992197.html',\n",
       "    'rel': u'alternate',\n",
       "    'type': u'text/html'}],\n",
       "  'published': u'2017-09-19T00:52:21-04:00',\n",
       "  'published_parsed': time.struct_time(tm_year=2017, tm_mon=9, tm_mday=19, tm_hour=4, tm_min=52, tm_sec=21, tm_wday=1, tm_yday=262, tm_isdst=0),\n",
       "  'rights': u'copyright 2017 craiglist',\n",
       "  'rights_detail': {'base': u'https://newyork.craigslist.org/search/stp?format=rss',\n",
       "   'language': None,\n",
       "   'type': u'text/plain',\n",
       "   'value': u'copyright 2017 craiglist'},\n",
       "  'summary': u\"Hello, Egyptian guy here looking for pen pals.. \\nDon't care about gender, race or age just be nice and have something to say..\",\n",
       "  'summary_detail': {'base': u'https://newyork.craigslist.org/search/stp?format=rss',\n",
       "   'language': None,\n",
       "   'type': u'text/html',\n",
       "   'value': u\"Hello, Egyptian guy here looking for pen pals.. \\nDon't care about gender, race or age just be nice and have something to say..\"},\n",
       "  'title': u'Long distance pen pal - m4mw (Anywhere)',\n",
       "  'title_detail': {'base': u'https://newyork.craigslist.org/search/stp?format=rss',\n",
       "   'language': None,\n",
       "   'type': u'text/plain',\n",
       "   'value': u'Long distance pen pal - m4mw (Anywhere)'},\n",
       "  'updated': u'2017-09-19T00:52:21-04:00',\n",
       "  'updated_parsed': time.struct_time(tm_year=2017, tm_mon=9, tm_mday=19, tm_hour=4, tm_min=52, tm_sec=21, tm_wday=1, tm_yday=262, tm_isdst=0)},\n",
       " {'dc_source': u'https://newyork.craigslist.org/mnh/stp/d/revenge-of-the-married-man-m4w/6307480375.html',\n",
       "  'dc_type': u'text',\n",
       "  'enc_enclosure': {'resource': u'https://images.craigslist.org/00U0U_aujUM5pKoJV_300x300.jpg',\n",
       "   'type': u'image/jpeg'},\n",
       "  'id': u'https://newyork.craigslist.org/mnh/stp/d/revenge-of-the-married-man-m4w/6307480375.html',\n",
       "  'language': u'en-us',\n",
       "  'link': u'https://newyork.craigslist.org/mnh/stp/d/revenge-of-the-married-man-m4w/6307480375.html',\n",
       "  'links': [{'href': u'https://newyork.craigslist.org/mnh/stp/d/revenge-of-the-married-man-m4w/6307480375.html',\n",
       "    'rel': u'alternate',\n",
       "    'type': u'text/html'}],\n",
       "  'published': u'2017-09-19T00:44:23-04:00',\n",
       "  'published_parsed': time.struct_time(tm_year=2017, tm_mon=9, tm_mday=19, tm_hour=4, tm_min=44, tm_sec=23, tm_wday=1, tm_yday=262, tm_isdst=0),\n",
       "  'rights': u'copyright 2017 craiglist',\n",
       "  'rights_detail': {'base': u'https://newyork.craigslist.org/search/stp?format=rss',\n",
       "   'language': None,\n",
       "   'type': u'text/plain',\n",
       "   'value': u'copyright 2017 craiglist'},\n",
       "  'summary': u\"She swore up and down that she didn't do it. She said the off hour phone calls were business related and that the sexy panties in her pocketbook were a friends. I wanted so much to believe it all. \\nI first became suspicious when the same friend who s ...\",\n",
       "  'summary_detail': {'base': u'https://newyork.craigslist.org/search/stp?format=rss',\n",
       "   'language': None,\n",
       "   'type': u'text/html',\n",
       "   'value': u\"She swore up and down that she didn't do it. She said the off hour phone calls were business related and that the sexy panties in her pocketbook were a friends. I wanted so much to believe it all. \\nI first became suspicious when the same friend who s ...\"},\n",
       "  'title': u'Revenge of the Married Man - m4w (NYC and beyond)',\n",
       "  'title_detail': {'base': u'https://newyork.craigslist.org/search/stp?format=rss',\n",
       "   'language': None,\n",
       "   'type': u'text/plain',\n",
       "   'value': u'Revenge of the Married Man - m4w (NYC and beyond)'},\n",
       "  'updated': u'2017-09-19T00:44:23-04:00',\n",
       "  'updated_parsed': time.struct_time(tm_year=2017, tm_mon=9, tm_mday=19, tm_hour=4, tm_min=44, tm_sec=23, tm_wday=1, tm_yday=262, tm_isdst=0)},\n",
       " {'dc_source': u'https://newyork.craigslist.org/mnh/stp/d/coffee-without-expectations/6298477144.html',\n",
       "  'dc_type': u'text',\n",
       "  'enc_enclosure': {'resource': u'https://images.craigslist.org/00W0W_6uOW3tlpNOB_300x300.jpg',\n",
       "   'type': u'image/jpeg'},\n",
       "  'id': u'https://newyork.craigslist.org/mnh/stp/d/coffee-without-expectations/6298477144.html',\n",
       "  'language': u'en-us',\n",
       "  'link': u'https://newyork.craigslist.org/mnh/stp/d/coffee-without-expectations/6298477144.html',\n",
       "  'links': [{'href': u'https://newyork.craigslist.org/mnh/stp/d/coffee-without-expectations/6298477144.html',\n",
       "    'rel': u'alternate',\n",
       "    'type': u'text/html'}],\n",
       "  'published': u'2017-09-19T00:43:22-04:00',\n",
       "  'published_parsed': time.struct_time(tm_year=2017, tm_mon=9, tm_mday=19, tm_hour=4, tm_min=43, tm_sec=22, tm_wday=1, tm_yday=262, tm_isdst=0),\n",
       "  'rights': u'copyright 2017 craiglist',\n",
       "  'rights_detail': {'base': u'https://newyork.craigslist.org/search/stp?format=rss',\n",
       "   'language': None,\n",
       "   'type': u'text/plain',\n",
       "   'value': u'copyright 2017 craiglist'},\n",
       "  'summary': u\"On the outside, I'm the perfect family man. \\nThe screen on my phone shows the image of my wife and kids. I do grocery runs and occasionally volunteer to do the dishes. I make time to get my kids from point A to point B almost every time I'm asked. I  ...\",\n",
       "  'summary_detail': {'base': u'https://newyork.craigslist.org/search/stp?format=rss',\n",
       "   'language': None,\n",
       "   'type': u'text/html',\n",
       "   'value': u\"On the outside, I'm the perfect family man. \\nThe screen on my phone shows the image of my wife and kids. I do grocery runs and occasionally volunteer to do the dishes. I make time to get my kids from point A to point B almost every time I'm asked. I  ...\"},\n",
       "  'title': u'Coffee without expectations/The married man - m4w (The corner booth)',\n",
       "  'title_detail': {'base': u'https://newyork.craigslist.org/search/stp?format=rss',\n",
       "   'language': None,\n",
       "   'type': u'text/plain',\n",
       "   'value': u'Coffee without expectations/The married man - m4w (The corner booth)'},\n",
       "  'updated': u'2017-09-19T00:43:22-04:00',\n",
       "  'updated_parsed': time.struct_time(tm_year=2017, tm_mon=9, tm_mday=19, tm_hour=4, tm_min=43, tm_sec=22, tm_wday=1, tm_yday=262, tm_isdst=0)},\n",
       " {'dc_source': u'https://newyork.craigslist.org/que/stp/d/white-girl-for-friendship/6311877265.html',\n",
       "  'dc_type': u'text',\n",
       "  'id': u'https://newyork.craigslist.org/que/stp/d/white-girl-for-friendship/6311877265.html',\n",
       "  'language': u'en-us',\n",
       "  'link': u'https://newyork.craigslist.org/que/stp/d/white-girl-for-friendship/6311877265.html',\n",
       "  'links': [{'href': u'https://newyork.craigslist.org/que/stp/d/white-girl-for-friendship/6311877265.html',\n",
       "    'rel': u'alternate',\n",
       "    'type': u'text/html'}],\n",
       "  'published': u'2017-09-19T00:40:23-04:00',\n",
       "  'published_parsed': time.struct_time(tm_year=2017, tm_mon=9, tm_mday=19, tm_hour=4, tm_min=40, tm_sec=23, tm_wday=1, tm_yday=262, tm_isdst=0),\n",
       "  'rights': u'copyright 2017 craiglist',\n",
       "  'rights_detail': {'base': u'https://newyork.craigslist.org/search/stp?format=rss',\n",
       "   'language': None,\n",
       "   'type': u'text/plain',\n",
       "   'value': u'copyright 2017 craiglist'},\n",
       "  'summary': u\"I'm a single guy seeking a single (Not in a relationship) white girl for friendship, possibly more! \\nI'm twenty-six from Queens. How old are you, and what borough are you in? \\nWould you like to exchange pictures? :-) \\nI imagine we meet up and keep ea ...\",\n",
       "  'summary_detail': {'base': u'https://newyork.craigslist.org/search/stp?format=rss',\n",
       "   'language': None,\n",
       "   'type': u'text/html',\n",
       "   'value': u\"I'm a single guy seeking a single (Not in a relationship) white girl for friendship, possibly more! \\nI'm twenty-six from Queens. How old are you, and what borough are you in? \\nWould you like to exchange pictures? :-) \\nI imagine we meet up and keep ea ...\"},\n",
       "  'title': u'White Girl for Friendship, maybe more - m4w (Queens)',\n",
       "  'title_detail': {'base': u'https://newyork.craigslist.org/search/stp?format=rss',\n",
       "   'language': None,\n",
       "   'type': u'text/plain',\n",
       "   'value': u'White Girl for Friendship, maybe more - m4w (Queens)'},\n",
       "  'updated': u'2017-09-19T00:40:23-04:00',\n",
       "  'updated_parsed': time.struct_time(tm_year=2017, tm_mon=9, tm_mday=19, tm_hour=4, tm_min=40, tm_sec=23, tm_wday=1, tm_yday=262, tm_isdst=0)},\n",
       " {'dc_source': u'https://newyork.craigslist.org/brk/stp/d/looking-for-bestie-partner-in/6286036922.html',\n",
       "  'dc_type': u'text',\n",
       "  'id': u'https://newyork.craigslist.org/brk/stp/d/looking-for-bestie-partner-in/6286036922.html',\n",
       "  'language': u'en-us',\n",
       "  'link': u'https://newyork.craigslist.org/brk/stp/d/looking-for-bestie-partner-in/6286036922.html',\n",
       "  'links': [{'href': u'https://newyork.craigslist.org/brk/stp/d/looking-for-bestie-partner-in/6286036922.html',\n",
       "    'rel': u'alternate',\n",
       "    'type': u'text/html'}],\n",
       "  'published': u'2017-09-19T00:38:48-04:00',\n",
       "  'published_parsed': time.struct_time(tm_year=2017, tm_mon=9, tm_mday=19, tm_hour=4, tm_min=38, tm_sec=48, tm_wday=1, tm_yday=262, tm_isdst=0),\n",
       "  'rights': u'copyright 2017 craiglist',\n",
       "  'rights_detail': {'base': u'https://newyork.craigslist.org/search/stp?format=rss',\n",
       "   'language': None,\n",
       "   'type': u'text/plain',\n",
       "   'value': u'copyright 2017 craiglist'},\n",
       "  'summary': u\"Well, as the title says I'm looking for a bestie. all my friends are guys,but it gets boring being around them. I'm African American 39. down to earth,funny. small bbw if it matters. But weight shouldn't matter when it comes to being friends. I'm jus ...\",\n",
       "  'summary_detail': {'base': u'https://newyork.craigslist.org/search/stp?format=rss',\n",
       "   'language': None,\n",
       "   'type': u'text/html',\n",
       "   'value': u\"Well, as the title says I'm looking for a bestie. all my friends are guys,but it gets boring being around them. I'm African American 39. down to earth,funny. small bbw if it matters. But weight shouldn't matter when it comes to being friends. I'm jus ...\"},\n",
       "  'title': u'looking for a bestie/partner in crime - w4w (brooklyn)',\n",
       "  'title_detail': {'base': u'https://newyork.craigslist.org/search/stp?format=rss',\n",
       "   'language': None,\n",
       "   'type': u'text/plain',\n",
       "   'value': u'looking for a bestie/partner in crime - w4w (brooklyn)'},\n",
       "  'updated': u'2017-09-19T00:38:48-04:00',\n",
       "  'updated_parsed': time.struct_time(tm_year=2017, tm_mon=9, tm_mday=19, tm_hour=4, tm_min=38, tm_sec=48, tm_wday=1, tm_yday=262, tm_isdst=0)},\n",
       " {'dc_source': u'https://newyork.craigslist.org/brk/stp/d/email-buddies-lets-talk-w4w/6304666272.html',\n",
       "  'dc_type': u'text',\n",
       "  'id': u'https://newyork.craigslist.org/brk/stp/d/email-buddies-lets-talk-w4w/6304666272.html',\n",
       "  'language': u'en-us',\n",
       "  'link': u'https://newyork.craigslist.org/brk/stp/d/email-buddies-lets-talk-w4w/6304666272.html',\n",
       "  'links': [{'href': u'https://newyork.craigslist.org/brk/stp/d/email-buddies-lets-talk-w4w/6304666272.html',\n",
       "    'rel': u'alternate',\n",
       "    'type': u'text/html'}],\n",
       "  'published': u'2017-09-19T00:38:16-04:00',\n",
       "  'published_parsed': time.struct_time(tm_year=2017, tm_mon=9, tm_mday=19, tm_hour=4, tm_min=38, tm_sec=16, tm_wday=1, tm_yday=262, tm_isdst=0),\n",
       "  'rights': u'copyright 2017 craiglist',\n",
       "  'rights_detail': {'base': u'https://newyork.craigslist.org/search/stp?format=rss',\n",
       "   'language': None,\n",
       "   'type': u'text/plain',\n",
       "   'value': u'copyright 2017 craiglist'},\n",
       "  'summary': u\"hey ladies. I'm on here looking for other ladies who want to be email buddies. We can talk about anything/give advise. We can talk about how good,bad our day was. guy problems. Whatever. No topic is off limits. we don't even have to use our real name ...\",\n",
       "  'summary_detail': {'base': u'https://newyork.craigslist.org/search/stp?format=rss',\n",
       "   'language': None,\n",
       "   'type': u'text/html',\n",
       "   'value': u\"hey ladies. I'm on here looking for other ladies who want to be email buddies. We can talk about anything/give advise. We can talk about how good,bad our day was. guy problems. Whatever. No topic is off limits. we don't even have to use our real name ...\"},\n",
       "  'title': u\"Email buddies let's talk - w4w (brooklyn)\",\n",
       "  'title_detail': {'base': u'https://newyork.craigslist.org/search/stp?format=rss',\n",
       "   'language': None,\n",
       "   'type': u'text/plain',\n",
       "   'value': u\"Email buddies let's talk - w4w (brooklyn)\"},\n",
       "  'updated': u'2017-09-19T00:38:16-04:00',\n",
       "  'updated_parsed': time.struct_time(tm_year=2017, tm_mon=9, tm_mday=19, tm_hour=4, tm_min=38, tm_sec=16, tm_wday=1, tm_yday=262, tm_isdst=0)},\n",
       " {'dc_source': u'https://newyork.craigslist.org/brk/stp/d/50-cent-at-highline-ballroom/6304688280.html',\n",
       "  'dc_type': u'text',\n",
       "  'id': u'https://newyork.craigslist.org/brk/stp/d/50-cent-at-highline-ballroom/6304688280.html',\n",
       "  'language': u'en-us',\n",
       "  'link': u'https://newyork.craigslist.org/brk/stp/d/50-cent-at-highline-ballroom/6304688280.html',\n",
       "  'links': [{'href': u'https://newyork.craigslist.org/brk/stp/d/50-cent-at-highline-ballroom/6304688280.html',\n",
       "    'rel': u'alternate',\n",
       "    'type': u'text/html'}],\n",
       "  'published': u'2017-09-19T00:38:03-04:00',\n",
       "  'published_parsed': time.struct_time(tm_year=2017, tm_mon=9, tm_mday=19, tm_hour=4, tm_min=38, tm_sec=3, tm_wday=1, tm_yday=262, tm_isdst=0),\n",
       "  'rights': u'copyright 2017 craiglist',\n",
       "  'rights_detail': {'base': u'https://newyork.craigslist.org/search/stp?format=rss',\n",
       "   'language': None,\n",
       "   'type': u'text/plain',\n",
       "   'value': u'copyright 2017 craiglist'},\n",
       "  'summary': u\"well, as the title says 50 cent will be at the highlinr ballroom. i am looking for a cool person to go to the event with. I don't care about your weight,race. Just be over 21 and have your own money. i will not be paying for anything for you.we are a ...\",\n",
       "  'summary_detail': {'base': u'https://newyork.craigslist.org/search/stp?format=rss',\n",
       "   'language': None,\n",
       "   'type': u'text/html',\n",
       "   'value': u\"well, as the title says 50 cent will be at the highlinr ballroom. i am looking for a cool person to go to the event with. I don't care about your weight,race. Just be over 21 and have your own money. i will not be paying for anything for you.we are a ...\"},\n",
       "  'title': u'50 cent at highline ballroom 9/30 - w4w (brooklyn)',\n",
       "  'title_detail': {'base': u'https://newyork.craigslist.org/search/stp?format=rss',\n",
       "   'language': None,\n",
       "   'type': u'text/plain',\n",
       "   'value': u'50 cent at highline ballroom 9/30 - w4w (brooklyn)'},\n",
       "  'updated': u'2017-09-19T00:38:03-04:00',\n",
       "  'updated_parsed': time.struct_time(tm_year=2017, tm_mon=9, tm_mday=19, tm_hour=4, tm_min=38, tm_sec=3, tm_wday=1, tm_yday=262, tm_isdst=0)},\n",
       " {'dc_source': u'https://newyork.craigslist.org/brk/stp/d/walking-partner-prospect-park/6308096878.html',\n",
       "  'dc_type': u'text',\n",
       "  'id': u'https://newyork.craigslist.org/brk/stp/d/walking-partner-prospect-park/6308096878.html',\n",
       "  'language': u'en-us',\n",
       "  'link': u'https://newyork.craigslist.org/brk/stp/d/walking-partner-prospect-park/6308096878.html',\n",
       "  'links': [{'href': u'https://newyork.craigslist.org/brk/stp/d/walking-partner-prospect-park/6308096878.html',\n",
       "    'rel': u'alternate',\n",
       "    'type': u'text/html'}],\n",
       "  'published': u'2017-09-19T00:37:39-04:00',\n",
       "  'published_parsed': time.struct_time(tm_year=2017, tm_mon=9, tm_mday=19, tm_hour=4, tm_min=37, tm_sec=39, tm_wday=1, tm_yday=262, tm_isdst=0),\n",
       "  'rights': u'copyright 2017 craiglist',\n",
       "  'rights_detail': {'base': u'https://newyork.craigslist.org/search/stp?format=rss',\n",
       "   'language': None,\n",
       "   'type': u'text/plain',\n",
       "   'value': u'copyright 2017 craiglist'},\n",
       "  'summary': u'I\\'m looking for a walking partner in prospect park. I figured it would be more fun/safer if I had a partner. I\\'m a small bbw size 18. Want to lose at least 20 pounds to start. I\\'m short 5\"3. just looking to get down to a more healthy weight for my he ...',\n",
       "  'summary_detail': {'base': u'https://newyork.craigslist.org/search/stp?format=rss',\n",
       "   'language': None,\n",
       "   'type': u'text/html',\n",
       "   'value': u'I\\'m looking for a walking partner in prospect park. I figured it would be more fun/safer if I had a partner. I\\'m a small bbw size 18. Want to lose at least 20 pounds to start. I\\'m short 5\"3. just looking to get down to a more healthy weight for my he ...'},\n",
       "  'title': u'Walking partner prospect park - w4w (Flatbush)',\n",
       "  'title_detail': {'base': u'https://newyork.craigslist.org/search/stp?format=rss',\n",
       "   'language': None,\n",
       "   'type': u'text/plain',\n",
       "   'value': u'Walking partner prospect park - w4w (Flatbush)'},\n",
       "  'updated': u'2017-09-19T00:37:39-04:00',\n",
       "  'updated_parsed': time.struct_time(tm_year=2017, tm_mon=9, tm_mday=19, tm_hour=4, tm_min=37, tm_sec=39, tm_wday=1, tm_yday=262, tm_isdst=0)},\n",
       " {'dc_source': u'https://newyork.craigslist.org/lgi/stp/d/free-erotic-massage-m4w/6297356927.html',\n",
       "  'dc_type': u'text',\n",
       "  'id': u'https://newyork.craigslist.org/lgi/stp/d/free-erotic-massage-m4w/6297356927.html',\n",
       "  'language': u'en-us',\n",
       "  'link': u'https://newyork.craigslist.org/lgi/stp/d/free-erotic-massage-m4w/6297356927.html',\n",
       "  'links': [{'href': u'https://newyork.craigslist.org/lgi/stp/d/free-erotic-massage-m4w/6297356927.html',\n",
       "    'rel': u'alternate',\n",
       "    'type': u'text/html'}],\n",
       "  'published': u'2017-09-19T00:31:02-04:00',\n",
       "  'published_parsed': time.struct_time(tm_year=2017, tm_mon=9, tm_mday=19, tm_hour=4, tm_min=31, tm_sec=2, tm_wday=1, tm_yday=262, tm_isdst=0),\n",
       "  'rights': u'copyright 2017 craiglist',\n",
       "  'rights_detail': {'base': u'https://newyork.craigslist.org/search/stp?format=rss',\n",
       "   'language': None,\n",
       "   'type': u'text/plain',\n",
       "   'value': u'copyright 2017 craiglist'},\n",
       "  'summary': u'HI have you ever thought about having a really great full body rubdown - now is your chance to give it a try - I need to practice newly learned massage techniques - and you can benefit by getting a free massage.. I come to you so you can relax and en ...',\n",
       "  'summary_detail': {'base': u'https://newyork.craigslist.org/search/stp?format=rss',\n",
       "   'language': None,\n",
       "   'type': u'text/html',\n",
       "   'value': u'HI have you ever thought about having a really great full body rubdown - now is your chance to give it a try - I need to practice newly learned massage techniques - and you can benefit by getting a free massage.. I come to you so you can relax and en ...'},\n",
       "  'title': u'Free Erotic Massage - m4w',\n",
       "  'title_detail': {'base': u'https://newyork.craigslist.org/search/stp?format=rss',\n",
       "   'language': None,\n",
       "   'type': u'text/plain',\n",
       "   'value': u'Free Erotic Massage - m4w'},\n",
       "  'updated': u'2017-09-19T00:31:02-04:00',\n",
       "  'updated_parsed': time.struct_time(tm_year=2017, tm_mon=9, tm_mday=19, tm_hour=4, tm_min=31, tm_sec=2, tm_wday=1, tm_yday=262, tm_isdst=0)},\n",
       " {'dc_source': u'https://newyork.craigslist.org/mnh/stp/d/creampie-delicious-squirting/6278527702.html',\n",
       "  'dc_type': u'text',\n",
       "  'enc_enclosure': {'resource': u'https://images.craigslist.org/00303_esaIe1LZOFt_300x300.jpg',\n",
       "   'type': u'image/jpeg'},\n",
       "  'id': u'https://newyork.craigslist.org/mnh/stp/d/creampie-delicious-squirting/6278527702.html',\n",
       "  'language': u'en-us',\n",
       "  'link': u'https://newyork.craigslist.org/mnh/stp/d/creampie-delicious-squirting/6278527702.html',\n",
       "  'links': [{'href': u'https://newyork.craigslist.org/mnh/stp/d/creampie-delicious-squirting/6278527702.html',\n",
       "    'rel': u'alternate',\n",
       "    'type': u'text/html'}],\n",
       "  'published': u'2017-09-19T00:21:18-04:00',\n",
       "  'published_parsed': time.struct_time(tm_year=2017, tm_mon=9, tm_mday=19, tm_hour=4, tm_min=21, tm_sec=18, tm_wday=1, tm_yday=262, tm_isdst=0),\n",
       "  'rights': u'copyright 2017 craiglist',\n",
       "  'rights_detail': {'base': u'https://newyork.craigslist.org/search/stp?format=rss',\n",
       "   'language': None,\n",
       "   'type': u'text/plain',\n",
       "   'value': u'copyright 2017 craiglist'},\n",
       "  'summary': u\"Please send me a message on kik if you're interested : honeyraexo &lt;------- \\n* DO NOT MESSAGE ME IF YOU ARE NOT BUYING* \\n* I DO NOT TRADE PHOTOS OR SEND ANYTHING FOR FREE* \\n* I DO NOT MEET UP OR MAKE VIDEOS . PLEASE STOP ASKING. \\nLove girls playing ...\",\n",
       "  'summary_detail': {'base': u'https://newyork.craigslist.org/search/stp?format=rss',\n",
       "   'language': None,\n",
       "   'type': u'text/html',\n",
       "   'value': u\"Please send me a message on kik if you're interested : honeyraexo &lt;------- \\n* DO NOT MESSAGE ME IF YOU ARE NOT BUYING* \\n* I DO NOT TRADE PHOTOS OR SEND ANYTHING FOR FREE* \\n* I DO NOT MEET UP OR MAKE VIDEOS . PLEASE STOP ASKING. \\nLove girls playing ...\"},\n",
       "  'title': u'Creampie delicious squirting hot milf selllling my s e x a n al videos (TriBeCa)',\n",
       "  'title_detail': {'base': u'https://newyork.craigslist.org/search/stp?format=rss',\n",
       "   'language': None,\n",
       "   'type': u'text/plain',\n",
       "   'value': u'Creampie delicious squirting hot milf selllling my s e x a n al videos (TriBeCa)'},\n",
       "  'updated': u'2017-09-19T00:21:18-04:00',\n",
       "  'updated_parsed': time.struct_time(tm_year=2017, tm_mon=9, tm_mday=19, tm_hour=4, tm_min=21, tm_sec=18, tm_wday=1, tm_yday=262, tm_isdst=0)},\n",
       " {'dc_source': u'https://newyork.craigslist.org/lgi/stp/d/free-full-body-massage-m4w/6293375388.html',\n",
       "  'dc_type': u'text',\n",
       "  'id': u'https://newyork.craigslist.org/lgi/stp/d/free-full-body-massage-m4w/6293375388.html',\n",
       "  'language': u'en-us',\n",
       "  'link': u'https://newyork.craigslist.org/lgi/stp/d/free-full-body-massage-m4w/6293375388.html',\n",
       "  'links': [{'href': u'https://newyork.craigslist.org/lgi/stp/d/free-full-body-massage-m4w/6293375388.html',\n",
       "    'rel': u'alternate',\n",
       "    'type': u'text/html'}],\n",
       "  'published': u'2017-09-19T00:14:12-04:00',\n",
       "  'published_parsed': time.struct_time(tm_year=2017, tm_mon=9, tm_mday=19, tm_hour=4, tm_min=14, tm_sec=12, tm_wday=1, tm_yday=262, tm_isdst=0),\n",
       "  'rights': u'copyright 2017 craiglist',\n",
       "  'rights_detail': {'base': u'https://newyork.craigslist.org/search/stp?format=rss',\n",
       "   'language': None,\n",
       "   'type': u'text/plain',\n",
       "   'value': u'copyright 2017 craiglist'},\n",
       "  'summary': u'take a break from day to day stress and strain - let me come over to you and give you a very relaxing full body rubdown with my special oral technique that will release you built up stress.. - there no charge ever for the session... \\nemail me back fo ...',\n",
       "  'summary_detail': {'base': u'https://newyork.craigslist.org/search/stp?format=rss',\n",
       "   'language': None,\n",
       "   'type': u'text/html',\n",
       "   'value': u'take a break from day to day stress and strain - let me come over to you and give you a very relaxing full body rubdown with my special oral technique that will release you built up stress.. - there no charge ever for the session... \\nemail me back fo ...'},\n",
       "  'title': u'Free Full Body Massage - m4w',\n",
       "  'title_detail': {'base': u'https://newyork.craigslist.org/search/stp?format=rss',\n",
       "   'language': None,\n",
       "   'type': u'text/plain',\n",
       "   'value': u'Free Full Body Massage - m4w'},\n",
       "  'updated': u'2017-09-19T00:14:12-04:00',\n",
       "  'updated_parsed': time.struct_time(tm_year=2017, tm_mon=9, tm_mday=19, tm_hour=4, tm_min=14, tm_sec=12, tm_wday=1, tm_yday=262, tm_isdst=0)},\n",
       " {'dc_source': u'https://newyork.craigslist.org/mnh/stp/d/designer-shopping-ww4m/6311853024.html',\n",
       "  'dc_type': u'text',\n",
       "  'id': u'https://newyork.craigslist.org/mnh/stp/d/designer-shopping-ww4m/6311853024.html',\n",
       "  'language': u'en-us',\n",
       "  'link': u'https://newyork.craigslist.org/mnh/stp/d/designer-shopping-ww4m/6311853024.html',\n",
       "  'links': [{'href': u'https://newyork.craigslist.org/mnh/stp/d/designer-shopping-ww4m/6311853024.html',\n",
       "    'rel': u'alternate',\n",
       "    'type': u'text/html'}],\n",
       "  'published': u'2017-09-18T23:58:27-04:00',\n",
       "  'published_parsed': time.struct_time(tm_year=2017, tm_mon=9, tm_mday=19, tm_hour=3, tm_min=58, tm_sec=27, tm_wday=1, tm_yday=262, tm_isdst=0),\n",
       "  'rights': u'copyright 2017 craiglist',\n",
       "  'rights_detail': {'base': u'https://newyork.craigslist.org/search/stp?format=rss',\n",
       "   'language': None,\n",
       "   'type': u'text/plain',\n",
       "   'value': u'copyright 2017 craiglist'},\n",
       "  'summary': u'Hi! We are two young college girls looking for a gentleman to take us designer shopping. Our favorite area is Soho and some of our favorite shops include Louis Vuitton, Gucci, Barneys and Sephora. We are a duo, contact us for pics and more informatio ...',\n",
       "  'summary_detail': {'base': u'https://newyork.craigslist.org/search/stp?format=rss',\n",
       "   'language': None,\n",
       "   'type': u'text/html',\n",
       "   'value': u'Hi! We are two young college girls looking for a gentleman to take us designer shopping. Our favorite area is Soho and some of our favorite shops include Louis Vuitton, Gucci, Barneys and Sephora. We are a duo, contact us for pics and more informatio ...'},\n",
       "  'title': u'Designer Shopping - ww4m (East Village)',\n",
       "  'title_detail': {'base': u'https://newyork.craigslist.org/search/stp?format=rss',\n",
       "   'language': None,\n",
       "   'type': u'text/plain',\n",
       "   'value': u'Designer Shopping - ww4m (East Village)'},\n",
       "  'updated': u'2017-09-18T23:58:27-04:00',\n",
       "  'updated_parsed': time.struct_time(tm_year=2017, tm_mon=9, tm_mday=19, tm_hour=3, tm_min=58, tm_sec=27, tm_wday=1, tm_yday=262, tm_isdst=0)},\n",
       " {'dc_source': u'https://newyork.craigslist.org/lgi/stp/d/sock-play-tonight-anyone-m4mm/6311828363.html',\n",
       "  'dc_type': u'text',\n",
       "  'id': u'https://newyork.craigslist.org/lgi/stp/d/sock-play-tonight-anyone-m4mm/6311828363.html',\n",
       "  'language': u'en-us',\n",
       "  'link': u'https://newyork.craigslist.org/lgi/stp/d/sock-play-tonight-anyone-m4mm/6311828363.html',\n",
       "  'links': [{'href': u'https://newyork.craigslist.org/lgi/stp/d/sock-play-tonight-anyone-m4mm/6311828363.html',\n",
       "    'rel': u'alternate',\n",
       "    'type': u'text/html'}],\n",
       "  'published': u'2017-09-18T23:56:59-04:00',\n",
       "  'published_parsed': time.struct_time(tm_year=2017, tm_mon=9, tm_mday=19, tm_hour=3, tm_min=56, tm_sec=59, tm_wday=1, tm_yday=262, tm_isdst=0),\n",
       "  'rights': u'copyright 2017 craiglist',\n",
       "  'rights_detail': {'base': u'https://newyork.craigslist.org/search/stp?format=rss',\n",
       "   'language': None,\n",
       "   'type': u'text/plain',\n",
       "   'value': u'copyright 2017 craiglist'},\n",
       "  'summary': u'Looking for guys into white tube socks and sneakers. \\nAGES: 18-30 years old ONLY (DO NOT SUBMIT IF YOU ARE OLDER THAN 30) \\nHosting tonight at a motel at 630pm. If interested, hit me up with two pics and foot size and we will have some fun. \\nFOR TONIG ...',\n",
       "  'summary_detail': {'base': u'https://newyork.craigslist.org/search/stp?format=rss',\n",
       "   'language': None,\n",
       "   'type': u'text/html',\n",
       "   'value': u'Looking for guys into white tube socks and sneakers. \\nAGES: 18-30 years old ONLY (DO NOT SUBMIT IF YOU ARE OLDER THAN 30) \\nHosting tonight at a motel at 630pm. If interested, hit me up with two pics and foot size and we will have some fun. \\nFOR TONIG ...'},\n",
       "  'title': u'Sock play tonight anyone - m4mm (Nassau County, Long Island)',\n",
       "  'title_detail': {'base': u'https://newyork.craigslist.org/search/stp?format=rss',\n",
       "   'language': None,\n",
       "   'type': u'text/plain',\n",
       "   'value': u'Sock play tonight anyone - m4mm (Nassau County, Long Island)'},\n",
       "  'updated': u'2017-09-18T23:56:59-04:00',\n",
       "  'updated_parsed': time.struct_time(tm_year=2017, tm_mon=9, tm_mday=19, tm_hour=3, tm_min=56, tm_sec=59, tm_wday=1, tm_yday=262, tm_isdst=0)}]"
      ]
     },
     "execution_count": 133,
     "metadata": {},
     "output_type": "execute_result"
    }
   ],
   "source": [
    "ny['entries']"
   ]
  },
  {
   "cell_type": "code",
   "execution_count": 135,
   "metadata": {},
   "outputs": [
    {
     "data": {
      "text/plain": [
       "25"
      ]
     },
     "execution_count": 135,
     "metadata": {},
     "output_type": "execute_result"
    }
   ],
   "source": [
    "len(ny['entries'])"
   ]
  },
  {
   "cell_type": "markdown",
   "metadata": {},
   "source": [
    "rss feeds를 파싱"
   ]
  },
  {
   "cell_type": "raw",
   "metadata": {},
   "source": [
    "def localWords(feed1,feed0):\n",
    "    import feedparser\n",
    "    docList=[]; classList = []; fullText =[]\n",
    "    minLen = min(len(feed1['entries']),len(feed0['entries']))\n",
    "    \n",
    "    for i in range(minLen):\n",
    "        wordList = textParse(feed1['entries'][i]['summary'])\n",
    "        docList.append(wordList)\n",
    "        fullText.extend(wordList)\n",
    "        classList.append(1) #NY is class 1\n",
    "        wordList = textParse(feed0['entries'][i]['summary'])\n",
    "        docList.append(wordList)\n",
    "        fullText.extend(wordList)\n",
    "        classList.append(0)\n",
    "    vocabList = createVocabList(docList)#create vocabulary\n",
    "    top30Words = calcMostFreq(vocabList,fullText)   #remove top 30 words\n",
    "    for pairW in top30Words:\n",
    "        if pairW[0] in vocabList: vocabList.remove(pairW[0])\n",
    "    trainingSet = range(2*minLen); testSet=[]           #create test set\n",
    "    for i in range(20):\n",
    "        randIndex = int(random.uniform(0,len(trainingSet)))\n",
    "        testSet.append(trainingSet[randIndex])\n",
    "        del(trainingSet[randIndex])  \n",
    "    trainMat=[]; trainClasses = []\n",
    "    for docIndex in trainingSet:#train the classifier (get probs) trainNB0\n",
    "        trainMat.append(bagOfWords2VecMN(vocabList, docList[docIndex]))\n",
    "        trainClasses.append(classList[docIndex])\n",
    "    p0V,p1V,pSpam = trainNB0(array(trainMat),array(trainClasses))\n",
    "    errorCount = 0\n",
    "    for docIndex in testSet:        #classify the remaining items\n",
    "        wordVector = bagOfWords2VecMN(vocabList, docList[docIndex])\n",
    "        if classifyNB(array(wordVector),p0V,p1V,pSpam) != classList[docIndex]:\n",
    "            errorCount += 1\n",
    "    print 'the error rate is: ',float(errorCount)/len(testSet)\n",
    "    return vocabList,p0V,p1V"
   ]
  },
  {
   "cell_type": "raw",
   "metadata": {},
   "source": [
    "min\n"
   ]
  },
  {
   "cell_type": "code",
   "execution_count": 136,
   "metadata": {},
   "outputs": [
    {
     "data": {
      "text/plain": [
       "u\"average guy seeking a cool female friend that I can chat with laugh bug out and just be ourselves around each other. Someone who has a good head on a shoulders that's funny mature and cool to hang with it doesnt matter what borough you're from just b ...\""
      ]
     },
     "execution_count": 136,
     "metadata": {},
     "output_type": "execute_result"
    }
   ],
   "source": [
    "ny['entries'][0]['summary']"
   ]
  },
  {
   "cell_type": "code",
   "execution_count": 137,
   "metadata": {},
   "outputs": [
    {
     "data": {
      "text/plain": [
       "u\"Looking for Commitment - Let's Get Married!!! \\nDon't Spend Another Day as a Single Woman! \\nLet's see what we can do about that! \\nI'm NOT looking for a one night'er or a fling, but rather a meaningful relationship. \\nBased on Openness, Trust and Honest ...\""
      ]
     },
     "execution_count": 137,
     "metadata": {},
     "output_type": "execute_result"
    }
   ],
   "source": [
    "ny['entries'][1]['summary']"
   ]
  },
  {
   "cell_type": "code",
   "execution_count": 142,
   "metadata": {
    "collapsed": true
   },
   "outputs": [],
   "source": [
    "ny = feedparser.parse(\n",
    "    'https://newyork.craigslist.org/stp/index.rss')\n",
    "sf = feedparser.parse(\n",
    "    'https://sfbay.craigslist.org/stp/index.rss')"
   ]
  },
  {
   "cell_type": "code",
   "execution_count": 144,
   "metadata": {},
   "outputs": [
    {
     "name": "stdout",
     "output_type": "stream",
     "text": [
      "porb. of abusive: 0.533333333333\n",
      "the error rate is:  0.25\n"
     ]
    }
   ],
   "source": [
    "vocabList, pSF, pNY = bayes.localWords(ny, sf)"
   ]
  },
  {
   "cell_type": "code",
   "execution_count": 141,
   "metadata": {},
   "outputs": [
    {
     "data": {
      "text/plain": [
       "(25, 25)"
      ]
     },
     "execution_count": 141,
     "metadata": {},
     "output_type": "execute_result"
    }
   ],
   "source": [
    "len(ny['entries']), len(sf['entries'])"
   ]
  },
  {
   "cell_type": "code",
   "execution_count": 145,
   "metadata": {
    "collapsed": true
   },
   "outputs": [
    {
     "data": {
      "text/plain": [
       "[u'newbie',\n",
       " u'asian',\n",
       " u'skin',\n",
       " u'alw',\n",
       " u'someplace',\n",
       " u'buddy',\n",
       " u'technique',\n",
       " u'young',\n",
       " u'send',\n",
       " u'charge',\n",
       " u'passion',\n",
       " u'conversating',\n",
       " u'friendly',\n",
       " u'brown',\n",
       " u'woman',\n",
       " u'jerk',\n",
       " u'egyptian',\n",
       " u'very',\n",
       " u'confounding',\n",
       " u'every',\n",
       " u'bestie',\n",
       " u'drinking',\n",
       " u'cool',\n",
       " u'did',\n",
       " u'gender',\n",
       " u'accidentally',\n",
       " u'standards',\n",
       " u'try',\n",
       " u'discrete',\n",
       " u'race',\n",
       " u'small',\n",
       " u'enjoy',\n",
       " u'says',\n",
       " u'hanging',\n",
       " u'erotic',\n",
       " u'portfolio',\n",
       " u'shiatsu',\n",
       " u'drinks',\n",
       " u'even',\n",
       " u'what',\n",
       " u'giving',\n",
       " u'sun',\n",
       " u'while',\n",
       " u'lights',\n",
       " u'new',\n",
       " u'learned',\n",
       " u'ever',\n",
       " u'told',\n",
       " u'full',\n",
       " u'shoreline',\n",
       " u'exchange',\n",
       " u'men',\n",
       " u'here',\n",
       " u'hours',\n",
       " u'shouldn',\n",
       " u'let',\n",
       " u'sexy',\n",
       " u'safer',\n",
       " u'great',\n",
       " u'kids',\n",
       " u'healthy',\n",
       " u'wherever',\n",
       " u'pics',\n",
       " u'social',\n",
       " u'existent',\n",
       " u'massage',\n",
       " u'family',\n",
       " u'prefer',\n",
       " u'private',\n",
       " u'wit',\n",
       " u'husbands',\n",
       " u'strrings',\n",
       " u'use',\n",
       " u'takes',\n",
       " u'lickking',\n",
       " u'two',\n",
       " u'37yr',\n",
       " u'few',\n",
       " u'type',\n",
       " u'separated',\n",
       " u'females',\n",
       " u'relax',\n",
       " u'phone',\n",
       " u'women',\n",
       " u'high',\n",
       " u'include',\n",
       " u'room',\n",
       " u'hour',\n",
       " u'this',\n",
       " u'ride',\n",
       " u'work',\n",
       " u'movies',\n",
       " u'cuddle',\n",
       " u'meet',\n",
       " u'male',\n",
       " u'spontaneous',\n",
       " u'orral',\n",
       " u'topic',\n",
       " u'minimum',\n",
       " u'something',\n",
       " u'want',\n",
       " u'lacks',\n",
       " u'court',\n",
       " u'sit',\n",
       " u'rather',\n",
       " u'six',\n",
       " u'how',\n",
       " u'hou',\n",
       " u'possibly',\n",
       " u'swore',\n",
       " u'designer',\n",
       " u'beauty',\n",
       " u'may',\n",
       " u'watch',\n",
       " u'after',\n",
       " u'adventure',\n",
       " u'such',\n",
       " u'suck',\n",
       " u'meaningful',\n",
       " u'man',\n",
       " u'stress',\n",
       " u'short',\n",
       " u'maybe',\n",
       " u'african',\n",
       " u'pleasure',\n",
       " u'playing',\n",
       " u'talk',\n",
       " u'wine',\n",
       " u'cute',\n",
       " u'help',\n",
       " u'over',\n",
       " u'looki',\n",
       " u'still',\n",
       " u'its',\n",
       " u'perfect',\n",
       " u'group',\n",
       " u'better',\n",
       " u'occasionally',\n",
       " u'hobby',\n",
       " u'might',\n",
       " u'into',\n",
       " u'then',\n",
       " u'them',\n",
       " u'good',\n",
       " u'tonig',\n",
       " u'fling',\n",
       " u'practice',\n",
       " u'break',\n",
       " u'they',\n",
       " u'indulge',\n",
       " u'now',\n",
       " u'easily',\n",
       " u'name',\n",
       " u'always',\n",
       " u'didn',\n",
       " u'each',\n",
       " u'friendship',\n",
       " u'weight',\n",
       " u'doing',\n",
       " u'hard',\n",
       " u'related',\n",
       " u'society',\n",
       " u'our',\n",
       " u'girl',\n",
       " u'36dd',\n",
       " u'event',\n",
       " u'special',\n",
       " u'attend',\n",
       " u'motel',\n",
       " u'weeekend',\n",
       " u'rubdown',\n",
       " u'mess',\n",
       " u'hangouts',\n",
       " u'got',\n",
       " u'newly',\n",
       " u'receiving',\n",
       " u'shows',\n",
       " u'free',\n",
       " u'struggle',\n",
       " u'imagine',\n",
       " u'put',\n",
       " u'teach',\n",
       " u'wanted',\n",
       " u'care',\n",
       " u'definition',\n",
       " u'could',\n",
       " u'times',\n",
       " u'american',\n",
       " u'place',\n",
       " u'eatting',\n",
       " u'loud',\n",
       " u'think',\n",
       " u'first',\n",
       " u'feel',\n",
       " u'yourself',\n",
       " u'feet',\n",
       " u'long',\n",
       " u'another',\n",
       " u'thick',\n",
       " u'tomorrow',\n",
       " u'size',\n",
       " u'little',\n",
       " u'start',\n",
       " u'families',\n",
       " u'twenty',\n",
       " u'top',\n",
       " u'girls',\n",
       " u'least',\n",
       " u'anyone',\n",
       " u'their',\n",
       " u'too',\n",
       " u'white',\n",
       " u'legs',\n",
       " u'friend',\n",
       " u'inner',\n",
       " u'eyes',\n",
       " u'relationship',\n",
       " u'foreplay',\n",
       " u'hotel',\n",
       " u'park',\n",
       " u'believe',\n",
       " u'herself',\n",
       " u'than',\n",
       " u'boyfriend',\n",
       " u'grocery',\n",
       " u'unfortunately',\n",
       " u'boring',\n",
       " u'matter',\n",
       " u'thhongs',\n",
       " u'marriage',\n",
       " u'loves',\n",
       " u'were',\n",
       " u'look',\n",
       " u'suspicious',\n",
       " u'ages',\n",
       " u'tonight',\n",
       " u'talking',\n",
       " u'say',\n",
       " u'need',\n",
       " u'borough',\n",
       " u'any',\n",
       " u'sensual',\n",
       " u'built',\n",
       " u'dishes',\n",
       " u'able',\n",
       " u'also',\n",
       " u'take',\n",
       " u'finding',\n",
       " u'wanting',\n",
       " u'seductive',\n",
       " u'hello',\n",
       " u'sure',\n",
       " u'serviced',\n",
       " u'most',\n",
       " u'but',\n",
       " u'tall',\n",
       " u'queens',\n",
       " u'don',\n",
       " u'garments',\n",
       " u'considered',\n",
       " u'average',\n",
       " u'disease',\n",
       " u'face',\n",
       " u'judgmental',\n",
       " u'soho',\n",
       " u'clean',\n",
       " u'movie',\n",
       " u'hear',\n",
       " u'cuddled',\n",
       " u'walking',\n",
       " u'cheat',\n",
       " u'please',\n",
       " u'session',\n",
       " u'bedroom',\n",
       " u'earth',\n",
       " u'find',\n",
       " u'one',\n",
       " u'busy',\n",
       " u'based',\n",
       " u'nice',\n",
       " u'title',\n",
       " u'situations',\n",
       " u'only',\n",
       " u'going',\n",
       " u'black',\n",
       " u'pretty',\n",
       " u'hope',\n",
       " u'wearing',\n",
       " u'his',\n",
       " u'hit',\n",
       " u'get',\n",
       " u'photography',\n",
       " u'hopefully',\n",
       " u'stop',\n",
       " u'feels',\n",
       " u'cannot',\n",
       " u'reply',\n",
       " u'during',\n",
       " u'barneys',\n",
       " u'him',\n",
       " u'runs',\n",
       " u'spots',\n",
       " u'married',\n",
       " u'bay',\n",
       " u'bad',\n",
       " u'stuff',\n",
       " u'she',\n",
       " u'release',\n",
       " u'husband',\n",
       " u'view',\n",
       " u'ballroom',\n",
       " u'sex',\n",
       " u'see',\n",
       " u'individual',\n",
       " u'college',\n",
       " u'techniques',\n",
       " u'said',\n",
       " u'ways',\n",
       " u'pictures',\n",
       " u'gentleman',\n",
       " u'horny',\n",
       " u'outside',\n",
       " u'between',\n",
       " u'reading',\n",
       " u'email',\n",
       " u'screen',\n",
       " u'attention',\n",
       " u'subject',\n",
       " u'coffee',\n",
       " u'key',\n",
       " u'modeling',\n",
       " u'come',\n",
       " u'figured',\n",
       " u'limits',\n",
       " u'many',\n",
       " u'taking',\n",
       " u'etc',\n",
       " u'became',\n",
       " u'asked',\n",
       " u'comes',\n",
       " u'prospect',\n",
       " u'afterwards',\n",
       " u'point',\n",
       " u'whatever',\n",
       " u'laugh',\n",
       " u'path',\n",
       " u'openness',\n",
       " u'blonde',\n",
       " u'trust',\n",
       " u'ourselves',\n",
       " u'arts',\n",
       " u'pocketbook',\n",
       " u'been',\n",
       " u'honeyraexo',\n",
       " u'much',\n",
       " u'bbw',\n",
       " u'wants',\n",
       " u'shoulders',\n",
       " u'630pm',\n",
       " u'shopping',\n",
       " u'relaxing',\n",
       " u'drugs',\n",
       " u'photos',\n",
       " u'puerto',\n",
       " u'fellow',\n",
       " u'volunteer',\n",
       " u'case',\n",
       " u'informatio',\n",
       " u'crowds',\n",
       " u'gucci',\n",
       " u'hates',\n",
       " u'fun',\n",
       " u'shops',\n",
       " u'almost',\n",
       " u'non',\n",
       " u'strain',\n",
       " u'ready',\n",
       " u'partner',\n",
       " u'trade',\n",
       " u'spaces',\n",
       " u'funny',\n",
       " u'different',\n",
       " u'paying',\n",
       " u'perhaps',\n",
       " u'pay',\n",
       " u'make',\n",
       " u'seeking',\n",
       " u'same',\n",
       " u'firearms',\n",
       " u'advise',\n",
       " u'gets',\n",
       " u'week',\n",
       " u'libido',\n",
       " u'drink',\n",
       " u'hang',\n",
       " u'hand',\n",
       " u'kik',\n",
       " u'louis',\n",
       " u'keep',\n",
       " u'safe',\n",
       " u'off',\n",
       " u'older',\n",
       " u'well',\n",
       " u'smoker',\n",
       " u'thought',\n",
       " u'person',\n",
       " u'contact',\n",
       " u'model',\n",
       " u'hubby',\n",
       " u'spend',\n",
       " u'know',\n",
       " u'things',\n",
       " u'less',\n",
       " u'being',\n",
       " u'money',\n",
       " u'sporting',\n",
       " u'foot',\n",
       " u'years',\n",
       " u'guys',\n",
       " u'weekly',\n",
       " u'blow',\n",
       " u'dining',\n",
       " u'pleasuring',\n",
       " u'womans',\n",
       " u'had',\n",
       " u'except',\n",
       " u'other',\n",
       " u'has',\n",
       " u'kick',\n",
       " u'real',\n",
       " u'around',\n",
       " u'big',\n",
       " u'honest',\n",
       " u'matters',\n",
       " u'discreet',\n",
       " u'desi',\n",
       " u'sephora',\n",
       " u'lady',\n",
       " u'panties',\n",
       " u'lost',\n",
       " u'pounds',\n",
       " u'message',\n",
       " u'buddies',\n",
       " u'benefit',\n",
       " u'night',\n",
       " u'kingsman',\n",
       " u'works',\n",
       " u'nude',\n",
       " u'because',\n",
       " u'old',\n",
       " u'deal',\n",
       " u'pals',\n",
       " u'some',\n",
       " u'back',\n",
       " u'hair',\n",
       " u'martial',\n",
       " u'hassle',\n",
       " u'highlinr',\n",
       " u'duration',\n",
       " u'rican',\n",
       " u'heartache',\n",
       " u'tube',\n",
       " u'pen',\n",
       " u'asking',\n",
       " u'sneakers',\n",
       " u'dating',\n",
       " u'business',\n",
       " u'asap',\n",
       " u'rub',\n",
       " u'lose',\n",
       " u'host',\n",
       " u'exciting',\n",
       " u'super',\n",
       " u'vuitton',\n",
       " u'anything',\n",
       " u'getting',\n",
       " u'duo',\n",
       " u'favorite',\n",
       " u'drama',\n",
       " u'range',\n",
       " u'plus',\n",
       " u'afternoon',\n",
       " u'mixed',\n",
       " u'road',\n",
       " u'ladies',\n",
       " u'own',\n",
       " u'nsa',\n",
       " u'image',\n",
       " u'commitment',\n",
       " u'socks',\n",
       " u'down',\n",
       " u'doesnt',\n",
       " u'cent',\n",
       " u'female',\n",
       " u'sports',\n",
       " u'your',\n",
       " u'lingerrie',\n",
       " u'her',\n",
       " u'area',\n",
       " u'there',\n",
       " u'hey',\n",
       " u'submit',\n",
       " u'strict',\n",
       " u'lonely',\n",
       " u'low',\n",
       " u'lot',\n",
       " u'was',\n",
       " u'happy',\n",
       " u'head',\n",
       " u'plunge',\n",
       " u'boyf',\n",
       " u'girlfriends',\n",
       " u'jus',\n",
       " u'link',\n",
       " u'line',\n",
       " u'bug',\n",
       " u'buying',\n",
       " u'handsome',\n",
       " u'info',\n",
       " u'videography',\n",
       " u'happen',\n",
       " u'attached',\n",
       " u'hosting',\n",
       " u'cursed',\n",
       " u'mature',\n",
       " u'cit',\n",
       " u'similar',\n",
       " u'called',\n",
       " u'videos',\n",
       " u'moved',\n",
       " u'life',\n",
       " u'doesn',\n",
       " u'drive',\n",
       " u'single',\n",
       " u'right',\n",
       " u'chat',\n",
       " u'door',\n",
       " u'shooting',\n",
       " u'nerd',\n",
       " u'abyss',\n",
       " u'when',\n",
       " u'thinks',\n",
       " u'interested',\n",
       " u'really',\n",
       " u'artistic',\n",
       " u'lend',\n",
       " u'problems',\n",
       " u'diet',\n",
       " u'chance',\n",
       " u'missed',\n",
       " u'longer',\n",
       " u'calls',\n",
       " u'wife',\n",
       " u'age',\n",
       " u'having',\n",
       " u'oral',\n",
       " u'noon']"
      ]
     },
     "execution_count": 145,
     "metadata": {},
     "output_type": "execute_result"
    }
   ],
   "source": [
    "vocabList"
   ]
  },
  {
   "cell_type": "code",
   "execution_count": 146,
   "metadata": {},
   "outputs": [
    {
     "data": {
      "text/plain": [
       "557"
      ]
     },
     "execution_count": 146,
     "metadata": {},
     "output_type": "execute_result"
    }
   ],
   "source": [
    "len(vocabList)"
   ]
  },
  {
   "cell_type": "code",
   "execution_count": 149,
   "metadata": {},
   "outputs": [
    {
     "data": {
      "text/plain": [
       "<module 'bayes' from 'bayes.py'>"
      ]
     },
     "execution_count": 149,
     "metadata": {},
     "output_type": "execute_result"
    },
    {
     "name": "stdout",
     "output_type": "stream",
     "text": [
      "porb. of abusive: 0.466666666667\n",
      "the error rate is:  0.3\n",
      "SF**SF**SF**SF**SF**SF**SF**SF**SF**SF**SF**SF**SF**SF**SF**SF**\n",
      "all\n",
      "love\n",
      "more\n",
      "this\n",
      "doing\n",
      "got\n",
      "long\n",
      "NY**NY**NY**NY**NY**NY**NY**NY**NY**NY**NY**NY**NY**NY**NY**NY**\n",
      "ever\n",
      "from\n",
      "stress\n",
      "but\n",
      "will\n",
      "old\n",
      "jerk\n",
      "body\n",
      "full\n",
      "give\n",
      "into\n",
      "rubdown\n",
      "size\n",
      "take\n",
      "come\n",
      "week\n",
      "off\n",
      "years\n",
      "guys\n",
      "like\n",
      "chat\n"
     ]
    }
   ],
   "source": [
    "reload(bayes)\n",
    "bayes.getTopWords(ny, sf)"
   ]
  },
  {
   "cell_type": "code",
   "execution_count": null,
   "metadata": {
    "collapsed": true
   },
   "outputs": [],
   "source": [
    "re"
   ]
  }
 ],
 "metadata": {
  "kernelspec": {
   "display_name": "Python 2",
   "language": "python",
   "name": "python2"
  },
  "language_info": {
   "codemirror_mode": {
    "name": "ipython",
    "version": 2
   },
   "file_extension": ".py",
   "mimetype": "text/x-python",
   "name": "python",
   "nbconvert_exporter": "python",
   "pygments_lexer": "ipython2",
   "version": "2.7.13"
  }
 },
 "nbformat": 4,
 "nbformat_minor": 2
}
