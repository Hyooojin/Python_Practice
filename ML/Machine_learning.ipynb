{
 "cells": [
  {
   "cell_type": "markdown",
   "metadata": {},
   "source": [
    "# 1 Machine learning basics"
   ]
  },
  {
   "cell_type": "markdown",
   "metadata": {},
   "source": [
    "# \"Machine learning is\"\n",
    "* https://en.wikipedia.org/wiki/Machine_learning <br/>\n",
    "\"computers the ability to learn without being explicitly programmed.\" - Arthur Samuel\n",
    "* https://www.sas.com/en_us/insights/analytics/machine-learning.html <br/>\n",
    "Machine learning is a method of data analysis that automates analytical model building.<br/>\n",
    "While many machine learning algorithms have been around for a long time, the ability to automatically apply complex mathematical calculations to big data – over and over, faster and faster – is a recent development. <br/>\n",
    "문제해결을 하기 위해 머신러닝을 이용하려고 하고 있다. \n",
    "* https://www.coursera.org/learn/machine-learning\n",
    "* \n",
    "* http://www.whydsp.org/237\n",
    "\n",
    "### 추천 강의\n",
    "* Machine Learning by Andrew Ng 과정을 수강신청하세요\n",
    "    * https://hunkim.github.io/ml/\n",
    "    * \n",
    "    *\n",
    "    \n",
    "* 김성훈 교수님의 강의 및 자료"
   ]
  },
  {
   "cell_type": "markdown",
   "metadata": {},
   "source": [
    "#### supervised learning\n",
    "* 정답이 있다. <br/>\n",
    "* upervised learning은 주어진 데이터의 label을 mapping하는 function을 찾는 문제이다. 이 경우 알고리즘은 얼마나 label을 정확하게 분류하느냐 혹은 정해진 loss function을 minimize시킬 수 있느냐에만 초점을 맞추어 모델을 learning하게 된다. \n",
    "#### unsupervised learning\n",
    "* Input만 존재\n",
    "* 수백수만개의 데이터 중에서 패턴 찾기에 유용\n",
    "#### semisupervised learning\n",
    "#### reinforcement learning\n",
    "* 로보틱스\n",
    "* 보상을 받는다. <br/>\n",
    "* supervised learning이나 unsupervised learning으로 풀 수 있을까? 데이터만 무한하게 있다면 가능할지도 모르지만 현실적으로는 그럴 수 없다는 것을 알 수 있다. 왜냐하면 (data, output)의 조합이 너무 많기 때문에 의미있는 learning을 할 수 있을 정도로 많은 데이터를 모을 수 없기 때문이다. \n",
    "http://sanghyukchun.github.io/76/"
   ]
  },
  {
   "cell_type": "markdown",
   "metadata": {},
   "source": [
    "#### Data mining\n",
    "#### Machine learning\n",
    "####  "
   ]
  },
  {
   "cell_type": "markdown",
   "metadata": {},
   "source": [
    "#### A Tour of Machine Learning Algorithms\n",
    "https://machinelearningmastery.com/a-tour-of-machine-learning-algorithms/ <br/>\n",
    "\n",
    "#### choosing the right estimator\n",
    "http://scikit-learn.org/stable/tutorial/machine_learning_map/index.html\n"
   ]
  },
  {
   "cell_type": "markdown",
   "metadata": {},
   "source": [
    "# 학습/개발 환경 준비\n",
    "(C:\\Anaconda3) C:\\Users\\IceMan>conda create --name m127 python=2.7 numpy ipython-notebook <br/>\n",
    ">>> 환경만들면서 패키지 설치 \n",
    "\n",
    "(C:\\Anaconda3) C:\\Users\\IceMan> activate ml27 <br/>\n",
    "(ml27) C:\\Users\\IceMan> cd 작업디렉토리 <br/>\n",
    "(ml27) 작업디렉토리 > jupyter notebook <br/>\n",
    "\n",
    "(C:\\Anaconda3) C:\\Users\\IceMan>conda create --name ml35 python=3.6 numpy ipython <br/>\n",
    "(C:\\Anaconda3) C:\\Users\\IceMan> activate ml36 \n"
   ]
  },
  {
   "cell_type": "code",
   "execution_count": null,
   "metadata": {
    "collapsed": true
   },
   "outputs": [],
   "source": []
  }
 ],
 "metadata": {
  "kernelspec": {
   "display_name": "Python 3",
   "language": "python",
   "name": "python3"
  },
  "language_info": {
   "codemirror_mode": {
    "name": "ipython",
    "version": 3
   },
   "file_extension": ".py",
   "mimetype": "text/x-python",
   "name": "python",
   "nbconvert_exporter": "python",
   "pygments_lexer": "ipython3",
   "version": "3.6.1"
  }
 },
 "nbformat": 4,
 "nbformat_minor": 2
}
