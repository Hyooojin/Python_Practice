{
 "cells": [
  {
   "cell_type": "markdown",
   "metadata": {},
   "source": [
    "#### <p style=\"color:Tomato\">codility<p/>\n",
    "#### <p style=\"color:Green\">Missinginteger<p/>"
   ]
  },
  {
   "cell_type": "code",
   "execution_count": 10,
   "metadata": {
    "collapsed": true
   },
   "outputs": [],
   "source": [
    "from IPython.core.interactiveshell import InteractiveShell\n",
    "InteractiveShell.ast_node_interactivity = 'all'"
   ]
  },
  {
   "cell_type": "markdown",
   "metadata": {},
   "source": [
    "<p style=\"color:gray\">if __name__ == '__main__':<p/>\n",
    "http://ibiblio.org/g2swap/byteofpython/read/module-name.html"
   ]
  },
  {
   "cell_type": "code",
   "execution_count": 39,
   "metadata": {
    "scrolled": true
   },
   "outputs": [
    {
     "data": {
      "text/plain": [
       "'Missinginteger\\nFind the smallest positive integer that does not occur in a given sequence\\n\\nWrite a function:\\n\\ndef solution(A)\\nthat, given an array A of N integers, returns the smallest positive integer (greater than 0) that does not occur in A.\\n\\nFor example, given A = [1, 3, 6, 4, 1, 2], the function should return 5.\\n\\nFor another example, given A = [1, 2, 3], the function should return 4.\\n\\nGiven A = [−1, −3], the function should return 1.\\n'"
      ]
     },
     "execution_count": 39,
     "metadata": {},
     "output_type": "execute_result"
    },
    {
     "name": "stdout",
     "output_type": "stream",
     "text": [
      "5\n",
      "4\n",
      "1\n"
     ]
    }
   ],
   "source": [
    "'''Missinginteger\n",
    "Find the smallest positive integer that does not occur in a given sequence\n",
    "\n",
    "Write a function:\n",
    "\n",
    "def solution(A)\n",
    "that, given an array A of N integers, returns the smallest positive integer (greater than 0) that does not occur in A.\n",
    "\n",
    "For example, given A = [1, 3, 6, 4, 1, 2], the function should return 5.\n",
    "\n",
    "For another example, given A = [1, 2, 3], the function should return 4.\n",
    "\n",
    "Given A = [−1, −3], the function should return 1.\n",
    "'''\n",
    "\n",
    "def solution(A):\n",
    "    # write your code in Python 2.7\n",
    "    N = len(A)\n",
    "    ints = [0] * (N + 2)\n",
    "    \n",
    "    for num in A:\n",
    "        if 1 <= num <= N:\n",
    "            ints[num] += 1\n",
    "    for idx in range(1, N + 2):\n",
    "        if ints[idx] ==0:\n",
    "            return idx\n",
    "    return -1\n",
    "\n",
    "if __name__ == '__main__':\n",
    "    A = [1, 3, 6, 4, 1, 2]\n",
    "    print(solution(A))\n",
    "if __name__ == '__main__':\n",
    "    A = [1, 2, 3]\n",
    "    print(solution(A))    \n",
    "if __name__ == '__main__':\n",
    "    A = [-1, -3]\n",
    "    print(solution(A))"
   ]
  },
  {
   "cell_type": "markdown",
   "metadata": {},
   "source": [
    "#### <p style=\"color:Green\">BinaryGap<p/>"
   ]
  },
  {
   "cell_type": "markdown",
   "metadata": {},
   "source": [
    "<p style=\"color:gray\">Binary<p/>\n",
    "0, 1\n",
    "\n",
    ">입력되는 Integer 값을 Binary로 변경하고 변경된 Binary 값에서 1과 1 사이에 있는 length Gap 중에 Max 값을 구하라는 문제이다. <br/>\n",
    "http://objectofterang.tistory.com/17 <br/>\n",
    "\n",
    "<br/>\n",
    ">(1) Find binary representation of the number and save its representation as string. <br/>\n",
    "(2) Part will be resposible and calculate the biggest binary gap and return its size. <br/>\n",
    "<br/>\n",
    ">(1) 숫자의 이진 표현을 찾고 그 표현을 문자열로 저장합니다<br/>\n",
    "(2) 가장 큰 바이너리 간격을 계산하고 크기를 반환합니다\n",
    "[MR.COFFEE] https://mr-coffee.net/blog/codility-lesson-1-binary-gap <br/>\n",
    "\n",
    "<br/>\n",
    ">8bit = 1Byte<br/>\n",
    "<p style=\"color:gray\">Decimal<p/>\n",
    "0~9\n",
    "<p style=\"color:gray\">Binary<p/>\n",
    "0, 1<br/>\n",
    "**0b** is a way that python uses to tell what the base number is:\n",
    "[naver_blog] http://blog.naver.com/woney48/220877884957 <br/>"
   ]
  },
  {
   "cell_type": "markdown",
   "metadata": {},
   "source": [
    "To find binary representation for the given number.<br/>\n",
    "(1) uses modulo and dividing to find the binary representation of the number.<br/>\n",
    "(2) uses bitiwise AND operator and checks whenever given bit in the number is set or not.<br/>\n",
    "The easiest way to calculate the binary gap is to iterate through the representation of the binary number and count 0s placed between 1s<br/>\n",
    "\n",
    "바이너리 갭을 계산하는 가장 쉬운 방법은 바이너리 숫자의 표현을 반복하고 1 사이에 0을 세는 것입니다.<br/>\n",
    "https://mr-coffee.net/blog/codility-lesson-1-binary-gap"
   ]
  },
  {
   "cell_type": "code",
   "execution_count": 54,
   "metadata": {},
   "outputs": [
    {
     "name": "stdout",
     "output_type": "stream",
     "text": [
      "0\n"
     ]
    }
   ],
   "source": [
    "# https://mr-coffee.net/blog/codility-lesson-1-binary-gap\n",
    "def intToBin(n):\n",
    "    res = ''\n",
    "    while(n > 0):\n",
    "        res += '1' if n%2 else '0'\n",
    "        n /= 2\n",
    "    return res[::-1]\n",
    "\n",
    "def calcGap(bin):\n",
    "    started = False\n",
    "    max_gap = 0\n",
    "    tmp_gap = 0\n",
    "    \n",
    "    for c in bin:\n",
    "        if c == '1':\n",
    "            max_gap = max(max_gap, tmp_gap)\n",
    "            tmp_gap = 0\n",
    "        else:\n",
    "            tmp_gap += 1\n",
    "            \n",
    "    return max_gap\n",
    "\n",
    "def solution(N):\n",
    "    bin = intToBin(N)\n",
    "    return calcGap(bin)\n",
    "\n",
    "if __name__ == '__main__':\n",
    "    N = 1041\n",
    "    print(solution(N))"
   ]
  },
  {
   "cell_type": "code",
   "execution_count": 45,
   "metadata": {
    "collapsed": true
   },
   "outputs": [],
   "source": [
    "def solution(N):\n",
    "    s = str(bin(N)).strip(\"0b\")\n",
    "    sl = len(s)\n",
    "    bg = 0\n",
    "    temp = 0\n",
    "    for i in range(sl):\n",
    "        if s[i] == \"0\":\n",
    "            bg += 1\n",
    "        if s[i] == \"1\":\n",
    "            if temp < bg:\n",
    "                temp = bg\n",
    "            bg = 0\n",
    "    return temp\n",
    "        "
   ]
  },
  {
   "cell_type": "code",
   "execution_count": null,
   "metadata": {
    "collapsed": true
   },
   "outputs": [],
   "source": [
    "'''BinaryGap\n",
    "Find longest sequence of zeors in binary representation of an integer.\n",
    "\n",
    "def solution(N)\n",
    "\n",
    "that, given a positive integer N, returns the length of its longest binary gap. The function should return 0 if N doesn't contain a binary gap.\n",
    "\n",
    "For example, given N = 1041 the function should return 5, because N has binary representation 10000010001 and so its longest binary gap is of length 5.\n",
    "'''\n",
    "def solution(N):\n",
    "    count = 0\n",
    "    result = 0\n",
    "    found_one = False\n",
    "    \n",
    "    i = N\n",
    "    \n",
    "    while i:\n",
    "        if i & 1 == 1:\n",
    "            if (found_one == False):\n",
    "                found_one = True\n",
    "            else:\n",
    "                result = max(result, count)\n",
    "        else:\n",
    "            count += 1\n",
    "        i >>= 1\n",
    "    return result\n",
    "if __name__ == '__main__':\n",
    "    n = input(\"Enter number to find its binary gap:\")\n",
    "    print(\"Calculated gap: %s\" % solution())"
   ]
  },
  {
   "cell_type": "code",
   "execution_count": 44,
   "metadata": {},
   "outputs": [
    {
     "name": "stdout",
     "output_type": "stream",
     "text": [
      "1\n"
     ]
    }
   ],
   "source": [
    "cnt = 0\n",
    "result = 0\n",
    "found_one = False\n",
    "\n",
    "i = N\n",
    "\n",
    "while i:\n",
    "    if i & 1 == 1:\n",
    "        if (found_one == False):\n",
    "            found_one = True\n",
    "        else:\n",
    "            result = max(result, cnt)\n",
    "    else:\n",
    "        cnt += 1\n",
    "    i >>= 1\n",
    "print(result)"
   ]
  },
  {
   "cell_type": "code",
   "execution_count": null,
   "metadata": {
    "collapsed": true
   },
   "outputs": [],
   "source": [
    "def solution(N):\n",
    "    x = bin(N)\n",
    "    max_0 = 0\n",
    "    counter = 0\n",
    "    arry = x[2:] if N > 0 else x[3:]\n",
    "    \n",
    "    for i in arry:\n",
    "        if counter > max_0 and i == '1':\n",
    "            max_0 = counter\n",
    "            \n",
    "            if i == '1':\n",
    "                counter = 0\n",
    "            else:\n",
    "                counter += 1\n",
    "    return max_0"
   ]
  },
  {
   "cell_type": "code",
   "execution_count": 59,
   "metadata": {},
   "outputs": [
    {
     "name": "stdout",
     "output_type": "stream",
     "text": [
      "344\n",
      "0b101011000\n",
      "101011000\n"
     ]
    }
   ],
   "source": [
    "a = 344\n",
    "print(a)\n",
    "b = bin(a)\n",
    "print(b)\n",
    "arry = b[2:] if a > 0 else b[3:]\n",
    "print(arry)"
   ]
  },
  {
   "cell_type": "code",
   "execution_count": null,
   "metadata": {
    "collapsed": true
   },
   "outputs": [],
   "source": [
    "def BinGap(N):\n",
    "    maxNum = 0\n",
    "    myNum = int((bin(N[2:])))\n",
    "    while myNum >0:\n",
    "        while myNum % 10 == 1:\n",
    "            myNum //= 10\n",
    "            count = 0\n",
    "            while myNum > 0 and myNum % 10 ==0:\n",
    "                count += 1\n",
    "                myNum //= 10\n",
    "            maxNum = max(maxNum, count)\n",
    "        myNum //= 10\n",
    "    return maxNum"
   ]
  },
  {
   "cell_type": "code",
   "execution_count": 60,
   "metadata": {
    "collapsed": true
   },
   "outputs": [],
   "source": [
    "a=[1,2,3]"
   ]
  },
  {
   "cell_type": "code",
   "execution_count": 62,
   "metadata": {},
   "outputs": [],
   "source": [
    "a.remove(2)"
   ]
  },
  {
   "cell_type": "code",
   "execution_count": 63,
   "metadata": {},
   "outputs": [
    {
     "data": {
      "text/plain": [
       "[1, 3]"
      ]
     },
     "execution_count": 63,
     "metadata": {},
     "output_type": "execute_result"
    }
   ],
   "source": [
    "a"
   ]
  },
  {
   "cell_type": "code",
   "execution_count": 64,
   "metadata": {},
   "outputs": [
    {
     "data": {
      "text/plain": [
       "3"
      ]
     },
     "execution_count": 64,
     "metadata": {},
     "output_type": "execute_result"
    }
   ],
   "source": [
    "a='asdf'\n",
    "max(1,3)"
   ]
  },
  {
   "cell_type": "code",
   "execution_count": 75,
   "metadata": {},
   "outputs": [
    {
     "name": "stdout",
     "output_type": "stream",
     "text": [
      "1\n",
      "['1']\n",
      "2\n",
      "['1', '2']\n",
      "3\n",
      "['1', '2', 'Fizz']\n",
      "4\n",
      "['1', '2', 'Fizz', '4']\n",
      "5\n",
      "['1', '2', 'Fizz', '4', 'Buzz']\n",
      "1\n",
      "2\n",
      "Fizz\n",
      "4\n",
      "Buzz"
     ]
    }
   ],
   "source": [
    "# you can write to stderr for debugging purposes, e.g.\n",
    "# sys.stderr.write(\"this is a debug message\\n\")\n",
    "import sys\n",
    "\n",
    "def solution(n):\n",
    "    solution_arr = []\n",
    "    for i in range(1, n + 1):\n",
    "        s = ''\n",
    "        if i % 3 == 0:\n",
    "            s += 'Fizz'\n",
    "        if i % 5 == 0:\n",
    "            s += 'Buzz'\n",
    "        if i % 7 == 0:\n",
    "            s += 'Woof'\n",
    "        solution_arr.append(s or str(i))\n",
    "        print(i)\n",
    "        print(solution_arr)\n",
    "    solution = '\\n'.join(solution_arr)\n",
    "    sys.stdout.write(solution)\n",
    "solution(5)"
   ]
  },
  {
   "cell_type": "code",
   "execution_count": 68,
   "metadata": {
    "collapsed": true
   },
   "outputs": [],
   "source": [
    "# you can write to stdout for debugging purposes, e.g.\n",
    "# print \"this is a debug message\"\n",
    "\n",
    "def solution(s):\n",
    "    max_len = -1\n",
    "    cur_len = 0\n",
    "    is_valid = False\n",
    "    \n",
    "    s += '1'\n",
    "    \n",
    "    for ch in s:\n",
    "        if ch.isdigit():\n",
    "            if is_valid:\n",
    "                max_len = max(max_len, cur_len)\n",
    "            is_valid = False\n",
    "            cur_len = 0\n",
    "        elif ch.isupper():\n",
    "            is_valid = True\n",
    "            cur_len += 1\n",
    "        elif ch.islower():\n",
    "            cur_len += 1\n",
    "    return max_len"
   ]
  },
  {
   "cell_type": "code",
   "execution_count": 70,
   "metadata": {
    "collapsed": true
   },
   "outputs": [],
   "source": [
    "def solution(arr):\n",
    "    n = len(arr)\n",
    "    src = [-1] * n\n",
    "    candidates = []\n",
    "    \n",
    "    for i, num in enumerate(arr):\n",
    "        if src[num] == -1:\n",
    "            src[num] = i\n",
    "        else:\n",
    "            candidates.append(i - src[num])\n",
    "    \n",
    "    result = max(candidates)\n",
    "    return result"
   ]
  },
  {
   "cell_type": "code",
   "execution_count": 71,
   "metadata": {
    "collapsed": true
   },
   "outputs": [],
   "source": [
    "def solution(A):\n",
    "    N = len(A)\n",
    "    result = 0\n",
    "    for i in xrange(N):\n",
    "        for j in xrange(N):\n",
    "            if A[i] == A[j]:\n",
    "                result = max(result, abs(i - j))\n",
    "    return result"
   ]
  },
  {
   "cell_type": "code",
   "execution_count": null,
   "metadata": {
    "collapsed": true
   },
   "outputs": [],
   "source": []
  }
 ],
 "metadata": {
  "kernelspec": {
   "display_name": "Python 3",
   "language": "python",
   "name": "python3"
  },
  "language_info": {
   "codemirror_mode": {
    "name": "ipython",
    "version": 3
   },
   "file_extension": ".py",
   "mimetype": "text/x-python",
   "name": "python",
   "nbconvert_exporter": "python",
   "pygments_lexer": "ipython3",
   "version": "3.6.1"
  }
 },
 "nbformat": 4,
 "nbformat_minor": 2
}
