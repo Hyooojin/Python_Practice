{
 "cells": [
  {
   "cell_type": "markdown",
   "metadata": {},
   "source": [
    "Calendar project"
   ]
  },
  {
   "cell_type": "code",
   "execution_count": 2,
   "metadata": {},
   "outputs": [],
   "source": [
    "from time import sleep\n",
    "from time import strftime"
   ]
  },
  {
   "cell_type": "code",
   "execution_count": 3,
   "metadata": {},
   "outputs": [
    {
     "ename": "IndentationError",
     "evalue": "unexpected indent (<ipython-input-3-850aef39a81d>, line 7)",
     "output_type": "error",
     "traceback": [
      "\u001b[1;36m  File \u001b[1;32m\"<ipython-input-3-850aef39a81d>\"\u001b[1;36m, line \u001b[1;32m7\u001b[0m\n\u001b[1;33m    sleep(1)\u001b[0m\n\u001b[1;37m    ^\u001b[0m\n\u001b[1;31mIndentationError\u001b[0m\u001b[1;31m:\u001b[0m unexpected indent\n"
     ]
    }
   ],
   "source": [
    "USER_FIRST_NAME = \"HYOOO\"\n",
    "calendar = {}\n",
    "\n",
    "def welcom():\n",
    "    print(\"Welcome, \" + USER_FIRST_NAME + \".\")\n",
    "    print(\"Calendar is starting\")\n",
    "        sleep(1)\n",
    "        print(\"Today is:\" + strftime(\"%A $B $D, %Y\"))\n",
    "    print(\"Current time is: + strftime(\"%H:%M:%S\"))\n",
    "    sleep(1)\n",
    "    print(\"What would you like to do?\")\n",
    "\n",
    "def start_calender():\n",
    "    welcome()\n",
    "    start = True\n",
    "    while start:\n",
    "          user_choice = input(\"A to Add, U to Update, V to View, D to Delete, X to Exit:\")\n",
    "          user_choice = user_choice.upper()\n",
    "          \n",
    "          if user_choice = \"V\":\n",
    "              if len(calendar.keys()) < 1:\n",
    "                  print(\"Calendar is empty.\")\n",
    "              else: \n",
    "                  print(calendar)\n",
    "          elif user_choice = \"U\"\n",
    "              event = input(\"Enter event:\")\n",
    "              date = input(\"Enter date (MM/DD/YYYY):\")\n",
    "              calendar[date] = update\n",
    "              print(calendar)\n",
    "          elif user_choice = \"A\"\n",
    "              event = input(\"Enter event:\")\n",
    "              date = input(\"Enter date (MM/DD/YYYY):\")\n",
    "              if len(date) > 10 or int(date[:6]) < int(strftime(\"%Y\")):\n",
    "                  print(\"Invalid date entered\")\n",
    "                  try_again = input(\"Try Again? Y for Yes, N for No:\")\n",
    "                  try_again = try_again.upper()\n",
    "                  if try_again == \"Y\":\n",
    "                      countinue\n",
    "                  else:\n",
    "                      start = False\n",
    "            else:\n",
    "                  calendar[date] = event\n",
    "                  print(\"Event added\")\n",
    "                  print(calendar)\n",
    "          elif user_choice == \"D\":\n",
    "              if len(calendar.keys()) < 1:\n",
    "                  print(\"Calendar is empty.\")\n",
    "              else:\n",
    "                  event = input(\"What event?\")\n",
    "                  for date in calendar[date]:\n",
    "                      if event == calendar[date]:\n",
    "                          del calendar[date]\n",
    "                          print(\"Event deleted\")\n",
    "                          print(calendar)\n",
    "                      else:\n",
    "                          print(\"Incorrect event entered\")\n",
    "          elif user_choice == \"X\":\n",
    "              start = False\n",
    "          else:\n",
    "              print(\"Invailid command entered\")\n",
    "              start = False\n",
    "                      \n",
    "              \n",
    "          \n",
    "          \n",
    "          if len(date) > 10 or int(data[:6]) < int(strftime(\"%Y\")):\n",
    "              try_again = try_again.upper()\n",
    "              if try_again = \"Y\":\n",
    "                  continue\n",
    "              else:\n",
    "                  start = False\n",
    "                \n",
    "        \n",
    "          "
   ]
  },
  {
   "cell_type": "code",
   "execution_count": null,
   "metadata": {
    "collapsed": true
   },
   "outputs": [],
   "source": []
  }
 ],
 "metadata": {
  "kernelspec": {
   "display_name": "Python 3",
   "language": "python",
   "name": "python3"
  },
  "language_info": {
   "codemirror_mode": {
    "name": "ipython",
    "version": 3
   },
   "file_extension": ".py",
   "mimetype": "text/x-python",
   "name": "python",
   "nbconvert_exporter": "python",
   "pygments_lexer": "ipython3",
   "version": "3.6.1"
  }
 },
 "nbformat": 4,
 "nbformat_minor": 2
}
