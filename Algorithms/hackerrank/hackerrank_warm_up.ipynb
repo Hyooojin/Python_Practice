{
 "cells": [
  {
   "cell_type": "markdown",
   "metadata": {},
   "source": [
    "#### <p style=\"color:Gray\">just practice<p/>\n",
    "#### <p style=\"color:Green\">No.1 Let's solve!<p/>"
   ]
  },
  {
   "cell_type": "code",
   "execution_count": 3,
   "metadata": {
    "collapsed": true
   },
   "outputs": [],
   "source": [
    "def solveMeFirst(a, b):\n",
    "    return a + b"
   ]
  },
  {
   "cell_type": "code",
   "execution_count": 4,
   "metadata": {},
   "outputs": [
    {
     "name": "stdout",
     "output_type": "stream",
     "text": [
      "1\n"
     ]
    }
   ],
   "source": [
    "num1 = int(input())"
   ]
  },
  {
   "cell_type": "code",
   "execution_count": 5,
   "metadata": {},
   "outputs": [
    {
     "name": "stdout",
     "output_type": "stream",
     "text": [
      "2\n"
     ]
    }
   ],
   "source": [
    "num2 = int(input())"
   ]
  },
  {
   "cell_type": "code",
   "execution_count": 6,
   "metadata": {},
   "outputs": [
    {
     "name": "stdout",
     "output_type": "stream",
     "text": [
      "3\n"
     ]
    }
   ],
   "source": [
    "res = solveMeFirst(num1, num2)\n",
    "print(res)"
   ]
  },
  {
   "cell_type": "markdown",
   "metadata": {},
   "source": [
    "###### <p style=\"color:Green\">No.2 Let's solve!<p/>"
   ]
  },
  {
   "cell_type": "code",
   "execution_count": 7,
   "metadata": {
    "collapsed": true
   },
   "outputs": [],
   "source": [
    "import sys"
   ]
  },
  {
   "cell_type": "code",
   "execution_count": 8,
   "metadata": {
    "collapsed": true
   },
   "outputs": [],
   "source": [
    "def simpleArraySum(n, ar):\n",
    "    return sum(ar)"
   ]
  },
  {
   "cell_type": "code",
   "execution_count": 9,
   "metadata": {},
   "outputs": [
    {
     "name": "stdout",
     "output_type": "stream",
     "text": [
      "6\n"
     ]
    }
   ],
   "source": [
    "n = int(input().strip())"
   ]
  },
  {
   "cell_type": "code",
   "execution_count": 10,
   "metadata": {},
   "outputs": [
    {
     "name": "stdout",
     "output_type": "stream",
     "text": [
      "1 2 3 4 10 11\n"
     ]
    }
   ],
   "source": [
    "ar = list(map(int, input().strip().split(' ')))"
   ]
  },
  {
   "cell_type": "code",
   "execution_count": 11,
   "metadata": {
    "collapsed": true
   },
   "outputs": [],
   "source": [
    "result = simpleArraySum(n, ar)"
   ]
  },
  {
   "cell_type": "code",
   "execution_count": 12,
   "metadata": {},
   "outputs": [
    {
     "name": "stdout",
     "output_type": "stream",
     "text": [
      "31\n"
     ]
    }
   ],
   "source": [
    "print(result)"
   ]
  },
  {
   "cell_type": "markdown",
   "metadata": {},
   "source": [
    "#### <p style=\"color:Green\">No.3 Let's solve!<p/>"
   ]
  },
  {
   "cell_type": "code",
   "execution_count": 13,
   "metadata": {
    "collapsed": true
   },
   "outputs": [],
   "source": [
    "def solve(a0, a1, a2, b0, b1, b2):\n",
    "    a = (1 if a0 > b0 else 0) + (1 if a1 > b1 else 0) + (1 if a2 > b2 else 0)\n",
    "    b = (1 if a0 < b0 else 0) + (1 if a1 < b1 else 0) + (1 if a2 < b2 else 0)\n",
    "    return (a, b)\n",
    "    "
   ]
  },
  {
   "cell_type": "code",
   "execution_count": 14,
   "metadata": {
    "scrolled": true
   },
   "outputs": [
    {
     "name": "stdout",
     "output_type": "stream",
     "text": [
      "5 6 7\n"
     ]
    }
   ],
   "source": [
    "a0, a1, a2 = input().strip().split(' ')"
   ]
  },
  {
   "cell_type": "code",
   "execution_count": 15,
   "metadata": {
    "collapsed": true
   },
   "outputs": [],
   "source": [
    "a0, a1, a2 = [int(a0), int(a1), int(a2)]"
   ]
  },
  {
   "cell_type": "code",
   "execution_count": 16,
   "metadata": {},
   "outputs": [
    {
     "name": "stdout",
     "output_type": "stream",
     "text": [
      "3 6 10\n"
     ]
    }
   ],
   "source": [
    "b0, b1, b2 = input().strip().split(' ')"
   ]
  },
  {
   "cell_type": "code",
   "execution_count": 17,
   "metadata": {
    "collapsed": true
   },
   "outputs": [],
   "source": [
    "b0, b1, b2 = [int(b0), int(b1), int(b2)]"
   ]
  },
  {
   "cell_type": "code",
   "execution_count": 18,
   "metadata": {
    "collapsed": true
   },
   "outputs": [],
   "source": [
    "result = solve(a0, a1, a2, b0, b1, b2)"
   ]
  },
  {
   "cell_type": "code",
   "execution_count": 19,
   "metadata": {},
   "outputs": [
    {
     "name": "stdout",
     "output_type": "stream",
     "text": [
      "(1, 1)\n"
     ]
    }
   ],
   "source": [
    "print(result)"
   ]
  },
  {
   "cell_type": "code",
   "execution_count": 20,
   "metadata": {},
   "outputs": [
    {
     "name": "stdout",
     "output_type": "stream",
     "text": [
      "1 1\n"
     ]
    }
   ],
   "source": [
    "print(\" \".join(map(str, result)))"
   ]
  },
  {
   "cell_type": "code",
   "execution_count": 21,
   "metadata": {
    "collapsed": true
   },
   "outputs": [],
   "source": [
    "def solve(a0, a1, a2, b0, b1, b2):\n",
    "    a = (a0 > b0) + (a1 > b1) + (a2 > b2)\n",
    "    b = (1 if a0 < b0 else 0) + (1 if a1 < b1 else 0) + (1 if a2 < b2 else 0)\n",
    "    return (a, b)"
   ]
  },
  {
   "cell_type": "markdown",
   "metadata": {},
   "source": [
    "#### <p style=\"color:Green\">No.4 A very Big Sum!<p/>"
   ]
  },
  {
   "cell_type": "code",
   "execution_count": 34,
   "metadata": {
    "collapsed": true
   },
   "outputs": [],
   "source": [
    "import sys"
   ]
  },
  {
   "cell_type": "code",
   "execution_count": 35,
   "metadata": {
    "collapsed": true
   },
   "outputs": [],
   "source": [
    "def aVeryBigSum(n, ar):\n",
    "    return sum(ar)"
   ]
  },
  {
   "cell_type": "code",
   "execution_count": 36,
   "metadata": {},
   "outputs": [
    {
     "name": "stdout",
     "output_type": "stream",
     "text": [
      "5\n"
     ]
    }
   ],
   "source": [
    "n = int(input().strip()) # 5"
   ]
  },
  {
   "cell_type": "code",
   "execution_count": 37,
   "metadata": {},
   "outputs": [
    {
     "name": "stdout",
     "output_type": "stream",
     "text": [
      "1000000001 1000000002 1000000003 1000000004 1000000005\n"
     ]
    }
   ],
   "source": [
    "ar = list(map(int, input().strip().split(' ')))\n",
    "# 1000000001 1000000002 1000000003 1000000004 1000000005"
   ]
  },
  {
   "cell_type": "code",
   "execution_count": 38,
   "metadata": {},
   "outputs": [
    {
     "name": "stdout",
     "output_type": "stream",
     "text": [
      "5000000015\n"
     ]
    }
   ],
   "source": [
    "result = aVeryBigSum(n, ar)\n",
    "print(result)"
   ]
  },
  {
   "cell_type": "markdown",
   "metadata": {},
   "source": [
    "#### <p style=\"color:Green\">No.5 Diagonal Difference<p/>"
   ]
  },
  {
   "cell_type": "raw",
   "metadata": {},
   "source": [
    "3\n",
    "11 2 4\n",
    "4 5 6\n",
    "10 8 -12"
   ]
  },
  {
   "cell_type": "code",
   "execution_count": 2,
   "metadata": {},
   "outputs": [
    {
     "name": "stdout",
     "output_type": "stream",
     "text": [
      "3\n"
     ]
    }
   ],
   "source": [
    "n = int(input().strip())"
   ]
  },
  {
   "cell_type": "code",
   "execution_count": 15,
   "metadata": {},
   "outputs": [
    {
     "name": "stdout",
     "output_type": "stream",
     "text": [
      "11 2 4\n",
      "4 5 6\n",
      "10 8 -12\n",
      "[[11, 2, 4], [4, 5, 6], [10, 8, -12]]\n"
     ]
    }
   ],
   "source": [
    "a = []\n",
    "for a_i in range(n):\n",
    "    a_t = [int(a_temp) for a_temp in input().strip().split(' ')]\n",
    "    a.append(a_t)\n",
    "print(a)    "
   ]
  },
  {
   "cell_type": "code",
   "execution_count": 1,
   "metadata": {
    "collapsed": true
   },
   "outputs": [],
   "source": [
    "from IPython.core.interactiveshell import InteractiveShell\n",
    "InteractiveShell.ast_node_interactivity = 'all'"
   ]
  },
  {
   "cell_type": "code",
   "execution_count": 7,
   "metadata": {},
   "outputs": [
    {
     "data": {
      "text/plain": [
       "[[11, 2, 4], [4, 5, 6], [10, 8, -12]]"
      ]
     },
     "execution_count": 7,
     "metadata": {},
     "output_type": "execute_result"
    }
   ],
   "source": [
    "a"
   ]
  },
  {
   "cell_type": "code",
   "execution_count": 13,
   "metadata": {},
   "outputs": [
    {
     "name": "stdout",
     "output_type": "stream",
     "text": [
      "3\n",
      "11 2 4\n",
      "4 5 6\n",
      "10 8 -12\n",
      "-15\n",
      "15\n"
     ]
    }
   ],
   "source": [
    "n = int(input().strip())\n",
    "dSumLeft = 0\n",
    "dSumRight = 0\n",
    "for i in range(n):\n",
    "    matrixRow = input().split()\n",
    "    dSumLeft += int(matrixRow[i])\n",
    "    dSumRight += int(matrixRow[-(i + 1)])\n",
    "print(dSumLeft-dSumRight)\n",
    "print(dSumRight-dSumLeft)"
   ]
  },
  {
   "cell_type": "code",
   "execution_count": 47,
   "metadata": {},
   "outputs": [
    {
     "data": {
      "text/plain": [
       "4"
      ]
     },
     "execution_count": 47,
     "metadata": {},
     "output_type": "execute_result"
    },
    {
     "data": {
      "text/plain": [
       "19"
      ]
     },
     "execution_count": 47,
     "metadata": {},
     "output_type": "execute_result"
    }
   ],
   "source": [
    "dSumLeft\n",
    "dSumRight"
   ]
  },
  {
   "cell_type": "code",
   "execution_count": 10,
   "metadata": {},
   "outputs": [
    {
     "name": "stdout",
     "output_type": "stream",
     "text": [
      "3\n",
      "11 2 4\n",
      "4 5 6\n",
      "10 8 -12\n",
      "15\n"
     ]
    }
   ],
   "source": [
    "import sys\n",
    "n = int(input().strip())\n",
    "a = []\n",
    "for a_i in range(n):\n",
    "    a_t = [int(a_temp) for a_temp in input().strip().split(' ')]\n",
    "    a.append(a_t[a_i])\n",
    "    a.append(-(a_t[-1-a_i]))\n",
    "print(abs(sum(a)))"
   ]
  },
  {
   "cell_type": "markdown",
   "metadata": {},
   "source": [
    "#### <p style=\"color:Green\">No.6 Plus Minus<p/>\n",
    "**A decimal** representing of **the fraction of positive numbers**(negative numbers or zeroes)\n",
    "<br/>\n",
    "\n",
    "<br/>6 <br/>\n",
    "-4 3 -9 0 4 1"
   ]
  },
  {
   "cell_type": "code",
   "execution_count": 26,
   "metadata": {
    "collapsed": true
   },
   "outputs": [
    {
     "data": {
      "text/plain": [
       "'Plus Minus\\nA decimal representing of the fraction of positive numbers in the array compared to its size.'"
      ]
     },
     "execution_count": 26,
     "metadata": {},
     "output_type": "execute_result"
    }
   ],
   "source": [
    "'''Plus Minus\n",
    "A decimal representing of the fraction of positive numbers in the array compared to its size.'''"
   ]
  },
  {
   "cell_type": "code",
   "execution_count": 13,
   "metadata": {
    "scrolled": true
   },
   "outputs": [
    {
     "name": "stdout",
     "output_type": "stream",
     "text": [
      "6\n",
      "-4 3 -9 0 4 1\n",
      "0.500000\n",
      "0.333333\n",
      "0.166667\n"
     ]
    }
   ],
   "source": [
    "import sys\n",
    "n = int(input().strip())\n",
    "arr = [int(arr_temp) for arr_temp in input().strip().split(' ')]\n",
    "print(format(len([x for x in arr if x > 0])/n, \".6f\"))\n",
    "print(format(len([x for x in arr if x < 0])/n, \".6f\"))\n",
    "print(format(len([x for x in arr if x==0])/n, \".6f\"))"
   ]
  },
  {
   "cell_type": "code",
   "execution_count": 23,
   "metadata": {},
   "outputs": [
    {
     "name": "stdout",
     "output_type": "stream",
     "text": [
      "6\n",
      "-4 3 -9 0 4 1\n",
      "0.5\n",
      "0.333333\n",
      "0.166667\n"
     ]
    }
   ],
   "source": [
    "# https://github.com/jivoi/junk/blob/master/hackerrank/algorithms/warmup/plus-minus.py\n",
    "n = int(input().strip())\n",
    "arr = [int(arr_temp) for arr_temp in input().strip().split(' ')]\n",
    "\n",
    "positive = 0\n",
    "negative = 0\n",
    "zero = 0\n",
    "for i in range(n):\n",
    "    if (int(arr[i])>0):\n",
    "        positive += 1\n",
    "    elif (int(arr[i])<0):\n",
    "        negative += 1\n",
    "    else:\n",
    "        zero +=1\n",
    "\n",
    "print(round(float(positive)/n, 6))\n",
    "print(round(float(negative)/n, 6))\n",
    "print(round(float(zero)/n, 6))"
   ]
  },
  {
   "cell_type": "markdown",
   "metadata": {},
   "source": [
    "#### <p style=\"color:Green\">No.7 Staircase<p/>\n",
    "<br/>"
   ]
  },
  {
   "cell_type": "code",
   "execution_count": 46,
   "metadata": {},
   "outputs": [
    {
     "name": "stdout",
     "output_type": "stream",
     "text": [
      "6\n",
      "     #\n",
      "    ##\n",
      "   ###\n",
      "  ####\n",
      " #####\n",
      "######\n"
     ]
    }
   ],
   "source": [
    "'''\n",
    "   #\n",
    "  ##\n",
    " ###\n",
    "####\n",
    "\n",
    "Observe that its base and height are both equal to , and the image is drawn using # symbols and spaces. The last line is not preceded by any spaces.\n",
    "\n",
    "Write a program that prints a staircase of size .\n",
    "\n",
    "\n",
    "'''\n",
    "import sys\n",
    "n = int(input().strip())\n",
    "for symbol in range(n):\n",
    "    print(\" \"*(n-(symbol+1))+\"#\"*(symbol+1))\n"
   ]
  },
  {
   "cell_type": "code",
   "execution_count": 48,
   "metadata": {},
   "outputs": [
    {
     "name": "stdout",
     "output_type": "stream",
     "text": [
      "6\n",
      "      \n",
      "     #\n",
      "    ##\n",
      "   ###\n",
      "  ####\n",
      " #####\n"
     ]
    }
   ],
   "source": [
    "'''see other solutions\n",
    "using rjust\n",
    "he uses rjust just to right justify the above string and fill the empty gaps with spaces\n",
    "'''\n",
    "n = int(input())\n",
    "for i in range(n):\n",
    "    print(('#'*i).rjust(n,' '))"
   ]
  },
  {
   "cell_type": "code",
   "execution_count": null,
   "metadata": {
    "collapsed": true
   },
   "outputs": [],
   "source": [
    "n = int(input())\n",
    "[print(('#'*i).rjust(n) ) for i in range(1, n+1)]"
   ]
  },
  {
   "cell_type": "code",
   "execution_count": 52,
   "metadata": {},
   "outputs": [
    {
     "name": "stdout",
     "output_type": "stream",
     "text": [
      "6\n",
      "     #\n",
      "    ##\n",
      "   ###\n",
      "  ####\n",
      " #####\n",
      "######\n"
     ]
    },
    {
     "data": {
      "text/plain": [
       "[None, None, None, None, None, None]"
      ]
     },
     "execution_count": 52,
     "metadata": {},
     "output_type": "execute_result"
    }
   ],
   "source": [
    "n = int(input())\n",
    "[print(' '*(n-i) + '#'*i) for i in range(1, n+1)]"
   ]
  },
  {
   "cell_type": "code",
   "execution_count": 53,
   "metadata": {},
   "outputs": [
    {
     "name": "stdout",
     "output_type": "stream",
     "text": [
      "6\n",
      "     #\n",
      "    ##\n",
      "   ###\n",
      "  ####\n",
      " #####\n",
      "######\n"
     ]
    }
   ],
   "source": [
    "n = int(input())\n",
    "for i in range(1, n+1):\n",
    "    print(\" \"*(n-i) + \"#\"*i)"
   ]
  },
  {
   "cell_type": "markdown",
   "metadata": {},
   "source": [
    "#### <p style=\"color:Green\">No.8 Mini-Max Sum<p/>\n",
    "https://progzoo.net/wiki/Python:Sum_an_Array"
   ]
  },
  {
   "cell_type": "code",
   "execution_count": 1,
   "metadata": {
    "collapsed": true
   },
   "outputs": [],
   "source": [
    "from IPython.core.interactiveshell import InteractiveShell\n",
    "InteractiveShell.ast_node_interactivity = 'all'"
   ]
  },
  {
   "cell_type": "code",
   "execution_count": 11,
   "metadata": {},
   "outputs": [
    {
     "data": {
      "text/plain": [
       "'\\nMini-Max Sum\\n\\nGiven five positive integers, find the minimum and maximum values that can be calculated by summing exactly four of the five integers. Then print the respective minimum and maximum values as a single line of two space-separated long integers.\\n\\n\\n'"
      ]
     },
     "execution_count": 11,
     "metadata": {},
     "output_type": "execute_result"
    },
    {
     "name": "stdout",
     "output_type": "stream",
     "text": [
      "1 2 3 4 5\n"
     ]
    },
    {
     "data": {
      "text/plain": [
       "15"
      ]
     },
     "execution_count": 11,
     "metadata": {},
     "output_type": "execute_result"
    },
    {
     "name": "stdout",
     "output_type": "stream",
     "text": [
      "10 14\n"
     ]
    }
   ],
   "source": [
    "'''\n",
    "Mini-Max Sum\n",
    "\n",
    "Given five positive integers, find the minimum and maximum values that can be calculated by summing exactly four of the five integers. Then print the respective minimum and maximum values as a single line of two space-separated long integers.\n",
    "\n",
    "\n",
    "'''\n",
    "\n",
    "import sys\n",
    "arr = list(map(int, input().strip().split(' ')))\n",
    "sum(arr)\n",
    "print(sum(arr)-max(arr), sum(arr)-min(arr))"
   ]
  },
  {
   "cell_type": "code",
   "execution_count": 2,
   "metadata": {},
   "outputs": [
    {
     "name": "stdout",
     "output_type": "stream",
     "text": [
      "1 2 3 4 5\n",
      "10 14\n"
     ]
    }
   ],
   "source": [
    "nums = [int(x) for x in input().strip().split(' ')]\n",
    "print(sum(nums) - max(nums), sum(nums) - min(nums))"
   ]
  },
  {
   "cell_type": "code",
   "execution_count": 69,
   "metadata": {},
   "outputs": [
    {
     "name": "stdout",
     "output_type": "stream",
     "text": [
      "15\n"
     ]
    }
   ],
   "source": [
    "arr = [1, 2, 3, 4, 5]\n",
    "x = 0\n",
    "for i in arr:\n",
    "    x += i\n",
    "print(x)"
   ]
  },
  {
   "cell_type": "code",
   "execution_count": 52,
   "metadata": {},
   "outputs": [
    {
     "name": "stdout",
     "output_type": "stream",
     "text": [
      "1 2 3 4 5\n",
      "-9223372036854775808\n",
      "9223372036854775807\n",
      "10 14\n"
     ]
    }
   ],
   "source": [
    "arr = list(map(int, input().strip().split(' ')))\n",
    "max = -sys.maxsize-1\n",
    "min = sys.maxsize\n",
    "print(max)\n",
    "print(min)\n",
    "sum = 0\n",
    "for x in arr:\n",
    "    sum+=x\n",
    "    if x>max:\n",
    "        max=x\n",
    "    if x<min:\n",
    "        min=x\n",
    "print(sum-max, sum-min)"
   ]
  },
  {
   "cell_type": "markdown",
   "metadata": {
    "collapsed": true
   },
   "source": [
    "#### <p style=\"color:Green\">No.9 Birthday Cake Candles<p/>"
   ]
  },
  {
   "cell_type": "code",
   "execution_count": 44,
   "metadata": {
    "scrolled": true
   },
   "outputs": [
    {
     "name": "stdout",
     "output_type": "stream",
     "text": [
      "4\n",
      "3 2 1 3\n",
      "2\n"
     ]
    }
   ],
   "source": [
    "'''\n",
    "Colleen is turning n years old! Therefore, she has n candles of various heights on her cake, and candle i has height height(i). Because the taller candles tower over the shorter ones, Colleen can only blow out the tallest candles.\n",
    "\n",
    "Given the height(i) for each individual candle, find and print the number of candles she can successfully blow out.\n",
    "\n",
    "\n",
    "Output Format\n",
    "\n",
    "Print the number of candles Colleen blows out on a new line.\n",
    "\n",
    "sample Input 0 \n",
    "\n",
    "4\n",
    "3 2 1 3\n",
    "\n",
    "sample output 0\n",
    "2\n",
    "'''\n",
    "\n",
    "\n",
    "import sys\n",
    "def birthdayCakeCandles(n, ar):\n",
    "    max_height = 0 # find the heigest value\n",
    "    count_max_value = 0      # count the heigest value\n",
    "    for i in range(n):\n",
    "        if ar[i] > max_height:\n",
    "            max_height = ar[i]\n",
    "            count_max_value = 1\n",
    "        elif(ar[i] == max_height):\n",
    "            count_max_value += 1\n",
    "    return count_max_value\n",
    "    \n",
    "        \n",
    "    \n",
    "n = int(input().strip())\n",
    "r = list(map(int, input().strip().split(' ')))\n",
    "result = birthdayCakeCandles(n, ar)\n",
    "print(result)"
   ]
  },
  {
   "cell_type": "markdown",
   "metadata": {},
   "source": [
    "#### <p style=\"color:Green\">No.10 Time Conversion<p/>"
   ]
  },
  {
   "cell_type": "code",
   "execution_count": 32,
   "metadata": {},
   "outputs": [
    {
     "name": "stdout",
     "output_type": "stream",
     "text": [
      "07:05:45AM\n",
      "<class 'str'>\n"
     ]
    }
   ],
   "source": [
    "s = input().strip()\n",
    "print(type(s))\n",
    "# result = timeConversion(s)\n",
    "# print(result)"
   ]
  },
  {
   "cell_type": "code",
   "execution_count": 31,
   "metadata": {},
   "outputs": [
    {
     "data": {
      "text/plain": [
       "'\\n% : 명령 시작을 의미\\n0 : 채워질 문자\\n2 : 총 자리수\\nd : 십진수로 된 정수\\n\\n%02d : 십진수로 된 2자리의 정수 형식으로 나타냄. 단 자릿수가 부족할 경우 0으로 해당부분을 채움\\n\\n\\n출처: http://fruitdev.tistory.com/177 [과일가게 개발자]\\n'"
      ]
     },
     "execution_count": 31,
     "metadata": {},
     "output_type": "execute_result"
    },
    {
     "name": "stdout",
     "output_type": "stream",
     "text": [
      "07:05:45AM\n",
      "7:05:45\n"
     ]
    }
   ],
   "source": [
    "'''\n",
    "% : 명령 시작을 의미\n",
    "0 : 채워질 문자\n",
    "2 : 총 자리수\n",
    "d : 십진수로 된 정수\n",
    "\n",
    "%02d : 십진수로 된 2자리의 정수 형식으로 나타냄. 단 자릿수가 부족할 경우 0으로 해당부분을 채움\n",
    "\n",
    "\n",
    "출처: http://fruitdev.tistory.com/177 [과일가게 개발자]\n",
    "'''\n",
    "import sys\n",
    "\n",
    "def timeConversion(s):\n",
    "    time = s[2:-2]\n",
    "    hour = int(s[:2])\n",
    "    \n",
    "    if \"PM\" in s:\n",
    "        s_convert = str(hour + 12) + time\n",
    "    else:\n",
    "        s_convert = str(hour) + time      \n",
    "        \n",
    "    return s_convert\n",
    "        \n",
    "    \n",
    "    \n",
    "s = input().strip()\n",
    "result = timeConversion(s)\n",
    "print(result)"
   ]
  },
  {
   "cell_type": "code",
   "execution_count": 37,
   "metadata": {},
   "outputs": [
    {
     "name": "stdout",
     "output_type": "stream",
     "text": [
      "07:05:45PM\n",
      "19:05:45\n"
     ]
    }
   ],
   "source": [
    "import sys\n",
    "\n",
    "def timeConversion(s):\n",
    "    # Complete this function\n",
    "    zn = s[-2:]\n",
    "    if zn == \"PM\" and s[:2] != \"12\":\n",
    "        s = str(12 + int(s[:2])) + s[2:-2]\n",
    "    if zn == \"AM\" and s[:2] == \"12\":\n",
    "        s = \"00\" + s[2:-2]\n",
    "    return s\n",
    "\n",
    "s = input().strip()\n",
    "result = timeConversion(s)\n",
    "print(result)"
   ]
  },
  {
   "cell_type": "code",
   "execution_count": 34,
   "metadata": {},
   "outputs": [
    {
     "name": "stdout",
     "output_type": "stream",
     "text": [
      "07:05:45AM\n",
      "7:05:45\n"
     ]
    }
   ],
   "source": [
    "import sys\n",
    "\n",
    "\n",
    "def convert_time(s):\n",
    "    # Complete this function\n",
    "    time = s[2:8]\n",
    "    hour = int(s[:2])\n",
    "    if ('PM' in s):\n",
    "        hour += 12\n",
    "    s_convert = \"%02d\" % hour + time\n",
    "    return s_convert\n",
    "s = input().strip()\n",
    "result = timeConversion(s)\n",
    "print(result)"
   ]
  },
  {
   "cell_type": "code",
   "execution_count": 38,
   "metadata": {},
   "outputs": [
    {
     "name": "stdout",
     "output_type": "stream",
     "text": [
      "07:05:45PM\n",
      "19:05:45\n"
     ]
    }
   ],
   "source": [
    "import sys\n",
    "\n",
    "def timeConversion(s):\n",
    "    # Complete this function\n",
    "    time = s[2:-2]\n",
    "    hour = int(s[:2])\n",
    "    meridian = s[-2:]\n",
    "    if (hour == 12):\n",
    "        hour += 0\n",
    "        s_convert = \"%02d\" % hour + time\n",
    "    if (meridian == 'PM'):\n",
    "        hour += 12\n",
    "        s_convert = \"%02d\" % hour + time\n",
    "    return s_convert\n",
    "    \n",
    "\n",
    "s = input().strip()\n",
    "result = timeConversion(s)\n",
    "print(result)\n"
   ]
  },
  {
   "cell_type": "code",
   "execution_count": null,
   "metadata": {
    "collapsed": true
   },
   "outputs": [],
   "source": []
  }
 ],
 "metadata": {
  "kernelspec": {
   "display_name": "Python 3",
   "language": "python",
   "name": "python3"
  },
  "language_info": {
   "codemirror_mode": {
    "name": "ipython",
    "version": 3
   },
   "file_extension": ".py",
   "mimetype": "text/x-python",
   "name": "python",
   "nbconvert_exporter": "python",
   "pygments_lexer": "ipython3",
   "version": "3.6.1"
  }
 },
 "nbformat": 4,
 "nbformat_minor": 2
}
