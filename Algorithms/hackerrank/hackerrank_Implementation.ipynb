{
 "cells": [
  {
   "cell_type": "code",
   "execution_count": 1,
   "metadata": {
    "collapsed": true
   },
   "outputs": [],
   "source": [
    "from IPython.core.interactiveshell import InteractiveShell\n",
    "InteractiveShell.ast_node_interactivity = 'all'"
   ]
  },
  {
   "cell_type": "code",
   "execution_count": null,
   "metadata": {
    "collapsed": true
   },
   "outputs": [],
   "source": [
    "'''\n",
    "HackerLand University has the following grading policy:\n",
    "\n",
    "Every student receives a grade in the inclusive range from 0 to 100.\n",
    "Any grade less than 40 is a failing grade.\n",
    "Sam is a professor at the university and likes to round each student's  according to these rules:\n",
    "\n",
    "If the difference between the  and the next multiple of  is less than , round  up to the next multiple of .\n",
    "If the value of  is less than , no rounding occurs as the result will still be a failing grade.\n",
    "For example,  will be rounded to  but  will not be rounded because the rounding would result in a number that is less than .\n",
    "\n",
    "Given the initial value of  for each of Sam's  students, write code to automate the rounding process. For each , round it according to the rules above and print the result on a new line.\n",
    "\n",
    "'''\n",
    "import sys\n",
    "\n",
    "def solve(grades):\n",
    "    \n",
    "n = int(input().strip())\n",
    "grades = []\n",
    "for grades_i in range(n):\n",
    "    grades_t = int(input().strip())\n",
    "    grades.append(grades_t)\n",
    "result = solve(grades)\n",
    "print('\\n'.join(map(str, result)))"
   ]
  }
 ],
 "metadata": {
  "kernelspec": {
   "display_name": "Python 3",
   "language": "python",
   "name": "python3"
  },
  "language_info": {
   "codemirror_mode": {
    "name": "ipython",
    "version": 3
   },
   "file_extension": ".py",
   "mimetype": "text/x-python",
   "name": "python",
   "nbconvert_exporter": "python",
   "pygments_lexer": "ipython3",
   "version": "3.6.1"
  }
 },
 "nbformat": 4,
 "nbformat_minor": 2
}
